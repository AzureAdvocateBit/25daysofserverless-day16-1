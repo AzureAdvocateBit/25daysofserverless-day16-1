{
 "cells": [
  {
   "cell_type": "code",
   "execution_count": 81,
   "metadata": {
    "execution_event_id": "19176eca-d820-4749-90d2-58e0fc13dcc9",
    "last_executed_text": "import ipyvuetify as v\nfrom ipywidgets import IntSlider, jslink, widgets\nfrom ipyleaflet import Map, Marker, Popup, WidgetControl, Icon, basemaps\nimport json\nfrom pathlib import Path\nimport datetime",
    "persistent_id": "1d60603d-be35-4d7c-9d4c-7e6f00d6aa8f"
   },
   "outputs": [],
   "source": [
    "import ipyvuetify as v\n",
    "from ipywidgets import IntSlider, jslink, widgets\n",
    "from ipyleaflet import Map, Marker, Popup, WidgetControl, Icon, basemaps\n",
    "import json\n",
    "from pathlib import Path\n",
    "import datetime"
   ]
  },
  {
   "cell_type": "code",
   "execution_count": 97,
   "metadata": {
    "execution_event_id": "fc9aaaa0-8898-4638-89b2-be71b856d427",
    "last_executed_text": "def get_locations():\n    loc_path = Path(\"./data/locations.json\")\n    with open(loc_path, 'r') as json_file:\n        locations = json.load(json_file)\n    return locations.get(\"locations\")",
    "persistent_id": "6daf55d1-9460-48dc-b7a5-7054109241eb"
   },
   "outputs": [],
   "source": [
    "def get_locations():\n",
    "    loc_path = Path(\"./data/locations.json\")\n",
    "    with open(loc_path, 'r') as json_file:\n",
    "        locations = json.load(json_file)\n",
    "    return locations.get(\"locations\")"
   ]
  },
  {
   "cell_type": "code",
   "execution_count": 98,
   "metadata": {
    "execution_event_id": "f048b5b8-4e78-49b4-acfc-9c7c2f97e54d",
    "last_executed_text": "locations = get_locations()",
    "persistent_id": "99c047a3-6c9f-4608-a9ab-6e03c2dee00c"
   },
   "outputs": [],
   "source": [
    "locations = get_locations()"
   ]
  },
  {
   "cell_type": "code",
   "execution_count": 107,
   "metadata": {
    "execution_event_id": "47782d81-a1d8-436c-9fbf-c2b8bf95b184",
    "last_executed_text": "def create_map():\n    center = (19.3952, -99.1412)\n    m = Map(center=center,\n                  zoom=11, dragging=True,\n                  touch_zoom=True,\n                  basemap=basemaps.CartoDB.DarkMatter)\n    get_markers(m)\n    return m\n    \n    \ndef get_markers(m):\n    \n    for place in locations:\n        coord = (place['location']['lon'], -place['location']['lat'])\n        date = datetime.datetime.strptime(place.get('date'), \"%B %d, %Y\").date()\n        if date == datetime.date.today():\n            icon=Icon(icon_url=\"https://image.flaticon.com/icons/png/512/561/561074.png\", icon_size=[30,30])\n        else:\n            icon = Icon(icon_url='https://image.flaticon.com/icons/png/512/762/762053.png',\n               icon_size=[30,30])\n        marker = Marker(location=coord, draggable=False,\n                        icon=icon)\n        message = widgets.HTML()\n        \n        message.value = f\"Host: {place.get('host')} <br> Place: {place.get('name')} <br> {place.get('date')}\"\n        marker.popup = message\n        m.add_layer(marker);\n\n        \nm = create_map()",
    "persistent_id": "229dfb64-a734-43ee-95cb-f7abe0a2e484"
   },
   "outputs": [],
   "source": [
    "def create_map():\n",
    "    center = (19.3952, -99.1412)\n",
    "    m = Map(center=center,\n",
    "                  zoom=11, dragging=True,\n",
    "                  touch_zoom=True,\n",
    "                  basemap=basemaps.CartoDB.DarkMatter)\n",
    "    get_markers(m)\n",
    "    return m\n",
    "    \n",
    "    \n",
    "def get_markers(m):\n",
    "    \n",
    "    for place in locations:\n",
    "        coord = (place['location']['lon'], -place['location']['lat'])\n",
    "        date = datetime.datetime.strptime(place.get('date'), \"%B %d, %Y\").date()\n",
    "        if date == datetime.date.today():\n",
    "            icon=Icon(icon_url=\"https://image.flaticon.com/icons/png/512/561/561074.png\", icon_size=[30,30])\n",
    "        else:\n",
    "            icon = Icon(icon_url='https://image.flaticon.com/icons/png/512/762/762053.png',\n",
    "               icon_size=[30,30])\n",
    "        marker = Marker(location=coord, draggable=False,\n",
    "                        icon=icon)\n",
    "        message = widgets.HTML()\n",
    "        \n",
    "        message.value = f\"Host: {place.get('host')} <br> Place: {place.get('name')} <br> {place.get('date')}\"\n",
    "        marker.popup = message\n",
    "        m.add_layer(marker);\n",
    "\n",
    "        \n",
    "m = create_map()"
   ]
  },
  {
   "cell_type": "markdown",
   "metadata": {},
   "source": [
    "## 🎄 Click on the pinata markers to see the details of the posada\n"
   ]
  },
  {
   "cell_type": "code",
   "execution_count": 110,
   "metadata": {
    "execution_event_id": "06c61d27-1541-4025-949b-8527d309c630",
    "last_executed_text": "v.Layout(\n    children=[\n        v.Content(\n        _metadata={\"mount_id\": \"content-main\"},\n        wrap=True,\n        row=True,\n        align_center=True,\n        children=[v.Flex(xs12=True, lg6=True, xl4=True, children=[m]),\n            v.Divider(),\n            v.Banner(\n                single_line=True,\n                v_slots=[\n                    {\"name\": \"icon\", \"children\": v.Icon(color=\"#f5cd79\", children=[\"room\"])},\n                ],\n                children=[\"Click on the pinatas to see the location and date details. \"],\n            ),\n        \n        ],\n        ),\n       \n    ]\n)\n",
    "persistent_id": "63c8aeab-0a61-499c-9835-229ef5ce8b54"
   },
   "outputs": [
    {
     "data": {
      "application/vnd.jupyter.widget-view+json": {
       "model_id": "95a968a49505417a8a0e346d21a6efc3",
       "version_major": 2,
       "version_minor": 0
      },
      "text/plain": [
       "Layout(children=[Content(children=[Flex(children=[Map(basemap={'url': 'http://c.basemaps.cartocdn.com/dark_all…"
      ]
     },
     "metadata": {},
     "output_type": "display_data"
    }
   ],
   "source": [
    "v.Layout(\n",
    "    children=[\n",
    "        v.Content(\n",
    "        _metadata={\"mount_id\": \"content-main\"},\n",
    "        wrap=True,\n",
    "        row=True,\n",
    "        align_center=True,\n",
    "        children=[v.Flex(xs12=True, lg6=True, xl4=True, children=[m]),\n",
    "        ],\n",
    "        ),\n",
    "       \n",
    "    ]\n",
    ")\n"
   ]
  },
  {
   "cell_type": "code",
   "execution_count": null,
   "metadata": {
    "persistent_id": "ee46f42d-6b6a-4041-aefb-00b2f29cd047"
   },
   "outputs": [],
   "source": []
  },
  {
   "cell_type": "code",
   "execution_count": null,
   "metadata": {
    "persistent_id": "35a3709a-9b16-4b2c-8af6-568dacb00c1f"
   },
   "outputs": [],
   "source": []
  }
 ],
 "metadata": {
  "file_extension": ".py",
  "history": [
   {
    "cell": {
     "executionCount": 1,
     "executionEventId": "53a23bc3-1474-4a7a-8404-0fc9c4fac1d4",
     "hasError": true,
     "id": "47368b91-329a-498e-a8ae-c065925a924f",
     "outputs": [
      {
       "ename": "ModuleNotFoundError",
       "evalue": "No module named 'ipyvuetify'",
       "output_type": "error",
       "traceback": [
        "\u001b[0;31m---------------------------------------------------------------------------\u001b[0m",
        "\u001b[0;31mModuleNotFoundError\u001b[0m                       Traceback (most recent call last)",
        "\u001b[0;32m<ipython-input-1-dedc3a9c2474>\u001b[0m in \u001b[0;36m<module>\u001b[0;34m\u001b[0m\n\u001b[0;32m----> 1\u001b[0;31m \u001b[0;32mimport\u001b[0m \u001b[0mipyvuetify\u001b[0m \u001b[0;32mas\u001b[0m \u001b[0mv\u001b[0m\u001b[0;34m\u001b[0m\u001b[0;34m\u001b[0m\u001b[0m\n\u001b[0m\u001b[1;32m      2\u001b[0m \u001b[0;32mimport\u001b[0m \u001b[0mipywidgets\u001b[0m \u001b[0;32mas\u001b[0m \u001b[0mwidgets\u001b[0m\u001b[0;34m\u001b[0m\u001b[0;34m\u001b[0m\u001b[0m\n\u001b[1;32m      3\u001b[0m \u001b[0;32mimport\u001b[0m \u001b[0mipyleaflet\u001b[0m\u001b[0;34m\u001b[0m\u001b[0;34m\u001b[0m\u001b[0m\n\u001b[1;32m      4\u001b[0m \u001b[0;32mimport\u001b[0m \u001b[0mjson\u001b[0m\u001b[0;34m\u001b[0m\u001b[0;34m\u001b[0m\u001b[0m\n\u001b[1;32m      5\u001b[0m \u001b[0;32mfrom\u001b[0m \u001b[0mpathlib\u001b[0m \u001b[0;32mimport\u001b[0m \u001b[0mPath\u001b[0m\u001b[0;34m\u001b[0m\u001b[0;34m\u001b[0m\u001b[0m\n",
        "\u001b[0;31mModuleNotFoundError\u001b[0m: No module named 'ipyvuetify'"
       ]
      }
     ],
     "persistentId": "1d60603d-be35-4d7c-9d4c-7e6f00d6aa8f",
     "text": "import ipyvuetify as v\nimport ipywidgets as widgets\nimport ipyleaflet\nimport json\nfrom pathlib import Path"
    },
    "executionTime": "2019-12-16T14:06:31.308Z"
   },
   {
    "cell": {
     "executionCount": 2,
     "executionEventId": "4af9cad9-1e8d-4632-9293-74e36b3c3b65",
     "hasError": true,
     "id": "47368b91-329a-498e-a8ae-c065925a924f",
     "outputs": [
      {
       "ename": "ModuleNotFoundError",
       "evalue": "No module named 'ipyleaflet'",
       "output_type": "error",
       "traceback": [
        "\u001b[0;31m---------------------------------------------------------------------------\u001b[0m",
        "\u001b[0;31mModuleNotFoundError\u001b[0m                       Traceback (most recent call last)",
        "\u001b[0;32m<ipython-input-2-f01e2f499bdc>\u001b[0m in \u001b[0;36m<module>\u001b[0;34m\u001b[0m\n\u001b[1;32m      1\u001b[0m \u001b[0;31m# import ipyvuetify as v\u001b[0m\u001b[0;34m\u001b[0m\u001b[0;34m\u001b[0m\u001b[0;34m\u001b[0m\u001b[0m\n\u001b[1;32m      2\u001b[0m \u001b[0;32mimport\u001b[0m \u001b[0mipywidgets\u001b[0m \u001b[0;32mas\u001b[0m \u001b[0mwidgets\u001b[0m\u001b[0;34m\u001b[0m\u001b[0;34m\u001b[0m\u001b[0m\n\u001b[0;32m----> 3\u001b[0;31m \u001b[0;32mimport\u001b[0m \u001b[0mipyleaflet\u001b[0m\u001b[0;34m\u001b[0m\u001b[0;34m\u001b[0m\u001b[0m\n\u001b[0m\u001b[1;32m      4\u001b[0m \u001b[0;32mimport\u001b[0m \u001b[0mjson\u001b[0m\u001b[0;34m\u001b[0m\u001b[0;34m\u001b[0m\u001b[0m\n\u001b[1;32m      5\u001b[0m \u001b[0;32mfrom\u001b[0m \u001b[0mpathlib\u001b[0m \u001b[0;32mimport\u001b[0m \u001b[0mPath\u001b[0m\u001b[0;34m\u001b[0m\u001b[0;34m\u001b[0m\u001b[0m\n",
        "\u001b[0;31mModuleNotFoundError\u001b[0m: No module named 'ipyleaflet'"
       ]
      }
     ],
     "persistentId": "1d60603d-be35-4d7c-9d4c-7e6f00d6aa8f",
     "text": "# import ipyvuetify as v\nimport ipywidgets as widgets\nimport ipyleaflet\nimport json\nfrom pathlib import Path"
    },
    "executionTime": "2019-12-16T14:06:42.387Z"
   },
   {
    "cell": {
     "executionCount": 3,
     "executionEventId": "f95b5fbc-3260-481c-b477-2cac9c6710d1",
     "hasError": false,
     "id": "47368b91-329a-498e-a8ae-c065925a924f",
     "outputs": [],
     "persistentId": "1d60603d-be35-4d7c-9d4c-7e6f00d6aa8f",
     "text": "import ipyvuetify as v\nimport ipywidgets as widgets\nimport ipyleaflet\nimport json\nfrom pathlib import Path"
    },
    "executionTime": "2019-12-16T14:08:11.500Z"
   },
   {
    "cell": {
     "executionCount": 4,
     "executionEventId": "25e14d5c-cb71-4ddf-bd3c-7e4436ffc9d9",
     "hasError": false,
     "id": "25261a0b-b04b-41d6-8da4-a30675317c5a",
     "outputs": [],
     "persistentId": "6daf55d1-9460-48dc-b7a5-7054109241eb",
     "text": "def get_locations():\n    loc_path = Path(\"posadas/posadas/data/locations.json\")\n    with open(loc_path, 'r') as json_file:\n        locations = json.load(json_file)\n    return locations.get(\"locations\")"
    },
    "executionTime": "2019-12-16T14:08:11.512Z"
   },
   {
    "cell": {
     "executionCount": 5,
     "executionEventId": "a03b5890-752e-4978-8c14-9d8d51a5dbc5",
     "hasError": true,
     "id": "f5597af8-dc8a-4a92-a43f-f60b108768b3",
     "outputs": [
      {
       "ename": "FileNotFoundError",
       "evalue": "[Errno 2] No such file or directory: 'posadas/posadas/data/locations.json'",
       "output_type": "error",
       "traceback": [
        "\u001b[0;31m---------------------------------------------------------------------------\u001b[0m",
        "\u001b[0;31mFileNotFoundError\u001b[0m                         Traceback (most recent call last)",
        "\u001b[0;32m<ipython-input-5-70aa61fc26fb>\u001b[0m in \u001b[0;36m<module>\u001b[0;34m\u001b[0m\n\u001b[0;32m----> 1\u001b[0;31m \u001b[0mlocations\u001b[0m \u001b[0;34m=\u001b[0m \u001b[0mget_locations\u001b[0m\u001b[0;34m(\u001b[0m\u001b[0;34m)\u001b[0m\u001b[0;34m\u001b[0m\u001b[0;34m\u001b[0m\u001b[0m\n\u001b[0m",
        "\u001b[0;32m<ipython-input-4-ea9a0f8a8d15>\u001b[0m in \u001b[0;36mget_locations\u001b[0;34m()\u001b[0m\n\u001b[1;32m      1\u001b[0m \u001b[0;32mdef\u001b[0m \u001b[0mget_locations\u001b[0m\u001b[0;34m(\u001b[0m\u001b[0;34m)\u001b[0m\u001b[0;34m:\u001b[0m\u001b[0;34m\u001b[0m\u001b[0;34m\u001b[0m\u001b[0m\n\u001b[1;32m      2\u001b[0m     \u001b[0mloc_path\u001b[0m \u001b[0;34m=\u001b[0m \u001b[0mPath\u001b[0m\u001b[0;34m(\u001b[0m\u001b[0;34m\"posadas/posadas/data/locations.json\"\u001b[0m\u001b[0;34m)\u001b[0m\u001b[0;34m\u001b[0m\u001b[0;34m\u001b[0m\u001b[0m\n\u001b[0;32m----> 3\u001b[0;31m     \u001b[0;32mwith\u001b[0m \u001b[0mopen\u001b[0m\u001b[0;34m(\u001b[0m\u001b[0mloc_path\u001b[0m\u001b[0;34m,\u001b[0m \u001b[0;34m'r'\u001b[0m\u001b[0;34m)\u001b[0m \u001b[0;32mas\u001b[0m \u001b[0mjson_file\u001b[0m\u001b[0;34m:\u001b[0m\u001b[0;34m\u001b[0m\u001b[0;34m\u001b[0m\u001b[0m\n\u001b[0m\u001b[1;32m      4\u001b[0m         \u001b[0mlocations\u001b[0m \u001b[0;34m=\u001b[0m \u001b[0mjson\u001b[0m\u001b[0;34m.\u001b[0m\u001b[0mload\u001b[0m\u001b[0;34m(\u001b[0m\u001b[0mjson_file\u001b[0m\u001b[0;34m)\u001b[0m\u001b[0;34m\u001b[0m\u001b[0;34m\u001b[0m\u001b[0m\n\u001b[1;32m      5\u001b[0m     \u001b[0;32mreturn\u001b[0m \u001b[0mlocations\u001b[0m\u001b[0;34m.\u001b[0m\u001b[0mget\u001b[0m\u001b[0;34m(\u001b[0m\u001b[0;34m\"locations\"\u001b[0m\u001b[0;34m)\u001b[0m\u001b[0;34m\u001b[0m\u001b[0;34m\u001b[0m\u001b[0m\n",
        "\u001b[0;31mFileNotFoundError\u001b[0m: [Errno 2] No such file or directory: 'posadas/posadas/data/locations.json'"
       ]
      }
     ],
     "persistentId": "99c047a3-6c9f-4608-a9ab-6e03c2dee00c",
     "text": "locations = get_locations()"
    },
    "executionTime": "2019-12-16T14:08:11.647Z"
   },
   {
    "cell": {
     "executionCount": 6,
     "executionEventId": "8977804b-9fb4-45a6-ba86-22ebf0616ce3",
     "hasError": false,
     "id": "25261a0b-b04b-41d6-8da4-a30675317c5a",
     "outputs": [],
     "persistentId": "6daf55d1-9460-48dc-b7a5-7054109241eb",
     "text": "def get_locations():\n    loc_path = Path(\"./data/locations.json\")\n    with open(loc_path, 'r') as json_file:\n        locations = json.load(json_file)\n    return locations.get(\"locations\")"
    },
    "executionTime": "2019-12-16T14:08:19.468Z"
   },
   {
    "cell": {
     "executionCount": 7,
     "executionEventId": "3c6036b4-7732-494c-bd1f-8839d34b3252",
     "hasError": false,
     "id": "f5597af8-dc8a-4a92-a43f-f60b108768b3",
     "outputs": [],
     "persistentId": "99c047a3-6c9f-4608-a9ab-6e03c2dee00c",
     "text": "locations = get_locations()"
    },
    "executionTime": "2019-12-16T14:08:20.044Z"
   },
   {
    "cell": {
     "executionCount": 8,
     "executionEventId": "da32e958-d9dd-4b5a-a5fa-e7779f697607",
     "hasError": false,
     "id": "461d3bde-09ca-4c42-b60d-def3235706b9",
     "outputs": [
      {
       "data": {
        "text/plain": "[{'name': 'Bellas Artes',\n  'day': 16,\n  'host': 'Tania Allard',\n  'type': 'geopoint',\n  'location': {'lon': 19.4352, 'lat': 99.1412}},\n {'name': 'Museo de Antropologia',\n  'day': 17,\n  'host': 'Tania Allard',\n  'type': 'geopoint',\n  'location': {'lon': 19.426, 'lat': 99.1863}},\n {'name': 'Anahuacalli',\n  'day': 18,\n  'host': 'Tania Allard',\n  'type': 'geopoint',\n  'location': {'lon': 19.3232, 'lat': 99.1493}}]"
       },
       "execution_count": 8,
       "metadata": {},
       "output_type": "execute_result"
      }
     ],
     "persistentId": "783d43fc-c3ce-4e06-8b11-9ef5f2d86d5d",
     "text": "locations"
    },
    "executionTime": "2019-12-16T14:08:31.214Z"
   },
   {
    "cell": {
     "executionCount": 9,
     "executionEventId": "513502be-c883-4191-a295-2327081c1fef",
     "hasError": true,
     "id": "df62ed08-4489-4722-aab6-ed16f17f6e2a",
     "outputs": [
      {
       "ename": "NameError",
       "evalue": "name 'Map' is not defined",
       "output_type": "error",
       "traceback": [
        "\u001b[0;31m---------------------------------------------------------------------------\u001b[0m",
        "\u001b[0;31mNameError\u001b[0m                                 Traceback (most recent call last)",
        "\u001b[0;32m<ipython-input-9-0a0dcafdb018>\u001b[0m in \u001b[0;36m<module>\u001b[0;34m\u001b[0m\n\u001b[0;32m----> 1\u001b[0;31m \u001b[0mm\u001b[0m \u001b[0;34m=\u001b[0m \u001b[0mMap\u001b[0m\u001b[0;34m(\u001b[0m\u001b[0mcenter\u001b[0m\u001b[0;34m=\u001b[0m\u001b[0;34m(\u001b[0m\u001b[0;36m52\u001b[0m\u001b[0;34m,\u001b[0m \u001b[0;36m10\u001b[0m\u001b[0;34m)\u001b[0m\u001b[0;34m,\u001b[0m \u001b[0mzoom\u001b[0m\u001b[0;34m=\u001b[0m\u001b[0;36m8\u001b[0m\u001b[0;34m,\u001b[0m \u001b[0mbasemap\u001b[0m\u001b[0;34m=\u001b[0m\u001b[0mbasemaps\u001b[0m\u001b[0;34m.\u001b[0m\u001b[0mHydda\u001b[0m\u001b[0;34m.\u001b[0m\u001b[0mFull\u001b[0m\u001b[0;34m)\u001b[0m\u001b[0;34m\u001b[0m\u001b[0;34m\u001b[0m\u001b[0m\n\u001b[0m\u001b[1;32m      2\u001b[0m \u001b[0mm\u001b[0m\u001b[0;34m\u001b[0m\u001b[0;34m\u001b[0m\u001b[0m\n",
        "\u001b[0;31mNameError\u001b[0m: name 'Map' is not defined"
       ]
      }
     ],
     "persistentId": "d8130066-01c1-4e49-b589-147b8e01b0f4",
     "text": "m = Map(center=(52, 10), zoom=8, basemap=basemaps.Hydda.Full)\nm"
    },
    "executionTime": "2019-12-16T14:08:45.601Z"
   },
   {
    "cell": {
     "executionCount": 10,
     "executionEventId": "8876e54b-8b45-4b7a-9cd5-17df4daa8592",
     "hasError": false,
     "id": "df62ed08-4489-4722-aab6-ed16f17f6e2a",
     "outputs": [],
     "persistentId": "d8130066-01c1-4e49-b589-147b8e01b0f4",
     "text": "m = ipyleaflet.Map(center=(52,10))"
    },
    "executionTime": "2019-12-16T14:09:11.789Z"
   },
   {
    "cell": {
     "executionCount": 11,
     "executionEventId": "3a74916e-2e00-4252-a862-616dfe87ce06",
     "hasError": false,
     "id": "df62ed08-4489-4722-aab6-ed16f17f6e2a",
     "outputs": [
      {
       "data": {
        "application/vnd.jupyter.widget-view+json": {
         "model_id": "e5e552abcc1d44139d92f621561e1158",
         "version_major": 2,
         "version_minor": 0
        },
        "text/plain": "Map(basemap={'url': 'https://{s}.tile.openstreetmap.org/{z}/{x}/{y}.png', 'max_zoom': 19, 'attribution': 'Map …"
       },
       "metadata": {},
       "output_type": "display_data"
      }
     ],
     "persistentId": "d8130066-01c1-4e49-b589-147b8e01b0f4",
     "text": "m = ipyleaflet.Map(center=(52,10))\nm"
    },
    "executionTime": "2019-12-16T14:09:20.988Z"
   },
   {
    "cell": {
     "executionCount": 12,
     "executionEventId": "f229ecbc-57dc-493d-9440-bace9b3bca81",
     "hasError": false,
     "id": "461d3bde-09ca-4c42-b60d-def3235706b9",
     "outputs": [
      {
       "data": {
        "text/plain": "[{'name': 'Bellas Artes',\n  'day': 16,\n  'host': 'Tania Allard',\n  'type': 'geopoint',\n  'location': {'lon': 19.4352, 'lat': 99.1412}},\n {'name': 'Museo de Antropologia',\n  'day': 17,\n  'host': 'Tania Allard',\n  'type': 'geopoint',\n  'location': {'lon': 19.426, 'lat': 99.1863}},\n {'name': 'Anahuacalli',\n  'day': 18,\n  'host': 'Tania Allard',\n  'type': 'geopoint',\n  'location': {'lon': 19.3232, 'lat': 99.1493}}]"
       },
       "execution_count": 12,
       "metadata": {},
       "output_type": "execute_result"
      }
     ],
     "persistentId": "783d43fc-c3ce-4e06-8b11-9ef5f2d86d5d",
     "text": "locations"
    },
    "executionTime": "2019-12-16T14:11:55.599Z"
   },
   {
    "cell": {
     "executionCount": 13,
     "executionEventId": "5871656d-5667-4a2c-bbcb-1e119ca13c12",
     "hasError": false,
     "id": "df62ed08-4489-4722-aab6-ed16f17f6e2a",
     "outputs": [
      {
       "data": {
        "application/vnd.jupyter.widget-view+json": {
         "model_id": "4e0ad9119d9149c09cf50846b0ebfedc",
         "version_major": 2,
         "version_minor": 0
        },
        "text/plain": "Map(basemap={'url': 'https://{s}.tile.openstreetmap.org/{z}/{x}/{y}.png', 'max_zoom': 19, 'attribution': 'Map …"
       },
       "metadata": {},
       "output_type": "display_data"
      }
     ],
     "persistentId": "d8130066-01c1-4e49-b589-147b8e01b0f4",
     "text": "m = ipyleaflet.Map(center=(52,10))\nm"
    },
    "executionTime": "2019-12-16T14:11:56.242Z"
   },
   {
    "cell": {
     "executionCount": 1,
     "executionEventId": "147d5e9b-44e5-4605-bf48-b831f48dd7b3",
     "hasError": false,
     "id": "d5afaddc-1777-48f2-bf48-983139cea4de",
     "outputs": [],
     "persistentId": "1d60603d-be35-4d7c-9d4c-7e6f00d6aa8f",
     "text": "import ipyvuetify as v\nimport ipywidgets as widgets\nimport ipyleaflet\nimport json\nfrom pathlib import Path"
    },
    "executionTime": "2019-12-16T14:12:32.990Z"
   },
   {
    "cell": {
     "executionCount": 2,
     "executionEventId": "a5a76665-43d4-4422-a47d-d01f8f0ab176",
     "hasError": false,
     "id": "488436aa-f2bb-4bee-83a9-df05bd09a4e7",
     "outputs": [],
     "persistentId": "6daf55d1-9460-48dc-b7a5-7054109241eb",
     "text": "def get_locations():\n    loc_path = Path(\"./data/locations.json\")\n    with open(loc_path, 'r') as json_file:\n        locations = json.load(json_file)\n    return locations.get(\"locations\")"
    },
    "executionTime": "2019-12-16T14:12:35.253Z"
   },
   {
    "cell": {
     "executionCount": 3,
     "executionEventId": "35df2f81-e36a-43c2-9b6d-e8721e04bbaa",
     "hasError": false,
     "id": "3c855f5f-124d-4b35-b092-2be220cfad01",
     "outputs": [],
     "persistentId": "99c047a3-6c9f-4608-a9ab-6e03c2dee00c",
     "text": "locations = get_locations()"
    },
    "executionTime": "2019-12-16T14:12:35.929Z"
   },
   {
    "cell": {
     "executionCount": 4,
     "executionEventId": "cd7ec895-5755-4e24-8ab3-3e70b19be342",
     "hasError": false,
     "id": "07789c6f-ea70-44d6-bc4b-0b5a0f907e0b",
     "outputs": [
      {
       "data": {
        "text/plain": "[{'name': 'Bellas Artes',\n  'day': 16,\n  'host': 'Tania Allard',\n  'type': 'geopoint',\n  'location': {'lon': 19.4352, 'lat': 99.1412}},\n {'name': 'Museo de Antropologia',\n  'day': 17,\n  'host': 'Tania Allard',\n  'type': 'geopoint',\n  'location': {'lon': 19.426, 'lat': 99.1863}},\n {'name': 'Anahuacalli',\n  'day': 18,\n  'host': 'Tania Allard',\n  'type': 'geopoint',\n  'location': {'lon': 19.3232, 'lat': 99.1493}}]"
       },
       "execution_count": 4,
       "metadata": {},
       "output_type": "execute_result"
      }
     ],
     "persistentId": "783d43fc-c3ce-4e06-8b11-9ef5f2d86d5d",
     "text": "locations"
    },
    "executionTime": "2019-12-16T14:12:36.337Z"
   },
   {
    "cell": {
     "executionCount": 5,
     "executionEventId": "ad6f2809-04d0-43c8-afdd-d225d4ebc81d",
     "hasError": false,
     "id": "6721796e-7d16-4d0a-91f7-c9e35ad70372",
     "outputs": [
      {
       "data": {
        "application/vnd.jupyter.widget-view+json": {
         "model_id": "575158dd6e0f4b2e8683bcd0e1ad0859",
         "version_major": 2,
         "version_minor": 0
        },
        "text/plain": "Map(basemap={'url': 'https://{s}.tile.openstreetmap.org/{z}/{x}/{y}.png', 'max_zoom': 19, 'attribution': 'Map …"
       },
       "metadata": {},
       "output_type": "display_data"
      }
     ],
     "persistentId": "d8130066-01c1-4e49-b589-147b8e01b0f4",
     "text": "m = ipyleaflet.Map(center=(52,10))\nm"
    },
    "executionTime": "2019-12-16T14:12:37.378Z"
   },
   {
    "cell": {
     "executionCount": 6,
     "executionEventId": "e8c5d9a9-77fd-45f6-ba79-04b202fc019b",
     "hasError": true,
     "id": "6721796e-7d16-4d0a-91f7-c9e35ad70372",
     "outputs": [
      {
       "ename": "SyntaxError",
       "evalue": "invalid syntax (<ipython-input-6-ce452138c69d>, line 1)",
       "output_type": "error",
       "traceback": [
        "\u001b[0;36m  File \u001b[0;32m\"<ipython-input-6-ce452138c69d>\"\u001b[0;36m, line \u001b[0;32m1\u001b[0m\n\u001b[0;31m    m = ipyleaflet.Map(center=(19.4352, -99.14.12))\u001b[0m\n\u001b[0m                                                ^\u001b[0m\n\u001b[0;31mSyntaxError\u001b[0m\u001b[0;31m:\u001b[0m invalid syntax\n"
       ]
      }
     ],
     "persistentId": "d8130066-01c1-4e49-b589-147b8e01b0f4",
     "text": "m = ipyleaflet.Map(center=(19.4352, -99.14.12))\nm"
    },
    "executionTime": "2019-12-16T14:15:26.209Z"
   },
   {
    "cell": {
     "executionCount": 7,
     "executionEventId": "8a4ec6cd-b3a3-4371-951c-d4e020918048",
     "hasError": false,
     "id": "6721796e-7d16-4d0a-91f7-c9e35ad70372",
     "outputs": [
      {
       "data": {
        "application/vnd.jupyter.widget-view+json": {
         "model_id": "15a044f17ab948ab87ac2aec3ffd9b9e",
         "version_major": 2,
         "version_minor": 0
        },
        "text/plain": "Map(basemap={'url': 'https://{s}.tile.openstreetmap.org/{z}/{x}/{y}.png', 'max_zoom': 19, 'attribution': 'Map …"
       },
       "metadata": {},
       "output_type": "display_data"
      }
     ],
     "persistentId": "d8130066-01c1-4e49-b589-147b8e01b0f4",
     "text": "m = ipyleaflet.Map(center=(19.4352, -99.1412))\nm"
    },
    "executionTime": "2019-12-16T14:15:35.659Z"
   },
   {
    "cell": {
     "executionCount": 8,
     "executionEventId": "44ad9562-889c-4e33-a30f-01f08a29354d",
     "hasError": false,
     "id": "6721796e-7d16-4d0a-91f7-c9e35ad70372",
     "outputs": [
      {
       "data": {
        "application/vnd.jupyter.widget-view+json": {
         "model_id": "43567e22b66c4e73b89a036e1841ebbe",
         "version_major": 2,
         "version_minor": 0
        },
        "text/plain": "Map(basemap={'url': 'https://{s}.tile.openstreetmap.org/{z}/{x}/{y}.png', 'max_zoom': 19, 'attribution': 'Map …"
       },
       "metadata": {},
       "output_type": "display_data"
      }
     ],
     "persistentId": "d8130066-01c1-4e49-b589-147b8e01b0f4",
     "text": "m = ipyleaflet.Map(center=(19.4352, -99.1412),\n                  zoom=4)\nm"
    },
    "executionTime": "2019-12-16T14:15:57.629Z"
   },
   {
    "cell": {
     "executionCount": 9,
     "executionEventId": "95467326-ad9b-4b18-a60f-6eb1a7b1f3b2",
     "hasError": false,
     "id": "6721796e-7d16-4d0a-91f7-c9e35ad70372",
     "outputs": [
      {
       "data": {
        "application/vnd.jupyter.widget-view+json": {
         "model_id": "e15787a5dd684c1fba639d9d369635d9",
         "version_major": 2,
         "version_minor": 0
        },
        "text/plain": "Map(basemap={'url': 'https://{s}.tile.openstreetmap.org/{z}/{x}/{y}.png', 'max_zoom': 19, 'attribution': 'Map …"
       },
       "metadata": {},
       "output_type": "display_data"
      }
     ],
     "persistentId": "d8130066-01c1-4e49-b589-147b8e01b0f4",
     "text": "m = ipyleaflet.Map(center=(19.4352, -99.1412),\n                  zoom=9)\nm"
    },
    "executionTime": "2019-12-16T14:16:02.894Z"
   },
   {
    "cell": {
     "executionCount": 10,
     "executionEventId": "7eff0c35-31df-495d-8149-2dda5731338b",
     "hasError": false,
     "id": "6721796e-7d16-4d0a-91f7-c9e35ad70372",
     "outputs": [
      {
       "data": {
        "application/vnd.jupyter.widget-view+json": {
         "model_id": "957b18cec4234d87862f1c80995c9c4a",
         "version_major": 2,
         "version_minor": 0
        },
        "text/plain": "Map(basemap={'url': 'https://{s}.tile.openstreetmap.org/{z}/{x}/{y}.png', 'max_zoom': 19, 'attribution': 'Map …"
       },
       "metadata": {},
       "output_type": "display_data"
      }
     ],
     "persistentId": "d8130066-01c1-4e49-b589-147b8e01b0f4",
     "text": "m = ipyleaflet.Map(center=(19.4352, -99.1412),\n                  zoom=10)\nm"
    },
    "executionTime": "2019-12-16T14:16:12.910Z"
   },
   {
    "cell": {
     "executionCount": 11,
     "executionEventId": "53a43ec2-ec7a-415d-8cf6-d1c0ad0f0428",
     "hasError": false,
     "id": "6721796e-7d16-4d0a-91f7-c9e35ad70372",
     "outputs": [
      {
       "data": {
        "application/vnd.jupyter.widget-view+json": {
         "model_id": "20029440c9ce4d1d89ec576ed2c7fa2a",
         "version_major": 2,
         "version_minor": 0
        },
        "text/plain": "Map(basemap={'url': 'https://{s}.tile.openstreetmap.org/{z}/{x}/{y}.png', 'max_zoom': 19, 'attribution': 'Map …"
       },
       "metadata": {},
       "output_type": "display_data"
      }
     ],
     "persistentId": "d8130066-01c1-4e49-b589-147b8e01b0f4",
     "text": "m = ipyleaflet.Map(center=(19.4352, -99.1412),\n                  zoom=10, dragging=True,\n                  touch_zoom=True)\nm"
    },
    "executionTime": "2019-12-16T14:16:43.465Z"
   },
   {
    "cell": {
     "executionCount": 12,
     "executionEventId": "ed018d20-87b5-4de1-bc06-9bd30ebd7bb3",
     "hasError": true,
     "id": "6721796e-7d16-4d0a-91f7-c9e35ad70372",
     "outputs": [
      {
       "ename": "NameError",
       "evalue": "name 'Marker' is not defined",
       "output_type": "error",
       "traceback": [
        "\u001b[0;31m---------------------------------------------------------------------------\u001b[0m",
        "\u001b[0;31mNameError\u001b[0m                                 Traceback (most recent call last)",
        "\u001b[0;32m<ipython-input-12-e60d133c5c3d>\u001b[0m in \u001b[0;36m<module>\u001b[0;34m\u001b[0m\n\u001b[1;32m      2\u001b[0m                   \u001b[0mzoom\u001b[0m\u001b[0;34m=\u001b[0m\u001b[0;36m10\u001b[0m\u001b[0;34m,\u001b[0m \u001b[0mdragging\u001b[0m\u001b[0;34m=\u001b[0m\u001b[0;32mTrue\u001b[0m\u001b[0;34m,\u001b[0m\u001b[0;34m\u001b[0m\u001b[0;34m\u001b[0m\u001b[0m\n\u001b[1;32m      3\u001b[0m                   touch_zoom=True)\n\u001b[0;32m----> 4\u001b[0;31m \u001b[0mmarker\u001b[0m \u001b[0;34m=\u001b[0m \u001b[0mMarker\u001b[0m\u001b[0;34m(\u001b[0m\u001b[0mlocation\u001b[0m\u001b[0;34m=\u001b[0m\u001b[0mcenter\u001b[0m\u001b[0;34m,\u001b[0m \u001b[0mdraggable\u001b[0m\u001b[0;34m=\u001b[0m\u001b[0;32mFalse\u001b[0m\u001b[0;34m)\u001b[0m\u001b[0;34m\u001b[0m\u001b[0;34m\u001b[0m\u001b[0m\n\u001b[0m\u001b[1;32m      5\u001b[0m \u001b[0mm\u001b[0m\u001b[0;34m.\u001b[0m\u001b[0madd_layer\u001b[0m\u001b[0;34m(\u001b[0m\u001b[0mmarker\u001b[0m\u001b[0;34m)\u001b[0m\u001b[0;34m;\u001b[0m\u001b[0;34m\u001b[0m\u001b[0;34m\u001b[0m\u001b[0m\n",
        "\u001b[0;31mNameError\u001b[0m: name 'Marker' is not defined"
       ]
      }
     ],
     "persistentId": "d8130066-01c1-4e49-b589-147b8e01b0f4",
     "text": "m = ipyleaflet.Map(center=(19.4352, -99.1412),\n                  zoom=10, dragging=True,\n                  touch_zoom=True)\nmarker = Marker(location=center, draggable=False)\nm.add_layer(marker);"
    },
    "executionTime": "2019-12-16T14:17:45.067Z"
   },
   {
    "cell": {
     "executionCount": 13,
     "executionEventId": "7238031f-c378-416b-933e-10b5f3a54ba4",
     "hasError": true,
     "id": "6721796e-7d16-4d0a-91f7-c9e35ad70372",
     "outputs": [
      {
       "ename": "NameError",
       "evalue": "name 'ipyleaftlet' is not defined",
       "output_type": "error",
       "traceback": [
        "\u001b[0;31m---------------------------------------------------------------------------\u001b[0m",
        "\u001b[0;31mNameError\u001b[0m                                 Traceback (most recent call last)",
        "\u001b[0;32m<ipython-input-13-84cacd99beec>\u001b[0m in \u001b[0;36m<module>\u001b[0;34m\u001b[0m\n\u001b[1;32m      2\u001b[0m                   \u001b[0mzoom\u001b[0m\u001b[0;34m=\u001b[0m\u001b[0;36m10\u001b[0m\u001b[0;34m,\u001b[0m \u001b[0mdragging\u001b[0m\u001b[0;34m=\u001b[0m\u001b[0;32mTrue\u001b[0m\u001b[0;34m,\u001b[0m\u001b[0;34m\u001b[0m\u001b[0;34m\u001b[0m\u001b[0m\n\u001b[1;32m      3\u001b[0m                   touch_zoom=True)\n\u001b[0;32m----> 4\u001b[0;31m \u001b[0mmarker\u001b[0m \u001b[0;34m=\u001b[0m \u001b[0mipyleaftlet\u001b[0m\u001b[0;34m.\u001b[0m\u001b[0mMarker\u001b[0m\u001b[0;34m(\u001b[0m\u001b[0mlocation\u001b[0m\u001b[0;34m=\u001b[0m\u001b[0mcenter\u001b[0m\u001b[0;34m,\u001b[0m \u001b[0mdraggable\u001b[0m\u001b[0;34m=\u001b[0m\u001b[0;32mFalse\u001b[0m\u001b[0;34m)\u001b[0m\u001b[0;34m\u001b[0m\u001b[0;34m\u001b[0m\u001b[0m\n\u001b[0m\u001b[1;32m      5\u001b[0m \u001b[0mm\u001b[0m\u001b[0;34m.\u001b[0m\u001b[0madd_layer\u001b[0m\u001b[0;34m(\u001b[0m\u001b[0mmarker\u001b[0m\u001b[0;34m)\u001b[0m\u001b[0;34m;\u001b[0m\u001b[0;34m\u001b[0m\u001b[0;34m\u001b[0m\u001b[0m\n",
        "\u001b[0;31mNameError\u001b[0m: name 'ipyleaftlet' is not defined"
       ]
      }
     ],
     "persistentId": "d8130066-01c1-4e49-b589-147b8e01b0f4",
     "text": "m = ipyleaflet.Map(center=(19.4352, -99.1412),\n                  zoom=10, dragging=True,\n                  touch_zoom=True)\nmarker = ipyleaftlet.Marker(location=center, draggable=False)\nm.add_layer(marker);"
    },
    "executionTime": "2019-12-16T14:17:54.155Z"
   },
   {
    "cell": {
     "executionCount": 14,
     "executionEventId": "2ad8a879-9a8d-4806-8a46-53b65830f66c",
     "hasError": true,
     "id": "6721796e-7d16-4d0a-91f7-c9e35ad70372",
     "outputs": [
      {
       "ename": "NameError",
       "evalue": "name 'center' is not defined",
       "output_type": "error",
       "traceback": [
        "\u001b[0;31m---------------------------------------------------------------------------\u001b[0m",
        "\u001b[0;31mNameError\u001b[0m                                 Traceback (most recent call last)",
        "\u001b[0;32m<ipython-input-14-cb0e0d8618cb>\u001b[0m in \u001b[0;36m<module>\u001b[0;34m\u001b[0m\n\u001b[1;32m      2\u001b[0m                   \u001b[0mzoom\u001b[0m\u001b[0;34m=\u001b[0m\u001b[0;36m10\u001b[0m\u001b[0;34m,\u001b[0m \u001b[0mdragging\u001b[0m\u001b[0;34m=\u001b[0m\u001b[0;32mTrue\u001b[0m\u001b[0;34m,\u001b[0m\u001b[0;34m\u001b[0m\u001b[0;34m\u001b[0m\u001b[0m\n\u001b[1;32m      3\u001b[0m                   touch_zoom=True)\n\u001b[0;32m----> 4\u001b[0;31m \u001b[0mmarker\u001b[0m \u001b[0;34m=\u001b[0m \u001b[0mipyleaflet\u001b[0m\u001b[0;34m.\u001b[0m\u001b[0mMarker\u001b[0m\u001b[0;34m(\u001b[0m\u001b[0mlocation\u001b[0m\u001b[0;34m=\u001b[0m\u001b[0mcenter\u001b[0m\u001b[0;34m,\u001b[0m \u001b[0mdraggable\u001b[0m\u001b[0;34m=\u001b[0m\u001b[0;32mFalse\u001b[0m\u001b[0;34m)\u001b[0m\u001b[0;34m\u001b[0m\u001b[0;34m\u001b[0m\u001b[0m\n\u001b[0m\u001b[1;32m      5\u001b[0m \u001b[0mm\u001b[0m\u001b[0;34m.\u001b[0m\u001b[0madd_layer\u001b[0m\u001b[0;34m(\u001b[0m\u001b[0mmarker\u001b[0m\u001b[0;34m)\u001b[0m\u001b[0;34m;\u001b[0m\u001b[0;34m\u001b[0m\u001b[0;34m\u001b[0m\u001b[0m\n",
        "\u001b[0;31mNameError\u001b[0m: name 'center' is not defined"
       ]
      }
     ],
     "persistentId": "d8130066-01c1-4e49-b589-147b8e01b0f4",
     "text": "m = ipyleaflet.Map(center=(19.4352, -99.1412),\n                  zoom=10, dragging=True,\n                  touch_zoom=True)\nmarker = ipyleaflet.Marker(location=center, draggable=False)\nm.add_layer(marker);"
    },
    "executionTime": "2019-12-16T14:17:59.417Z"
   },
   {
    "cell": {
     "executionCount": 15,
     "executionEventId": "85773f0d-ff07-4118-82cf-2d9440268d45",
     "hasError": false,
     "id": "6721796e-7d16-4d0a-91f7-c9e35ad70372",
     "outputs": [],
     "persistentId": "d8130066-01c1-4e49-b589-147b8e01b0f4",
     "text": "center = (19.4352, -99.1412)\nm = ipyleaflet.Map(center=center,\n                  zoom=10, dragging=True,\n                  touch_zoom=True)\nmarker = ipyleaflet.Marker(location=center, draggable=False)\nm.add_layer(marker);"
    },
    "executionTime": "2019-12-16T14:18:20.317Z"
   },
   {
    "cell": {
     "executionCount": 16,
     "executionEventId": "be68c8f7-07a0-4ff8-a87b-cd1716ac6025",
     "hasError": false,
     "id": "d5afaddc-1777-48f2-bf48-983139cea4de",
     "outputs": [],
     "persistentId": "1d60603d-be35-4d7c-9d4c-7e6f00d6aa8f",
     "text": "import ipyvuetify as v\nimport ipywidgets as widgets\nimport ipyleaflet as ipl\nimport json\nfrom pathlib import Path"
    },
    "executionTime": "2019-12-16T14:20:01.960Z"
   },
   {
    "cell": {
     "executionCount": 17,
     "executionEventId": "f26eabcf-93d1-4c2e-8333-21537bb95f88",
     "hasError": false,
     "id": "488436aa-f2bb-4bee-83a9-df05bd09a4e7",
     "outputs": [],
     "persistentId": "6daf55d1-9460-48dc-b7a5-7054109241eb",
     "text": "def get_locations():\n    loc_path = Path(\"./data/locations.json\")\n    with open(loc_path, 'r') as json_file:\n        locations = json.load(json_file)\n    return locations.get(\"locations\")"
    },
    "executionTime": "2019-12-16T14:20:03.755Z"
   },
   {
    "cell": {
     "executionCount": 18,
     "executionEventId": "d99d71d8-a0ac-4492-8800-4c1f7248295b",
     "hasError": false,
     "id": "3c855f5f-124d-4b35-b092-2be220cfad01",
     "outputs": [],
     "persistentId": "99c047a3-6c9f-4608-a9ab-6e03c2dee00c",
     "text": "locations = get_locations()"
    },
    "executionTime": "2019-12-16T14:20:04.185Z"
   },
   {
    "cell": {
     "executionCount": 19,
     "executionEventId": "880923ff-2598-4ce0-8719-e509a32b4e94",
     "hasError": false,
     "id": "07789c6f-ea70-44d6-bc4b-0b5a0f907e0b",
     "outputs": [
      {
       "data": {
        "text/plain": "[{'name': 'Bellas Artes',\n  'day': 16,\n  'host': 'Tania Allard',\n  'type': 'geopoint',\n  'location': {'lon': 19.4352, 'lat': 99.1412}},\n {'name': 'Museo de Antropologia',\n  'day': 17,\n  'host': 'Tania Allard',\n  'type': 'geopoint',\n  'location': {'lon': 19.426, 'lat': 99.1863}},\n {'name': 'Anahuacalli',\n  'day': 18,\n  'host': 'Tania Allard',\n  'type': 'geopoint',\n  'location': {'lon': 19.3232, 'lat': 99.1493}}]"
       },
       "execution_count": 19,
       "metadata": {},
       "output_type": "execute_result"
      }
     ],
     "persistentId": "783d43fc-c3ce-4e06-8b11-9ef5f2d86d5d",
     "text": "locations"
    },
    "executionTime": "2019-12-16T14:20:05.170Z"
   },
   {
    "cell": {
     "executionCount": 20,
     "executionEventId": "95b55e40-2d61-4a58-a7b8-204895ecf21c",
     "hasError": false,
     "id": "6721796e-7d16-4d0a-91f7-c9e35ad70372",
     "outputs": [
      {
       "data": {
        "application/vnd.jupyter.widget-view+json": {
         "model_id": "7f4aa0d14a25477a8d3434e34a5a4ccd",
         "version_major": 2,
         "version_minor": 0
        },
        "text/plain": "Map(basemap={'url': 'https://{s}.tile.openstreetmap.org/{z}/{x}/{y}.png', 'max_zoom': 19, 'attribution': 'Map …"
       },
       "metadata": {},
       "output_type": "display_data"
      }
     ],
     "persistentId": "d8130066-01c1-4e49-b589-147b8e01b0f4",
     "text": "#  we use the first location as the centre for the map\n\ncenter = (19.4352, -99.1412)\n\n# create the base map\nm = ipl.Map(center=center,\n                  zoom=10, dragging=True,\n                  touch_zoom=True)\n\n# adding markers\nmarker = ipl.Marker(location=center, draggable=False)\nm.add_layer(marker);\n\n# display the map\nm "
    },
    "executionTime": "2019-12-16T14:20:15.148Z"
   },
   {
    "cell": {
     "executionCount": 21,
     "executionEventId": "b46e4116-df8d-489b-ab00-798c112ff524",
     "hasError": false,
     "id": "6721796e-7d16-4d0a-91f7-c9e35ad70372",
     "outputs": [
      {
       "data": {
        "application/vnd.jupyter.widget-view+json": {
         "model_id": "02ca84a4988e4a089c99cccb5763e651",
         "version_major": 2,
         "version_minor": 0
        },
        "text/plain": "Map(basemap={'url': 'https://{s}.tile.openstreetmap.org/{z}/{x}/{y}.png', 'max_zoom': 19, 'attribution': 'Map …"
       },
       "metadata": {},
       "output_type": "display_data"
      }
     ],
     "persistentId": "d8130066-01c1-4e49-b589-147b8e01b0f4",
     "text": "#  we use the first location as the centre for the map\n\ncenter = (19.4352, -99.1412)\n\n# create the base map\nm = ipl.Map(center=center,\n                  zoom=12, dragging=True,\n                  touch_zoom=True)\n\n# adding markers\nmarker = ipl.Marker(location=center, draggable=False)\nm.add_layer(marker);\n\n# display the map\nm "
    },
    "executionTime": "2019-12-16T14:20:20.523Z"
   },
   {
    "cell": {
     "executionCount": 22,
     "executionEventId": "1f159ab6-047a-49fb-b199-227b243308da",
     "hasError": true,
     "id": "c47cb284-f183-4fa8-b1ae-f3067f084f0f",
     "outputs": [
      {
       "ename": "SyntaxError",
       "evalue": "invalid syntax (<ipython-input-22-0d2575173800>, line 1)",
       "output_type": "error",
       "traceback": [
        "\u001b[0;36m  File \u001b[0;32m\"<ipython-input-22-0d2575173800>\"\u001b[0;36m, line \u001b[0;32m1\u001b[0m\n\u001b[0;31m    def get_markers()\u001b[0m\n\u001b[0m                     ^\u001b[0m\n\u001b[0;31mSyntaxError\u001b[0m\u001b[0;31m:\u001b[0m invalid syntax\n"
       ]
      }
     ],
     "persistentId": "229dfb64-a734-43ee-95cb-f7abe0a2e484",
     "text": "def get_markers()\n    for i in locations.items():\n        print i\n        \nget_markers()"
    },
    "executionTime": "2019-12-16T14:21:18.385Z"
   },
   {
    "cell": {
     "executionCount": 23,
     "executionEventId": "9bf162b5-872c-4011-bea1-bb30c5bf8b11",
     "hasError": true,
     "id": "c47cb284-f183-4fa8-b1ae-f3067f084f0f",
     "outputs": [
      {
       "ename": "SyntaxError",
       "evalue": "Missing parentheses in call to 'print'. Did you mean print(i)? (<ipython-input-23-1bb2cebb5f90>, line 3)",
       "output_type": "error",
       "traceback": [
        "\u001b[0;36m  File \u001b[0;32m\"<ipython-input-23-1bb2cebb5f90>\"\u001b[0;36m, line \u001b[0;32m3\u001b[0m\n\u001b[0;31m    print i\u001b[0m\n\u001b[0m          ^\u001b[0m\n\u001b[0;31mSyntaxError\u001b[0m\u001b[0;31m:\u001b[0m Missing parentheses in call to 'print'. Did you mean print(i)?\n"
       ]
      }
     ],
     "persistentId": "229dfb64-a734-43ee-95cb-f7abe0a2e484",
     "text": "def get_markers():\n    for i in locations.items():\n        print i\n        \nget_markers()"
    },
    "executionTime": "2019-12-16T14:21:21.269Z"
   },
   {
    "cell": {
     "executionCount": 24,
     "executionEventId": "26501f89-0e5c-4476-b5a9-50e8afe61821",
     "hasError": true,
     "id": "c47cb284-f183-4fa8-b1ae-f3067f084f0f",
     "outputs": [
      {
       "ename": "AttributeError",
       "evalue": "'list' object has no attribute 'items'",
       "output_type": "error",
       "traceback": [
        "\u001b[0;31m---------------------------------------------------------------------------\u001b[0m",
        "\u001b[0;31mAttributeError\u001b[0m                            Traceback (most recent call last)",
        "\u001b[0;32m<ipython-input-24-9ee4567a9123>\u001b[0m in \u001b[0;36m<module>\u001b[0;34m\u001b[0m\n\u001b[1;32m      3\u001b[0m         \u001b[0mprint\u001b[0m\u001b[0;34m(\u001b[0m\u001b[0mi\u001b[0m\u001b[0;34m)\u001b[0m\u001b[0;34m\u001b[0m\u001b[0;34m\u001b[0m\u001b[0m\n\u001b[1;32m      4\u001b[0m \u001b[0;34m\u001b[0m\u001b[0m\n\u001b[0;32m----> 5\u001b[0;31m \u001b[0mget_markers\u001b[0m\u001b[0;34m(\u001b[0m\u001b[0;34m)\u001b[0m\u001b[0;34m\u001b[0m\u001b[0;34m\u001b[0m\u001b[0m\n\u001b[0m",
        "\u001b[0;32m<ipython-input-24-9ee4567a9123>\u001b[0m in \u001b[0;36mget_markers\u001b[0;34m()\u001b[0m\n\u001b[1;32m      1\u001b[0m \u001b[0;32mdef\u001b[0m \u001b[0mget_markers\u001b[0m\u001b[0;34m(\u001b[0m\u001b[0;34m)\u001b[0m\u001b[0;34m:\u001b[0m\u001b[0;34m\u001b[0m\u001b[0;34m\u001b[0m\u001b[0m\n\u001b[0;32m----> 2\u001b[0;31m     \u001b[0;32mfor\u001b[0m \u001b[0mi\u001b[0m \u001b[0;32min\u001b[0m \u001b[0mlocations\u001b[0m\u001b[0;34m.\u001b[0m\u001b[0mitems\u001b[0m\u001b[0;34m(\u001b[0m\u001b[0;34m)\u001b[0m\u001b[0;34m:\u001b[0m\u001b[0;34m\u001b[0m\u001b[0;34m\u001b[0m\u001b[0m\n\u001b[0m\u001b[1;32m      3\u001b[0m         \u001b[0mprint\u001b[0m\u001b[0;34m(\u001b[0m\u001b[0mi\u001b[0m\u001b[0;34m)\u001b[0m\u001b[0;34m\u001b[0m\u001b[0;34m\u001b[0m\u001b[0m\n\u001b[1;32m      4\u001b[0m \u001b[0;34m\u001b[0m\u001b[0m\n\u001b[1;32m      5\u001b[0m \u001b[0mget_markers\u001b[0m\u001b[0;34m(\u001b[0m\u001b[0;34m)\u001b[0m\u001b[0;34m\u001b[0m\u001b[0;34m\u001b[0m\u001b[0m\n",
        "\u001b[0;31mAttributeError\u001b[0m: 'list' object has no attribute 'items'"
       ]
      }
     ],
     "persistentId": "229dfb64-a734-43ee-95cb-f7abe0a2e484",
     "text": "def get_markers():\n    for i in locations.items():\n        print(i)\n        \nget_markers()"
    },
    "executionTime": "2019-12-16T14:21:28.788Z"
   },
   {
    "cell": {
     "executionCount": 25,
     "executionEventId": "d2815ebb-5ca2-4964-9eba-81b90b22b5cf",
     "hasError": false,
     "id": "c47cb284-f183-4fa8-b1ae-f3067f084f0f",
     "outputs": [
      {
       "name": "stdout",
       "output_type": "stream",
       "text": "{'name': 'Bellas Artes', 'day': 16, 'host': 'Tania Allard', 'type': 'geopoint', 'location': {'lon': 19.4352, 'lat': 99.1412}}\n{'name': 'Museo de Antropologia', 'day': 17, 'host': 'Tania Allard', 'type': 'geopoint', 'location': {'lon': 19.426, 'lat': 99.1863}}\n{'name': 'Anahuacalli', 'day': 18, 'host': 'Tania Allard', 'type': 'geopoint', 'location': {'lon': 19.3232, 'lat': 99.1493}}\n"
      }
     ],
     "persistentId": "229dfb64-a734-43ee-95cb-f7abe0a2e484",
     "text": "def get_markers():\n    for i in locations:\n        print(i)\n        \nget_markers()"
    },
    "executionTime": "2019-12-16T14:21:35.734Z"
   },
   {
    "cell": {
     "executionCount": 26,
     "executionEventId": "01f93d90-5371-4369-8a4b-762e96c1cfe3",
     "hasError": false,
     "id": "c47cb284-f183-4fa8-b1ae-f3067f084f0f",
     "outputs": [
      {
       "name": "stdout",
       "output_type": "stream",
       "text": "{'lon': 19.4352, 'lat': 99.1412}\n{'lon': 19.426, 'lat': 99.1863}\n{'lon': 19.3232, 'lat': 99.1493}\n"
      }
     ],
     "persistentId": "229dfb64-a734-43ee-95cb-f7abe0a2e484",
     "text": "def get_markers():\n    for i in locations:\n        print(i['location'])\n        \nget_markers()"
    },
    "executionTime": "2019-12-16T14:21:50.917Z"
   },
   {
    "cell": {
     "executionCount": 27,
     "executionEventId": "7be7bff1-0a0e-4690-a2f5-949b262377cd",
     "hasError": false,
     "id": "c47cb284-f183-4fa8-b1ae-f3067f084f0f",
     "outputs": [
      {
       "name": "stdout",
       "output_type": "stream",
       "text": "{'lon': 19.4352, 'lat': 99.1412}\n{'lon': 19.426, 'lat': 99.1863}\n{'lon': 19.3232, 'lat': 99.1493}\n"
      }
     ],
     "persistentId": "229dfb64-a734-43ee-95cb-f7abe0a2e484",
     "text": "def get_markers():\n    for place in locations:\n        print(place['location'])\n        \nget_markers()"
    },
    "executionTime": "2019-12-16T14:21:58.072Z"
   },
   {
    "cell": {
     "executionCount": 28,
     "executionEventId": "85889be1-24bd-446e-88cb-cad24b8432b4",
     "hasError": true,
     "id": "c47cb284-f183-4fa8-b1ae-f3067f084f0f",
     "outputs": [
      {
       "ename": "NameError",
       "evalue": "name 'lon' is not defined",
       "output_type": "error",
       "traceback": [
        "\u001b[0;31m---------------------------------------------------------------------------\u001b[0m",
        "\u001b[0;31mNameError\u001b[0m                                 Traceback (most recent call last)",
        "\u001b[0;32m<ipython-input-28-b6422f28337e>\u001b[0m in \u001b[0;36m<module>\u001b[0;34m\u001b[0m\n\u001b[1;32m      4\u001b[0m     \u001b[0;32mreturn\u001b[0m\u001b[0;34m(\u001b[0m\u001b[0mcoord\u001b[0m\u001b[0;34m.\u001b[0m\u001b[0mget\u001b[0m\u001b[0;34m(\u001b[0m\u001b[0mlon\u001b[0m\u001b[0;34m)\u001b[0m\u001b[0;34m)\u001b[0m\u001b[0;34m\u001b[0m\u001b[0;34m\u001b[0m\u001b[0m\n\u001b[1;32m      5\u001b[0m \u001b[0;34m\u001b[0m\u001b[0m\n\u001b[0;32m----> 6\u001b[0;31m \u001b[0mget_markers\u001b[0m\u001b[0;34m(\u001b[0m\u001b[0;34m)\u001b[0m\u001b[0;34m\u001b[0m\u001b[0;34m\u001b[0m\u001b[0m\n\u001b[0m",
        "\u001b[0;32m<ipython-input-28-b6422f28337e>\u001b[0m in \u001b[0;36mget_markers\u001b[0;34m()\u001b[0m\n\u001b[1;32m      2\u001b[0m     \u001b[0;32mfor\u001b[0m \u001b[0mplace\u001b[0m \u001b[0;32min\u001b[0m \u001b[0mlocations\u001b[0m\u001b[0;34m:\u001b[0m\u001b[0;34m\u001b[0m\u001b[0;34m\u001b[0m\u001b[0m\n\u001b[1;32m      3\u001b[0m         \u001b[0mcoord\u001b[0m \u001b[0;34m=\u001b[0m \u001b[0;34m(\u001b[0m\u001b[0mplace\u001b[0m\u001b[0;34m[\u001b[0m\u001b[0;34m'location'\u001b[0m\u001b[0;34m]\u001b[0m\u001b[0;34m)\u001b[0m\u001b[0;34m\u001b[0m\u001b[0;34m\u001b[0m\u001b[0m\n\u001b[0;32m----> 4\u001b[0;31m     \u001b[0;32mreturn\u001b[0m\u001b[0;34m(\u001b[0m\u001b[0mcoord\u001b[0m\u001b[0;34m.\u001b[0m\u001b[0mget\u001b[0m\u001b[0;34m(\u001b[0m\u001b[0mlon\u001b[0m\u001b[0;34m)\u001b[0m\u001b[0;34m)\u001b[0m\u001b[0;34m\u001b[0m\u001b[0;34m\u001b[0m\u001b[0m\n\u001b[0m\u001b[1;32m      5\u001b[0m \u001b[0;34m\u001b[0m\u001b[0m\n\u001b[1;32m      6\u001b[0m \u001b[0mget_markers\u001b[0m\u001b[0;34m(\u001b[0m\u001b[0;34m)\u001b[0m\u001b[0;34m\u001b[0m\u001b[0;34m\u001b[0m\u001b[0m\n",
        "\u001b[0;31mNameError\u001b[0m: name 'lon' is not defined"
       ]
      }
     ],
     "persistentId": "229dfb64-a734-43ee-95cb-f7abe0a2e484",
     "text": "def get_markers():\n    for place in locations:\n        coord = (place['location'])\n    return(coord.get(lon))\n        \nget_markers()"
    },
    "executionTime": "2019-12-16T14:22:40.629Z"
   },
   {
    "cell": {
     "executionCount": 29,
     "executionEventId": "1800ee21-e6a9-4152-8b58-68fd6588d9f9",
     "hasError": false,
     "id": "c47cb284-f183-4fa8-b1ae-f3067f084f0f",
     "outputs": [
      {
       "data": {
        "text/plain": "19.3232"
       },
       "execution_count": 29,
       "metadata": {},
       "output_type": "execute_result"
      }
     ],
     "persistentId": "229dfb64-a734-43ee-95cb-f7abe0a2e484",
     "text": "def get_markers():\n    for place in locations:\n        coord = (place['location'])\n    return(coord.get('lon'))\n        \nget_markers()"
    },
    "executionTime": "2019-12-16T14:22:45.307Z"
   },
   {
    "cell": {
     "executionCount": 30,
     "executionEventId": "3a3c3eb2-5898-4e60-b415-7bc945dad8ad",
     "hasError": true,
     "id": "c47cb284-f183-4fa8-b1ae-f3067f084f0f",
     "outputs": [
      {
       "ename": "NameError",
       "evalue": "name 'cood' is not defined",
       "output_type": "error",
       "traceback": [
        "\u001b[0;31m---------------------------------------------------------------------------\u001b[0m",
        "\u001b[0;31mNameError\u001b[0m                                 Traceback (most recent call last)",
        "\u001b[0;32m<ipython-input-30-cdc460ab6a94>\u001b[0m in \u001b[0;36m<module>\u001b[0;34m\u001b[0m\n\u001b[1;32m      4\u001b[0m     \u001b[0;32mreturn\u001b[0m\u001b[0;34m(\u001b[0m\u001b[0mcoord\u001b[0m\u001b[0;34m.\u001b[0m\u001b[0mget\u001b[0m\u001b[0;34m(\u001b[0m\u001b[0;34m'lon'\u001b[0m\u001b[0;34m)\u001b[0m\u001b[0;34m,\u001b[0m \u001b[0;34m-\u001b[0m\u001b[0mcood\u001b[0m\u001b[0;34m.\u001b[0m\u001b[0mget\u001b[0m\u001b[0;34m(\u001b[0m\u001b[0mlat\u001b[0m\u001b[0;34m)\u001b[0m\u001b[0;34m)\u001b[0m\u001b[0;34m\u001b[0m\u001b[0;34m\u001b[0m\u001b[0m\n\u001b[1;32m      5\u001b[0m \u001b[0;34m\u001b[0m\u001b[0m\n\u001b[0;32m----> 6\u001b[0;31m \u001b[0mget_markers\u001b[0m\u001b[0;34m(\u001b[0m\u001b[0;34m)\u001b[0m\u001b[0;34m\u001b[0m\u001b[0;34m\u001b[0m\u001b[0m\n\u001b[0m",
        "\u001b[0;32m<ipython-input-30-cdc460ab6a94>\u001b[0m in \u001b[0;36mget_markers\u001b[0;34m()\u001b[0m\n\u001b[1;32m      2\u001b[0m     \u001b[0;32mfor\u001b[0m \u001b[0mplace\u001b[0m \u001b[0;32min\u001b[0m \u001b[0mlocations\u001b[0m\u001b[0;34m:\u001b[0m\u001b[0;34m\u001b[0m\u001b[0;34m\u001b[0m\u001b[0m\n\u001b[1;32m      3\u001b[0m         \u001b[0mcoord\u001b[0m \u001b[0;34m=\u001b[0m \u001b[0;34m(\u001b[0m\u001b[0mplace\u001b[0m\u001b[0;34m[\u001b[0m\u001b[0;34m'location'\u001b[0m\u001b[0;34m]\u001b[0m\u001b[0;34m)\u001b[0m\u001b[0;34m\u001b[0m\u001b[0;34m\u001b[0m\u001b[0m\n\u001b[0;32m----> 4\u001b[0;31m     \u001b[0;32mreturn\u001b[0m\u001b[0;34m(\u001b[0m\u001b[0mcoord\u001b[0m\u001b[0;34m.\u001b[0m\u001b[0mget\u001b[0m\u001b[0;34m(\u001b[0m\u001b[0;34m'lon'\u001b[0m\u001b[0;34m)\u001b[0m\u001b[0;34m,\u001b[0m \u001b[0;34m-\u001b[0m\u001b[0mcood\u001b[0m\u001b[0;34m.\u001b[0m\u001b[0mget\u001b[0m\u001b[0;34m(\u001b[0m\u001b[0mlat\u001b[0m\u001b[0;34m)\u001b[0m\u001b[0;34m)\u001b[0m\u001b[0;34m\u001b[0m\u001b[0;34m\u001b[0m\u001b[0m\n\u001b[0m\u001b[1;32m      5\u001b[0m \u001b[0;34m\u001b[0m\u001b[0m\n\u001b[1;32m      6\u001b[0m \u001b[0mget_markers\u001b[0m\u001b[0;34m(\u001b[0m\u001b[0;34m)\u001b[0m\u001b[0;34m\u001b[0m\u001b[0;34m\u001b[0m\u001b[0m\n",
        "\u001b[0;31mNameError\u001b[0m: name 'cood' is not defined"
       ]
      }
     ],
     "persistentId": "229dfb64-a734-43ee-95cb-f7abe0a2e484",
     "text": "def get_markers():\n    for place in locations:\n        coord = (place['location'])\n    return(coord.get('lon'), -cood.get(lat))\n        \nget_markers()"
    },
    "executionTime": "2019-12-16T14:22:57.391Z"
   },
   {
    "cell": {
     "executionCount": 31,
     "executionEventId": "4845978a-23e7-40e6-aab5-ffacfc379183",
     "hasError": true,
     "id": "c47cb284-f183-4fa8-b1ae-f3067f084f0f",
     "outputs": [
      {
       "ename": "NameError",
       "evalue": "name 'lat' is not defined",
       "output_type": "error",
       "traceback": [
        "\u001b[0;31m---------------------------------------------------------------------------\u001b[0m",
        "\u001b[0;31mNameError\u001b[0m                                 Traceback (most recent call last)",
        "\u001b[0;32m<ipython-input-31-082c1050edcd>\u001b[0m in \u001b[0;36m<module>\u001b[0;34m\u001b[0m\n\u001b[1;32m      4\u001b[0m     \u001b[0;32mreturn\u001b[0m\u001b[0;34m(\u001b[0m\u001b[0mcoord\u001b[0m\u001b[0;34m.\u001b[0m\u001b[0mget\u001b[0m\u001b[0;34m(\u001b[0m\u001b[0;34m'lon'\u001b[0m\u001b[0;34m)\u001b[0m\u001b[0;34m,\u001b[0m \u001b[0;34m-\u001b[0m\u001b[0mcoord\u001b[0m\u001b[0;34m.\u001b[0m\u001b[0mget\u001b[0m\u001b[0;34m(\u001b[0m\u001b[0mlat\u001b[0m\u001b[0;34m)\u001b[0m\u001b[0;34m)\u001b[0m\u001b[0;34m\u001b[0m\u001b[0;34m\u001b[0m\u001b[0m\n\u001b[1;32m      5\u001b[0m \u001b[0;34m\u001b[0m\u001b[0m\n\u001b[0;32m----> 6\u001b[0;31m \u001b[0mget_markers\u001b[0m\u001b[0;34m(\u001b[0m\u001b[0;34m)\u001b[0m\u001b[0;34m\u001b[0m\u001b[0;34m\u001b[0m\u001b[0m\n\u001b[0m",
        "\u001b[0;32m<ipython-input-31-082c1050edcd>\u001b[0m in \u001b[0;36mget_markers\u001b[0;34m()\u001b[0m\n\u001b[1;32m      2\u001b[0m     \u001b[0;32mfor\u001b[0m \u001b[0mplace\u001b[0m \u001b[0;32min\u001b[0m \u001b[0mlocations\u001b[0m\u001b[0;34m:\u001b[0m\u001b[0;34m\u001b[0m\u001b[0;34m\u001b[0m\u001b[0m\n\u001b[1;32m      3\u001b[0m         \u001b[0mcoord\u001b[0m \u001b[0;34m=\u001b[0m \u001b[0;34m(\u001b[0m\u001b[0mplace\u001b[0m\u001b[0;34m[\u001b[0m\u001b[0;34m'location'\u001b[0m\u001b[0;34m]\u001b[0m\u001b[0;34m)\u001b[0m\u001b[0;34m\u001b[0m\u001b[0;34m\u001b[0m\u001b[0m\n\u001b[0;32m----> 4\u001b[0;31m     \u001b[0;32mreturn\u001b[0m\u001b[0;34m(\u001b[0m\u001b[0mcoord\u001b[0m\u001b[0;34m.\u001b[0m\u001b[0mget\u001b[0m\u001b[0;34m(\u001b[0m\u001b[0;34m'lon'\u001b[0m\u001b[0;34m)\u001b[0m\u001b[0;34m,\u001b[0m \u001b[0;34m-\u001b[0m\u001b[0mcoord\u001b[0m\u001b[0;34m.\u001b[0m\u001b[0mget\u001b[0m\u001b[0;34m(\u001b[0m\u001b[0mlat\u001b[0m\u001b[0;34m)\u001b[0m\u001b[0;34m)\u001b[0m\u001b[0;34m\u001b[0m\u001b[0;34m\u001b[0m\u001b[0m\n\u001b[0m\u001b[1;32m      5\u001b[0m \u001b[0;34m\u001b[0m\u001b[0m\n\u001b[1;32m      6\u001b[0m \u001b[0mget_markers\u001b[0m\u001b[0;34m(\u001b[0m\u001b[0;34m)\u001b[0m\u001b[0;34m\u001b[0m\u001b[0;34m\u001b[0m\u001b[0m\n",
        "\u001b[0;31mNameError\u001b[0m: name 'lat' is not defined"
       ]
      }
     ],
     "persistentId": "229dfb64-a734-43ee-95cb-f7abe0a2e484",
     "text": "def get_markers():\n    for place in locations:\n        coord = (place['location'])\n    return(coord.get('lon'), -coord.get(lat))\n        \nget_markers()"
    },
    "executionTime": "2019-12-16T14:23:00.308Z"
   },
   {
    "cell": {
     "executionCount": 32,
     "executionEventId": "2859e10c-3e18-48cc-9e89-f492a86fc215",
     "hasError": false,
     "id": "c47cb284-f183-4fa8-b1ae-f3067f084f0f",
     "outputs": [
      {
       "name": "stdout",
       "output_type": "stream",
       "text": "{'lon': 19.4352, 'lat': 99.1412}\n{'lon': 19.426, 'lat': 99.1863}\n{'lon': 19.3232, 'lat': 99.1493}\n"
      }
     ],
     "persistentId": "229dfb64-a734-43ee-95cb-f7abe0a2e484",
     "text": "def get_markers():\n    for place in locations:\n        coord = (place['location'])\n        print(coord)\n#     return(coord.get('lon'), -coord.get(lat))\n        \nget_markers()"
    },
    "executionTime": "2019-12-16T14:23:13.764Z"
   },
   {
    "cell": {
     "executionCount": 33,
     "executionEventId": "b84fbd6e-971a-4e0e-a19c-4682227c7081",
     "hasError": false,
     "id": "c47cb284-f183-4fa8-b1ae-f3067f084f0f",
     "outputs": [
      {
       "name": "stdout",
       "output_type": "stream",
       "text": "{'lon': 19.4352, 'lat': 99.1412}\n{'lon': 19.426, 'lat': 99.1863}\n{'lon': 19.3232, 'lat': 99.1493}\n"
      },
      {
       "data": {
        "text/plain": "(19.3232, -99.1493)"
       },
       "execution_count": 33,
       "metadata": {},
       "output_type": "execute_result"
      }
     ],
     "persistentId": "229dfb64-a734-43ee-95cb-f7abe0a2e484",
     "text": "def get_markers():\n    for place in locations:\n        coord = (place['location'])\n        print(coord)\n    return(coord.get('lon'), -coord.get('lat'))\n        \nget_markers()"
    },
    "executionTime": "2019-12-16T14:23:26.585Z"
   },
   {
    "cell": {
     "executionCount": 34,
     "executionEventId": "c9cae28c-85bb-41d4-a455-6be2af2151d7",
     "hasError": true,
     "id": "c47cb284-f183-4fa8-b1ae-f3067f084f0f",
     "outputs": [
      {
       "name": "stdout",
       "output_type": "stream",
       "text": "(19.4352, 99.1412)\n(19.426, 99.1863)\n(19.3232, 99.1493)\n"
      },
      {
       "ename": "AttributeError",
       "evalue": "'tuple' object has no attribute 'get'",
       "output_type": "error",
       "traceback": [
        "\u001b[0;31m---------------------------------------------------------------------------\u001b[0m",
        "\u001b[0;31mAttributeError\u001b[0m                            Traceback (most recent call last)",
        "\u001b[0;32m<ipython-input-34-f952ba2ed4ac>\u001b[0m in \u001b[0;36m<module>\u001b[0;34m\u001b[0m\n\u001b[1;32m      5\u001b[0m     \u001b[0;32mreturn\u001b[0m\u001b[0;34m(\u001b[0m\u001b[0mcoord\u001b[0m\u001b[0;34m.\u001b[0m\u001b[0mget\u001b[0m\u001b[0;34m(\u001b[0m\u001b[0;34m'lon'\u001b[0m\u001b[0;34m)\u001b[0m\u001b[0;34m,\u001b[0m \u001b[0;34m-\u001b[0m\u001b[0mcoord\u001b[0m\u001b[0;34m.\u001b[0m\u001b[0mget\u001b[0m\u001b[0;34m(\u001b[0m\u001b[0;34m'lat'\u001b[0m\u001b[0;34m)\u001b[0m\u001b[0;34m)\u001b[0m\u001b[0;34m\u001b[0m\u001b[0;34m\u001b[0m\u001b[0m\n\u001b[1;32m      6\u001b[0m \u001b[0;34m\u001b[0m\u001b[0m\n\u001b[0;32m----> 7\u001b[0;31m \u001b[0mget_markers\u001b[0m\u001b[0;34m(\u001b[0m\u001b[0;34m)\u001b[0m\u001b[0;34m\u001b[0m\u001b[0;34m\u001b[0m\u001b[0m\n\u001b[0m",
        "\u001b[0;32m<ipython-input-34-f952ba2ed4ac>\u001b[0m in \u001b[0;36mget_markers\u001b[0;34m()\u001b[0m\n\u001b[1;32m      3\u001b[0m         \u001b[0mcoord\u001b[0m \u001b[0;34m=\u001b[0m \u001b[0;34m(\u001b[0m\u001b[0mplace\u001b[0m\u001b[0;34m[\u001b[0m\u001b[0;34m'location'\u001b[0m\u001b[0;34m]\u001b[0m\u001b[0;34m.\u001b[0m\u001b[0mget\u001b[0m\u001b[0;34m(\u001b[0m\u001b[0;34m'lon'\u001b[0m\u001b[0;34m)\u001b[0m\u001b[0;34m,\u001b[0m \u001b[0mplace\u001b[0m\u001b[0;34m[\u001b[0m\u001b[0;34m'location'\u001b[0m\u001b[0;34m]\u001b[0m\u001b[0;34m.\u001b[0m\u001b[0mget\u001b[0m\u001b[0;34m(\u001b[0m\u001b[0;34m'lat'\u001b[0m\u001b[0;34m)\u001b[0m\u001b[0;34m)\u001b[0m\u001b[0;34m\u001b[0m\u001b[0;34m\u001b[0m\u001b[0m\n\u001b[1;32m      4\u001b[0m         \u001b[0mprint\u001b[0m\u001b[0;34m(\u001b[0m\u001b[0mcoord\u001b[0m\u001b[0;34m)\u001b[0m\u001b[0;34m\u001b[0m\u001b[0;34m\u001b[0m\u001b[0m\n\u001b[0;32m----> 5\u001b[0;31m     \u001b[0;32mreturn\u001b[0m\u001b[0;34m(\u001b[0m\u001b[0mcoord\u001b[0m\u001b[0;34m.\u001b[0m\u001b[0mget\u001b[0m\u001b[0;34m(\u001b[0m\u001b[0;34m'lon'\u001b[0m\u001b[0;34m)\u001b[0m\u001b[0;34m,\u001b[0m \u001b[0;34m-\u001b[0m\u001b[0mcoord\u001b[0m\u001b[0;34m.\u001b[0m\u001b[0mget\u001b[0m\u001b[0;34m(\u001b[0m\u001b[0;34m'lat'\u001b[0m\u001b[0;34m)\u001b[0m\u001b[0;34m)\u001b[0m\u001b[0;34m\u001b[0m\u001b[0;34m\u001b[0m\u001b[0m\n\u001b[0m\u001b[1;32m      6\u001b[0m \u001b[0;34m\u001b[0m\u001b[0m\n\u001b[1;32m      7\u001b[0m \u001b[0mget_markers\u001b[0m\u001b[0;34m(\u001b[0m\u001b[0;34m)\u001b[0m\u001b[0;34m\u001b[0m\u001b[0;34m\u001b[0m\u001b[0m\n",
        "\u001b[0;31mAttributeError\u001b[0m: 'tuple' object has no attribute 'get'"
       ]
      }
     ],
     "persistentId": "229dfb64-a734-43ee-95cb-f7abe0a2e484",
     "text": "def get_markers():\n    for place in locations:\n        coord = (place['location'].get('lon'), place['location'].get('lat'))\n        print(coord)\n    return(coord.get('lon'), -coord.get('lat'))\n        \nget_markers()"
    },
    "executionTime": "2019-12-16T14:25:04.463Z"
   },
   {
    "cell": {
     "executionCount": 35,
     "executionEventId": "99a6cb5c-dc24-4c9c-825b-9ae17a2a8c66",
     "hasError": true,
     "id": "c47cb284-f183-4fa8-b1ae-f3067f084f0f",
     "outputs": [
      {
       "name": "stdout",
       "output_type": "stream",
       "text": "(19.4352, 99.1412)\n(19.426, 99.1863)\n(19.3232, 99.1493)\n"
      },
      {
       "ename": "AttributeError",
       "evalue": "'tuple' object has no attribute 'get'",
       "output_type": "error",
       "traceback": [
        "\u001b[0;31m---------------------------------------------------------------------------\u001b[0m",
        "\u001b[0;31mAttributeError\u001b[0m                            Traceback (most recent call last)",
        "\u001b[0;32m<ipython-input-35-dd1aecca7418>\u001b[0m in \u001b[0;36m<module>\u001b[0;34m\u001b[0m\n\u001b[1;32m      5\u001b[0m     \u001b[0;32mreturn\u001b[0m\u001b[0;34m(\u001b[0m\u001b[0mcoord\u001b[0m\u001b[0;34m.\u001b[0m\u001b[0mget\u001b[0m\u001b[0;34m(\u001b[0m\u001b[0;34m'lon'\u001b[0m\u001b[0;34m)\u001b[0m\u001b[0;34m,\u001b[0m \u001b[0;34m-\u001b[0m\u001b[0mcoord\u001b[0m\u001b[0;34m.\u001b[0m\u001b[0mget\u001b[0m\u001b[0;34m(\u001b[0m\u001b[0;34m'lat'\u001b[0m\u001b[0;34m)\u001b[0m\u001b[0;34m)\u001b[0m\u001b[0;34m\u001b[0m\u001b[0;34m\u001b[0m\u001b[0m\n\u001b[1;32m      6\u001b[0m \u001b[0;34m\u001b[0m\u001b[0m\n\u001b[0;32m----> 7\u001b[0;31m \u001b[0mget_markers\u001b[0m\u001b[0;34m(\u001b[0m\u001b[0;34m)\u001b[0m\u001b[0;34m\u001b[0m\u001b[0;34m\u001b[0m\u001b[0m\n\u001b[0m",
        "\u001b[0;32m<ipython-input-35-dd1aecca7418>\u001b[0m in \u001b[0;36mget_markers\u001b[0;34m()\u001b[0m\n\u001b[1;32m      3\u001b[0m         \u001b[0mcoord\u001b[0m \u001b[0;34m=\u001b[0m \u001b[0;34m(\u001b[0m\u001b[0mplace\u001b[0m\u001b[0;34m[\u001b[0m\u001b[0;34m'location'\u001b[0m\u001b[0;34m]\u001b[0m\u001b[0;34m[\u001b[0m\u001b[0;34m'lon'\u001b[0m\u001b[0;34m]\u001b[0m\u001b[0;34m,\u001b[0m \u001b[0mplace\u001b[0m\u001b[0;34m[\u001b[0m\u001b[0;34m'location'\u001b[0m\u001b[0;34m]\u001b[0m\u001b[0;34m[\u001b[0m\u001b[0;34m'lat'\u001b[0m\u001b[0;34m]\u001b[0m\u001b[0;34m)\u001b[0m\u001b[0;34m\u001b[0m\u001b[0;34m\u001b[0m\u001b[0m\n\u001b[1;32m      4\u001b[0m         \u001b[0mprint\u001b[0m\u001b[0;34m(\u001b[0m\u001b[0mcoord\u001b[0m\u001b[0;34m)\u001b[0m\u001b[0;34m\u001b[0m\u001b[0;34m\u001b[0m\u001b[0m\n\u001b[0;32m----> 5\u001b[0;31m     \u001b[0;32mreturn\u001b[0m\u001b[0;34m(\u001b[0m\u001b[0mcoord\u001b[0m\u001b[0;34m.\u001b[0m\u001b[0mget\u001b[0m\u001b[0;34m(\u001b[0m\u001b[0;34m'lon'\u001b[0m\u001b[0;34m)\u001b[0m\u001b[0;34m,\u001b[0m \u001b[0;34m-\u001b[0m\u001b[0mcoord\u001b[0m\u001b[0;34m.\u001b[0m\u001b[0mget\u001b[0m\u001b[0;34m(\u001b[0m\u001b[0;34m'lat'\u001b[0m\u001b[0;34m)\u001b[0m\u001b[0;34m)\u001b[0m\u001b[0;34m\u001b[0m\u001b[0;34m\u001b[0m\u001b[0m\n\u001b[0m\u001b[1;32m      6\u001b[0m \u001b[0;34m\u001b[0m\u001b[0m\n\u001b[1;32m      7\u001b[0m \u001b[0mget_markers\u001b[0m\u001b[0;34m(\u001b[0m\u001b[0;34m)\u001b[0m\u001b[0;34m\u001b[0m\u001b[0;34m\u001b[0m\u001b[0m\n",
        "\u001b[0;31mAttributeError\u001b[0m: 'tuple' object has no attribute 'get'"
       ]
      }
     ],
     "persistentId": "229dfb64-a734-43ee-95cb-f7abe0a2e484",
     "text": "def get_markers():\n    for place in locations:\n        coord = (place['location']['lon'], place['location']['lat'])\n        print(coord)\n    return(coord.get('lon'), -coord.get('lat'))\n        \nget_markers()"
    },
    "executionTime": "2019-12-16T14:25:25.041Z"
   },
   {
    "cell": {
     "executionCount": 36,
     "executionEventId": "52c21f36-f044-47d8-b6a4-50d7cb7cf435",
     "hasError": false,
     "id": "c47cb284-f183-4fa8-b1ae-f3067f084f0f",
     "outputs": [
      {
       "name": "stdout",
       "output_type": "stream",
       "text": "(19.4352, 99.1412)\n(19.426, 99.1863)\n(19.3232, 99.1493)\n"
      }
     ],
     "persistentId": "229dfb64-a734-43ee-95cb-f7abe0a2e484",
     "text": "def get_markers():\n    for place in locations:\n        coord = (place['location']['lon'], place['location']['lat'])\n        print(coord)\n    marker = ipl.Marker(location=coord, draggable=False)\n    m.add_layer(marker);\n        \nget_markers()"
    },
    "executionTime": "2019-12-16T14:26:30.381Z"
   },
   {
    "cell": {
     "executionCount": 37,
     "executionEventId": "07a32ada-e0b3-4ae0-9959-a265c56997bd",
     "hasError": false,
     "id": "1799f73d-ebab-4290-bb07-194e779ced55",
     "outputs": [
      {
       "data": {
        "application/vnd.jupyter.widget-view+json": {
         "model_id": "02ca84a4988e4a089c99cccb5763e651",
         "version_major": 2,
         "version_minor": 0
        },
        "text/plain": "Map(basemap={'url': 'https://{s}.tile.openstreetmap.org/{z}/{x}/{y}.png', 'max_zoom': 19, 'attribution': 'Map …"
       },
       "metadata": {},
       "output_type": "display_data"
      }
     ],
     "persistentId": "1125e73b-7f78-47e0-ac31-f9ca8f87b09b",
     "text": "m"
    },
    "executionTime": "2019-12-16T14:26:33.049Z"
   },
   {
    "cell": {
     "executionCount": 38,
     "executionEventId": "02b5d14e-204c-4edf-99a4-e62e24255c1e",
     "hasError": false,
     "id": "c47cb284-f183-4fa8-b1ae-f3067f084f0f",
     "outputs": [
      {
       "name": "stdout",
       "output_type": "stream",
       "text": "(19.4352, 99.1412)\n(19.426, 99.1863)\n(19.3232, 99.1493)\n"
      },
      {
       "data": {
        "application/vnd.jupyter.widget-view+json": {
         "model_id": "81941c43ed7f49b8a9fc3c518f34f001",
         "version_major": 2,
         "version_minor": 0
        },
        "text/plain": "Map(basemap={'url': 'https://{s}.tile.openstreetmap.org/{z}/{x}/{y}.png', 'max_zoom': 19, 'attribution': 'Map …"
       },
       "metadata": {},
       "output_type": "display_data"
      }
     ],
     "persistentId": "229dfb64-a734-43ee-95cb-f7abe0a2e484",
     "text": "def create_map():\n    center = (19.4352, -99.1412)\n    m = ipl.Map(center=center,\n                  zoom=12, dragging=True,\n                  touch_zoom=True)\n    get_markers()\n    return m\n    \n    \ndef get_markers():\n    for place in locations:\n        coord = (place['location']['lon'], place['location']['lat'])\n        print(coord)\n    marker = ipl.Marker(location=coord, draggable=False)\n    m.add_layer(marker);\n        \ncreate_map()"
    },
    "executionTime": "2019-12-16T14:31:34.033Z"
   },
   {
    "cell": {
     "executionCount": 39,
     "executionEventId": "98a18da0-1b88-4fbc-a211-c91c5f400391",
     "hasError": false,
     "id": "c47cb284-f183-4fa8-b1ae-f3067f084f0f",
     "outputs": [
      {
       "name": "stdout",
       "output_type": "stream",
       "text": "(19.4352, 99.1412)\n(19.426, 99.1863)\n(19.3232, 99.1493)\n"
      },
      {
       "data": {
        "application/vnd.jupyter.widget-view+json": {
         "model_id": "ef9afe77f9b046e08d520088cafd6366",
         "version_major": 2,
         "version_minor": 0
        },
        "text/plain": "Map(basemap={'url': 'https://{s}.tile.openstreetmap.org/{z}/{x}/{y}.png', 'max_zoom': 19, 'attribution': 'Map …"
       },
       "metadata": {},
       "output_type": "display_data"
      }
     ],
     "persistentId": "229dfb64-a734-43ee-95cb-f7abe0a2e484",
     "text": "def create_map():\n    center = (19.4352, -99.1412)\n    m = ipl.Map(center=center,\n                  zoom=12, dragging=True,\n                  touch_zoom=True)\n    get_markers()\n    return m\n    \n    \ndef get_markers():\n    for place in locations:\n        coord = (place['location']['lon'], place['location']['lat'])\n        print(coord)\n        marker = ipl.Marker(location=coord, draggable=False)\n        m.add_layer(marker);\n        \ncreate_map()"
    },
    "executionTime": "2019-12-16T14:32:02.297Z"
   },
   {
    "cell": {
     "executionCount": 40,
     "executionEventId": "aed232c7-a41a-4d55-98a8-cfc62dd0a102",
     "hasError": false,
     "id": "c47cb284-f183-4fa8-b1ae-f3067f084f0f",
     "outputs": [
      {
       "name": "stdout",
       "output_type": "stream",
       "text": "(19.4352, 99.1412)\n(19.426, 99.1863)\n(19.3232, 99.1493)\n"
      },
      {
       "data": {
        "application/vnd.jupyter.widget-view+json": {
         "model_id": "28630c2b769b4ed693f640ea968db4e7",
         "version_major": 2,
         "version_minor": 0
        },
        "text/plain": "Map(basemap={'url': 'https://{s}.tile.openstreetmap.org/{z}/{x}/{y}.png', 'max_zoom': 19, 'attribution': 'Map …"
       },
       "metadata": {},
       "output_type": "display_data"
      }
     ],
     "persistentId": "229dfb64-a734-43ee-95cb-f7abe0a2e484",
     "text": "def create_map():\n    center = (19.4352, -99.1412)\n    m = ipl.Map(center=center,\n                  zoom=12, dragging=True,\n                  touch_zoom=True)\n    get_markers()\n    return m\n    \n    \ndef get_markers():\n    for place in locations:\n        coord = (place['location']['lon'], place['location']['lat'])\n        print(coord)\n        marker = ipl.Marker(location=coord, draggable=False)\n        m.add_layer(marker);\n        \ncreate_map()"
    },
    "executionTime": "2019-12-16T14:32:40.134Z"
   },
   {
    "cell": {
     "executionCount": 41,
     "executionEventId": "8b3376ab-7a3b-44e0-9dfa-c00348a0fd5b",
     "hasError": false,
     "id": "c47cb284-f183-4fa8-b1ae-f3067f084f0f",
     "outputs": [
      {
       "name": "stdout",
       "output_type": "stream",
       "text": "(19.4352, -99.1412)\n(19.426, -99.1863)\n(19.3232, -99.1493)\n"
      },
      {
       "data": {
        "application/vnd.jupyter.widget-view+json": {
         "model_id": "aa4b34e5e2904a3c9aad7e0c840c9ff4",
         "version_major": 2,
         "version_minor": 0
        },
        "text/plain": "Map(basemap={'url': 'https://{s}.tile.openstreetmap.org/{z}/{x}/{y}.png', 'max_zoom': 19, 'attribution': 'Map …"
       },
       "metadata": {},
       "output_type": "display_data"
      }
     ],
     "persistentId": "229dfb64-a734-43ee-95cb-f7abe0a2e484",
     "text": "def create_map():\n    center = (19.4352, -99.1412)\n    m = ipl.Map(center=center,\n                  zoom=12, dragging=True,\n                  touch_zoom=True)\n    get_markers()\n    return m\n    \n    \ndef get_markers():\n    for place in locations:\n        coord = (place['location']['lon'], -place['location']['lat'])\n        print(coord)\n        marker = ipl.Marker(location=coord, draggable=False)\n        m.add_layer(marker);\n        \ncreate_map()"
    },
    "executionTime": "2019-12-16T14:33:17.620Z"
   },
   {
    "cell": {
     "executionCount": 42,
     "executionEventId": "e1a6563a-b3be-4c44-aa58-a9f35dc12284",
     "hasError": false,
     "id": "c47cb284-f183-4fa8-b1ae-f3067f084f0f",
     "outputs": [
      {
       "name": "stdout",
       "output_type": "stream",
       "text": "(19.4352, -99.1412)\n(19.426, -99.1863)\n(19.3232, -99.1493)\n"
      },
      {
       "data": {
        "application/vnd.jupyter.widget-view+json": {
         "model_id": "7be90f9f31ff4c3bba0b29eb8b8a6cb4",
         "version_major": 2,
         "version_minor": 0
        },
        "text/plain": "Map(basemap={'url': 'https://{s}.tile.openstreetmap.org/{z}/{x}/{y}.png', 'max_zoom': 19, 'attribution': 'Map …"
       },
       "metadata": {},
       "output_type": "display_data"
      }
     ],
     "persistentId": "229dfb64-a734-43ee-95cb-f7abe0a2e484",
     "text": "def create_map():\n    center = (19.4352, -99.1412)\n    m = ipl.Map(center=center,\n                  zoom=12, dragging=True,\n                  touch_zoom=True)\n    get_markers(m)\n    return m\n    \n    \ndef get_markers(m):\n    for place in locations:\n        coord = (place['location']['lon'], -place['location']['lat'])\n        print(coord)\n        marker = ipl.Marker(location=coord, draggable=False)\n        m.add_layer(marker);\n        \ncreate_map()"
    },
    "executionTime": "2019-12-16T14:34:40.911Z"
   },
   {
    "cell": {
     "executionCount": 43,
     "executionEventId": "e774c104-d646-4424-a11f-3e701c87bd45",
     "hasError": false,
     "id": "c47cb284-f183-4fa8-b1ae-f3067f084f0f",
     "outputs": [
      {
       "name": "stdout",
       "output_type": "stream",
       "text": "(19.4352, -99.1412)\n(19.426, -99.1863)\n(19.3232, -99.1493)\n"
      },
      {
       "data": {
        "application/vnd.jupyter.widget-view+json": {
         "model_id": "aebd675c7dc84388a1971876bf99dc31",
         "version_major": 2,
         "version_minor": 0
        },
        "text/plain": "Map(basemap={'url': 'https://{s}.tile.openstreetmap.org/{z}/{x}/{y}.png', 'max_zoom': 19, 'attribution': 'Map …"
       },
       "metadata": {},
       "output_type": "display_data"
      }
     ],
     "persistentId": "229dfb64-a734-43ee-95cb-f7abe0a2e484",
     "text": "def create_map():\n    center = (19.4352, -99.1412)\n    m = ipl.Map(center=center,\n                  zoom=10, dragging=True,\n                  touch_zoom=True)\n    get_markers(m)\n    return m\n    \n    \ndef get_markers(m):\n    for place in locations:\n        coord = (place['location']['lon'], -place['location']['lat'])\n        print(coord)\n        marker = ipl.Marker(location=coord, draggable=False)\n        m.add_layer(marker);\n        \ncreate_map()"
    },
    "executionTime": "2019-12-16T14:35:02.027Z"
   },
   {
    "cell": {
     "executionCount": 44,
     "executionEventId": "f250ac42-6239-461e-b797-6dbd6609de2b",
     "hasError": false,
     "id": "c47cb284-f183-4fa8-b1ae-f3067f084f0f",
     "outputs": [
      {
       "name": "stdout",
       "output_type": "stream",
       "text": "(19.4352, -99.1412)\n(19.426, -99.1863)\n(19.3232, -99.1493)\n"
      },
      {
       "data": {
        "application/vnd.jupyter.widget-view+json": {
         "model_id": "a94f1135b1df412f86f4042b8c362cd4",
         "version_major": 2,
         "version_minor": 0
        },
        "text/plain": "Map(basemap={'url': 'https://{s}.tile.openstreetmap.org/{z}/{x}/{y}.png', 'max_zoom': 19, 'attribution': 'Map …"
       },
       "metadata": {},
       "output_type": "display_data"
      }
     ],
     "persistentId": "229dfb64-a734-43ee-95cb-f7abe0a2e484",
     "text": "def create_map():\n    center = (19.4352, -99.1412)\n    m = ipl.Map(center=center,\n                  zoom=11, dragging=True,\n                  touch_zoom=True)\n    get_markers(m)\n    return m\n    \n    \ndef get_markers(m):\n    for place in locations:\n        coord = (place['location']['lon'], -place['location']['lat'])\n        print(coord)\n        marker = ipl.Marker(location=coord, draggable=False)\n        m.add_layer(marker);\n        \ncreate_map()"
    },
    "executionTime": "2019-12-16T14:35:04.750Z"
   },
   {
    "cell": {
     "executionCount": 45,
     "executionEventId": "bae67131-8bfe-4e0c-b15c-086560830b68",
     "hasError": true,
     "id": "c47cb284-f183-4fa8-b1ae-f3067f084f0f",
     "outputs": [
      {
       "ename": "SyntaxError",
       "evalue": "invalid syntax (<ipython-input-45-c4e11caa5976>, line 11)",
       "output_type": "error",
       "traceback": [
        "\u001b[0;36m  File \u001b[0;32m\"<ipython-input-45-c4e11caa5976>\"\u001b[0;36m, line \u001b[0;32m11\u001b[0m\n\u001b[0;31m    for lat, lon in zip(place['location']['lon'], -place['location']['lat'])\u001b[0m\n\u001b[0m                                                                            ^\u001b[0m\n\u001b[0;31mSyntaxError\u001b[0m\u001b[0;31m:\u001b[0m invalid syntax\n"
       ]
      }
     ],
     "persistentId": "229dfb64-a734-43ee-95cb-f7abe0a2e484",
     "text": "def create_map():\n    center = (19.4352, -99.1412)\n    m = ipl.Map(center=center,\n                  zoom=11, dragging=True,\n                  touch_zoom=True)\n    get_markers(m)\n    return m\n    \n    \ndef get_markers(m):\n    for lat, lon in zip(place['location']['lon'], -place['location']['lat'])\n        marker = ipl.Marker(location=[lat, lon], draggable=False)\n        m.add_layer(marker);\n        \ncreate_map()"
    },
    "executionTime": "2019-12-16T14:36:11.951Z"
   },
   {
    "cell": {
     "executionCount": 46,
     "executionEventId": "5c89943e-a155-4bda-b4e4-737ae1b80fab",
     "hasError": true,
     "id": "c47cb284-f183-4fa8-b1ae-f3067f084f0f",
     "outputs": [
      {
       "ename": "NameError",
       "evalue": "name 'place' is not defined",
       "output_type": "error",
       "traceback": [
        "\u001b[0;31m---------------------------------------------------------------------------\u001b[0m",
        "\u001b[0;31mNameError\u001b[0m                                 Traceback (most recent call last)",
        "\u001b[0;32m<ipython-input-46-f05476306c7e>\u001b[0m in \u001b[0;36m<module>\u001b[0;34m\u001b[0m\n\u001b[1;32m     13\u001b[0m         \u001b[0mm\u001b[0m\u001b[0;34m.\u001b[0m\u001b[0madd_layer\u001b[0m\u001b[0;34m(\u001b[0m\u001b[0mmarker\u001b[0m\u001b[0;34m)\u001b[0m\u001b[0;34m;\u001b[0m\u001b[0;34m\u001b[0m\u001b[0;34m\u001b[0m\u001b[0m\n\u001b[1;32m     14\u001b[0m \u001b[0;34m\u001b[0m\u001b[0m\n\u001b[0;32m---> 15\u001b[0;31m \u001b[0mcreate_map\u001b[0m\u001b[0;34m(\u001b[0m\u001b[0;34m)\u001b[0m\u001b[0;34m\u001b[0m\u001b[0;34m\u001b[0m\u001b[0m\n\u001b[0m",
        "\u001b[0;32m<ipython-input-46-f05476306c7e>\u001b[0m in \u001b[0;36mcreate_map\u001b[0;34m()\u001b[0m\n\u001b[1;32m      4\u001b[0m                   \u001b[0mzoom\u001b[0m\u001b[0;34m=\u001b[0m\u001b[0;36m11\u001b[0m\u001b[0;34m,\u001b[0m \u001b[0mdragging\u001b[0m\u001b[0;34m=\u001b[0m\u001b[0;32mTrue\u001b[0m\u001b[0;34m,\u001b[0m\u001b[0;34m\u001b[0m\u001b[0;34m\u001b[0m\u001b[0m\n\u001b[1;32m      5\u001b[0m                   touch_zoom=True)\n\u001b[0;32m----> 6\u001b[0;31m     \u001b[0mget_markers\u001b[0m\u001b[0;34m(\u001b[0m\u001b[0mm\u001b[0m\u001b[0;34m)\u001b[0m\u001b[0;34m\u001b[0m\u001b[0;34m\u001b[0m\u001b[0m\n\u001b[0m\u001b[1;32m      7\u001b[0m     \u001b[0;32mreturn\u001b[0m \u001b[0mm\u001b[0m\u001b[0;34m\u001b[0m\u001b[0;34m\u001b[0m\u001b[0m\n\u001b[1;32m      8\u001b[0m \u001b[0;34m\u001b[0m\u001b[0m\n",
        "\u001b[0;32m<ipython-input-46-f05476306c7e>\u001b[0m in \u001b[0;36mget_markers\u001b[0;34m(m)\u001b[0m\n\u001b[1;32m      9\u001b[0m \u001b[0;34m\u001b[0m\u001b[0m\n\u001b[1;32m     10\u001b[0m \u001b[0;32mdef\u001b[0m \u001b[0mget_markers\u001b[0m\u001b[0;34m(\u001b[0m\u001b[0mm\u001b[0m\u001b[0;34m)\u001b[0m\u001b[0;34m:\u001b[0m\u001b[0;34m\u001b[0m\u001b[0;34m\u001b[0m\u001b[0m\n\u001b[0;32m---> 11\u001b[0;31m     \u001b[0;32mfor\u001b[0m \u001b[0mlat\u001b[0m\u001b[0;34m,\u001b[0m \u001b[0mlon\u001b[0m \u001b[0;32min\u001b[0m \u001b[0mzip\u001b[0m\u001b[0;34m(\u001b[0m\u001b[0mplace\u001b[0m\u001b[0;34m[\u001b[0m\u001b[0;34m'location'\u001b[0m\u001b[0;34m]\u001b[0m\u001b[0;34m[\u001b[0m\u001b[0;34m'lon'\u001b[0m\u001b[0;34m]\u001b[0m\u001b[0;34m,\u001b[0m \u001b[0;34m-\u001b[0m\u001b[0mplace\u001b[0m\u001b[0;34m[\u001b[0m\u001b[0;34m'location'\u001b[0m\u001b[0;34m]\u001b[0m\u001b[0;34m[\u001b[0m\u001b[0;34m'lat'\u001b[0m\u001b[0;34m]\u001b[0m\u001b[0;34m)\u001b[0m\u001b[0;34m:\u001b[0m\u001b[0;34m\u001b[0m\u001b[0;34m\u001b[0m\u001b[0m\n\u001b[0m\u001b[1;32m     12\u001b[0m         \u001b[0mmarker\u001b[0m \u001b[0;34m=\u001b[0m \u001b[0mipl\u001b[0m\u001b[0;34m.\u001b[0m\u001b[0mMarker\u001b[0m\u001b[0;34m(\u001b[0m\u001b[0mlocation\u001b[0m\u001b[0;34m=\u001b[0m\u001b[0;34m[\u001b[0m\u001b[0mlat\u001b[0m\u001b[0;34m,\u001b[0m \u001b[0mlon\u001b[0m\u001b[0;34m]\u001b[0m\u001b[0;34m,\u001b[0m \u001b[0mdraggable\u001b[0m\u001b[0;34m=\u001b[0m\u001b[0;32mFalse\u001b[0m\u001b[0;34m)\u001b[0m\u001b[0;34m\u001b[0m\u001b[0;34m\u001b[0m\u001b[0m\n\u001b[1;32m     13\u001b[0m         \u001b[0mm\u001b[0m\u001b[0;34m.\u001b[0m\u001b[0madd_layer\u001b[0m\u001b[0;34m(\u001b[0m\u001b[0mmarker\u001b[0m\u001b[0;34m)\u001b[0m\u001b[0;34m;\u001b[0m\u001b[0;34m\u001b[0m\u001b[0;34m\u001b[0m\u001b[0m\n",
        "\u001b[0;31mNameError\u001b[0m: name 'place' is not defined"
       ]
      }
     ],
     "persistentId": "229dfb64-a734-43ee-95cb-f7abe0a2e484",
     "text": "def create_map():\n    center = (19.4352, -99.1412)\n    m = ipl.Map(center=center,\n                  zoom=11, dragging=True,\n                  touch_zoom=True)\n    get_markers(m)\n    return m\n    \n    \ndef get_markers(m):\n    for lat, lon in zip(place['location']['lon'], -place['location']['lat']):\n        marker = ipl.Marker(location=[lat, lon], draggable=False)\n        m.add_layer(marker);\n        \ncreate_map()"
    },
    "executionTime": "2019-12-16T14:36:22.979Z"
   },
   {
    "cell": {
     "executionCount": 47,
     "executionEventId": "a8d5272e-6b07-4180-81fa-e8d7352684f5",
     "hasError": true,
     "id": "c47cb284-f183-4fa8-b1ae-f3067f084f0f",
     "outputs": [
      {
       "ename": "TypeError",
       "evalue": "list indices must be integers or slices, not str",
       "output_type": "error",
       "traceback": [
        "\u001b[0;31m---------------------------------------------------------------------------\u001b[0m",
        "\u001b[0;31mTypeError\u001b[0m                                 Traceback (most recent call last)",
        "\u001b[0;32m<ipython-input-47-174acef9c81a>\u001b[0m in \u001b[0;36m<module>\u001b[0;34m\u001b[0m\n\u001b[1;32m     13\u001b[0m         \u001b[0mm\u001b[0m\u001b[0;34m.\u001b[0m\u001b[0madd_layer\u001b[0m\u001b[0;34m(\u001b[0m\u001b[0mmarker\u001b[0m\u001b[0;34m)\u001b[0m\u001b[0;34m;\u001b[0m\u001b[0;34m\u001b[0m\u001b[0;34m\u001b[0m\u001b[0m\n\u001b[1;32m     14\u001b[0m \u001b[0;34m\u001b[0m\u001b[0m\n\u001b[0;32m---> 15\u001b[0;31m \u001b[0mcreate_map\u001b[0m\u001b[0;34m(\u001b[0m\u001b[0;34m)\u001b[0m\u001b[0;34m\u001b[0m\u001b[0;34m\u001b[0m\u001b[0m\n\u001b[0m",
        "\u001b[0;32m<ipython-input-47-174acef9c81a>\u001b[0m in \u001b[0;36mcreate_map\u001b[0;34m()\u001b[0m\n\u001b[1;32m      4\u001b[0m                   \u001b[0mzoom\u001b[0m\u001b[0;34m=\u001b[0m\u001b[0;36m11\u001b[0m\u001b[0;34m,\u001b[0m \u001b[0mdragging\u001b[0m\u001b[0;34m=\u001b[0m\u001b[0;32mTrue\u001b[0m\u001b[0;34m,\u001b[0m\u001b[0;34m\u001b[0m\u001b[0;34m\u001b[0m\u001b[0m\n\u001b[1;32m      5\u001b[0m                   touch_zoom=True)\n\u001b[0;32m----> 6\u001b[0;31m     \u001b[0mget_markers\u001b[0m\u001b[0;34m(\u001b[0m\u001b[0mm\u001b[0m\u001b[0;34m)\u001b[0m\u001b[0;34m\u001b[0m\u001b[0;34m\u001b[0m\u001b[0m\n\u001b[0m\u001b[1;32m      7\u001b[0m     \u001b[0;32mreturn\u001b[0m \u001b[0mm\u001b[0m\u001b[0;34m\u001b[0m\u001b[0;34m\u001b[0m\u001b[0m\n\u001b[1;32m      8\u001b[0m \u001b[0;34m\u001b[0m\u001b[0m\n",
        "\u001b[0;32m<ipython-input-47-174acef9c81a>\u001b[0m in \u001b[0;36mget_markers\u001b[0;34m(m)\u001b[0m\n\u001b[1;32m      9\u001b[0m \u001b[0;34m\u001b[0m\u001b[0m\n\u001b[1;32m     10\u001b[0m \u001b[0;32mdef\u001b[0m \u001b[0mget_markers\u001b[0m\u001b[0;34m(\u001b[0m\u001b[0mm\u001b[0m\u001b[0;34m)\u001b[0m\u001b[0;34m:\u001b[0m\u001b[0;34m\u001b[0m\u001b[0;34m\u001b[0m\u001b[0m\n\u001b[0;32m---> 11\u001b[0;31m     \u001b[0;32mfor\u001b[0m \u001b[0mlat\u001b[0m\u001b[0;34m,\u001b[0m \u001b[0mlon\u001b[0m \u001b[0;32min\u001b[0m \u001b[0mzip\u001b[0m\u001b[0;34m(\u001b[0m\u001b[0mlocations\u001b[0m\u001b[0;34m[\u001b[0m\u001b[0;34m'location'\u001b[0m\u001b[0;34m]\u001b[0m\u001b[0;34m[\u001b[0m\u001b[0;34m'lon'\u001b[0m\u001b[0;34m]\u001b[0m\u001b[0;34m,\u001b[0m \u001b[0;34m-\u001b[0m\u001b[0mlocations\u001b[0m\u001b[0;34m[\u001b[0m\u001b[0;34m'location'\u001b[0m\u001b[0;34m]\u001b[0m\u001b[0;34m[\u001b[0m\u001b[0;34m'lat'\u001b[0m\u001b[0;34m]\u001b[0m\u001b[0;34m)\u001b[0m\u001b[0;34m:\u001b[0m\u001b[0;34m\u001b[0m\u001b[0;34m\u001b[0m\u001b[0m\n\u001b[0m\u001b[1;32m     12\u001b[0m         \u001b[0mmarker\u001b[0m \u001b[0;34m=\u001b[0m \u001b[0mipl\u001b[0m\u001b[0;34m.\u001b[0m\u001b[0mMarker\u001b[0m\u001b[0;34m(\u001b[0m\u001b[0mlocation\u001b[0m\u001b[0;34m=\u001b[0m\u001b[0;34m[\u001b[0m\u001b[0mlat\u001b[0m\u001b[0;34m,\u001b[0m \u001b[0mlon\u001b[0m\u001b[0;34m]\u001b[0m\u001b[0;34m,\u001b[0m \u001b[0mdraggable\u001b[0m\u001b[0;34m=\u001b[0m\u001b[0;32mFalse\u001b[0m\u001b[0;34m)\u001b[0m\u001b[0;34m\u001b[0m\u001b[0;34m\u001b[0m\u001b[0m\n\u001b[1;32m     13\u001b[0m         \u001b[0mm\u001b[0m\u001b[0;34m.\u001b[0m\u001b[0madd_layer\u001b[0m\u001b[0;34m(\u001b[0m\u001b[0mmarker\u001b[0m\u001b[0;34m)\u001b[0m\u001b[0;34m;\u001b[0m\u001b[0;34m\u001b[0m\u001b[0;34m\u001b[0m\u001b[0m\n",
        "\u001b[0;31mTypeError\u001b[0m: list indices must be integers or slices, not str"
       ]
      }
     ],
     "persistentId": "229dfb64-a734-43ee-95cb-f7abe0a2e484",
     "text": "def create_map():\n    center = (19.4352, -99.1412)\n    m = ipl.Map(center=center,\n                  zoom=11, dragging=True,\n                  touch_zoom=True)\n    get_markers(m)\n    return m\n    \n    \ndef get_markers(m):\n    for lat, lon in zip(locations['location']['lon'], -locations['location']['lat']):\n        marker = ipl.Marker(location=[lat, lon], draggable=False)\n        m.add_layer(marker);\n        \ncreate_map()"
    },
    "executionTime": "2019-12-16T14:36:56.917Z"
   },
   {
    "cell": {
     "executionCount": 48,
     "executionEventId": "9feed1ec-f7e1-4b21-8f3f-3db7112f622c",
     "hasError": true,
     "id": "c47cb284-f183-4fa8-b1ae-f3067f084f0f",
     "outputs": [
      {
       "ename": "TypeError",
       "evalue": "list indices must be integers or slices, not str",
       "output_type": "error",
       "traceback": [
        "\u001b[0;31m---------------------------------------------------------------------------\u001b[0m",
        "\u001b[0;31mTypeError\u001b[0m                                 Traceback (most recent call last)",
        "\u001b[0;32m<ipython-input-48-dd9a33297621>\u001b[0m in \u001b[0;36m<module>\u001b[0;34m\u001b[0m\n\u001b[1;32m     13\u001b[0m         \u001b[0mm\u001b[0m\u001b[0;34m.\u001b[0m\u001b[0madd_layer\u001b[0m\u001b[0;34m(\u001b[0m\u001b[0mmarker\u001b[0m\u001b[0;34m)\u001b[0m\u001b[0;34m;\u001b[0m\u001b[0;34m\u001b[0m\u001b[0;34m\u001b[0m\u001b[0m\n\u001b[1;32m     14\u001b[0m \u001b[0;34m\u001b[0m\u001b[0m\n\u001b[0;32m---> 15\u001b[0;31m \u001b[0mcreate_map\u001b[0m\u001b[0;34m(\u001b[0m\u001b[0;34m)\u001b[0m\u001b[0;34m\u001b[0m\u001b[0;34m\u001b[0m\u001b[0m\n\u001b[0m",
        "\u001b[0;32m<ipython-input-48-dd9a33297621>\u001b[0m in \u001b[0;36mcreate_map\u001b[0;34m()\u001b[0m\n\u001b[1;32m      4\u001b[0m                   \u001b[0mzoom\u001b[0m\u001b[0;34m=\u001b[0m\u001b[0;36m11\u001b[0m\u001b[0;34m,\u001b[0m \u001b[0mdragging\u001b[0m\u001b[0;34m=\u001b[0m\u001b[0;32mTrue\u001b[0m\u001b[0;34m,\u001b[0m\u001b[0;34m\u001b[0m\u001b[0;34m\u001b[0m\u001b[0m\n\u001b[1;32m      5\u001b[0m                   touch_zoom=True)\n\u001b[0;32m----> 6\u001b[0;31m     \u001b[0mget_markers\u001b[0m\u001b[0;34m(\u001b[0m\u001b[0mm\u001b[0m\u001b[0;34m)\u001b[0m\u001b[0;34m\u001b[0m\u001b[0;34m\u001b[0m\u001b[0m\n\u001b[0m\u001b[1;32m      7\u001b[0m     \u001b[0;32mreturn\u001b[0m \u001b[0mm\u001b[0m\u001b[0;34m\u001b[0m\u001b[0;34m\u001b[0m\u001b[0m\n\u001b[1;32m      8\u001b[0m \u001b[0;34m\u001b[0m\u001b[0m\n",
        "\u001b[0;32m<ipython-input-48-dd9a33297621>\u001b[0m in \u001b[0;36mget_markers\u001b[0;34m(m)\u001b[0m\n\u001b[1;32m      9\u001b[0m \u001b[0;34m\u001b[0m\u001b[0m\n\u001b[1;32m     10\u001b[0m \u001b[0;32mdef\u001b[0m \u001b[0mget_markers\u001b[0m\u001b[0;34m(\u001b[0m\u001b[0mm\u001b[0m\u001b[0;34m)\u001b[0m\u001b[0;34m:\u001b[0m\u001b[0;34m\u001b[0m\u001b[0;34m\u001b[0m\u001b[0m\n\u001b[0;32m---> 11\u001b[0;31m     \u001b[0;32mfor\u001b[0m \u001b[0mlat\u001b[0m\u001b[0;34m,\u001b[0m \u001b[0mlon\u001b[0m \u001b[0;32min\u001b[0m \u001b[0mzip\u001b[0m\u001b[0;34m(\u001b[0m\u001b[0mlocations\u001b[0m\u001b[0;34m[\u001b[0m\u001b[0;34m'location'\u001b[0m\u001b[0;34m]\u001b[0m\u001b[0;34m[\u001b[0m\u001b[0;34m'lon'\u001b[0m\u001b[0;34m]\u001b[0m\u001b[0;34m,\u001b[0m \u001b[0;34m-\u001b[0m\u001b[0mlocations\u001b[0m\u001b[0;34m[\u001b[0m\u001b[0;34m'location'\u001b[0m\u001b[0;34m]\u001b[0m\u001b[0;34m[\u001b[0m\u001b[0;34m'lat'\u001b[0m\u001b[0;34m]\u001b[0m\u001b[0;34m)\u001b[0m\u001b[0;34m:\u001b[0m\u001b[0;34m\u001b[0m\u001b[0;34m\u001b[0m\u001b[0m\n\u001b[0m\u001b[1;32m     12\u001b[0m         \u001b[0mmarker\u001b[0m \u001b[0;34m=\u001b[0m \u001b[0mipl\u001b[0m\u001b[0;34m.\u001b[0m\u001b[0mMarker\u001b[0m\u001b[0;34m(\u001b[0m\u001b[0mlocation\u001b[0m\u001b[0;34m=\u001b[0m\u001b[0;34m(\u001b[0m\u001b[0mlat\u001b[0m\u001b[0;34m,\u001b[0m \u001b[0mlon\u001b[0m\u001b[0;34m)\u001b[0m\u001b[0;34m,\u001b[0m \u001b[0mdraggable\u001b[0m\u001b[0;34m=\u001b[0m\u001b[0;32mFalse\u001b[0m\u001b[0;34m)\u001b[0m\u001b[0;34m\u001b[0m\u001b[0;34m\u001b[0m\u001b[0m\n\u001b[1;32m     13\u001b[0m         \u001b[0mm\u001b[0m\u001b[0;34m.\u001b[0m\u001b[0madd_layer\u001b[0m\u001b[0;34m(\u001b[0m\u001b[0mmarker\u001b[0m\u001b[0;34m)\u001b[0m\u001b[0;34m;\u001b[0m\u001b[0;34m\u001b[0m\u001b[0;34m\u001b[0m\u001b[0m\n",
        "\u001b[0;31mTypeError\u001b[0m: list indices must be integers or slices, not str"
       ]
      }
     ],
     "persistentId": "229dfb64-a734-43ee-95cb-f7abe0a2e484",
     "text": "def create_map():\n    center = (19.4352, -99.1412)\n    m = ipl.Map(center=center,\n                  zoom=11, dragging=True,\n                  touch_zoom=True)\n    get_markers(m)\n    return m\n    \n    \ndef get_markers(m):\n    for lat, lon in zip(locations['location']['lon'], -locations['location']['lat']):\n        marker = ipl.Marker(location=(lat, lon), draggable=False)\n        m.add_layer(marker);\n        \ncreate_map()"
    },
    "executionTime": "2019-12-16T14:37:08.031Z"
   },
   {
    "cell": {
     "executionCount": 49,
     "executionEventId": "d1531a59-6168-4eca-8c43-170ce2b70aff",
     "hasError": true,
     "id": "c47cb284-f183-4fa8-b1ae-f3067f084f0f",
     "outputs": [
      {
       "ename": "TypeError",
       "evalue": "list indices must be integers or slices, not str",
       "output_type": "error",
       "traceback": [
        "\u001b[0;31m---------------------------------------------------------------------------\u001b[0m",
        "\u001b[0;31mTypeError\u001b[0m                                 Traceback (most recent call last)",
        "\u001b[0;32m<ipython-input-49-87451b496ef4>\u001b[0m in \u001b[0;36m<module>\u001b[0;34m\u001b[0m\n\u001b[1;32m     14\u001b[0m \u001b[0;31m#         m.add_layer(marker);\u001b[0m\u001b[0;34m\u001b[0m\u001b[0;34m\u001b[0m\u001b[0;34m\u001b[0m\u001b[0m\n\u001b[1;32m     15\u001b[0m \u001b[0;34m\u001b[0m\u001b[0m\n\u001b[0;32m---> 16\u001b[0;31m \u001b[0mcreate_map\u001b[0m\u001b[0;34m(\u001b[0m\u001b[0;34m)\u001b[0m\u001b[0;34m\u001b[0m\u001b[0;34m\u001b[0m\u001b[0m\n\u001b[0m",
        "\u001b[0;32m<ipython-input-49-87451b496ef4>\u001b[0m in \u001b[0;36mcreate_map\u001b[0;34m()\u001b[0m\n\u001b[1;32m      4\u001b[0m                   \u001b[0mzoom\u001b[0m\u001b[0;34m=\u001b[0m\u001b[0;36m11\u001b[0m\u001b[0;34m,\u001b[0m \u001b[0mdragging\u001b[0m\u001b[0;34m=\u001b[0m\u001b[0;32mTrue\u001b[0m\u001b[0;34m,\u001b[0m\u001b[0;34m\u001b[0m\u001b[0;34m\u001b[0m\u001b[0m\n\u001b[1;32m      5\u001b[0m                   touch_zoom=True)\n\u001b[0;32m----> 6\u001b[0;31m     \u001b[0mget_markers\u001b[0m\u001b[0;34m(\u001b[0m\u001b[0mm\u001b[0m\u001b[0;34m)\u001b[0m\u001b[0;34m\u001b[0m\u001b[0;34m\u001b[0m\u001b[0m\n\u001b[0m\u001b[1;32m      7\u001b[0m     \u001b[0;32mreturn\u001b[0m \u001b[0mm\u001b[0m\u001b[0;34m\u001b[0m\u001b[0;34m\u001b[0m\u001b[0m\n\u001b[1;32m      8\u001b[0m \u001b[0;34m\u001b[0m\u001b[0m\n",
        "\u001b[0;32m<ipython-input-49-87451b496ef4>\u001b[0m in \u001b[0;36mget_markers\u001b[0;34m(m)\u001b[0m\n\u001b[1;32m      9\u001b[0m \u001b[0;34m\u001b[0m\u001b[0m\n\u001b[1;32m     10\u001b[0m \u001b[0;32mdef\u001b[0m \u001b[0mget_markers\u001b[0m\u001b[0;34m(\u001b[0m\u001b[0mm\u001b[0m\u001b[0;34m)\u001b[0m\u001b[0;34m:\u001b[0m\u001b[0;34m\u001b[0m\u001b[0;34m\u001b[0m\u001b[0m\n\u001b[0;32m---> 11\u001b[0;31m     \u001b[0;32mfor\u001b[0m \u001b[0mlat\u001b[0m\u001b[0;34m,\u001b[0m \u001b[0mlon\u001b[0m \u001b[0;32min\u001b[0m \u001b[0mzip\u001b[0m\u001b[0;34m(\u001b[0m\u001b[0mlocations\u001b[0m\u001b[0;34m[\u001b[0m\u001b[0;34m'location'\u001b[0m\u001b[0;34m]\u001b[0m\u001b[0;34m[\u001b[0m\u001b[0;34m'lon'\u001b[0m\u001b[0;34m]\u001b[0m\u001b[0;34m,\u001b[0m \u001b[0;34m-\u001b[0m\u001b[0mlocations\u001b[0m\u001b[0;34m[\u001b[0m\u001b[0;34m'location'\u001b[0m\u001b[0;34m]\u001b[0m\u001b[0;34m[\u001b[0m\u001b[0;34m'lat'\u001b[0m\u001b[0;34m]\u001b[0m\u001b[0;34m)\u001b[0m\u001b[0;34m:\u001b[0m\u001b[0;34m\u001b[0m\u001b[0;34m\u001b[0m\u001b[0m\n\u001b[0m\u001b[1;32m     12\u001b[0m         \u001b[0mprint\u001b[0m\u001b[0;34m(\u001b[0m\u001b[0mlat\u001b[0m\u001b[0;34m,\u001b[0m \u001b[0mlon\u001b[0m\u001b[0;34m)\u001b[0m\u001b[0;34m\u001b[0m\u001b[0;34m\u001b[0m\u001b[0m\n\u001b[1;32m     13\u001b[0m \u001b[0;31m#         marker = ipl.Marker(location=(lat, lon), draggable=False)\u001b[0m\u001b[0;34m\u001b[0m\u001b[0;34m\u001b[0m\u001b[0;34m\u001b[0m\u001b[0m\n",
        "\u001b[0;31mTypeError\u001b[0m: list indices must be integers or slices, not str"
       ]
      }
     ],
     "persistentId": "229dfb64-a734-43ee-95cb-f7abe0a2e484",
     "text": "def create_map():\n    center = (19.4352, -99.1412)\n    m = ipl.Map(center=center,\n                  zoom=11, dragging=True,\n                  touch_zoom=True)\n    get_markers(m)\n    return m\n    \n    \ndef get_markers(m):\n    for lat, lon in zip(locations['location']['lon'], -locations['location']['lat']):\n        print(lat, lon)\n#         marker = ipl.Marker(location=(lat, lon), draggable=False)\n#         m.add_layer(marker);\n        \ncreate_map()"
    },
    "executionTime": "2019-12-16T14:37:27.027Z"
   },
   {
    "cell": {
     "executionCount": 50,
     "executionEventId": "9c358e13-6265-47d2-887a-e7c6837b7c65",
     "hasError": true,
     "id": "c47cb284-f183-4fa8-b1ae-f3067f084f0f",
     "outputs": [
      {
       "ename": "SyntaxError",
       "evalue": "invalid syntax (<ipython-input-50-b859337ce744>, line 11)",
       "output_type": "error",
       "traceback": [
        "\u001b[0;36m  File \u001b[0;32m\"<ipython-input-50-b859337ce744>\"\u001b[0;36m, line \u001b[0;32m11\u001b[0m\n\u001b[0;31m    for lat, lon in zip(int(locations['location']['lon']), int(-locations['location']['lat']):\u001b[0m\n\u001b[0m                                                                                             ^\u001b[0m\n\u001b[0;31mSyntaxError\u001b[0m\u001b[0;31m:\u001b[0m invalid syntax\n"
       ]
      }
     ],
     "persistentId": "229dfb64-a734-43ee-95cb-f7abe0a2e484",
     "text": "def create_map():\n    center = (19.4352, -99.1412)\n    m = ipl.Map(center=center,\n                  zoom=11, dragging=True,\n                  touch_zoom=True)\n    get_markers(m)\n    return m\n    \n    \ndef get_markers(m):\n    for lat, lon in zip(int(locations['location']['lon']), int(-locations['location']['lat']):\n        print(lat, lon)\n#         marker = ipl.Marker(location=(lat, lon), draggable=False)\n#         m.add_layer(marker);\n        \ncreate_map()"
    },
    "executionTime": "2019-12-16T14:38:05.534Z"
   },
   {
    "cell": {
     "executionCount": 51,
     "executionEventId": "cb79288b-cb5e-4665-b953-9742942d7d4d",
     "hasError": true,
     "id": "c47cb284-f183-4fa8-b1ae-f3067f084f0f",
     "outputs": [
      {
       "ename": "TypeError",
       "evalue": "list indices must be integers or slices, not str",
       "output_type": "error",
       "traceback": [
        "\u001b[0;31m---------------------------------------------------------------------------\u001b[0m",
        "\u001b[0;31mTypeError\u001b[0m                                 Traceback (most recent call last)",
        "\u001b[0;32m<ipython-input-51-67026c8b56b6>\u001b[0m in \u001b[0;36m<module>\u001b[0;34m\u001b[0m\n\u001b[1;32m     14\u001b[0m \u001b[0;31m#         m.add_layer(marker);\u001b[0m\u001b[0;34m\u001b[0m\u001b[0;34m\u001b[0m\u001b[0;34m\u001b[0m\u001b[0m\n\u001b[1;32m     15\u001b[0m \u001b[0;34m\u001b[0m\u001b[0m\n\u001b[0;32m---> 16\u001b[0;31m \u001b[0mcreate_map\u001b[0m\u001b[0;34m(\u001b[0m\u001b[0;34m)\u001b[0m\u001b[0;34m\u001b[0m\u001b[0;34m\u001b[0m\u001b[0m\n\u001b[0m",
        "\u001b[0;32m<ipython-input-51-67026c8b56b6>\u001b[0m in \u001b[0;36mcreate_map\u001b[0;34m()\u001b[0m\n\u001b[1;32m      4\u001b[0m                   \u001b[0mzoom\u001b[0m\u001b[0;34m=\u001b[0m\u001b[0;36m11\u001b[0m\u001b[0;34m,\u001b[0m \u001b[0mdragging\u001b[0m\u001b[0;34m=\u001b[0m\u001b[0;32mTrue\u001b[0m\u001b[0;34m,\u001b[0m\u001b[0;34m\u001b[0m\u001b[0;34m\u001b[0m\u001b[0m\n\u001b[1;32m      5\u001b[0m                   touch_zoom=True)\n\u001b[0;32m----> 6\u001b[0;31m     \u001b[0mget_markers\u001b[0m\u001b[0;34m(\u001b[0m\u001b[0mm\u001b[0m\u001b[0;34m)\u001b[0m\u001b[0;34m\u001b[0m\u001b[0;34m\u001b[0m\u001b[0m\n\u001b[0m\u001b[1;32m      7\u001b[0m     \u001b[0;32mreturn\u001b[0m \u001b[0mm\u001b[0m\u001b[0;34m\u001b[0m\u001b[0;34m\u001b[0m\u001b[0m\n\u001b[1;32m      8\u001b[0m \u001b[0;34m\u001b[0m\u001b[0m\n",
        "\u001b[0;32m<ipython-input-51-67026c8b56b6>\u001b[0m in \u001b[0;36mget_markers\u001b[0;34m(m)\u001b[0m\n\u001b[1;32m      9\u001b[0m \u001b[0;34m\u001b[0m\u001b[0m\n\u001b[1;32m     10\u001b[0m \u001b[0;32mdef\u001b[0m \u001b[0mget_markers\u001b[0m\u001b[0;34m(\u001b[0m\u001b[0mm\u001b[0m\u001b[0;34m)\u001b[0m\u001b[0;34m:\u001b[0m\u001b[0;34m\u001b[0m\u001b[0;34m\u001b[0m\u001b[0m\n\u001b[0;32m---> 11\u001b[0;31m     \u001b[0;32mfor\u001b[0m \u001b[0mlat\u001b[0m\u001b[0;34m,\u001b[0m \u001b[0mlon\u001b[0m \u001b[0;32min\u001b[0m \u001b[0mzip\u001b[0m\u001b[0;34m(\u001b[0m\u001b[0mint\u001b[0m\u001b[0;34m(\u001b[0m\u001b[0mlocations\u001b[0m\u001b[0;34m[\u001b[0m\u001b[0;34m'location'\u001b[0m\u001b[0;34m]\u001b[0m\u001b[0;34m[\u001b[0m\u001b[0;34m'lon'\u001b[0m\u001b[0;34m]\u001b[0m\u001b[0;34m)\u001b[0m\u001b[0;34m,\u001b[0m \u001b[0mint\u001b[0m\u001b[0;34m(\u001b[0m\u001b[0;34m-\u001b[0m\u001b[0mlocations\u001b[0m\u001b[0;34m[\u001b[0m\u001b[0;34m'location'\u001b[0m\u001b[0;34m]\u001b[0m\u001b[0;34m[\u001b[0m\u001b[0;34m'lat'\u001b[0m\u001b[0;34m]\u001b[0m\u001b[0;34m)\u001b[0m\u001b[0;34m)\u001b[0m\u001b[0;34m:\u001b[0m\u001b[0;34m\u001b[0m\u001b[0;34m\u001b[0m\u001b[0m\n\u001b[0m\u001b[1;32m     12\u001b[0m         \u001b[0mprint\u001b[0m\u001b[0;34m(\u001b[0m\u001b[0mlat\u001b[0m\u001b[0;34m,\u001b[0m \u001b[0mlon\u001b[0m\u001b[0;34m)\u001b[0m\u001b[0;34m\u001b[0m\u001b[0;34m\u001b[0m\u001b[0m\n\u001b[1;32m     13\u001b[0m \u001b[0;31m#         marker = ipl.Marker(location=(lat, lon), draggable=False)\u001b[0m\u001b[0;34m\u001b[0m\u001b[0;34m\u001b[0m\u001b[0;34m\u001b[0m\u001b[0m\n",
        "\u001b[0;31mTypeError\u001b[0m: list indices must be integers or slices, not str"
       ]
      }
     ],
     "persistentId": "229dfb64-a734-43ee-95cb-f7abe0a2e484",
     "text": "def create_map():\n    center = (19.4352, -99.1412)\n    m = ipl.Map(center=center,\n                  zoom=11, dragging=True,\n                  touch_zoom=True)\n    get_markers(m)\n    return m\n    \n    \ndef get_markers(m):\n    for lat, lon in zip(int(locations['location']['lon']), int(-locations['location']['lat'])):\n        print(lat, lon)\n#         marker = ipl.Marker(location=(lat, lon), draggable=False)\n#         m.add_layer(marker);\n        \ncreate_map()"
    },
    "executionTime": "2019-12-16T14:38:10.134Z"
   },
   {
    "cell": {
     "executionCount": 52,
     "executionEventId": "7776248d-e087-4808-a947-01c27c9a87f1",
     "hasError": false,
     "id": "c47cb284-f183-4fa8-b1ae-f3067f084f0f",
     "outputs": [
      {
       "name": "stdout",
       "output_type": "stream",
       "text": "(19.4352, -99.1412)\n(19.426, -99.1863)\n(19.3232, -99.1493)\n"
      },
      {
       "data": {
        "application/vnd.jupyter.widget-view+json": {
         "model_id": "39144bab43824715883e026a966c49bb",
         "version_major": 2,
         "version_minor": 0
        },
        "text/plain": "Map(basemap={'url': 'https://{s}.tile.openstreetmap.org/{z}/{x}/{y}.png', 'max_zoom': 19, 'attribution': 'Map …"
       },
       "metadata": {},
       "output_type": "display_data"
      }
     ],
     "persistentId": "229dfb64-a734-43ee-95cb-f7abe0a2e484",
     "text": "def create_map():\n    center = (19.4352, -99.1412)\n    m = ipl.Map(center=center,\n                  zoom=11, dragging=True,\n                  touch_zoom=True)\n    get_markers(m)\n    return m\n    \n    \ndef get_markers(m):\n    for place in locations:\n        coord = (place['location']['lon'], -place['location']['lat'])\n        print(coord)\n        marker = ipl.Marker(location=coord, draggable=False)\n        m.add_layer(marker);\n        \ncreate_map()"
    },
    "executionTime": "2019-12-16T14:39:37.274Z"
   },
   {
    "cell": {
     "executionCount": 53,
     "executionEventId": "4dcaf399-92b0-45af-afe1-2ec5c0177b21",
     "hasError": true,
     "id": "d5afaddc-1777-48f2-bf48-983139cea4de",
     "outputs": [
      {
       "ename": "ModuleNotFoundError",
       "evalue": "No module named 'ipyleaftlet'",
       "output_type": "error",
       "traceback": [
        "\u001b[0;31m---------------------------------------------------------------------------\u001b[0m",
        "\u001b[0;31mModuleNotFoundError\u001b[0m                       Traceback (most recent call last)",
        "\u001b[0;32m<ipython-input-53-70254216fd8f>\u001b[0m in \u001b[0;36m<module>\u001b[0;34m\u001b[0m\n\u001b[1;32m      1\u001b[0m \u001b[0;32mimport\u001b[0m \u001b[0mipyvuetify\u001b[0m \u001b[0;32mas\u001b[0m \u001b[0mv\u001b[0m\u001b[0;34m\u001b[0m\u001b[0;34m\u001b[0m\u001b[0m\n\u001b[1;32m      2\u001b[0m \u001b[0;32mimport\u001b[0m \u001b[0mipywidgets\u001b[0m \u001b[0;32mas\u001b[0m \u001b[0mwidgets\u001b[0m\u001b[0;34m\u001b[0m\u001b[0;34m\u001b[0m\u001b[0m\n\u001b[0;32m----> 3\u001b[0;31m \u001b[0;32mfrom\u001b[0m \u001b[0mipyleaftlet\u001b[0m \u001b[0;32mimport\u001b[0m \u001b[0mMap\u001b[0m\u001b[0;34m,\u001b[0m \u001b[0mMarker\u001b[0m\u001b[0;34m,\u001b[0m \u001b[0mPopup\u001b[0m\u001b[0;34m\u001b[0m\u001b[0;34m\u001b[0m\u001b[0m\n\u001b[0m\u001b[1;32m      4\u001b[0m \u001b[0;32mimport\u001b[0m \u001b[0mjson\u001b[0m\u001b[0;34m\u001b[0m\u001b[0;34m\u001b[0m\u001b[0m\n\u001b[1;32m      5\u001b[0m \u001b[0;32mfrom\u001b[0m \u001b[0mpathlib\u001b[0m \u001b[0;32mimport\u001b[0m \u001b[0mPath\u001b[0m\u001b[0;34m\u001b[0m\u001b[0;34m\u001b[0m\u001b[0m\n",
        "\u001b[0;31mModuleNotFoundError\u001b[0m: No module named 'ipyleaftlet'"
       ]
      }
     ],
     "persistentId": "1d60603d-be35-4d7c-9d4c-7e6f00d6aa8f",
     "text": "import ipyvuetify as v\nimport ipywidgets as widgets\nfrom ipyleaftlet import Map, Marker, Popup\nimport json\nfrom pathlib import Path"
    },
    "executionTime": "2019-12-16T14:41:18.902Z"
   },
   {
    "cell": {
     "executionCount": 54,
     "executionEventId": "3a9443e1-55d6-4ac3-9b0c-39a9a834a2ba",
     "hasError": false,
     "id": "d5afaddc-1777-48f2-bf48-983139cea4de",
     "outputs": [],
     "persistentId": "1d60603d-be35-4d7c-9d4c-7e6f00d6aa8f",
     "text": "import ipyvuetify as v\nimport ipywidgets as widgets\nfrom ipyleaflet import Map, Marker, Popup\nimport json\nfrom pathlib import Path"
    },
    "executionTime": "2019-12-16T14:41:25.983Z"
   },
   {
    "cell": {
     "executionCount": 55,
     "executionEventId": "3a17811b-59bd-4d7a-b82d-881af3d48a35",
     "hasError": false,
     "id": "6721796e-7d16-4d0a-91f7-c9e35ad70372",
     "outputs": [
      {
       "data": {
        "application/vnd.jupyter.widget-view+json": {
         "model_id": "19c21740072545a29d5632e240bbb7d3",
         "version_major": 2,
         "version_minor": 0
        },
        "text/plain": "Map(basemap={'url': 'https://{s}.tile.openstreetmap.org/{z}/{x}/{y}.png', 'max_zoom': 19, 'attribution': 'Map …"
       },
       "metadata": {},
       "output_type": "display_data"
      }
     ],
     "persistentId": "d8130066-01c1-4e49-b589-147b8e01b0f4",
     "text": "#  we use the first location as the centre for the map\n\ncenter = (19.4352, -99.1412)\n\n# create the base map\nm = Map(center=center,\n                  zoom=12, dragging=True,\n                  touch_zoom=True)\n\n# adding markers\nmarker = Marker(location=center, draggable=False)\nm.add_layer(marker);\n\n# display the map\nm "
    },
    "executionTime": "2019-12-16T14:41:36.121Z"
   },
   {
    "cell": {
     "executionCount": 56,
     "executionEventId": "e305ed2a-36a1-4585-a79d-77e62a26a946",
     "hasError": false,
     "id": "c47cb284-f183-4fa8-b1ae-f3067f084f0f",
     "outputs": [
      {
       "name": "stdout",
       "output_type": "stream",
       "text": "(19.4352, -99.1412)\n(19.426, -99.1863)\n(19.3232, -99.1493)\n"
      },
      {
       "data": {
        "application/vnd.jupyter.widget-view+json": {
         "model_id": "f4c723ec656947cdbcd44b8a17868443",
         "version_major": 2,
         "version_minor": 0
        },
        "text/plain": "Map(basemap={'url': 'https://{s}.tile.openstreetmap.org/{z}/{x}/{y}.png', 'max_zoom': 19, 'attribution': 'Map …"
       },
       "metadata": {},
       "output_type": "display_data"
      }
     ],
     "persistentId": "229dfb64-a734-43ee-95cb-f7abe0a2e484",
     "text": "def create_map():\n    center = (19.4352, -99.1412)\n    m = Map(center=center,\n                  zoom=11, dragging=True,\n                  touch_zoom=True)\n    get_markers(m)\n    return m\n    \n    \ndef get_markers(m):\n    for place in locations:\n        coord = (place['location']['lon'], -place['location']['lat'])\n        print(coord)\n        marker = Marker(location=coord, draggable=False)\n        m.add_layer(marker);\n        \ncreate_map()"
    },
    "executionTime": "2019-12-16T14:41:44.205Z"
   },
   {
    "cell": {
     "executionCount": 57,
     "executionEventId": "e5f50195-7ddf-4169-82fe-bb26a6371379",
     "hasError": true,
     "id": "c47cb284-f183-4fa8-b1ae-f3067f084f0f",
     "outputs": [
      {
       "ename": "SyntaxError",
       "evalue": "invalid syntax (<ipython-input-57-4ccb58e5fab7>, line 17)",
       "output_type": "error",
       "traceback": [
        "\u001b[0;36m  File \u001b[0;32m\"<ipython-input-57-4ccb58e5fab7>\"\u001b[0;36m, line \u001b[0;32m17\u001b[0m\n\u001b[0;31m    message = f'Host: {place['host']} \\n Place: {place['name']}'\u001b[0m\n\u001b[0m                                 ^\u001b[0m\n\u001b[0;31mSyntaxError\u001b[0m\u001b[0;31m:\u001b[0m invalid syntax\n"
       ]
      }
     ],
     "persistentId": "229dfb64-a734-43ee-95cb-f7abe0a2e484",
     "text": "def create_map():\n    center = (19.4352, -99.1412)\n    m = Map(center=center,\n                  zoom=11, dragging=True,\n                  touch_zoom=True)\n    get_markers(m)\n    return m\n    \n    \ndef get_markers(m):\n    for place in locations:\n        coord = (place['location']['lon'], -place['location']['lat'])\n        marker = Marker(location=coord, draggable=False)\n        m.add_layer(marker);\n        \ndef add_popup(coord):\n    message = f'Host: {place['host']} \\n Place: {place['name']}'\n    popup = Popup(location=coord,\n                 child=message,\n                 close_button=True,\n                 close_on_escape_key=True)\n        \ncreate_map()"
    },
    "executionTime": "2019-12-16T14:47:08.683Z"
   },
   {
    "cell": {
     "executionCount": 58,
     "executionEventId": "8c964344-0f92-43ff-9dc6-41fe53029076",
     "hasError": true,
     "id": "c47cb284-f183-4fa8-b1ae-f3067f084f0f",
     "outputs": [
      {
       "ename": "SyntaxError",
       "evalue": "invalid syntax (<ipython-input-58-c44eff69cce1>, line 17)",
       "output_type": "error",
       "traceback": [
        "\u001b[0;36m  File \u001b[0;32m\"<ipython-input-58-c44eff69cce1>\"\u001b[0;36m, line \u001b[0;32m17\u001b[0m\n\u001b[0;31m    message = f'Host: {place.get('host')} \\n Place: {place['name']}'\u001b[0m\n\u001b[0m                                     ^\u001b[0m\n\u001b[0;31mSyntaxError\u001b[0m\u001b[0;31m:\u001b[0m invalid syntax\n"
       ]
      }
     ],
     "persistentId": "229dfb64-a734-43ee-95cb-f7abe0a2e484",
     "text": "def create_map():\n    center = (19.4352, -99.1412)\n    m = Map(center=center,\n                  zoom=11, dragging=True,\n                  touch_zoom=True)\n    get_markers(m)\n    return m\n    \n    \ndef get_markers(m):\n    for place in locations:\n        coord = (place['location']['lon'], -place['location']['lat'])\n        marker = Marker(location=coord, draggable=False)\n        m.add_layer(marker);\n        \ndef add_popup(coord):\n    message = f'Host: {place.get('host')} \\n Place: {place['name']}'\n    popup = Popup(location=coord,\n                 child=message,\n                 close_button=True,\n                 close_on_escape_key=True)\n        \ncreate_map()"
    },
    "executionTime": "2019-12-16T14:47:51.117Z"
   },
   {
    "cell": {
     "executionCount": 59,
     "executionEventId": "d60c73cc-9fea-4f8d-af3b-ae7b28e50289",
     "hasError": true,
     "id": "c47cb284-f183-4fa8-b1ae-f3067f084f0f",
     "outputs": [
      {
       "ename": "SyntaxError",
       "evalue": "invalid syntax (<ipython-input-59-9f6fa2f53465>, line 17)",
       "output_type": "error",
       "traceback": [
        "\u001b[0;36m  File \u001b[0;32m\"<ipython-input-59-9f6fa2f53465>\"\u001b[0;36m, line \u001b[0;32m17\u001b[0m\n\u001b[0;31m    message = f'Host: {place.get('host')} Place: {place['name']}'\u001b[0m\n\u001b[0m                                     ^\u001b[0m\n\u001b[0;31mSyntaxError\u001b[0m\u001b[0;31m:\u001b[0m invalid syntax\n"
       ]
      }
     ],
     "persistentId": "229dfb64-a734-43ee-95cb-f7abe0a2e484",
     "text": "def create_map():\n    center = (19.4352, -99.1412)\n    m = Map(center=center,\n                  zoom=11, dragging=True,\n                  touch_zoom=True)\n    get_markers(m)\n    return m\n    \n    \ndef get_markers(m):\n    for place in locations:\n        coord = (place['location']['lon'], -place['location']['lat'])\n        marker = Marker(location=coord, draggable=False)\n        m.add_layer(marker);\n        \ndef add_popup(coord):\n    message = f'Host: {place.get('host')} Place: {place['name']}'\n    popup = Popup(location=coord,\n                 child=message,\n                 close_button=True,\n                 close_on_escape_key=True)\n        \ncreate_map()"
    },
    "executionTime": "2019-12-16T14:48:01.726Z"
   },
   {
    "cell": {
     "executionCount": 60,
     "executionEventId": "201759fb-6fb4-4c7c-bade-f3a61adfc3fe",
     "hasError": false,
     "id": "c47cb284-f183-4fa8-b1ae-f3067f084f0f",
     "outputs": [
      {
       "data": {
        "application/vnd.jupyter.widget-view+json": {
         "model_id": "87877ebdaa894d6c95b0e632caed1b2a",
         "version_major": 2,
         "version_minor": 0
        },
        "text/plain": "Map(basemap={'url': 'https://{s}.tile.openstreetmap.org/{z}/{x}/{y}.png', 'max_zoom': 19, 'attribution': 'Map …"
       },
       "metadata": {},
       "output_type": "display_data"
      }
     ],
     "persistentId": "229dfb64-a734-43ee-95cb-f7abe0a2e484",
     "text": "def create_map():\n    center = (19.4352, -99.1412)\n    m = Map(center=center,\n                  zoom=11, dragging=True,\n                  touch_zoom=True)\n    get_markers(m)\n    return m\n    \n    \ndef get_markers(m):\n    for place in locations:\n        coord = (place['location']['lon'], -place['location']['lat'])\n        marker = Marker(location=coord, draggable=False)\n        m.add_layer(marker);\n        \ndef add_popup(coord):\n    message = f\"Host: {place.get('host')} Place: {place['name']}\"\n    popup = Popup(location=coord,\n                 child=message,\n                 close_button=True,\n                 close_on_escape_key=True)\n        \ncreate_map()"
    },
    "executionTime": "2019-12-16T14:48:15.768Z"
   },
   {
    "cell": {
     "executionCount": 61,
     "executionEventId": "8740897c-0a07-49cf-8ed2-4e803185af25",
     "hasError": true,
     "id": "c47cb284-f183-4fa8-b1ae-f3067f084f0f",
     "outputs": [
      {
       "ename": "NameError",
       "evalue": "name 'place' is not defined",
       "output_type": "error",
       "traceback": [
        "\u001b[0;31m---------------------------------------------------------------------------\u001b[0m",
        "\u001b[0;31mNameError\u001b[0m                                 Traceback (most recent call last)",
        "\u001b[0;32m<ipython-input-61-1d74da51a9de>\u001b[0m in \u001b[0;36m<module>\u001b[0;34m\u001b[0m\n\u001b[1;32m     23\u001b[0m     \u001b[0mm\u001b[0m\u001b[0;34m.\u001b[0m\u001b[0madd_layer\u001b[0m\u001b[0;34m(\u001b[0m\u001b[0mpopup\u001b[0m\u001b[0;34m)\u001b[0m\u001b[0;34m\u001b[0m\u001b[0;34m\u001b[0m\u001b[0m\n\u001b[1;32m     24\u001b[0m \u001b[0;34m\u001b[0m\u001b[0m\n\u001b[0;32m---> 25\u001b[0;31m \u001b[0mcreate_map\u001b[0m\u001b[0;34m(\u001b[0m\u001b[0;34m)\u001b[0m\u001b[0;34m\u001b[0m\u001b[0;34m\u001b[0m\u001b[0m\n\u001b[0m",
        "\u001b[0;32m<ipython-input-61-1d74da51a9de>\u001b[0m in \u001b[0;36mcreate_map\u001b[0;34m()\u001b[0m\n\u001b[1;32m      4\u001b[0m                   \u001b[0mzoom\u001b[0m\u001b[0;34m=\u001b[0m\u001b[0;36m11\u001b[0m\u001b[0;34m,\u001b[0m \u001b[0mdragging\u001b[0m\u001b[0;34m=\u001b[0m\u001b[0;32mTrue\u001b[0m\u001b[0;34m,\u001b[0m\u001b[0;34m\u001b[0m\u001b[0;34m\u001b[0m\u001b[0m\n\u001b[1;32m      5\u001b[0m                   touch_zoom=True)\n\u001b[0;32m----> 6\u001b[0;31m     \u001b[0mget_markers\u001b[0m\u001b[0;34m(\u001b[0m\u001b[0mm\u001b[0m\u001b[0;34m)\u001b[0m\u001b[0;34m\u001b[0m\u001b[0;34m\u001b[0m\u001b[0m\n\u001b[0m\u001b[1;32m      7\u001b[0m     \u001b[0;32mreturn\u001b[0m \u001b[0mm\u001b[0m\u001b[0;34m\u001b[0m\u001b[0;34m\u001b[0m\u001b[0m\n\u001b[1;32m      8\u001b[0m \u001b[0;34m\u001b[0m\u001b[0m\n",
        "\u001b[0;32m<ipython-input-61-1d74da51a9de>\u001b[0m in \u001b[0;36mget_markers\u001b[0;34m(m)\u001b[0m\n\u001b[1;32m     13\u001b[0m         \u001b[0mmarker\u001b[0m \u001b[0;34m=\u001b[0m \u001b[0mMarker\u001b[0m\u001b[0;34m(\u001b[0m\u001b[0mlocation\u001b[0m\u001b[0;34m=\u001b[0m\u001b[0mcoord\u001b[0m\u001b[0;34m,\u001b[0m \u001b[0mdraggable\u001b[0m\u001b[0;34m=\u001b[0m\u001b[0;32mFalse\u001b[0m\u001b[0;34m)\u001b[0m\u001b[0;34m\u001b[0m\u001b[0;34m\u001b[0m\u001b[0m\n\u001b[1;32m     14\u001b[0m         \u001b[0mm\u001b[0m\u001b[0;34m.\u001b[0m\u001b[0madd_layer\u001b[0m\u001b[0;34m(\u001b[0m\u001b[0mmarker\u001b[0m\u001b[0;34m)\u001b[0m\u001b[0;34m;\u001b[0m\u001b[0;34m\u001b[0m\u001b[0;34m\u001b[0m\u001b[0m\n\u001b[0;32m---> 15\u001b[0;31m         \u001b[0madd_popup\u001b[0m\u001b[0;34m(\u001b[0m\u001b[0;34m)\u001b[0m\u001b[0;34m\u001b[0m\u001b[0;34m\u001b[0m\u001b[0m\n\u001b[0m\u001b[1;32m     16\u001b[0m \u001b[0;34m\u001b[0m\u001b[0m\n\u001b[1;32m     17\u001b[0m \u001b[0;32mdef\u001b[0m \u001b[0madd_popup\u001b[0m\u001b[0;34m(\u001b[0m\u001b[0;34m)\u001b[0m\u001b[0;34m:\u001b[0m\u001b[0;34m\u001b[0m\u001b[0;34m\u001b[0m\u001b[0m\n",
        "\u001b[0;32m<ipython-input-61-1d74da51a9de>\u001b[0m in \u001b[0;36madd_popup\u001b[0;34m()\u001b[0m\n\u001b[1;32m     16\u001b[0m \u001b[0;34m\u001b[0m\u001b[0m\n\u001b[1;32m     17\u001b[0m \u001b[0;32mdef\u001b[0m \u001b[0madd_popup\u001b[0m\u001b[0;34m(\u001b[0m\u001b[0;34m)\u001b[0m\u001b[0;34m:\u001b[0m\u001b[0;34m\u001b[0m\u001b[0;34m\u001b[0m\u001b[0m\n\u001b[0;32m---> 18\u001b[0;31m     \u001b[0mmessage\u001b[0m \u001b[0;34m=\u001b[0m \u001b[0;34mf\"Host: {place.get('host')} Place: {place['name']}\"\u001b[0m\u001b[0;34m\u001b[0m\u001b[0;34m\u001b[0m\u001b[0m\n\u001b[0m\u001b[1;32m     19\u001b[0m     popup = Popup(location=coord,\n\u001b[1;32m     20\u001b[0m                  \u001b[0mchild\u001b[0m\u001b[0;34m=\u001b[0m\u001b[0mmessage\u001b[0m\u001b[0;34m,\u001b[0m\u001b[0;34m\u001b[0m\u001b[0;34m\u001b[0m\u001b[0m\n",
        "\u001b[0;31mNameError\u001b[0m: name 'place' is not defined"
       ]
      }
     ],
     "persistentId": "229dfb64-a734-43ee-95cb-f7abe0a2e484",
     "text": "def create_map():\n    center = (19.4352, -99.1412)\n    m = Map(center=center,\n                  zoom=11, dragging=True,\n                  touch_zoom=True)\n    get_markers(m)\n    return m\n    \n    \ndef get_markers(m):\n    for place in locations:\n        coord = (place['location']['lon'], -place['location']['lat'])\n        marker = Marker(location=coord, draggable=False)\n        m.add_layer(marker);\n        add_popup()\n        \ndef add_popup():\n    message = f\"Host: {place.get('host')} Place: {place['name']}\"\n    popup = Popup(location=coord,\n                 child=message,\n                 close_button=True,\n                 close_on_escape_key=True)\n    m.add_layer(popup)\n        \ncreate_map()"
    },
    "executionTime": "2019-12-16T14:49:02.802Z"
   },
   {
    "cell": {
     "executionCount": 62,
     "executionEventId": "bd76167a-6fe4-4331-aee7-af4650f4bb94",
     "hasError": true,
     "id": "c47cb284-f183-4fa8-b1ae-f3067f084f0f",
     "outputs": [
      {
       "ename": "NameError",
       "evalue": "name 'coord' is not defined",
       "output_type": "error",
       "traceback": [
        "\u001b[0;31m---------------------------------------------------------------------------\u001b[0m",
        "\u001b[0;31mNameError\u001b[0m                                 Traceback (most recent call last)",
        "\u001b[0;32m<ipython-input-62-ee40f450baf6>\u001b[0m in \u001b[0;36m<module>\u001b[0;34m\u001b[0m\n\u001b[1;32m     23\u001b[0m     \u001b[0mm\u001b[0m\u001b[0;34m.\u001b[0m\u001b[0madd_layer\u001b[0m\u001b[0;34m(\u001b[0m\u001b[0mpopup\u001b[0m\u001b[0;34m)\u001b[0m\u001b[0;34m\u001b[0m\u001b[0;34m\u001b[0m\u001b[0m\n\u001b[1;32m     24\u001b[0m \u001b[0;34m\u001b[0m\u001b[0m\n\u001b[0;32m---> 25\u001b[0;31m \u001b[0mcreate_map\u001b[0m\u001b[0;34m(\u001b[0m\u001b[0;34m)\u001b[0m\u001b[0;34m\u001b[0m\u001b[0;34m\u001b[0m\u001b[0m\n\u001b[0m",
        "\u001b[0;32m<ipython-input-62-ee40f450baf6>\u001b[0m in \u001b[0;36mcreate_map\u001b[0;34m()\u001b[0m\n\u001b[1;32m      4\u001b[0m                   \u001b[0mzoom\u001b[0m\u001b[0;34m=\u001b[0m\u001b[0;36m11\u001b[0m\u001b[0;34m,\u001b[0m \u001b[0mdragging\u001b[0m\u001b[0;34m=\u001b[0m\u001b[0;32mTrue\u001b[0m\u001b[0;34m,\u001b[0m\u001b[0;34m\u001b[0m\u001b[0;34m\u001b[0m\u001b[0m\n\u001b[1;32m      5\u001b[0m                   touch_zoom=True)\n\u001b[0;32m----> 6\u001b[0;31m     \u001b[0mget_markers\u001b[0m\u001b[0;34m(\u001b[0m\u001b[0mm\u001b[0m\u001b[0;34m)\u001b[0m\u001b[0;34m\u001b[0m\u001b[0;34m\u001b[0m\u001b[0m\n\u001b[0m\u001b[1;32m      7\u001b[0m     \u001b[0;32mreturn\u001b[0m \u001b[0mm\u001b[0m\u001b[0;34m\u001b[0m\u001b[0;34m\u001b[0m\u001b[0m\n\u001b[1;32m      8\u001b[0m \u001b[0;34m\u001b[0m\u001b[0m\n",
        "\u001b[0;32m<ipython-input-62-ee40f450baf6>\u001b[0m in \u001b[0;36mget_markers\u001b[0;34m(m)\u001b[0m\n\u001b[1;32m     13\u001b[0m         \u001b[0mmarker\u001b[0m \u001b[0;34m=\u001b[0m \u001b[0mMarker\u001b[0m\u001b[0;34m(\u001b[0m\u001b[0mlocation\u001b[0m\u001b[0;34m=\u001b[0m\u001b[0mcoord\u001b[0m\u001b[0;34m,\u001b[0m \u001b[0mdraggable\u001b[0m\u001b[0;34m=\u001b[0m\u001b[0;32mFalse\u001b[0m\u001b[0;34m)\u001b[0m\u001b[0;34m\u001b[0m\u001b[0;34m\u001b[0m\u001b[0m\n\u001b[1;32m     14\u001b[0m         \u001b[0mm\u001b[0m\u001b[0;34m.\u001b[0m\u001b[0madd_layer\u001b[0m\u001b[0;34m(\u001b[0m\u001b[0mmarker\u001b[0m\u001b[0;34m)\u001b[0m\u001b[0;34m;\u001b[0m\u001b[0;34m\u001b[0m\u001b[0;34m\u001b[0m\u001b[0m\n\u001b[0;32m---> 15\u001b[0;31m         \u001b[0madd_popup\u001b[0m\u001b[0;34m(\u001b[0m\u001b[0mplace\u001b[0m\u001b[0;34m)\u001b[0m\u001b[0;34m\u001b[0m\u001b[0;34m\u001b[0m\u001b[0m\n\u001b[0m\u001b[1;32m     16\u001b[0m \u001b[0;34m\u001b[0m\u001b[0m\n\u001b[1;32m     17\u001b[0m \u001b[0;32mdef\u001b[0m \u001b[0madd_popup\u001b[0m\u001b[0;34m(\u001b[0m\u001b[0mplace\u001b[0m\u001b[0;34m)\u001b[0m\u001b[0;34m:\u001b[0m\u001b[0;34m\u001b[0m\u001b[0;34m\u001b[0m\u001b[0m\n",
        "\u001b[0;32m<ipython-input-62-ee40f450baf6>\u001b[0m in \u001b[0;36madd_popup\u001b[0;34m(place)\u001b[0m\n\u001b[1;32m     17\u001b[0m \u001b[0;32mdef\u001b[0m \u001b[0madd_popup\u001b[0m\u001b[0;34m(\u001b[0m\u001b[0mplace\u001b[0m\u001b[0;34m)\u001b[0m\u001b[0;34m:\u001b[0m\u001b[0;34m\u001b[0m\u001b[0;34m\u001b[0m\u001b[0m\n\u001b[1;32m     18\u001b[0m     \u001b[0mmessage\u001b[0m \u001b[0;34m=\u001b[0m \u001b[0;34mf\"Host: {place.get('host')} Place: {place['name']}\"\u001b[0m\u001b[0;34m\u001b[0m\u001b[0;34m\u001b[0m\u001b[0m\n\u001b[0;32m---> 19\u001b[0;31m     popup = Popup(location=coord,\n\u001b[0m\u001b[1;32m     20\u001b[0m                  \u001b[0mchild\u001b[0m\u001b[0;34m=\u001b[0m\u001b[0mmessage\u001b[0m\u001b[0;34m,\u001b[0m\u001b[0;34m\u001b[0m\u001b[0;34m\u001b[0m\u001b[0m\n\u001b[1;32m     21\u001b[0m                  \u001b[0mclose_button\u001b[0m\u001b[0;34m=\u001b[0m\u001b[0;32mTrue\u001b[0m\u001b[0;34m,\u001b[0m\u001b[0;34m\u001b[0m\u001b[0;34m\u001b[0m\u001b[0m\n",
        "\u001b[0;31mNameError\u001b[0m: name 'coord' is not defined"
       ]
      }
     ],
     "persistentId": "229dfb64-a734-43ee-95cb-f7abe0a2e484",
     "text": "def create_map():\n    center = (19.4352, -99.1412)\n    m = Map(center=center,\n                  zoom=11, dragging=True,\n                  touch_zoom=True)\n    get_markers(m)\n    return m\n    \n    \ndef get_markers(m):\n    for place in locations:\n        coord = (place['location']['lon'], -place['location']['lat'])\n        marker = Marker(location=coord, draggable=False)\n        m.add_layer(marker);\n        add_popup(place)\n        \ndef add_popup(place):\n    message = f\"Host: {place.get('host')} Place: {place['name']}\"\n    popup = Popup(location=coord,\n                 child=message,\n                 close_button=True,\n                 close_on_escape_key=True)\n    m.add_layer(popup)\n        \ncreate_map()"
    },
    "executionTime": "2019-12-16T14:49:11.974Z"
   },
   {
    "cell": {
     "executionCount": 63,
     "executionEventId": "143e0998-e15c-49f9-be22-88c0ae0e5ea0",
     "hasError": true,
     "id": "c47cb284-f183-4fa8-b1ae-f3067f084f0f",
     "outputs": [
      {
       "ename": "NameError",
       "evalue": "name 'place' is not defined",
       "output_type": "error",
       "traceback": [
        "\u001b[0;31m---------------------------------------------------------------------------\u001b[0m",
        "\u001b[0;31mNameError\u001b[0m                                 Traceback (most recent call last)",
        "\u001b[0;32m<ipython-input-63-a80f1b3526d3>\u001b[0m in \u001b[0;36m<module>\u001b[0;34m\u001b[0m\n\u001b[1;32m     23\u001b[0m     \u001b[0mm\u001b[0m\u001b[0;34m.\u001b[0m\u001b[0madd_layer\u001b[0m\u001b[0;34m(\u001b[0m\u001b[0mpopup\u001b[0m\u001b[0;34m)\u001b[0m\u001b[0;34m\u001b[0m\u001b[0;34m\u001b[0m\u001b[0m\n\u001b[1;32m     24\u001b[0m \u001b[0;34m\u001b[0m\u001b[0m\n\u001b[0;32m---> 25\u001b[0;31m \u001b[0mcreate_map\u001b[0m\u001b[0;34m(\u001b[0m\u001b[0;34m)\u001b[0m\u001b[0;34m\u001b[0m\u001b[0;34m\u001b[0m\u001b[0m\n\u001b[0m",
        "\u001b[0;32m<ipython-input-63-a80f1b3526d3>\u001b[0m in \u001b[0;36mcreate_map\u001b[0;34m()\u001b[0m\n\u001b[1;32m      4\u001b[0m                   \u001b[0mzoom\u001b[0m\u001b[0;34m=\u001b[0m\u001b[0;36m11\u001b[0m\u001b[0;34m,\u001b[0m \u001b[0mdragging\u001b[0m\u001b[0;34m=\u001b[0m\u001b[0;32mTrue\u001b[0m\u001b[0;34m,\u001b[0m\u001b[0;34m\u001b[0m\u001b[0;34m\u001b[0m\u001b[0m\n\u001b[1;32m      5\u001b[0m                   touch_zoom=True)\n\u001b[0;32m----> 6\u001b[0;31m     \u001b[0mget_markers\u001b[0m\u001b[0;34m(\u001b[0m\u001b[0mm\u001b[0m\u001b[0;34m)\u001b[0m\u001b[0;34m\u001b[0m\u001b[0;34m\u001b[0m\u001b[0m\n\u001b[0m\u001b[1;32m      7\u001b[0m     \u001b[0;32mreturn\u001b[0m \u001b[0mm\u001b[0m\u001b[0;34m\u001b[0m\u001b[0;34m\u001b[0m\u001b[0m\n\u001b[1;32m      8\u001b[0m \u001b[0;34m\u001b[0m\u001b[0m\n",
        "\u001b[0;32m<ipython-input-63-a80f1b3526d3>\u001b[0m in \u001b[0;36mget_markers\u001b[0;34m(m)\u001b[0m\n\u001b[1;32m     13\u001b[0m         \u001b[0mmarker\u001b[0m \u001b[0;34m=\u001b[0m \u001b[0mMarker\u001b[0m\u001b[0;34m(\u001b[0m\u001b[0mlocation\u001b[0m\u001b[0;34m=\u001b[0m\u001b[0mcoord\u001b[0m\u001b[0;34m,\u001b[0m \u001b[0mdraggable\u001b[0m\u001b[0;34m=\u001b[0m\u001b[0;32mFalse\u001b[0m\u001b[0;34m)\u001b[0m\u001b[0;34m\u001b[0m\u001b[0;34m\u001b[0m\u001b[0m\n\u001b[1;32m     14\u001b[0m         \u001b[0mm\u001b[0m\u001b[0;34m.\u001b[0m\u001b[0madd_layer\u001b[0m\u001b[0;34m(\u001b[0m\u001b[0mmarker\u001b[0m\u001b[0;34m)\u001b[0m\u001b[0;34m;\u001b[0m\u001b[0;34m\u001b[0m\u001b[0;34m\u001b[0m\u001b[0m\n\u001b[0;32m---> 15\u001b[0;31m         \u001b[0madd_popup\u001b[0m\u001b[0;34m(\u001b[0m\u001b[0mplace\u001b[0m\u001b[0;34m,\u001b[0m \u001b[0mcoord\u001b[0m\u001b[0;34m)\u001b[0m\u001b[0;34m\u001b[0m\u001b[0;34m\u001b[0m\u001b[0m\n\u001b[0m\u001b[1;32m     16\u001b[0m \u001b[0;34m\u001b[0m\u001b[0m\n\u001b[1;32m     17\u001b[0m \u001b[0;32mdef\u001b[0m \u001b[0madd_popup\u001b[0m\u001b[0;34m(\u001b[0m\u001b[0mplacem\u001b[0m\u001b[0;34m,\u001b[0m \u001b[0mcoord\u001b[0m\u001b[0;34m)\u001b[0m\u001b[0;34m:\u001b[0m\u001b[0;34m\u001b[0m\u001b[0;34m\u001b[0m\u001b[0m\n",
        "\u001b[0;32m<ipython-input-63-a80f1b3526d3>\u001b[0m in \u001b[0;36madd_popup\u001b[0;34m(placem, coord)\u001b[0m\n\u001b[1;32m     16\u001b[0m \u001b[0;34m\u001b[0m\u001b[0m\n\u001b[1;32m     17\u001b[0m \u001b[0;32mdef\u001b[0m \u001b[0madd_popup\u001b[0m\u001b[0;34m(\u001b[0m\u001b[0mplacem\u001b[0m\u001b[0;34m,\u001b[0m \u001b[0mcoord\u001b[0m\u001b[0;34m)\u001b[0m\u001b[0;34m:\u001b[0m\u001b[0;34m\u001b[0m\u001b[0;34m\u001b[0m\u001b[0m\n\u001b[0;32m---> 18\u001b[0;31m     \u001b[0mmessage\u001b[0m \u001b[0;34m=\u001b[0m \u001b[0;34mf\"Host: {place.get('host')} Place: {place['name']}\"\u001b[0m\u001b[0;34m\u001b[0m\u001b[0;34m\u001b[0m\u001b[0m\n\u001b[0m\u001b[1;32m     19\u001b[0m     popup = Popup(location=coord,\n\u001b[1;32m     20\u001b[0m                  \u001b[0mchild\u001b[0m\u001b[0;34m=\u001b[0m\u001b[0mmessage\u001b[0m\u001b[0;34m,\u001b[0m\u001b[0;34m\u001b[0m\u001b[0;34m\u001b[0m\u001b[0m\n",
        "\u001b[0;31mNameError\u001b[0m: name 'place' is not defined"
       ]
      }
     ],
     "persistentId": "229dfb64-a734-43ee-95cb-f7abe0a2e484",
     "text": "def create_map():\n    center = (19.4352, -99.1412)\n    m = Map(center=center,\n                  zoom=11, dragging=True,\n                  touch_zoom=True)\n    get_markers(m)\n    return m\n    \n    \ndef get_markers(m):\n    for place in locations:\n        coord = (place['location']['lon'], -place['location']['lat'])\n        marker = Marker(location=coord, draggable=False)\n        m.add_layer(marker);\n        add_popup(place, coord)\n        \ndef add_popup(placem, coord):\n    message = f\"Host: {place.get('host')} Place: {place['name']}\"\n    popup = Popup(location=coord,\n                 child=message,\n                 close_button=True,\n                 close_on_escape_key=True)\n    m.add_layer(popup)\n        \ncreate_map()"
    },
    "executionTime": "2019-12-16T14:49:21.918Z"
   },
   {
    "cell": {
     "executionCount": 64,
     "executionEventId": "94c82621-7893-43f2-8980-2f8bd6c80efd",
     "hasError": true,
     "id": "c47cb284-f183-4fa8-b1ae-f3067f084f0f",
     "outputs": [
      {
       "ename": "TraitError",
       "evalue": "The 'child' trait of a Popup instance must be a DOMWidget or None, but a value of class 'str' (i.e. 'Host: Tania Allard Place: Bellas Artes') was specified.",
       "output_type": "error",
       "traceback": [
        "\u001b[0;31m---------------------------------------------------------------------------\u001b[0m",
        "\u001b[0;31mTraitError\u001b[0m                                Traceback (most recent call last)",
        "\u001b[0;32m<ipython-input-64-e47c391a3726>\u001b[0m in \u001b[0;36m<module>\u001b[0;34m\u001b[0m\n\u001b[1;32m     23\u001b[0m     \u001b[0mm\u001b[0m\u001b[0;34m.\u001b[0m\u001b[0madd_layer\u001b[0m\u001b[0;34m(\u001b[0m\u001b[0mpopup\u001b[0m\u001b[0;34m)\u001b[0m\u001b[0;34m\u001b[0m\u001b[0;34m\u001b[0m\u001b[0m\n\u001b[1;32m     24\u001b[0m \u001b[0;34m\u001b[0m\u001b[0m\n\u001b[0;32m---> 25\u001b[0;31m \u001b[0mcreate_map\u001b[0m\u001b[0;34m(\u001b[0m\u001b[0;34m)\u001b[0m\u001b[0;34m\u001b[0m\u001b[0;34m\u001b[0m\u001b[0m\n\u001b[0m",
        "\u001b[0;32m<ipython-input-64-e47c391a3726>\u001b[0m in \u001b[0;36mcreate_map\u001b[0;34m()\u001b[0m\n\u001b[1;32m      4\u001b[0m                   \u001b[0mzoom\u001b[0m\u001b[0;34m=\u001b[0m\u001b[0;36m11\u001b[0m\u001b[0;34m,\u001b[0m \u001b[0mdragging\u001b[0m\u001b[0;34m=\u001b[0m\u001b[0;32mTrue\u001b[0m\u001b[0;34m,\u001b[0m\u001b[0;34m\u001b[0m\u001b[0;34m\u001b[0m\u001b[0m\n\u001b[1;32m      5\u001b[0m                   touch_zoom=True)\n\u001b[0;32m----> 6\u001b[0;31m     \u001b[0mget_markers\u001b[0m\u001b[0;34m(\u001b[0m\u001b[0mm\u001b[0m\u001b[0;34m)\u001b[0m\u001b[0;34m\u001b[0m\u001b[0;34m\u001b[0m\u001b[0m\n\u001b[0m\u001b[1;32m      7\u001b[0m     \u001b[0;32mreturn\u001b[0m \u001b[0mm\u001b[0m\u001b[0;34m\u001b[0m\u001b[0;34m\u001b[0m\u001b[0m\n\u001b[1;32m      8\u001b[0m \u001b[0;34m\u001b[0m\u001b[0m\n",
        "\u001b[0;32m<ipython-input-64-e47c391a3726>\u001b[0m in \u001b[0;36mget_markers\u001b[0;34m(m)\u001b[0m\n\u001b[1;32m     13\u001b[0m         \u001b[0mmarker\u001b[0m \u001b[0;34m=\u001b[0m \u001b[0mMarker\u001b[0m\u001b[0;34m(\u001b[0m\u001b[0mlocation\u001b[0m\u001b[0;34m=\u001b[0m\u001b[0mcoord\u001b[0m\u001b[0;34m,\u001b[0m \u001b[0mdraggable\u001b[0m\u001b[0;34m=\u001b[0m\u001b[0;32mFalse\u001b[0m\u001b[0;34m)\u001b[0m\u001b[0;34m\u001b[0m\u001b[0;34m\u001b[0m\u001b[0m\n\u001b[1;32m     14\u001b[0m         \u001b[0mm\u001b[0m\u001b[0;34m.\u001b[0m\u001b[0madd_layer\u001b[0m\u001b[0;34m(\u001b[0m\u001b[0mmarker\u001b[0m\u001b[0;34m)\u001b[0m\u001b[0;34m;\u001b[0m\u001b[0;34m\u001b[0m\u001b[0;34m\u001b[0m\u001b[0m\n\u001b[0;32m---> 15\u001b[0;31m         \u001b[0madd_popup\u001b[0m\u001b[0;34m(\u001b[0m\u001b[0mplace\u001b[0m\u001b[0;34m,\u001b[0m \u001b[0mcoord\u001b[0m\u001b[0;34m)\u001b[0m\u001b[0;34m\u001b[0m\u001b[0;34m\u001b[0m\u001b[0m\n\u001b[0m\u001b[1;32m     16\u001b[0m \u001b[0;34m\u001b[0m\u001b[0m\n\u001b[1;32m     17\u001b[0m \u001b[0;32mdef\u001b[0m \u001b[0madd_popup\u001b[0m\u001b[0;34m(\u001b[0m\u001b[0mplace\u001b[0m\u001b[0;34m,\u001b[0m \u001b[0mcoord\u001b[0m\u001b[0;34m)\u001b[0m\u001b[0;34m:\u001b[0m\u001b[0;34m\u001b[0m\u001b[0;34m\u001b[0m\u001b[0m\n",
        "\u001b[0;32m<ipython-input-64-e47c391a3726>\u001b[0m in \u001b[0;36madd_popup\u001b[0;34m(place, coord)\u001b[0m\n\u001b[1;32m     20\u001b[0m                  \u001b[0mchild\u001b[0m\u001b[0;34m=\u001b[0m\u001b[0mmessage\u001b[0m\u001b[0;34m,\u001b[0m\u001b[0;34m\u001b[0m\u001b[0;34m\u001b[0m\u001b[0m\n\u001b[1;32m     21\u001b[0m                  \u001b[0mclose_button\u001b[0m\u001b[0;34m=\u001b[0m\u001b[0;32mTrue\u001b[0m\u001b[0;34m,\u001b[0m\u001b[0;34m\u001b[0m\u001b[0;34m\u001b[0m\u001b[0m\n\u001b[0;32m---> 22\u001b[0;31m                  close_on_escape_key=True)\n\u001b[0m\u001b[1;32m     23\u001b[0m     \u001b[0mm\u001b[0m\u001b[0;34m.\u001b[0m\u001b[0madd_layer\u001b[0m\u001b[0;34m(\u001b[0m\u001b[0mpopup\u001b[0m\u001b[0;34m)\u001b[0m\u001b[0;34m\u001b[0m\u001b[0;34m\u001b[0m\u001b[0m\n\u001b[1;32m     24\u001b[0m \u001b[0;34m\u001b[0m\u001b[0m\n",
        "\u001b[0;32m/anaconda3/lib/python3.7/site-packages/ipyleaflet/leaflet.py\u001b[0m in \u001b[0;36m__init__\u001b[0;34m(self, **kwargs)\u001b[0m\n\u001b[1;32m     93\u001b[0m \u001b[0;34m\u001b[0m\u001b[0m\n\u001b[1;32m     94\u001b[0m     \u001b[0;32mdef\u001b[0m \u001b[0m__init__\u001b[0m\u001b[0;34m(\u001b[0m\u001b[0mself\u001b[0m\u001b[0;34m,\u001b[0m \u001b[0;34m**\u001b[0m\u001b[0mkwargs\u001b[0m\u001b[0;34m)\u001b[0m\u001b[0;34m:\u001b[0m\u001b[0;34m\u001b[0m\u001b[0;34m\u001b[0m\u001b[0m\n\u001b[0;32m---> 95\u001b[0;31m         \u001b[0msuper\u001b[0m\u001b[0;34m(\u001b[0m\u001b[0mLayer\u001b[0m\u001b[0;34m,\u001b[0m \u001b[0mself\u001b[0m\u001b[0;34m)\u001b[0m\u001b[0;34m.\u001b[0m\u001b[0m__init__\u001b[0m\u001b[0;34m(\u001b[0m\u001b[0;34m**\u001b[0m\u001b[0mkwargs\u001b[0m\u001b[0;34m)\u001b[0m\u001b[0;34m\u001b[0m\u001b[0;34m\u001b[0m\u001b[0m\n\u001b[0m\u001b[1;32m     96\u001b[0m         \u001b[0mself\u001b[0m\u001b[0;34m.\u001b[0m\u001b[0mon_msg\u001b[0m\u001b[0;34m(\u001b[0m\u001b[0mself\u001b[0m\u001b[0;34m.\u001b[0m\u001b[0m_handle_mouse_events\u001b[0m\u001b[0;34m)\u001b[0m\u001b[0;34m\u001b[0m\u001b[0;34m\u001b[0m\u001b[0m\n\u001b[1;32m     97\u001b[0m \u001b[0;34m\u001b[0m\u001b[0m\n",
        "\u001b[0;32m/anaconda3/lib/python3.7/site-packages/ipywidgets/widgets/widget.py\u001b[0m in \u001b[0;36m__init__\u001b[0;34m(self, **kwargs)\u001b[0m\n\u001b[1;32m    410\u001b[0m         \u001b[0;34m\"\"\"Public constructor\"\"\"\u001b[0m\u001b[0;34m\u001b[0m\u001b[0;34m\u001b[0m\u001b[0m\n\u001b[1;32m    411\u001b[0m         \u001b[0mself\u001b[0m\u001b[0;34m.\u001b[0m\u001b[0m_model_id\u001b[0m \u001b[0;34m=\u001b[0m \u001b[0mkwargs\u001b[0m\u001b[0;34m.\u001b[0m\u001b[0mpop\u001b[0m\u001b[0;34m(\u001b[0m\u001b[0;34m'model_id'\u001b[0m\u001b[0;34m,\u001b[0m \u001b[0;32mNone\u001b[0m\u001b[0;34m)\u001b[0m\u001b[0;34m\u001b[0m\u001b[0;34m\u001b[0m\u001b[0m\n\u001b[0;32m--> 412\u001b[0;31m         \u001b[0msuper\u001b[0m\u001b[0;34m(\u001b[0m\u001b[0mWidget\u001b[0m\u001b[0;34m,\u001b[0m \u001b[0mself\u001b[0m\u001b[0;34m)\u001b[0m\u001b[0;34m.\u001b[0m\u001b[0m__init__\u001b[0m\u001b[0;34m(\u001b[0m\u001b[0;34m**\u001b[0m\u001b[0mkwargs\u001b[0m\u001b[0;34m)\u001b[0m\u001b[0;34m\u001b[0m\u001b[0;34m\u001b[0m\u001b[0m\n\u001b[0m\u001b[1;32m    413\u001b[0m \u001b[0;34m\u001b[0m\u001b[0m\n\u001b[1;32m    414\u001b[0m         \u001b[0mWidget\u001b[0m\u001b[0;34m.\u001b[0m\u001b[0m_call_widget_constructed\u001b[0m\u001b[0;34m(\u001b[0m\u001b[0mself\u001b[0m\u001b[0;34m)\u001b[0m\u001b[0;34m\u001b[0m\u001b[0;34m\u001b[0m\u001b[0m\n",
        "\u001b[0;32m/anaconda3/lib/python3.7/site-packages/traitlets/traitlets.py\u001b[0m in \u001b[0;36m__init__\u001b[0;34m(self, *args, **kwargs)\u001b[0m\n\u001b[1;32m    995\u001b[0m             \u001b[0;32mfor\u001b[0m \u001b[0mkey\u001b[0m\u001b[0;34m,\u001b[0m \u001b[0mvalue\u001b[0m \u001b[0;32min\u001b[0m \u001b[0mkwargs\u001b[0m\u001b[0;34m.\u001b[0m\u001b[0mitems\u001b[0m\u001b[0;34m(\u001b[0m\u001b[0;34m)\u001b[0m\u001b[0;34m:\u001b[0m\u001b[0;34m\u001b[0m\u001b[0;34m\u001b[0m\u001b[0m\n\u001b[1;32m    996\u001b[0m                 \u001b[0;32mif\u001b[0m \u001b[0mself\u001b[0m\u001b[0;34m.\u001b[0m\u001b[0mhas_trait\u001b[0m\u001b[0;34m(\u001b[0m\u001b[0mkey\u001b[0m\u001b[0;34m)\u001b[0m\u001b[0;34m:\u001b[0m\u001b[0;34m\u001b[0m\u001b[0;34m\u001b[0m\u001b[0m\n\u001b[0;32m--> 997\u001b[0;31m                     \u001b[0msetattr\u001b[0m\u001b[0;34m(\u001b[0m\u001b[0mself\u001b[0m\u001b[0;34m,\u001b[0m \u001b[0mkey\u001b[0m\u001b[0;34m,\u001b[0m \u001b[0mvalue\u001b[0m\u001b[0;34m)\u001b[0m\u001b[0;34m\u001b[0m\u001b[0;34m\u001b[0m\u001b[0m\n\u001b[0m\u001b[1;32m    998\u001b[0m                 \u001b[0;32melse\u001b[0m\u001b[0;34m:\u001b[0m\u001b[0;34m\u001b[0m\u001b[0;34m\u001b[0m\u001b[0m\n\u001b[1;32m    999\u001b[0m                     \u001b[0;31m# passthrough args that don't set traits to super\u001b[0m\u001b[0;34m\u001b[0m\u001b[0;34m\u001b[0m\u001b[0;34m\u001b[0m\u001b[0m\n",
        "\u001b[0;32m/anaconda3/lib/python3.7/site-packages/traitlets/traitlets.py\u001b[0m in \u001b[0;36m__set__\u001b[0;34m(self, obj, value)\u001b[0m\n\u001b[1;32m    583\u001b[0m             \u001b[0;32mraise\u001b[0m \u001b[0mTraitError\u001b[0m\u001b[0;34m(\u001b[0m\u001b[0;34m'The \"%s\" trait is read-only.'\u001b[0m \u001b[0;34m%\u001b[0m \u001b[0mself\u001b[0m\u001b[0;34m.\u001b[0m\u001b[0mname\u001b[0m\u001b[0;34m)\u001b[0m\u001b[0;34m\u001b[0m\u001b[0;34m\u001b[0m\u001b[0m\n\u001b[1;32m    584\u001b[0m         \u001b[0;32melse\u001b[0m\u001b[0;34m:\u001b[0m\u001b[0;34m\u001b[0m\u001b[0;34m\u001b[0m\u001b[0m\n\u001b[0;32m--> 585\u001b[0;31m             \u001b[0mself\u001b[0m\u001b[0;34m.\u001b[0m\u001b[0mset\u001b[0m\u001b[0;34m(\u001b[0m\u001b[0mobj\u001b[0m\u001b[0;34m,\u001b[0m \u001b[0mvalue\u001b[0m\u001b[0;34m)\u001b[0m\u001b[0;34m\u001b[0m\u001b[0;34m\u001b[0m\u001b[0m\n\u001b[0m\u001b[1;32m    586\u001b[0m \u001b[0;34m\u001b[0m\u001b[0m\n\u001b[1;32m    587\u001b[0m     \u001b[0;32mdef\u001b[0m \u001b[0m_validate\u001b[0m\u001b[0;34m(\u001b[0m\u001b[0mself\u001b[0m\u001b[0;34m,\u001b[0m \u001b[0mobj\u001b[0m\u001b[0;34m,\u001b[0m \u001b[0mvalue\u001b[0m\u001b[0;34m)\u001b[0m\u001b[0;34m:\u001b[0m\u001b[0;34m\u001b[0m\u001b[0;34m\u001b[0m\u001b[0m\n",
        "\u001b[0;32m/anaconda3/lib/python3.7/site-packages/traitlets/traitlets.py\u001b[0m in \u001b[0;36mset\u001b[0;34m(self, obj, value)\u001b[0m\n\u001b[1;32m    557\u001b[0m \u001b[0;34m\u001b[0m\u001b[0m\n\u001b[1;32m    558\u001b[0m     \u001b[0;32mdef\u001b[0m \u001b[0mset\u001b[0m\u001b[0;34m(\u001b[0m\u001b[0mself\u001b[0m\u001b[0;34m,\u001b[0m \u001b[0mobj\u001b[0m\u001b[0;34m,\u001b[0m \u001b[0mvalue\u001b[0m\u001b[0;34m)\u001b[0m\u001b[0;34m:\u001b[0m\u001b[0;34m\u001b[0m\u001b[0;34m\u001b[0m\u001b[0m\n\u001b[0;32m--> 559\u001b[0;31m         \u001b[0mnew_value\u001b[0m \u001b[0;34m=\u001b[0m \u001b[0mself\u001b[0m\u001b[0;34m.\u001b[0m\u001b[0m_validate\u001b[0m\u001b[0;34m(\u001b[0m\u001b[0mobj\u001b[0m\u001b[0;34m,\u001b[0m \u001b[0mvalue\u001b[0m\u001b[0;34m)\u001b[0m\u001b[0;34m\u001b[0m\u001b[0;34m\u001b[0m\u001b[0m\n\u001b[0m\u001b[1;32m    560\u001b[0m         \u001b[0;32mtry\u001b[0m\u001b[0;34m:\u001b[0m\u001b[0;34m\u001b[0m\u001b[0;34m\u001b[0m\u001b[0m\n\u001b[1;32m    561\u001b[0m             \u001b[0mold_value\u001b[0m \u001b[0;34m=\u001b[0m \u001b[0mobj\u001b[0m\u001b[0;34m.\u001b[0m\u001b[0m_trait_values\u001b[0m\u001b[0;34m[\u001b[0m\u001b[0mself\u001b[0m\u001b[0;34m.\u001b[0m\u001b[0mname\u001b[0m\u001b[0;34m]\u001b[0m\u001b[0;34m\u001b[0m\u001b[0;34m\u001b[0m\u001b[0m\n",
        "\u001b[0;32m/anaconda3/lib/python3.7/site-packages/traitlets/traitlets.py\u001b[0m in \u001b[0;36m_validate\u001b[0;34m(self, obj, value)\u001b[0m\n\u001b[1;32m    589\u001b[0m             \u001b[0;32mreturn\u001b[0m \u001b[0mvalue\u001b[0m\u001b[0;34m\u001b[0m\u001b[0;34m\u001b[0m\u001b[0m\n\u001b[1;32m    590\u001b[0m         \u001b[0;32mif\u001b[0m \u001b[0mhasattr\u001b[0m\u001b[0;34m(\u001b[0m\u001b[0mself\u001b[0m\u001b[0;34m,\u001b[0m \u001b[0;34m'validate'\u001b[0m\u001b[0;34m)\u001b[0m\u001b[0;34m:\u001b[0m\u001b[0;34m\u001b[0m\u001b[0;34m\u001b[0m\u001b[0m\n\u001b[0;32m--> 591\u001b[0;31m             \u001b[0mvalue\u001b[0m \u001b[0;34m=\u001b[0m \u001b[0mself\u001b[0m\u001b[0;34m.\u001b[0m\u001b[0mvalidate\u001b[0m\u001b[0;34m(\u001b[0m\u001b[0mobj\u001b[0m\u001b[0;34m,\u001b[0m \u001b[0mvalue\u001b[0m\u001b[0;34m)\u001b[0m\u001b[0;34m\u001b[0m\u001b[0;34m\u001b[0m\u001b[0m\n\u001b[0m\u001b[1;32m    592\u001b[0m         \u001b[0;32mif\u001b[0m \u001b[0mobj\u001b[0m\u001b[0;34m.\u001b[0m\u001b[0m_cross_validation_lock\u001b[0m \u001b[0;32mis\u001b[0m \u001b[0;32mFalse\u001b[0m\u001b[0;34m:\u001b[0m\u001b[0;34m\u001b[0m\u001b[0;34m\u001b[0m\u001b[0m\n\u001b[1;32m    593\u001b[0m             \u001b[0mvalue\u001b[0m \u001b[0;34m=\u001b[0m \u001b[0mself\u001b[0m\u001b[0;34m.\u001b[0m\u001b[0m_cross_validate\u001b[0m\u001b[0;34m(\u001b[0m\u001b[0mobj\u001b[0m\u001b[0;34m,\u001b[0m \u001b[0mvalue\u001b[0m\u001b[0;34m)\u001b[0m\u001b[0;34m\u001b[0m\u001b[0;34m\u001b[0m\u001b[0m\n",
        "\u001b[0;32m/anaconda3/lib/python3.7/site-packages/traitlets/traitlets.py\u001b[0m in \u001b[0;36mvalidate\u001b[0;34m(self, obj, value)\u001b[0m\n\u001b[1;32m   1675\u001b[0m             \u001b[0;32mreturn\u001b[0m \u001b[0mvalue\u001b[0m\u001b[0;34m\u001b[0m\u001b[0;34m\u001b[0m\u001b[0m\n\u001b[1;32m   1676\u001b[0m         \u001b[0;32melse\u001b[0m\u001b[0;34m:\u001b[0m\u001b[0;34m\u001b[0m\u001b[0;34m\u001b[0m\u001b[0m\n\u001b[0;32m-> 1677\u001b[0;31m             \u001b[0mself\u001b[0m\u001b[0;34m.\u001b[0m\u001b[0merror\u001b[0m\u001b[0;34m(\u001b[0m\u001b[0mobj\u001b[0m\u001b[0;34m,\u001b[0m \u001b[0mvalue\u001b[0m\u001b[0;34m)\u001b[0m\u001b[0;34m\u001b[0m\u001b[0;34m\u001b[0m\u001b[0m\n\u001b[0m\u001b[1;32m   1678\u001b[0m \u001b[0;34m\u001b[0m\u001b[0m\n\u001b[1;32m   1679\u001b[0m     \u001b[0;32mdef\u001b[0m \u001b[0minfo\u001b[0m\u001b[0;34m(\u001b[0m\u001b[0mself\u001b[0m\u001b[0;34m)\u001b[0m\u001b[0;34m:\u001b[0m\u001b[0;34m\u001b[0m\u001b[0;34m\u001b[0m\u001b[0m\n",
        "\u001b[0;32m/anaconda3/lib/python3.7/site-packages/traitlets/traitlets.py\u001b[0m in \u001b[0;36merror\u001b[0;34m(self, obj, value)\u001b[0m\n\u001b[1;32m   1522\u001b[0m                 \u001b[0;34m%\u001b[0m \u001b[0;34m(\u001b[0m\u001b[0mself\u001b[0m\u001b[0;34m.\u001b[0m\u001b[0mname\u001b[0m\u001b[0;34m,\u001b[0m \u001b[0mself\u001b[0m\u001b[0;34m.\u001b[0m\u001b[0minfo\u001b[0m\u001b[0;34m(\u001b[0m\u001b[0;34m)\u001b[0m\u001b[0;34m,\u001b[0m \u001b[0mmsg\u001b[0m\u001b[0;34m)\u001b[0m\u001b[0;34m\u001b[0m\u001b[0;34m\u001b[0m\u001b[0m\n\u001b[1;32m   1523\u001b[0m \u001b[0;34m\u001b[0m\u001b[0m\n\u001b[0;32m-> 1524\u001b[0;31m         \u001b[0;32mraise\u001b[0m \u001b[0mTraitError\u001b[0m\u001b[0;34m(\u001b[0m\u001b[0me\u001b[0m\u001b[0;34m)\u001b[0m\u001b[0;34m\u001b[0m\u001b[0;34m\u001b[0m\u001b[0m\n\u001b[0m\u001b[1;32m   1525\u001b[0m \u001b[0;34m\u001b[0m\u001b[0m\n\u001b[1;32m   1526\u001b[0m \u001b[0;34m\u001b[0m\u001b[0m\n",
        "\u001b[0;31mTraitError\u001b[0m: The 'child' trait of a Popup instance must be a DOMWidget or None, but a value of class 'str' (i.e. 'Host: Tania Allard Place: Bellas Artes') was specified."
       ]
      }
     ],
     "persistentId": "229dfb64-a734-43ee-95cb-f7abe0a2e484",
     "text": "def create_map():\n    center = (19.4352, -99.1412)\n    m = Map(center=center,\n                  zoom=11, dragging=True,\n                  touch_zoom=True)\n    get_markers(m)\n    return m\n    \n    \ndef get_markers(m):\n    for place in locations:\n        coord = (place['location']['lon'], -place['location']['lat'])\n        marker = Marker(location=coord, draggable=False)\n        m.add_layer(marker);\n        add_popup(place, coord)\n        \ndef add_popup(place, coord):\n    message = f\"Host: {place.get('host')} Place: {place['name']}\"\n    popup = Popup(location=coord,\n                 child=message,\n                 close_button=True,\n                 close_on_escape_key=True)\n    m.add_layer(popup)\n        \ncreate_map()"
    },
    "executionTime": "2019-12-16T14:49:26.612Z"
   },
   {
    "cell": {
     "executionCount": 65,
     "executionEventId": "75f11212-056a-4198-94a9-b9e15374c48c",
     "hasError": true,
     "id": "c47cb284-f183-4fa8-b1ae-f3067f084f0f",
     "outputs": [
      {
       "ename": "NameError",
       "evalue": "name 'HTML' is not defined",
       "output_type": "error",
       "traceback": [
        "\u001b[0;31m---------------------------------------------------------------------------\u001b[0m",
        "\u001b[0;31mNameError\u001b[0m                                 Traceback (most recent call last)",
        "\u001b[0;32m<ipython-input-65-b6be7685f342>\u001b[0m in \u001b[0;36m<module>\u001b[0;34m\u001b[0m\n\u001b[1;32m     24\u001b[0m     \u001b[0mm\u001b[0m\u001b[0;34m.\u001b[0m\u001b[0madd_layer\u001b[0m\u001b[0;34m(\u001b[0m\u001b[0mpopup\u001b[0m\u001b[0;34m)\u001b[0m\u001b[0;34m\u001b[0m\u001b[0;34m\u001b[0m\u001b[0m\n\u001b[1;32m     25\u001b[0m \u001b[0;34m\u001b[0m\u001b[0m\n\u001b[0;32m---> 26\u001b[0;31m \u001b[0mcreate_map\u001b[0m\u001b[0;34m(\u001b[0m\u001b[0;34m)\u001b[0m\u001b[0;34m\u001b[0m\u001b[0;34m\u001b[0m\u001b[0m\n\u001b[0m",
        "\u001b[0;32m<ipython-input-65-b6be7685f342>\u001b[0m in \u001b[0;36mcreate_map\u001b[0;34m()\u001b[0m\n\u001b[1;32m      4\u001b[0m                   \u001b[0mzoom\u001b[0m\u001b[0;34m=\u001b[0m\u001b[0;36m11\u001b[0m\u001b[0;34m,\u001b[0m \u001b[0mdragging\u001b[0m\u001b[0;34m=\u001b[0m\u001b[0;32mTrue\u001b[0m\u001b[0;34m,\u001b[0m\u001b[0;34m\u001b[0m\u001b[0;34m\u001b[0m\u001b[0m\n\u001b[1;32m      5\u001b[0m                   touch_zoom=True)\n\u001b[0;32m----> 6\u001b[0;31m     \u001b[0mget_markers\u001b[0m\u001b[0;34m(\u001b[0m\u001b[0mm\u001b[0m\u001b[0;34m)\u001b[0m\u001b[0;34m\u001b[0m\u001b[0;34m\u001b[0m\u001b[0m\n\u001b[0m\u001b[1;32m      7\u001b[0m     \u001b[0;32mreturn\u001b[0m \u001b[0mm\u001b[0m\u001b[0;34m\u001b[0m\u001b[0;34m\u001b[0m\u001b[0m\n\u001b[1;32m      8\u001b[0m \u001b[0;34m\u001b[0m\u001b[0m\n",
        "\u001b[0;32m<ipython-input-65-b6be7685f342>\u001b[0m in \u001b[0;36mget_markers\u001b[0;34m(m)\u001b[0m\n\u001b[1;32m     13\u001b[0m         \u001b[0mmarker\u001b[0m \u001b[0;34m=\u001b[0m \u001b[0mMarker\u001b[0m\u001b[0;34m(\u001b[0m\u001b[0mlocation\u001b[0m\u001b[0;34m=\u001b[0m\u001b[0mcoord\u001b[0m\u001b[0;34m,\u001b[0m \u001b[0mdraggable\u001b[0m\u001b[0;34m=\u001b[0m\u001b[0;32mFalse\u001b[0m\u001b[0;34m)\u001b[0m\u001b[0;34m\u001b[0m\u001b[0;34m\u001b[0m\u001b[0m\n\u001b[1;32m     14\u001b[0m         \u001b[0mm\u001b[0m\u001b[0;34m.\u001b[0m\u001b[0madd_layer\u001b[0m\u001b[0;34m(\u001b[0m\u001b[0mmarker\u001b[0m\u001b[0;34m)\u001b[0m\u001b[0;34m;\u001b[0m\u001b[0;34m\u001b[0m\u001b[0;34m\u001b[0m\u001b[0m\n\u001b[0;32m---> 15\u001b[0;31m         \u001b[0madd_popup\u001b[0m\u001b[0;34m(\u001b[0m\u001b[0mplace\u001b[0m\u001b[0;34m,\u001b[0m \u001b[0mcoord\u001b[0m\u001b[0;34m)\u001b[0m\u001b[0;34m\u001b[0m\u001b[0;34m\u001b[0m\u001b[0m\n\u001b[0m\u001b[1;32m     16\u001b[0m \u001b[0;34m\u001b[0m\u001b[0m\n\u001b[1;32m     17\u001b[0m \u001b[0;32mdef\u001b[0m \u001b[0madd_popup\u001b[0m\u001b[0;34m(\u001b[0m\u001b[0mplace\u001b[0m\u001b[0;34m,\u001b[0m \u001b[0mcoord\u001b[0m\u001b[0;34m)\u001b[0m\u001b[0;34m:\u001b[0m\u001b[0;34m\u001b[0m\u001b[0;34m\u001b[0m\u001b[0m\n",
        "\u001b[0;32m<ipython-input-65-b6be7685f342>\u001b[0m in \u001b[0;36madd_popup\u001b[0;34m(place, coord)\u001b[0m\n\u001b[1;32m     16\u001b[0m \u001b[0;34m\u001b[0m\u001b[0m\n\u001b[1;32m     17\u001b[0m \u001b[0;32mdef\u001b[0m \u001b[0madd_popup\u001b[0m\u001b[0;34m(\u001b[0m\u001b[0mplace\u001b[0m\u001b[0;34m,\u001b[0m \u001b[0mcoord\u001b[0m\u001b[0;34m)\u001b[0m\u001b[0;34m:\u001b[0m\u001b[0;34m\u001b[0m\u001b[0;34m\u001b[0m\u001b[0m\n\u001b[0;32m---> 18\u001b[0;31m     \u001b[0mmessage\u001b[0m \u001b[0;34m=\u001b[0m \u001b[0mHTML\u001b[0m\u001b[0;34m(\u001b[0m\u001b[0;34m)\u001b[0m\u001b[0;34m\u001b[0m\u001b[0;34m\u001b[0m\u001b[0m\n\u001b[0m\u001b[1;32m     19\u001b[0m     \u001b[0mmessage\u001b[0m\u001b[0;34m.\u001b[0m\u001b[0mvalue\u001b[0m \u001b[0;34m=\u001b[0m \u001b[0;34mf\"Host: {place.get('host')} Place: {place['name']}\"\u001b[0m\u001b[0;34m\u001b[0m\u001b[0;34m\u001b[0m\u001b[0m\n\u001b[1;32m     20\u001b[0m     popup = Popup(location=coord,\n",
        "\u001b[0;31mNameError\u001b[0m: name 'HTML' is not defined"
       ]
      }
     ],
     "persistentId": "229dfb64-a734-43ee-95cb-f7abe0a2e484",
     "text": "def create_map():\n    center = (19.4352, -99.1412)\n    m = Map(center=center,\n                  zoom=11, dragging=True,\n                  touch_zoom=True)\n    get_markers(m)\n    return m\n    \n    \ndef get_markers(m):\n    for place in locations:\n        coord = (place['location']['lon'], -place['location']['lat'])\n        marker = Marker(location=coord, draggable=False)\n        m.add_layer(marker);\n        add_popup(place, coord)\n        \ndef add_popup(place, coord):\n    message = HTML()\n    message.value = f\"Host: {place.get('host')} Place: {place['name']}\"\n    popup = Popup(location=coord,\n                 child=message,\n                 close_button=True,\n                 close_on_escape_key=True)\n    m.add_layer(popup)\n        \ncreate_map()"
    },
    "executionTime": "2019-12-16T14:50:10.547Z"
   },
   {
    "cell": {
     "executionCount": 66,
     "executionEventId": "7f7c3b47-e1d0-4301-8184-292360c41118",
     "hasError": false,
     "id": "c47cb284-f183-4fa8-b1ae-f3067f084f0f",
     "outputs": [
      {
       "data": {
        "application/vnd.jupyter.widget-view+json": {
         "model_id": "d534562a9e1e4410be88dad324f1e7c8",
         "version_major": 2,
         "version_minor": 0
        },
        "text/plain": "Map(basemap={'url': 'https://{s}.tile.openstreetmap.org/{z}/{x}/{y}.png', 'max_zoom': 19, 'attribution': 'Map …"
       },
       "metadata": {},
       "output_type": "display_data"
      }
     ],
     "persistentId": "229dfb64-a734-43ee-95cb-f7abe0a2e484",
     "text": "def create_map():\n    center = (19.4352, -99.1412)\n    m = Map(center=center,\n                  zoom=11, dragging=True,\n                  touch_zoom=True)\n    get_markers(m)\n    return m\n    \n    \ndef get_markers(m):\n    for place in locations:\n        coord = (place['location']['lon'], -place['location']['lat'])\n        marker = Marker(location=coord, draggable=False)\n        m.add_layer(marker);\n        add_popup(place, coord)\n        \ndef add_popup(place, coord):\n    message = widgets.HTML()\n    message.value = f\"Host: {place.get('host')} Place: {place['name']}\"\n    popup = Popup(location=coord,\n                 child=message,\n                 close_button=True,\n                 close_on_escape_key=True)\n    m.add_layer(popup)\n        \ncreate_map()"
    },
    "executionTime": "2019-12-16T14:50:29.583Z"
   },
   {
    "cell": {
     "executionCount": 67,
     "executionEventId": "d3105c22-1fd2-4567-b9f0-148431f2dea4",
     "hasError": false,
     "id": "c47cb284-f183-4fa8-b1ae-f3067f084f0f",
     "outputs": [
      {
       "data": {
        "application/vnd.jupyter.widget-view+json": {
         "model_id": "bf37197444484a319f2f036af02b9235",
         "version_major": 2,
         "version_minor": 0
        },
        "text/plain": "Map(basemap={'url': 'https://{s}.tile.openstreetmap.org/{z}/{x}/{y}.png', 'max_zoom': 19, 'attribution': 'Map …"
       },
       "metadata": {},
       "output_type": "display_data"
      }
     ],
     "persistentId": "229dfb64-a734-43ee-95cb-f7abe0a2e484",
     "text": "def create_map():\n    center = (19.4352, -99.1412)\n    m = Map(center=center,\n                  zoom=11, dragging=True,\n                  touch_zoom=True)\n    get_markers(m)\n    return m\n    \n    \ndef get_markers(m):\n    for place in locations:\n        coord = (place['location']['lon'], -place['location']['lat'])\n        marker = Marker(location=coord, draggable=False)\n        m.add_layer(marker);\n        add_popup(place, coord, m)\n        \ndef add_popup(place, coord, m):\n    message = widgets.HTML()\n    message.value = f\"Host: {place.get('host')} Place: {place['name']}\"\n    popup = Popup(location=coord,\n                 child=message,\n                 close_button=True,\n                 close_on_escape_key=True)\n    m.add_layer(popup)\n        \ncreate_map()"
    },
    "executionTime": "2019-12-16T14:50:41.066Z"
   },
   {
    "cell": {
     "executionCount": 68,
     "executionEventId": "fe304846-b9d0-4153-9d84-a1faa2cd2ff1",
     "hasError": false,
     "id": "c47cb284-f183-4fa8-b1ae-f3067f084f0f",
     "outputs": [
      {
       "data": {
        "application/vnd.jupyter.widget-view+json": {
         "model_id": "765d730b4148474fa8c2d18f96c980a1",
         "version_major": 2,
         "version_minor": 0
        },
        "text/plain": "Map(basemap={'url': 'https://{s}.tile.openstreetmap.org/{z}/{x}/{y}.png', 'max_zoom': 19, 'attribution': 'Map …"
       },
       "metadata": {},
       "output_type": "display_data"
      }
     ],
     "persistentId": "229dfb64-a734-43ee-95cb-f7abe0a2e484",
     "text": "def create_map():\n    center = (19.4352, -99.1412)\n    m = Map(center=center,\n                  zoom=11, dragging=True,\n                  touch_zoom=True)\n    get_markers(m)\n    return m\n    \n    \ndef get_markers(m):\n    for place in locations:\n        coord = (place['location']['lon'], -place['location']['lat'])\n        marker = Marker(location=coord, draggable=False)\n        m.add_layer(marker);\n        add_popup(place, coord, m)\n        \ndef add_popup(place, coord, m):\n    message = widgets.HTML()\n    message.value = f\"Host: {place.get('host')} \\n Place: {place['name']}\"\n    popup = Popup(location=coord,\n                 child=message,\n                 close_button=True,\n                 close_on_escape_key=True)\n    m.add_layer(popup)\n        \ncreate_map()"
    },
    "executionTime": "2019-12-16T14:50:55.733Z"
   },
   {
    "cell": {
     "executionCount": 69,
     "executionEventId": "47db0310-819e-4edd-8afc-f70f57c93acb",
     "hasError": false,
     "id": "c47cb284-f183-4fa8-b1ae-f3067f084f0f",
     "outputs": [
      {
       "data": {
        "application/vnd.jupyter.widget-view+json": {
         "model_id": "762c46f080d8457f9da219316d58b259",
         "version_major": 2,
         "version_minor": 0
        },
        "text/plain": "Map(basemap={'url': 'https://{s}.tile.openstreetmap.org/{z}/{x}/{y}.png', 'max_zoom': 19, 'attribution': 'Map …"
       },
       "metadata": {},
       "output_type": "display_data"
      }
     ],
     "persistentId": "229dfb64-a734-43ee-95cb-f7abe0a2e484",
     "text": "def create_map():\n    center = (19.4352, -99.1412)\n    m = Map(center=center,\n                  zoom=11, dragging=True,\n                  touch_zoom=True)\n    get_markers(m)\n    return m\n    \n    \ndef get_markers(m):\n    for place in locations:\n        coord = (place['location']['lon'], -place['location']['lat'])\n        marker = Marker(location=coord, draggable=False)\n        m.add_layer(marker);\n        add_popup(place, coord, m)\n        \ndef add_popup(place, coord, m):\n    message = widgets.HTML()\n    message.value = f\"Host: {place.get('host')} \\n\\n Place: {place['name']}\"\n    popup = Popup(location=coord,\n                 child=message,\n                 close_button=True,\n                 close_on_escape_key=True)\n    m.add_layer(popup)\n        \ncreate_map()"
    },
    "executionTime": "2019-12-16T14:51:05.896Z"
   },
   {
    "cell": {
     "executionCount": 70,
     "executionEventId": "af020d4e-c6c3-47eb-ab04-5550575da845",
     "hasError": false,
     "id": "c47cb284-f183-4fa8-b1ae-f3067f084f0f",
     "outputs": [
      {
       "data": {
        "application/vnd.jupyter.widget-view+json": {
         "model_id": "18769d97f2844cc88df2d9ef0df723d1",
         "version_major": 2,
         "version_minor": 0
        },
        "text/plain": "Map(basemap={'url': 'https://{s}.tile.openstreetmap.org/{z}/{x}/{y}.png', 'max_zoom': 19, 'attribution': 'Map …"
       },
       "metadata": {},
       "output_type": "display_data"
      }
     ],
     "persistentId": "229dfb64-a734-43ee-95cb-f7abe0a2e484",
     "text": "def create_map():\n    center = (19.4352, -99.1412)\n    m = Map(center=center,\n                  zoom=11, dragging=True,\n                  touch_zoom=True)\n    get_markers(m)\n    return m\n    \n    \ndef get_markers(m):\n    for place in locations:\n        coord = (place['location']['lon'], -place['location']['lat'])\n        marker = Marker(location=coord, draggable=False)\n        m.add_layer(marker);\n        add_popup(place, coord, m)\n        \ndef add_popup(place, coord, m):\n    message = widgets.HTML()\n    message.value = f\"Host: {place.get('host')} <br> Place: {place['name']}\"\n    popup = Popup(location=coord,\n                 child=message,\n                 close_button=True,\n                 close_on_escape_key=True)\n    m.add_layer(popup)\n        \ncreate_map()"
    },
    "executionTime": "2019-12-16T14:51:19.980Z"
   },
   {
    "cell": {
     "executionCount": 71,
     "executionEventId": "a0e984f5-0008-4606-b699-2d9f5d3d10e2",
     "hasError": false,
     "id": "c47cb284-f183-4fa8-b1ae-f3067f084f0f",
     "outputs": [
      {
       "data": {
        "application/vnd.jupyter.widget-view+json": {
         "model_id": "9d20e4cce45548a8be49f3e4d03c90c6",
         "version_major": 2,
         "version_minor": 0
        },
        "text/plain": "Map(basemap={'url': 'https://{s}.tile.openstreetmap.org/{z}/{x}/{y}.png', 'max_zoom': 19, 'attribution': 'Map …"
       },
       "metadata": {},
       "output_type": "display_data"
      }
     ],
     "persistentId": "229dfb64-a734-43ee-95cb-f7abe0a2e484",
     "text": "def create_map():\n    center = (19.4352, -99.1412)\n    m = Map(center=center,\n                  zoom=11, dragging=True,\n                  touch_zoom=True)\n    get_markers(m)\n    return m\n    \n    \ndef get_markers(m):\n    for place in locations:\n        coord = (place['location']['lon'], -place['location']['lat'])\n        marker = Marker(location=coord, draggable=False)\n        m.add_layer(marker);\n        add_popup(place, coord, m)\n        \ndef add_popup(place, coord, m):\n    message = widgets.HTML()\n    message.value = f\"Host: {place.get('host')} <br> Place: {place['name']}\"\n    popup = Popup(location=coord,\n                 child=message,\n                 close_button=False,\n                 close_on_escape_key=True)\n    m.add_layer(popup)\n        \ncreate_map()"
    },
    "executionTime": "2019-12-16T14:52:21.623Z"
   },
   {
    "cell": {
     "executionCount": 72,
     "executionEventId": "b8ae0e25-24d7-4fe5-b64b-bd09719a2f9b",
     "hasError": false,
     "id": "c47cb284-f183-4fa8-b1ae-f3067f084f0f",
     "outputs": [
      {
       "data": {
        "application/vnd.jupyter.widget-view+json": {
         "model_id": "5e73f435ef3a4731a1f9d13bab6741e0",
         "version_major": 2,
         "version_minor": 0
        },
        "text/plain": "Map(basemap={'url': 'https://{s}.tile.openstreetmap.org/{z}/{x}/{y}.png', 'max_zoom': 19, 'attribution': 'Map …"
       },
       "metadata": {},
       "output_type": "display_data"
      }
     ],
     "persistentId": "229dfb64-a734-43ee-95cb-f7abe0a2e484",
     "text": "def create_map():\n    center = (19.4352, -99.1412)\n    m = Map(center=center,\n                  zoom=11, dragging=True,\n                  touch_zoom=True)\n    get_markers(m)\n    return m\n    \n    \ndef get_markers(m):\n    for place in locations:\n        coord = (place['location']['lon'], -place['location']['lat'])\n        marker = Marker(location=coord, draggable=False)\n        m.add_layer(marker);\n        add_popup(place, coord, m)\n        \ndef add_popup(place, coord, m):\n    message = widgets.HTML()\n    message.value = f\"Host: {place.get('host')} <br> Place: {place['name']}\"\n    popup = Popup(location=coord,\n                 child=message,\n                 close_button=True,\n                  auto_close=False,\n                 close_on_escape_key=True)\n    m.add_layer(popup)\n        \ncreate_map()"
    },
    "executionTime": "2019-12-16T14:52:39.853Z"
   },
   {
    "cell": {
     "executionCount": 73,
     "executionEventId": "032ad4fb-a118-4926-875f-594e07101f2e",
     "hasError": false,
     "id": "c47cb284-f183-4fa8-b1ae-f3067f084f0f",
     "outputs": [
      {
       "data": {
        "application/vnd.jupyter.widget-view+json": {
         "model_id": "b69fb56ee6844ce2a1ee5973f2d188a6",
         "version_major": 2,
         "version_minor": 0
        },
        "text/plain": "Map(basemap={'url': 'https://{s}.tile.openstreetmap.org/{z}/{x}/{y}.png', 'max_zoom': 19, 'attribution': 'Map …"
       },
       "metadata": {},
       "output_type": "display_data"
      }
     ],
     "persistentId": "229dfb64-a734-43ee-95cb-f7abe0a2e484",
     "text": "def create_map():\n    center = (19.4352, -99.1412)\n    m = Map(center=center,\n                  zoom=11, dragging=True,\n                  touch_zoom=True)\n    get_markers(m)\n    return m\n    \n    \ndef get_markers(m):\n    for place in locations:\n        coord = (place['location']['lon'], -place['location']['lat'])\n        marker = Marker(location=coord, draggable=False)\n        m.add_layer(marker);\n        add_popup(place, coord, m)\n        \ndef add_popup(place, coord, m):\n    message = widgets.HTML()\n    message.value = f\"Host: {place.get('host')} <br> Place: {place['name']}\"\n    popup = Popup(location=coord,\n                 child=message,\n                 close_button=True,\n                  auto_close=False,\n                 close_on_escape_key=True)\n    m.add_layer(popup)\n        \ncreate_map()"
    },
    "executionTime": "2019-12-16T14:54:11.273Z"
   },
   {
    "cell": {
     "executionCount": 74,
     "executionEventId": "925bd2d0-4d89-4b7c-9eda-7d70edd557b2",
     "hasError": false,
     "id": "c47cb284-f183-4fa8-b1ae-f3067f084f0f",
     "outputs": [
      {
       "data": {
        "application/vnd.jupyter.widget-view+json": {
         "model_id": "176cb6c1cc984094b0c99187044a76e2",
         "version_major": 2,
         "version_minor": 0
        },
        "text/plain": "Map(basemap={'url': 'https://{s}.tile.openstreetmap.org/{z}/{x}/{y}.png', 'max_zoom': 19, 'attribution': 'Map …"
       },
       "metadata": {},
       "output_type": "display_data"
      }
     ],
     "persistentId": "229dfb64-a734-43ee-95cb-f7abe0a2e484",
     "text": "def create_map():\n    center = (19.4352, -99.1412)\n    m = Map(center=center,\n                  zoom=11, dragging=True,\n                  touch_zoom=True,\n                   close_popup_on_click=False)\n    get_markers(m)\n    return m\n    \n    \ndef get_markers(m):\n    for place in locations:\n        coord = (place['location']['lon'], -place['location']['lat'])\n        marker = Marker(location=coord, draggable=False)\n        m.add_layer(marker);\n        add_popup(place, coord, m)\n        \ndef add_popup(place, coord, m):\n    message = widgets.HTML()\n    message.value = f\"Host: {place.get('host')} <br> Place: {place['name']}\"\n    popup = Popup(location=coord,\n                 child=message,\n                 close_button=True,\n                  auto_close=False,\n                 close_on_escape_key=True)\n    m.add_layer(popup)\n        \ncreate_map()"
    },
    "executionTime": "2019-12-16T14:54:46.964Z"
   },
   {
    "cell": {
     "executionCount": 75,
     "executionEventId": "d85b082c-a399-4c67-a3e1-e0df54333339",
     "hasError": true,
     "id": "c47cb284-f183-4fa8-b1ae-f3067f084f0f",
     "outputs": [
      {
       "ename": "NameError",
       "evalue": "name 'IntSlider' is not defined",
       "output_type": "error",
       "traceback": [
        "\u001b[0;31m---------------------------------------------------------------------------\u001b[0m",
        "\u001b[0;31mNameError\u001b[0m                                 Traceback (most recent call last)",
        "\u001b[0;32m<ipython-input-75-9b1e1891fbb2>\u001b[0m in \u001b[0;36m<module>\u001b[0;34m\u001b[0m\n\u001b[1;32m     27\u001b[0m     \u001b[0mm\u001b[0m\u001b[0;34m.\u001b[0m\u001b[0madd_layer\u001b[0m\u001b[0;34m(\u001b[0m\u001b[0mpopup\u001b[0m\u001b[0;34m)\u001b[0m\u001b[0;34m\u001b[0m\u001b[0;34m\u001b[0m\u001b[0m\n\u001b[1;32m     28\u001b[0m \u001b[0;34m\u001b[0m\u001b[0m\n\u001b[0;32m---> 29\u001b[0;31m \u001b[0mcreate_map\u001b[0m\u001b[0;34m(\u001b[0m\u001b[0;34m)\u001b[0m\u001b[0;34m\u001b[0m\u001b[0;34m\u001b[0m\u001b[0m\n\u001b[0m",
        "\u001b[0;32m<ipython-input-75-9b1e1891fbb2>\u001b[0m in \u001b[0;36mcreate_map\u001b[0;34m()\u001b[0m\n\u001b[1;32m      5\u001b[0m                   \u001b[0mtouch_zoom\u001b[0m\u001b[0;34m=\u001b[0m\u001b[0;32mTrue\u001b[0m\u001b[0;34m,\u001b[0m\u001b[0;34m\u001b[0m\u001b[0;34m\u001b[0m\u001b[0m\n\u001b[1;32m      6\u001b[0m                    close_popup_on_click=False)\n\u001b[0;32m----> 7\u001b[0;31m     \u001b[0mzoom_slider\u001b[0m \u001b[0;34m=\u001b[0m \u001b[0mIntSlider\u001b[0m\u001b[0;34m(\u001b[0m\u001b[0mdescription\u001b[0m\u001b[0;34m=\u001b[0m\u001b[0;34m'Zoom level:'\u001b[0m\u001b[0;34m,\u001b[0m \u001b[0mmin\u001b[0m\u001b[0;34m=\u001b[0m\u001b[0;36m0\u001b[0m\u001b[0;34m,\u001b[0m \u001b[0mmax\u001b[0m\u001b[0;34m=\u001b[0m\u001b[0;36m15\u001b[0m\u001b[0;34m,\u001b[0m \u001b[0mvalue\u001b[0m\u001b[0;34m=\u001b[0m\u001b[0;36m10\u001b[0m\u001b[0;34m)\u001b[0m\u001b[0;34m\u001b[0m\u001b[0;34m\u001b[0m\u001b[0m\n\u001b[0m\u001b[1;32m      8\u001b[0m     \u001b[0mget_markers\u001b[0m\u001b[0;34m(\u001b[0m\u001b[0mm\u001b[0m\u001b[0;34m)\u001b[0m\u001b[0;34m\u001b[0m\u001b[0;34m\u001b[0m\u001b[0m\n\u001b[1;32m      9\u001b[0m     \u001b[0;32mreturn\u001b[0m \u001b[0mm\u001b[0m\u001b[0;34m\u001b[0m\u001b[0;34m\u001b[0m\u001b[0m\n",
        "\u001b[0;31mNameError\u001b[0m: name 'IntSlider' is not defined"
       ]
      }
     ],
     "persistentId": "229dfb64-a734-43ee-95cb-f7abe0a2e484",
     "text": "def create_map():\n    center = (19.4352, -99.1412)\n    m = Map(center=center,\n                  zoom=11, dragging=True,\n                  touch_zoom=True,\n                   close_popup_on_click=False)\n    zoom_slider = IntSlider(description='Zoom level:', min=0, max=15, value=10)\n    get_markers(m)\n    return m\n    \n    \ndef get_markers(m):\n    for place in locations:\n        coord = (place['location']['lon'], -place['location']['lat'])\n        marker = Marker(location=coord, draggable=False)\n        m.add_layer(marker);\n        add_popup(place, coord, m)\n        \ndef add_popup(place, coord, m):\n    message = widgets.HTML()\n    message.value = f\"Host: {place.get('host')} <br> Place: {place['name']}\"\n    popup = Popup(location=coord,\n                 child=message,\n                 close_button=True,\n                  auto_close=False,\n                 close_on_escape_key=True)\n    m.add_layer(popup)\n        \ncreate_map()"
    },
    "executionTime": "2019-12-16T14:55:36.432Z"
   },
   {
    "cell": {
     "executionCount": 76,
     "executionEventId": "9893960b-37d4-4d95-9576-f147cd701448",
     "hasError": true,
     "id": "d5afaddc-1777-48f2-bf48-983139cea4de",
     "outputs": [
      {
       "ename": "ModuleNotFoundError",
       "evalue": "No module named 'IntSlider'",
       "output_type": "error",
       "traceback": [
        "\u001b[0;31m---------------------------------------------------------------------------\u001b[0m",
        "\u001b[0;31mModuleNotFoundError\u001b[0m                       Traceback (most recent call last)",
        "\u001b[0;32m<ipython-input-76-7966823fe512>\u001b[0m in \u001b[0;36m<module>\u001b[0;34m\u001b[0m\n\u001b[1;32m      1\u001b[0m \u001b[0;32mimport\u001b[0m \u001b[0mipyvuetify\u001b[0m \u001b[0;32mas\u001b[0m \u001b[0mv\u001b[0m\u001b[0;34m\u001b[0m\u001b[0;34m\u001b[0m\u001b[0m\n\u001b[0;32m----> 2\u001b[0;31m \u001b[0;32mimport\u001b[0m \u001b[0mipywidgets\u001b[0m \u001b[0;32mas\u001b[0m \u001b[0mwidgets\u001b[0m\u001b[0;34m,\u001b[0m \u001b[0mIntSlider\u001b[0m\u001b[0;34m\u001b[0m\u001b[0;34m\u001b[0m\u001b[0m\n\u001b[0m\u001b[1;32m      3\u001b[0m \u001b[0;32mfrom\u001b[0m \u001b[0mipyleaflet\u001b[0m \u001b[0;32mimport\u001b[0m \u001b[0mMap\u001b[0m\u001b[0;34m,\u001b[0m \u001b[0mMarker\u001b[0m\u001b[0;34m,\u001b[0m \u001b[0mPopup\u001b[0m\u001b[0;34m\u001b[0m\u001b[0;34m\u001b[0m\u001b[0m\n\u001b[1;32m      4\u001b[0m \u001b[0;32mimport\u001b[0m \u001b[0mjson\u001b[0m\u001b[0;34m\u001b[0m\u001b[0;34m\u001b[0m\u001b[0m\n\u001b[1;32m      5\u001b[0m \u001b[0;32mfrom\u001b[0m \u001b[0mpathlib\u001b[0m \u001b[0;32mimport\u001b[0m \u001b[0mPath\u001b[0m\u001b[0;34m\u001b[0m\u001b[0;34m\u001b[0m\u001b[0m\n",
        "\u001b[0;31mModuleNotFoundError\u001b[0m: No module named 'IntSlider'"
       ]
      }
     ],
     "persistentId": "1d60603d-be35-4d7c-9d4c-7e6f00d6aa8f",
     "text": "import ipyvuetify as v\nimport ipywidgets as widgets, IntSlider\nfrom ipyleaflet import Map, Marker, Popup\nimport json\nfrom pathlib import Path"
    },
    "executionTime": "2019-12-16T14:55:51.191Z"
   },
   {
    "cell": {
     "executionCount": 77,
     "executionEventId": "65e85e4c-aa82-4ce0-a445-154f0bb375a7",
     "hasError": false,
     "id": "d5afaddc-1777-48f2-bf48-983139cea4de",
     "outputs": [],
     "persistentId": "1d60603d-be35-4d7c-9d4c-7e6f00d6aa8f",
     "text": "import ipyvuetify as v\nfrom ipywidgets import IntSlider\nfrom ipyleaflet import Map, Marker, Popup\nimport json\nfrom pathlib import Path"
    },
    "executionTime": "2019-12-16T14:56:13.361Z"
   },
   {
    "cell": {
     "executionCount": 78,
     "executionEventId": "89e523b6-fa3e-4a0e-bfca-8a7303239a70",
     "hasError": false,
     "id": "c47cb284-f183-4fa8-b1ae-f3067f084f0f",
     "outputs": [
      {
       "data": {
        "application/vnd.jupyter.widget-view+json": {
         "model_id": "9c61007f4a3544eba47cca0569a6e631",
         "version_major": 2,
         "version_minor": 0
        },
        "text/plain": "Map(basemap={'url': 'https://{s}.tile.openstreetmap.org/{z}/{x}/{y}.png', 'max_zoom': 19, 'attribution': 'Map …"
       },
       "metadata": {},
       "output_type": "display_data"
      }
     ],
     "persistentId": "229dfb64-a734-43ee-95cb-f7abe0a2e484",
     "text": "def create_map():\n    center = (19.4352, -99.1412)\n    m = Map(center=center,\n                  zoom=11, dragging=True,\n                  touch_zoom=True,\n                   close_popup_on_click=False)\n    zoom_slider = IntSlider(description='Zoom level:', min=0, max=15, value=10)\n    get_markers(m)\n    return m\n    \n    \ndef get_markers(m):\n    for place in locations:\n        coord = (place['location']['lon'], -place['location']['lat'])\n        marker = Marker(location=coord, draggable=False)\n        m.add_layer(marker);\n        add_popup(place, coord, m)\n        \ndef add_popup(place, coord, m):\n    message = widgets.HTML()\n    message.value = f\"Host: {place.get('host')} <br> Place: {place['name']}\"\n    popup = Popup(location=coord,\n                 child=message,\n                 close_button=True,\n                  auto_close=False,\n                 close_on_escape_key=True)\n    m.add_layer(popup)\n        \ncreate_map()"
    },
    "executionTime": "2019-12-16T14:56:17.967Z"
   },
   {
    "cell": {
     "executionCount": 79,
     "executionEventId": "0381967b-0de8-42ab-b832-3ff6c2e27802",
     "hasError": false,
     "id": "d5afaddc-1777-48f2-bf48-983139cea4de",
     "outputs": [],
     "persistentId": "1d60603d-be35-4d7c-9d4c-7e6f00d6aa8f",
     "text": "import ipyvuetify as v\nfrom ipywidgets import IntSlider, jslink\nfrom ipyleaflet import Map, Marker, Popup\nimport json\nfrom pathlib import Path"
    },
    "executionTime": "2019-12-16T14:56:53.026Z"
   },
   {
    "cell": {
     "executionCount": 80,
     "executionEventId": "77f69133-8c6f-444c-9114-84f48dd0c309",
     "hasError": true,
     "id": "c47cb284-f183-4fa8-b1ae-f3067f084f0f",
     "outputs": [
      {
       "ename": "NameError",
       "evalue": "name 'WidgetControl' is not defined",
       "output_type": "error",
       "traceback": [
        "\u001b[0;31m---------------------------------------------------------------------------\u001b[0m",
        "\u001b[0;31mNameError\u001b[0m                                 Traceback (most recent call last)",
        "\u001b[0;32m<ipython-input-80-f51ad60236e9>\u001b[0m in \u001b[0;36m<module>\u001b[0;34m\u001b[0m\n\u001b[1;32m     31\u001b[0m     \u001b[0mm\u001b[0m\u001b[0;34m.\u001b[0m\u001b[0madd_layer\u001b[0m\u001b[0;34m(\u001b[0m\u001b[0mpopup\u001b[0m\u001b[0;34m)\u001b[0m\u001b[0;34m\u001b[0m\u001b[0;34m\u001b[0m\u001b[0m\n\u001b[1;32m     32\u001b[0m \u001b[0;34m\u001b[0m\u001b[0m\n\u001b[0;32m---> 33\u001b[0;31m \u001b[0mcreate_map\u001b[0m\u001b[0;34m(\u001b[0m\u001b[0;34m)\u001b[0m\u001b[0;34m\u001b[0m\u001b[0;34m\u001b[0m\u001b[0m\n\u001b[0m",
        "\u001b[0;32m<ipython-input-80-f51ad60236e9>\u001b[0m in \u001b[0;36mcreate_map\u001b[0;34m()\u001b[0m\n\u001b[1;32m      8\u001b[0m                             min=0, max=15, value=10)\n\u001b[1;32m      9\u001b[0m     \u001b[0mjslink\u001b[0m\u001b[0;34m(\u001b[0m\u001b[0;34m(\u001b[0m\u001b[0mzoom_slider\u001b[0m\u001b[0;34m,\u001b[0m \u001b[0;34m'value'\u001b[0m\u001b[0;34m)\u001b[0m\u001b[0;34m,\u001b[0m \u001b[0;34m(\u001b[0m\u001b[0mm\u001b[0m\u001b[0;34m,\u001b[0m \u001b[0;34m'zoom'\u001b[0m\u001b[0;34m)\u001b[0m\u001b[0;34m)\u001b[0m\u001b[0;34m\u001b[0m\u001b[0;34m\u001b[0m\u001b[0m\n\u001b[0;32m---> 10\u001b[0;31m     \u001b[0mzoom_control\u001b[0m \u001b[0;34m=\u001b[0m \u001b[0mWidgetControl\u001b[0m\u001b[0;34m(\u001b[0m\u001b[0mwidget\u001b[0m\u001b[0;34m=\u001b[0m\u001b[0mzoom_slider\u001b[0m\u001b[0;34m,\u001b[0m \u001b[0mposition\u001b[0m\u001b[0;34m=\u001b[0m\u001b[0;34m'topright'\u001b[0m\u001b[0;34m)\u001b[0m\u001b[0;34m\u001b[0m\u001b[0;34m\u001b[0m\u001b[0m\n\u001b[0m\u001b[1;32m     11\u001b[0m     \u001b[0mm\u001b[0m\u001b[0;34m.\u001b[0m\u001b[0madd_control\u001b[0m\u001b[0;34m(\u001b[0m\u001b[0mzoom_control\u001b[0m\u001b[0;34m)\u001b[0m\u001b[0;34m\u001b[0m\u001b[0;34m\u001b[0m\u001b[0m\n\u001b[1;32m     12\u001b[0m     \u001b[0mget_markers\u001b[0m\u001b[0;34m(\u001b[0m\u001b[0mm\u001b[0m\u001b[0;34m)\u001b[0m\u001b[0;34m\u001b[0m\u001b[0;34m\u001b[0m\u001b[0m\n",
        "\u001b[0;31mNameError\u001b[0m: name 'WidgetControl' is not defined"
       ]
      }
     ],
     "persistentId": "229dfb64-a734-43ee-95cb-f7abe0a2e484",
     "text": "def create_map():\n    center = (19.4352, -99.1412)\n    m = Map(center=center,\n                  zoom=11, dragging=True,\n                  touch_zoom=True,\n                   close_popup_on_click=False)\n    zoom_slider = IntSlider(description='Zoom level:', \n                            min=0, max=15, value=10)\n    jslink((zoom_slider, 'value'), (m, 'zoom'))\n    zoom_control = WidgetControl(widget=zoom_slider, position='topright')\n    m.add_control(zoom_control)\n    get_markers(m)\n    return m\n    \n    \ndef get_markers(m):\n    for place in locations:\n        coord = (place['location']['lon'], -place['location']['lat'])\n        marker = Marker(location=coord, draggable=False)\n        m.add_layer(marker);\n        add_popup(place, coord, m)\n        \ndef add_popup(place, coord, m):\n    message = widgets.HTML()\n    message.value = f\"Host: {place.get('host')} <br> Place: {place['name']}\"\n    popup = Popup(location=coord,\n                 child=message,\n                 close_button=True,\n                  auto_close=False,\n                 close_on_escape_key=True)\n    m.add_layer(popup)\n        \ncreate_map()"
    },
    "executionTime": "2019-12-16T14:57:38.662Z"
   },
   {
    "cell": {
     "executionCount": 81,
     "executionEventId": "ebc8c7f3-86eb-402c-9ff6-ad2658385b55",
     "hasError": true,
     "id": "d5afaddc-1777-48f2-bf48-983139cea4de",
     "outputs": [
      {
       "ename": "SyntaxError",
       "evalue": "invalid syntax (<ipython-input-81-9ae30fee407a>, line 3)",
       "output_type": "error",
       "traceback": [
        "\u001b[0;36m  File \u001b[0;32m\"<ipython-input-81-9ae30fee407a>\"\u001b[0;36m, line \u001b[0;32m3\u001b[0m\n\u001b[0;31m    from ipyleaflet import Map, Marker, Popupm WidgetControl\u001b[0m\n\u001b[0m                                                           ^\u001b[0m\n\u001b[0;31mSyntaxError\u001b[0m\u001b[0;31m:\u001b[0m invalid syntax\n"
       ]
      }
     ],
     "persistentId": "1d60603d-be35-4d7c-9d4c-7e6f00d6aa8f",
     "text": "import ipyvuetify as v\nfrom ipywidgets import IntSlider, jslink\nfrom ipyleaflet import Map, Marker, Popupm WidgetControl\nimport json\nfrom pathlib import Path"
    },
    "executionTime": "2019-12-16T14:57:48.669Z"
   },
   {
    "cell": {
     "executionCount": 82,
     "executionEventId": "16c80b64-245e-4891-a9fc-394d567a52f5",
     "hasError": false,
     "id": "d5afaddc-1777-48f2-bf48-983139cea4de",
     "outputs": [],
     "persistentId": "1d60603d-be35-4d7c-9d4c-7e6f00d6aa8f",
     "text": "import ipyvuetify as v\nfrom ipywidgets import IntSlider, jslink\nfrom ipyleaflet import Map, Marker, Popup, WidgetControl\nimport json\nfrom pathlib import Path"
    },
    "executionTime": "2019-12-16T14:57:52.392Z"
   },
   {
    "cell": {
     "executionCount": 83,
     "executionEventId": "b562e26c-870b-40f4-9def-b45fa9bc87e6",
     "hasError": false,
     "id": "c47cb284-f183-4fa8-b1ae-f3067f084f0f",
     "outputs": [
      {
       "data": {
        "application/vnd.jupyter.widget-view+json": {
         "model_id": "df5069ac45c4427f830c725dd00f0789",
         "version_major": 2,
         "version_minor": 0
        },
        "text/plain": "Map(basemap={'url': 'https://{s}.tile.openstreetmap.org/{z}/{x}/{y}.png', 'max_zoom': 19, 'attribution': 'Map …"
       },
       "metadata": {},
       "output_type": "display_data"
      }
     ],
     "persistentId": "229dfb64-a734-43ee-95cb-f7abe0a2e484",
     "text": "def create_map():\n    center = (19.4352, -99.1412)\n    m = Map(center=center,\n                  zoom=11, dragging=True,\n                  touch_zoom=True,\n                   close_popup_on_click=False)\n    zoom_slider = IntSlider(description='Zoom level:', \n                            min=0, max=15, value=10)\n    jslink((zoom_slider, 'value'), (m, 'zoom'))\n    zoom_control = WidgetControl(widget=zoom_slider, position='topright')\n    m.add_control(zoom_control)\n    get_markers(m)\n    return m\n    \n    \ndef get_markers(m):\n    for place in locations:\n        coord = (place['location']['lon'], -place['location']['lat'])\n        marker = Marker(location=coord, draggable=False)\n        m.add_layer(marker);\n        add_popup(place, coord, m)\n        \ndef add_popup(place, coord, m):\n    message = widgets.HTML()\n    message.value = f\"Host: {place.get('host')} <br> Place: {place['name']}\"\n    popup = Popup(location=coord,\n                 child=message,\n                 close_button=True,\n                  auto_close=False,\n                 close_on_escape_key=True)\n    m.add_layer(popup)\n        \ncreate_map()"
    },
    "executionTime": "2019-12-16T14:57:54.951Z"
   },
   {
    "cell": {
     "executionCount": 84,
     "executionEventId": "c414eabd-cd50-4d40-b984-36621ee03c3d",
     "hasError": false,
     "id": "c47cb284-f183-4fa8-b1ae-f3067f084f0f",
     "outputs": [
      {
       "data": {
        "application/vnd.jupyter.widget-view+json": {
         "model_id": "4abfdf790dec43638e98a012a1bd6a8c",
         "version_major": 2,
         "version_minor": 0
        },
        "text/plain": "Map(basemap={'url': 'https://{s}.tile.openstreetmap.org/{z}/{x}/{y}.png', 'max_zoom': 19, 'attribution': 'Map …"
       },
       "metadata": {},
       "output_type": "display_data"
      }
     ],
     "persistentId": "229dfb64-a734-43ee-95cb-f7abe0a2e484",
     "text": "def create_map():\n    center = (19.4352, -99.1412)\n    m = Map(center=center,\n                  zoom=11, dragging=True,\n                  touch_zoom=True,\n                   close_popup_on_click=False)\n    get_markers(m)\n    return m\n    \n    \ndef get_markers(m):\n    for place in locations:\n        coord = (place['location']['lon'], -place['location']['lat'])\n        marker = Marker(location=coord, draggable=False)\n        m.add_layer(marker);\n        add_popup(place, coord, m)\n        \ndef add_popup(place, coord, m):\n    message = widgets.HTML()\n    message.value = f\"Host: {place.get('host')} <br> Place: {place['name']}\"\n    popup = Popup(location=coord,\n                 child=message,\n                 close_button=True,\n                  auto_close=False,\n                 close_on_escape_key=True)\n    m.add_layer(popup)\n        \ncreate_map()"
    },
    "executionTime": "2019-12-16T14:58:25.185Z"
   },
   {
    "cell": {
     "executionCount": 85,
     "executionEventId": "de9419af-6356-45e0-b75f-aa59c50229eb",
     "hasError": false,
     "id": "c47cb284-f183-4fa8-b1ae-f3067f084f0f",
     "outputs": [
      {
       "data": {
        "application/vnd.jupyter.widget-view+json": {
         "model_id": "3213d3e0c8b44703be2beefe43e0a0c6",
         "version_major": 2,
         "version_minor": 0
        },
        "text/plain": "Map(basemap={'url': 'https://{s}.tile.openstreetmap.org/{z}/{x}/{y}.png', 'max_zoom': 19, 'attribution': 'Map …"
       },
       "metadata": {},
       "output_type": "display_data"
      }
     ],
     "persistentId": "229dfb64-a734-43ee-95cb-f7abe0a2e484",
     "text": "def create_map():\n    center = (19.4352, -99.1412)\n    m = Map(center=center,\n                  zoom=11, dragging=True,\n                  touch_zoom=True,\n                   close_popup_on_click=True)\n    get_markers(m)\n    return m\n    \n    \ndef get_markers(m):\n    for place in locations:\n        coord = (place['location']['lon'], -place['location']['lat'])\n        marker = Marker(location=coord, draggable=False)\n        m.add_layer(marker);\n        add_popup(place, coord, m)\n        \ndef add_popup(place, coord, m):\n    message = widgets.HTML()\n    message.value = f\"Host: {place.get('host')} <br> Place: {place['name']}\"\n    popup = Popup(location=coord,\n                 child=message,\n                 close_button=True,\n                  auto_close=False,\n                 close_on_escape_key=True)\n    m.add_layer(popup)\n        \ncreate_map()"
    },
    "executionTime": "2019-12-16T15:00:05.342Z"
   },
   {
    "cell": {
     "executionCount": 86,
     "executionEventId": "7d302075-fcc5-4412-a023-9eecb4b2158f",
     "hasError": false,
     "id": "c47cb284-f183-4fa8-b1ae-f3067f084f0f",
     "outputs": [
      {
       "data": {
        "application/vnd.jupyter.widget-view+json": {
         "model_id": "9ce69344ef4d41d8ad3d64ae3d9f2f19",
         "version_major": 2,
         "version_minor": 0
        },
        "text/plain": "Map(basemap={'url': 'https://{s}.tile.openstreetmap.org/{z}/{x}/{y}.png', 'max_zoom': 19, 'attribution': 'Map …"
       },
       "metadata": {},
       "output_type": "display_data"
      }
     ],
     "persistentId": "229dfb64-a734-43ee-95cb-f7abe0a2e484",
     "text": "def create_map():\n    center = (19.4352, -99.1412)\n    m = Map(center=center,\n                  zoom=11, dragging=True,\n                  touch_zoom=True,\n                   close_popup_on_click=True)\n    get_markers(m)\n    return m\n    \n    \ndef get_markers(m):\n    for place in locations:\n        coord = (place['location']['lon'], -place['location']['lat'])\n        marker = Marker(location=coord, draggable=False)\n        m.add_layer(marker);\n        add_popup(place, coord, m)\n        \ndef add_popup(place, coord, m):\n    message = widgets.HTML()\n    message.value = f\"<style='color:#574b90'>Host: {place.get('host')} <br> Place: {place['name']}\"\n    popup = Popup(location=coord,\n                 child=message,\n                 close_button=True,\n                  auto_close=False,\n                 close_on_escape_key=True)\n    m.add_layer(popup)\n        \ncreate_map()"
    },
    "executionTime": "2019-12-16T15:02:02.307Z"
   },
   {
    "cell": {
     "executionCount": 87,
     "executionEventId": "2f18bf08-ddec-4da1-bd65-ab9dceab4ce9",
     "hasError": false,
     "id": "c47cb284-f183-4fa8-b1ae-f3067f084f0f",
     "outputs": [
      {
       "data": {
        "application/vnd.jupyter.widget-view+json": {
         "model_id": "ce5064a6276f4369bd6e1679d5ee7a85",
         "version_major": 2,
         "version_minor": 0
        },
        "text/plain": "Map(basemap={'url': 'https://{s}.tile.openstreetmap.org/{z}/{x}/{y}.png', 'max_zoom': 19, 'attribution': 'Map …"
       },
       "metadata": {},
       "output_type": "display_data"
      }
     ],
     "persistentId": "229dfb64-a734-43ee-95cb-f7abe0a2e484",
     "text": "def create_map():\n    center = (19.4352, -99.1412)\n    m = Map(center=center,\n                  zoom=11, dragging=True,\n                  touch_zoom=True,\n                   close_popup_on_click=True)\n    get_markers(m)\n    return m\n    \n    \ndef get_markers(m):\n    for place in locations:\n        coord = (place['location']['lon'], -place['location']['lat'])\n        marker = Marker(location=coord, draggable=False)\n        m.add_layer(marker);\n        add_popup(place, coord, m)\n        \ndef add_popup(place, coord, m):\n    message = widgets.HTML()\n    message.value = f\"<style='color:#574b90'>Host:</style> {place.get('host')} <br> Place: {place['name']}\"\n    popup = Popup(location=coord,\n                 child=message,\n                 close_button=True,\n                  auto_close=False,\n                 close_on_escape_key=True)\n    m.add_layer(popup)\n        \ncreate_map()"
    },
    "executionTime": "2019-12-16T15:02:11.517Z"
   },
   {
    "cell": {
     "executionCount": 88,
     "executionEventId": "4bd514b3-57d0-4478-b4a6-8157c74f9176",
     "hasError": false,
     "id": "c47cb284-f183-4fa8-b1ae-f3067f084f0f",
     "outputs": [
      {
       "data": {
        "application/vnd.jupyter.widget-view+json": {
         "model_id": "673c9254576646abbd956235f0bf3f66",
         "version_major": 2,
         "version_minor": 0
        },
        "text/plain": "Map(basemap={'url': 'https://{s}.tile.openstreetmap.org/{z}/{x}/{y}.png', 'max_zoom': 19, 'attribution': 'Map …"
       },
       "metadata": {},
       "output_type": "display_data"
      }
     ],
     "persistentId": "229dfb64-a734-43ee-95cb-f7abe0a2e484",
     "text": "def create_map():\n    center = (19.4352, -99.1412)\n    m = Map(center=center,\n                  zoom=11, dragging=True,\n                  touch_zoom=True,\n                   close_popup_on_click=True)\n    get_markers(m)\n    return m\n    \n    \ndef get_markers(m):\n    for place in locations:\n        coord = (place['location']['lon'], -place['location']['lat'])\n        marker = Marker(location=coord, draggable=False)\n        m.add_layer(marker);\n        add_popup(place, coord, m)\n        \ndef add_popup(place, coord, m):\n    message = widgets.HTML()\n    message.value = f\"Host: {place.get('host')} <br> Place: {place['name']}\"\n    popup = Popup(location=coord,\n                 child=message,\n                 close_button=True,\n                  auto_close=False,\n                 close_on_escape_key=True)\n    m.add_layer(popup)\n        \ncreate_map()"
    },
    "executionTime": "2019-12-16T15:02:27.468Z"
   },
   {
    "cell": {
     "executionCount": 89,
     "executionEventId": "b2014143-4b3b-406f-a5d4-283b606d26b0",
     "hasError": false,
     "id": "c47cb284-f183-4fa8-b1ae-f3067f084f0f",
     "outputs": [
      {
       "data": {
        "application/vnd.jupyter.widget-view+json": {
         "model_id": "b813758b148e4a79a15ae8f9ab492c6b",
         "version_major": 2,
         "version_minor": 0
        },
        "text/plain": "Map(basemap={'url': 'https://{s}.tile.openstreetmap.org/{z}/{x}/{y}.png', 'max_zoom': 19, 'attribution': 'Map …"
       },
       "metadata": {},
       "output_type": "display_data"
      }
     ],
     "persistentId": "229dfb64-a734-43ee-95cb-f7abe0a2e484",
     "text": "def create_map():\n    center = (19.4352, -99.1712)\n    m = Map(center=center,\n                  zoom=11, dragging=True,\n                  touch_zoom=True,\n                   close_popup_on_click=True)\n    get_markers(m)\n    return m\n    \n    \ndef get_markers(m):\n    for place in locations:\n        coord = (place['location']['lon'], -place['location']['lat'])\n        marker = Marker(location=coord, draggable=False)\n        m.add_layer(marker);\n        add_popup(place, coord, m)\n        \ndef add_popup(place, coord, m):\n    message = widgets.HTML()\n    message.value = f\"Host: {place.get('host')} <br> Place: {place['name']}\"\n    popup = Popup(location=coord,\n                 child=message,\n                 close_button=True,\n                  auto_close=False,\n                 close_on_escape_key=True)\n    m.add_layer(popup)\n        \ncreate_map()"
    },
    "executionTime": "2019-12-16T15:05:22.541Z"
   },
   {
    "cell": {
     "executionCount": 90,
     "executionEventId": "2d3c1b6d-00f1-4323-91dc-2b1029d23795",
     "hasError": false,
     "id": "c47cb284-f183-4fa8-b1ae-f3067f084f0f",
     "outputs": [
      {
       "data": {
        "application/vnd.jupyter.widget-view+json": {
         "model_id": "2681ab7d33cc409db13ed6c36fc717c1",
         "version_major": 2,
         "version_minor": 0
        },
        "text/plain": "Map(basemap={'url': 'https://{s}.tile.openstreetmap.org/{z}/{x}/{y}.png', 'max_zoom': 19, 'attribution': 'Map …"
       },
       "metadata": {},
       "output_type": "display_data"
      }
     ],
     "persistentId": "229dfb64-a734-43ee-95cb-f7abe0a2e484",
     "text": "def create_map():\n    center = (19.4352, -99.1212)\n    m = Map(center=center,\n                  zoom=11, dragging=True,\n                  touch_zoom=True,\n                   close_popup_on_click=True)\n    get_markers(m)\n    return m\n    \n    \ndef get_markers(m):\n    for place in locations:\n        coord = (place['location']['lon'], -place['location']['lat'])\n        marker = Marker(location=coord, draggable=False)\n        m.add_layer(marker);\n        add_popup(place, coord, m)\n        \ndef add_popup(place, coord, m):\n    message = widgets.HTML()\n    message.value = f\"Host: {place.get('host')} <br> Place: {place['name']}\"\n    popup = Popup(location=coord,\n                 child=message,\n                 close_button=True,\n                  auto_close=False,\n                 close_on_escape_key=True)\n    m.add_layer(popup)\n        \ncreate_map()"
    },
    "executionTime": "2019-12-16T15:05:29.116Z"
   },
   {
    "cell": {
     "executionCount": 91,
     "executionEventId": "677c5123-4cd4-4375-a815-61632f0c94f7",
     "hasError": false,
     "id": "c47cb284-f183-4fa8-b1ae-f3067f084f0f",
     "outputs": [
      {
       "data": {
        "application/vnd.jupyter.widget-view+json": {
         "model_id": "7342fc176ea64906b1ee7ab47454e08a",
         "version_major": 2,
         "version_minor": 0
        },
        "text/plain": "Map(basemap={'url': 'https://{s}.tile.openstreetmap.org/{z}/{x}/{y}.png', 'max_zoom': 19, 'attribution': 'Map …"
       },
       "metadata": {},
       "output_type": "display_data"
      }
     ],
     "persistentId": "229dfb64-a734-43ee-95cb-f7abe0a2e484",
     "text": "def create_map():\n    center = (19.4552, -99.1412)\n    m = Map(center=center,\n                  zoom=11, dragging=True,\n                  touch_zoom=True,\n                   close_popup_on_click=True)\n    get_markers(m)\n    return m\n    \n    \ndef get_markers(m):\n    for place in locations:\n        coord = (place['location']['lon'], -place['location']['lat'])\n        marker = Marker(location=coord, draggable=False)\n        m.add_layer(marker);\n        add_popup(place, coord, m)\n        \ndef add_popup(place, coord, m):\n    message = widgets.HTML()\n    message.value = f\"Host: {place.get('host')} <br> Place: {place['name']}\"\n    popup = Popup(location=coord,\n                 child=message,\n                 close_button=True,\n                  auto_close=False,\n                 close_on_escape_key=True)\n    m.add_layer(popup)\n        \ncreate_map()"
    },
    "executionTime": "2019-12-16T15:05:43.851Z"
   },
   {
    "cell": {
     "executionCount": 92,
     "executionEventId": "f593d61b-d400-4f9a-bba6-6321a255c4c3",
     "hasError": false,
     "id": "c47cb284-f183-4fa8-b1ae-f3067f084f0f",
     "outputs": [
      {
       "data": {
        "application/vnd.jupyter.widget-view+json": {
         "model_id": "61aced1b81314932a823c69da908e9d5",
         "version_major": 2,
         "version_minor": 0
        },
        "text/plain": "Map(basemap={'url': 'https://{s}.tile.openstreetmap.org/{z}/{x}/{y}.png', 'max_zoom': 19, 'attribution': 'Map …"
       },
       "metadata": {},
       "output_type": "display_data"
      }
     ],
     "persistentId": "229dfb64-a734-43ee-95cb-f7abe0a2e484",
     "text": "def create_map():\n    center = (19.4152, -99.1412)\n    m = Map(center=center,\n                  zoom=11, dragging=True,\n                  touch_zoom=True,\n                   close_popup_on_click=True)\n    get_markers(m)\n    return m\n    \n    \ndef get_markers(m):\n    for place in locations:\n        coord = (place['location']['lon'], -place['location']['lat'])\n        marker = Marker(location=coord, draggable=False)\n        m.add_layer(marker);\n        add_popup(place, coord, m)\n        \ndef add_popup(place, coord, m):\n    message = widgets.HTML()\n    message.value = f\"Host: {place.get('host')} <br> Place: {place['name']}\"\n    popup = Popup(location=coord,\n                 child=message,\n                 close_button=True,\n                  auto_close=False,\n                 close_on_escape_key=True)\n    m.add_layer(popup)\n        \ncreate_map()"
    },
    "executionTime": "2019-12-16T15:05:47.457Z"
   },
   {
    "cell": {
     "executionCount": 93,
     "executionEventId": "b4b2fe2d-869f-4008-a9f3-bb08f229773d",
     "hasError": true,
     "id": "c47cb284-f183-4fa8-b1ae-f3067f084f0f",
     "outputs": [
      {
       "ename": "SyntaxError",
       "evalue": "invalid syntax (<ipython-input-93-917fabbd136d>, line 13)",
       "output_type": "error",
       "traceback": [
        "\u001b[0;36m  File \u001b[0;32m\"<ipython-input-93-917fabbd136d>\"\u001b[0;36m, line \u001b[0;32m13\u001b[0m\n\u001b[0;31m    icon_size=[10,10])\u001b[0m\n\u001b[0m            ^\u001b[0m\n\u001b[0;31mSyntaxError\u001b[0m\u001b[0;31m:\u001b[0m invalid syntax\n"
       ]
      }
     ],
     "persistentId": "229dfb64-a734-43ee-95cb-f7abe0a2e484",
     "text": "def create_map():\n    center = (19.4152, -99.1412)\n    m = Map(center=center,\n                  zoom=11, dragging=True,\n                  touch_zoom=True,\n                   close_popup_on_click=True)\n    get_markers(m)\n    return m\n    \n    \ndef get_markers(m):\n    icon = Icon(icon_url='https://image.flaticon.com/icons/png/512/561/561023.png'\n               icon_size=[10,10])\n    for place in locations:\n        coord = (place['location']['lon'], -place['location']['lat'])\n        marker = Marker(location=coord, draggable=False,\n                        icon=icon)\n        m.add_layer(marker);\n        add_popup(place, coord, m)\n        \ndef add_popup(place, coord, m):\n    message = widgets.HTML()\n    message.value = f\"Host: {place.get('host')} <br> Place: {place['name']}\"\n    popup = Popup(location=coord,\n                 child=message,\n                 close_button=True,\n                  auto_close=False,\n                 close_on_escape_key=True)\n    m.add_layer(popup)\n        \ncreate_map()"
    },
    "executionTime": "2019-12-16T15:08:32.287Z"
   },
   {
    "cell": {
     "executionCount": 94,
     "executionEventId": "1e47a002-f03d-457c-bfa1-1dbbb4e35f22",
     "hasError": true,
     "id": "c47cb284-f183-4fa8-b1ae-f3067f084f0f",
     "outputs": [
      {
       "ename": "NameError",
       "evalue": "name 'Icon' is not defined",
       "output_type": "error",
       "traceback": [
        "\u001b[0;31m---------------------------------------------------------------------------\u001b[0m",
        "\u001b[0;31mNameError\u001b[0m                                 Traceback (most recent call last)",
        "\u001b[0;32m<ipython-input-94-1fabc95113f5>\u001b[0m in \u001b[0;36m<module>\u001b[0;34m\u001b[0m\n\u001b[1;32m     29\u001b[0m     \u001b[0mm\u001b[0m\u001b[0;34m.\u001b[0m\u001b[0madd_layer\u001b[0m\u001b[0;34m(\u001b[0m\u001b[0mpopup\u001b[0m\u001b[0;34m)\u001b[0m\u001b[0;34m\u001b[0m\u001b[0;34m\u001b[0m\u001b[0m\n\u001b[1;32m     30\u001b[0m \u001b[0;34m\u001b[0m\u001b[0m\n\u001b[0;32m---> 31\u001b[0;31m \u001b[0mcreate_map\u001b[0m\u001b[0;34m(\u001b[0m\u001b[0;34m)\u001b[0m\u001b[0;34m\u001b[0m\u001b[0;34m\u001b[0m\u001b[0m\n\u001b[0m",
        "\u001b[0;32m<ipython-input-94-1fabc95113f5>\u001b[0m in \u001b[0;36mcreate_map\u001b[0;34m()\u001b[0m\n\u001b[1;32m      5\u001b[0m                   \u001b[0mtouch_zoom\u001b[0m\u001b[0;34m=\u001b[0m\u001b[0;32mTrue\u001b[0m\u001b[0;34m,\u001b[0m\u001b[0;34m\u001b[0m\u001b[0;34m\u001b[0m\u001b[0m\n\u001b[1;32m      6\u001b[0m                    close_popup_on_click=True)\n\u001b[0;32m----> 7\u001b[0;31m     \u001b[0mget_markers\u001b[0m\u001b[0;34m(\u001b[0m\u001b[0mm\u001b[0m\u001b[0;34m)\u001b[0m\u001b[0;34m\u001b[0m\u001b[0;34m\u001b[0m\u001b[0m\n\u001b[0m\u001b[1;32m      8\u001b[0m     \u001b[0;32mreturn\u001b[0m \u001b[0mm\u001b[0m\u001b[0;34m\u001b[0m\u001b[0;34m\u001b[0m\u001b[0m\n\u001b[1;32m      9\u001b[0m \u001b[0;34m\u001b[0m\u001b[0m\n",
        "\u001b[0;32m<ipython-input-94-1fabc95113f5>\u001b[0m in \u001b[0;36mget_markers\u001b[0;34m(m)\u001b[0m\n\u001b[1;32m     10\u001b[0m \u001b[0;34m\u001b[0m\u001b[0m\n\u001b[1;32m     11\u001b[0m \u001b[0;32mdef\u001b[0m \u001b[0mget_markers\u001b[0m\u001b[0;34m(\u001b[0m\u001b[0mm\u001b[0m\u001b[0;34m)\u001b[0m\u001b[0;34m:\u001b[0m\u001b[0;34m\u001b[0m\u001b[0;34m\u001b[0m\u001b[0m\n\u001b[0;32m---> 12\u001b[0;31m     icon = Icon(icon_url='https://image.flaticon.com/icons/png/512/561/561023.png',\n\u001b[0m\u001b[1;32m     13\u001b[0m                icon_size=[10,10])\n\u001b[1;32m     14\u001b[0m     \u001b[0;32mfor\u001b[0m \u001b[0mplace\u001b[0m \u001b[0;32min\u001b[0m \u001b[0mlocations\u001b[0m\u001b[0;34m:\u001b[0m\u001b[0;34m\u001b[0m\u001b[0;34m\u001b[0m\u001b[0m\n",
        "\u001b[0;31mNameError\u001b[0m: name 'Icon' is not defined"
       ]
      }
     ],
     "persistentId": "229dfb64-a734-43ee-95cb-f7abe0a2e484",
     "text": "def create_map():\n    center = (19.4152, -99.1412)\n    m = Map(center=center,\n                  zoom=11, dragging=True,\n                  touch_zoom=True,\n                   close_popup_on_click=True)\n    get_markers(m)\n    return m\n    \n    \ndef get_markers(m):\n    icon = Icon(icon_url='https://image.flaticon.com/icons/png/512/561/561023.png',\n               icon_size=[10,10])\n    for place in locations:\n        coord = (place['location']['lon'], -place['location']['lat'])\n        marker = Marker(location=coord, draggable=False,\n                        icon=icon)\n        m.add_layer(marker);\n        add_popup(place, coord, m)\n        \ndef add_popup(place, coord, m):\n    message = widgets.HTML()\n    message.value = f\"Host: {place.get('host')} <br> Place: {place['name']}\"\n    popup = Popup(location=coord,\n                 child=message,\n                 close_button=True,\n                  auto_close=False,\n                 close_on_escape_key=True)\n    m.add_layer(popup)\n        \ncreate_map()"
    },
    "executionTime": "2019-12-16T15:08:46.948Z"
   },
   {
    "cell": {
     "executionCount": 95,
     "executionEventId": "d65c3467-b6a4-4cdd-bb01-d1ab530cd4b1",
     "hasError": false,
     "id": "d5afaddc-1777-48f2-bf48-983139cea4de",
     "outputs": [],
     "persistentId": "1d60603d-be35-4d7c-9d4c-7e6f00d6aa8f",
     "text": "import ipyvuetify as v\nfrom ipywidgets import IntSlider, jslink\nfrom ipyleaflet import Map, Marker, Popup, WidgetControl, Icon\nimport json\nfrom pathlib import Path"
    },
    "executionTime": "2019-12-16T15:08:54.128Z"
   },
   {
    "cell": {
     "executionCount": 96,
     "executionEventId": "6206044e-a9c6-4eec-8b53-2a9f9fe73a55",
     "hasError": false,
     "id": "c47cb284-f183-4fa8-b1ae-f3067f084f0f",
     "outputs": [
      {
       "data": {
        "application/vnd.jupyter.widget-view+json": {
         "model_id": "b84bafa954cc41cc8a91ed296a328ed1",
         "version_major": 2,
         "version_minor": 0
        },
        "text/plain": "Map(basemap={'url': 'https://{s}.tile.openstreetmap.org/{z}/{x}/{y}.png', 'max_zoom': 19, 'attribution': 'Map …"
       },
       "metadata": {},
       "output_type": "display_data"
      }
     ],
     "persistentId": "229dfb64-a734-43ee-95cb-f7abe0a2e484",
     "text": "def create_map():\n    center = (19.4152, -99.1412)\n    m = Map(center=center,\n                  zoom=11, dragging=True,\n                  touch_zoom=True,\n                   close_popup_on_click=True)\n    get_markers(m)\n    return m\n    \n    \ndef get_markers(m):\n    icon = Icon(icon_url='https://image.flaticon.com/icons/png/512/561/561023.png',\n               icon_size=[10,10])\n    for place in locations:\n        coord = (place['location']['lon'], -place['location']['lat'])\n        marker = Marker(location=coord, draggable=False,\n                        icon=icon)\n        m.add_layer(marker);\n        add_popup(place, coord, m)\n        \ndef add_popup(place, coord, m):\n    message = widgets.HTML()\n    message.value = f\"Host: {place.get('host')} <br> Place: {place['name']}\"\n    popup = Popup(location=coord,\n                 child=message,\n                 close_button=True,\n                  auto_close=False,\n                 close_on_escape_key=True)\n    m.add_layer(popup)\n        \ncreate_map()"
    },
    "executionTime": "2019-12-16T15:08:58.035Z"
   },
   {
    "cell": {
     "executionCount": 97,
     "executionEventId": "78aba3e0-804f-4844-8983-03dde8409c83",
     "hasError": false,
     "id": "c47cb284-f183-4fa8-b1ae-f3067f084f0f",
     "outputs": [
      {
       "data": {
        "application/vnd.jupyter.widget-view+json": {
         "model_id": "880e171606f14a2ebde091de8552f9eb",
         "version_major": 2,
         "version_minor": 0
        },
        "text/plain": "Map(basemap={'url': 'https://{s}.tile.openstreetmap.org/{z}/{x}/{y}.png', 'max_zoom': 19, 'attribution': 'Map …"
       },
       "metadata": {},
       "output_type": "display_data"
      }
     ],
     "persistentId": "229dfb64-a734-43ee-95cb-f7abe0a2e484",
     "text": "def create_map():\n    center = (19.4152, -99.1412)\n    m = Map(center=center,\n                  zoom=11, dragging=True,\n                  touch_zoom=True,\n                   close_popup_on_click=True)\n    get_markers(m)\n    return m\n    \n    \ndef get_markers(m):\n    icon = Icon(icon_url='https://image.flaticon.com/icons/png/512/561/561023.png',\n               icon_size=[20,20])\n    for place in locations:\n        coord = (place['location']['lon'], -place['location']['lat'])\n        marker = Marker(location=coord, draggable=False,\n                        icon=icon)\n        m.add_layer(marker);\n        add_popup(place, coord, m)\n        \ndef add_popup(place, coord, m):\n    message = widgets.HTML()\n    message.value = f\"Host: {place.get('host')} <br> Place: {place['name']}\"\n    popup = Popup(location=coord,\n                 child=message,\n                 close_button=True,\n                  auto_close=False,\n                 close_on_escape_key=True)\n    m.add_layer(popup)\n        \ncreate_map()"
    },
    "executionTime": "2019-12-16T15:09:52.511Z"
   },
   {
    "cell": {
     "executionCount": 98,
     "executionEventId": "921acd91-6d9c-4802-bbe9-7d9d20cca26a",
     "hasError": false,
     "id": "c47cb284-f183-4fa8-b1ae-f3067f084f0f",
     "outputs": [
      {
       "data": {
        "application/vnd.jupyter.widget-view+json": {
         "model_id": "8b0088907d7244e1ba180e35a6381e01",
         "version_major": 2,
         "version_minor": 0
        },
        "text/plain": "Map(basemap={'url': 'https://{s}.tile.openstreetmap.org/{z}/{x}/{y}.png', 'max_zoom': 19, 'attribution': 'Map …"
       },
       "metadata": {},
       "output_type": "display_data"
      }
     ],
     "persistentId": "229dfb64-a734-43ee-95cb-f7abe0a2e484",
     "text": "def create_map():\n    center = (19.4152, -99.1412)\n    m = Map(center=center,\n                  zoom=11, dragging=True,\n                  touch_zoom=True,\n                   close_popup_on_click=True)\n    get_markers(m)\n    return m\n    \n    \ndef get_markers(m):\n    icon = Icon(icon_url='https://image.flaticon.com/icons/png/512/2285/2285410.png',\n               icon_size=[20,20])\n    for place in locations:\n        coord = (place['location']['lon'], -place['location']['lat'])\n        marker = Marker(location=coord, draggable=False,\n                        icon=icon)\n        m.add_layer(marker);\n        add_popup(place, coord, m)\n        \ndef add_popup(place, coord, m):\n    message = widgets.HTML()\n    message.value = f\"Host: {place.get('host')} <br> Place: {place['name']}\"\n    popup = Popup(location=coord,\n                 child=message,\n                 close_button=True,\n                  auto_close=False,\n                 close_on_escape_key=True)\n    m.add_layer(popup)\n        \ncreate_map()"
    },
    "executionTime": "2019-12-16T15:10:31.507Z"
   },
   {
    "cell": {
     "executionCount": 99,
     "executionEventId": "76423726-d4fe-477a-b5d0-12f6c299d5a3",
     "hasError": false,
     "id": "c47cb284-f183-4fa8-b1ae-f3067f084f0f",
     "outputs": [
      {
       "data": {
        "application/vnd.jupyter.widget-view+json": {
         "model_id": "ea8576c47b8c40b3b7fc9cc0acb6918a",
         "version_major": 2,
         "version_minor": 0
        },
        "text/plain": "Map(basemap={'url': 'https://{s}.tile.openstreetmap.org/{z}/{x}/{y}.png', 'max_zoom': 19, 'attribution': 'Map …"
       },
       "metadata": {},
       "output_type": "display_data"
      }
     ],
     "persistentId": "229dfb64-a734-43ee-95cb-f7abe0a2e484",
     "text": "def create_map():\n    center = (19.4552, -99.1412)\n    m = Map(center=center,\n                  zoom=11, dragging=True,\n                  touch_zoom=True,\n                   close_popup_on_click=True)\n    get_markers(m)\n    return m\n    \n    \ndef get_markers(m):\n    icon = Icon(icon_url='https://image.flaticon.com/icons/png/512/2285/2285410.png',\n               icon_size=[20,20])\n    for place in locations:\n        coord = (place['location']['lon'], -place['location']['lat'])\n        marker = Marker(location=coord, draggable=False,\n                        icon=icon)\n        m.add_layer(marker);\n        add_popup(place, coord, m)\n        \ndef add_popup(place, coord, m):\n    message = widgets.HTML()\n    message.value = f\"Host: {place.get('host')} <br> Place: {place['name']}\"\n    popup = Popup(location=coord,\n                 child=message,\n                 close_button=True,\n                  auto_close=False,\n                 close_on_escape_key=True)\n    m.add_layer(popup)\n        \ncreate_map()"
    },
    "executionTime": "2019-12-16T15:10:51.182Z"
   },
   {
    "cell": {
     "executionCount": 100,
     "executionEventId": "0170b6ef-ef33-40e9-b925-0a3f32834373",
     "hasError": false,
     "id": "c47cb284-f183-4fa8-b1ae-f3067f084f0f",
     "outputs": [
      {
       "data": {
        "application/vnd.jupyter.widget-view+json": {
         "model_id": "8ec2f8cd65dc44b8a53594d7dcb53781",
         "version_major": 2,
         "version_minor": 0
        },
        "text/plain": "Map(basemap={'url': 'https://{s}.tile.openstreetmap.org/{z}/{x}/{y}.png', 'max_zoom': 19, 'attribution': 'Map …"
       },
       "metadata": {},
       "output_type": "display_data"
      }
     ],
     "persistentId": "229dfb64-a734-43ee-95cb-f7abe0a2e484",
     "text": "def create_map():\n    center = (19.4152, -99.1412)\n    m = Map(center=center,\n                  zoom=11, dragging=True,\n                  touch_zoom=True,\n                   close_popup_on_click=True)\n    get_markers(m)\n    return m\n    \n    \ndef get_markers(m):\n    icon = Icon(icon_url='https://image.flaticon.com/icons/png/512/2285/2285410.png',\n               icon_size=[20,20])\n    for place in locations:\n        coord = (place['location']['lon'], -place['location']['lat'])\n        marker = Marker(location=coord, draggable=False,\n                        icon=icon)\n        m.add_layer(marker);\n        add_popup(place, coord, m)\n        \ndef add_popup(place, coord, m):\n    message = widgets.HTML()\n    message.value = f\"Host: {place.get('host')} <br> Place: {place['name']}\"\n    popup = Popup(location=coord,\n                 child=message,\n                 close_button=True,\n                  auto_close=False,\n                 close_on_escape_key=True)\n    m.add_layer(popup)\n        \ncreate_map()"
    },
    "executionTime": "2019-12-16T15:10:55.791Z"
   },
   {
    "cell": {
     "executionCount": 101,
     "executionEventId": "7e1631f5-ed11-4e74-90c6-2932a98fc1b4",
     "hasError": false,
     "id": "c47cb284-f183-4fa8-b1ae-f3067f084f0f",
     "outputs": [
      {
       "data": {
        "application/vnd.jupyter.widget-view+json": {
         "model_id": "17cc4b18ad6d46cebac88269326e0b16",
         "version_major": 2,
         "version_minor": 0
        },
        "text/plain": "Map(basemap={'url': 'https://{s}.tile.openstreetmap.org/{z}/{x}/{y}.png', 'max_zoom': 19, 'attribution': 'Map …"
       },
       "metadata": {},
       "output_type": "display_data"
      }
     ],
     "persistentId": "229dfb64-a734-43ee-95cb-f7abe0a2e484",
     "text": "def create_map():\n    center = (19.3952, -99.1412)\n    m = Map(center=center,\n                  zoom=11, dragging=True,\n                  touch_zoom=True,\n                   close_popup_on_click=True)\n    get_markers(m)\n    return m\n    \n    \ndef get_markers(m):\n    icon = Icon(icon_url='https://image.flaticon.com/icons/png/512/2285/2285410.png',\n               icon_size=[20,20])\n    for place in locations:\n        coord = (place['location']['lon'], -place['location']['lat'])\n        marker = Marker(location=coord, draggable=False,\n                        icon=icon)\n        m.add_layer(marker);\n        add_popup(place, coord, m)\n        \ndef add_popup(place, coord, m):\n    message = widgets.HTML()\n    message.value = f\"Host: {place.get('host')} <br> Place: {place['name']}\"\n    popup = Popup(location=coord,\n                 child=message,\n                 close_button=True,\n                  auto_close=False,\n                 close_on_escape_key=True)\n    m.add_layer(popup)\n        \ncreate_map()"
    },
    "executionTime": "2019-12-16T15:11:00.714Z"
   },
   {
    "cell": {
     "executionCount": 102,
     "executionEventId": "2c9aa9bd-19b9-476f-9264-1f61d4cb7652",
     "hasError": false,
     "id": "c47cb284-f183-4fa8-b1ae-f3067f084f0f",
     "outputs": [
      {
       "data": {
        "application/vnd.jupyter.widget-view+json": {
         "model_id": "51951c9136fe446fba14cb1d2f419be5",
         "version_major": 2,
         "version_minor": 0
        },
        "text/plain": "Map(basemap={'url': 'https://{s}.tile.openstreetmap.org/{z}/{x}/{y}.png', 'max_zoom': 19, 'attribution': 'Map …"
       },
       "metadata": {},
       "output_type": "display_data"
      }
     ],
     "persistentId": "229dfb64-a734-43ee-95cb-f7abe0a2e484",
     "text": "def create_map():\n    center = (19.3952, -99.1412)\n    m = Map(center=center,\n                  zoom=12, dragging=True,\n                  touch_zoom=True,\n                   close_popup_on_click=True)\n    get_markers(m)\n    return m\n    \n    \ndef get_markers(m):\n    icon = Icon(icon_url='https://image.flaticon.com/icons/png/512/2285/2285410.png',\n               icon_size=[20,20])\n    for place in locations:\n        coord = (place['location']['lon'], -place['location']['lat'])\n        marker = Marker(location=coord, draggable=False,\n                        icon=icon)\n        m.add_layer(marker);\n        add_popup(place, coord, m)\n        \ndef add_popup(place, coord, m):\n    message = widgets.HTML()\n    message.value = f\"Host: {place.get('host')} <br> Place: {place['name']}\"\n    popup = Popup(location=coord,\n                 child=message,\n                 close_button=True,\n                  auto_close=False,\n                 close_on_escape_key=True)\n    m.add_layer(popup)\n        \ncreate_map()"
    },
    "executionTime": "2019-12-16T15:11:06.461Z"
   },
   {
    "cell": {
     "executionCount": 103,
     "executionEventId": "36771941-ae39-405f-b906-eeadfc32e705",
     "hasError": true,
     "id": "c47cb284-f183-4fa8-b1ae-f3067f084f0f",
     "outputs": [
      {
       "ename": "TraitError",
       "evalue": "The 'zoom' trait of a Map instance must be an int, but a value of 11.5 <class 'float'> was specified.",
       "output_type": "error",
       "traceback": [
        "\u001b[0;31m---------------------------------------------------------------------------\u001b[0m",
        "\u001b[0;31mTraitError\u001b[0m                                Traceback (most recent call last)",
        "\u001b[0;32m<ipython-input-103-684846b9d963>\u001b[0m in \u001b[0;36m<module>\u001b[0;34m\u001b[0m\n\u001b[1;32m     29\u001b[0m     \u001b[0mm\u001b[0m\u001b[0;34m.\u001b[0m\u001b[0madd_layer\u001b[0m\u001b[0;34m(\u001b[0m\u001b[0mpopup\u001b[0m\u001b[0;34m)\u001b[0m\u001b[0;34m\u001b[0m\u001b[0;34m\u001b[0m\u001b[0m\n\u001b[1;32m     30\u001b[0m \u001b[0;34m\u001b[0m\u001b[0m\n\u001b[0;32m---> 31\u001b[0;31m \u001b[0mcreate_map\u001b[0m\u001b[0;34m(\u001b[0m\u001b[0;34m)\u001b[0m\u001b[0;34m\u001b[0m\u001b[0;34m\u001b[0m\u001b[0m\n\u001b[0m",
        "\u001b[0;32m<ipython-input-103-684846b9d963>\u001b[0m in \u001b[0;36mcreate_map\u001b[0;34m()\u001b[0m\n\u001b[1;32m      4\u001b[0m                   \u001b[0mzoom\u001b[0m\u001b[0;34m=\u001b[0m\u001b[0;36m11.5\u001b[0m\u001b[0;34m,\u001b[0m \u001b[0mdragging\u001b[0m\u001b[0;34m=\u001b[0m\u001b[0;32mTrue\u001b[0m\u001b[0;34m,\u001b[0m\u001b[0;34m\u001b[0m\u001b[0;34m\u001b[0m\u001b[0m\n\u001b[1;32m      5\u001b[0m                   \u001b[0mtouch_zoom\u001b[0m\u001b[0;34m=\u001b[0m\u001b[0;32mTrue\u001b[0m\u001b[0;34m,\u001b[0m\u001b[0;34m\u001b[0m\u001b[0;34m\u001b[0m\u001b[0m\n\u001b[0;32m----> 6\u001b[0;31m                    close_popup_on_click=True)\n\u001b[0m\u001b[1;32m      7\u001b[0m     \u001b[0mget_markers\u001b[0m\u001b[0;34m(\u001b[0m\u001b[0mm\u001b[0m\u001b[0;34m)\u001b[0m\u001b[0;34m\u001b[0m\u001b[0;34m\u001b[0m\u001b[0m\n\u001b[1;32m      8\u001b[0m     \u001b[0;32mreturn\u001b[0m \u001b[0mm\u001b[0m\u001b[0;34m\u001b[0m\u001b[0;34m\u001b[0m\u001b[0m\n",
        "\u001b[0;32m/anaconda3/lib/python3.7/site-packages/ipyleaflet/leaflet.py\u001b[0m in \u001b[0;36m__init__\u001b[0;34m(self, **kwargs)\u001b[0m\n\u001b[1;32m    915\u001b[0m \u001b[0;34m\u001b[0m\u001b[0m\n\u001b[1;32m    916\u001b[0m     \u001b[0;32mdef\u001b[0m \u001b[0m__init__\u001b[0m\u001b[0;34m(\u001b[0m\u001b[0mself\u001b[0m\u001b[0;34m,\u001b[0m \u001b[0;34m**\u001b[0m\u001b[0mkwargs\u001b[0m\u001b[0;34m)\u001b[0m\u001b[0;34m:\u001b[0m\u001b[0;34m\u001b[0m\u001b[0;34m\u001b[0m\u001b[0m\n\u001b[0;32m--> 917\u001b[0;31m         \u001b[0msuper\u001b[0m\u001b[0;34m(\u001b[0m\u001b[0mMap\u001b[0m\u001b[0;34m,\u001b[0m \u001b[0mself\u001b[0m\u001b[0;34m)\u001b[0m\u001b[0;34m.\u001b[0m\u001b[0m__init__\u001b[0m\u001b[0;34m(\u001b[0m\u001b[0;34m**\u001b[0m\u001b[0mkwargs\u001b[0m\u001b[0;34m)\u001b[0m\u001b[0;34m\u001b[0m\u001b[0;34m\u001b[0m\u001b[0m\n\u001b[0m\u001b[1;32m    918\u001b[0m         \u001b[0mself\u001b[0m\u001b[0;34m.\u001b[0m\u001b[0mon_displayed\u001b[0m\u001b[0;34m(\u001b[0m\u001b[0mself\u001b[0m\u001b[0;34m.\u001b[0m\u001b[0m_fire_children_displayed\u001b[0m\u001b[0;34m)\u001b[0m\u001b[0;34m\u001b[0m\u001b[0;34m\u001b[0m\u001b[0m\n\u001b[1;32m    919\u001b[0m         \u001b[0mself\u001b[0m\u001b[0;34m.\u001b[0m\u001b[0mon_msg\u001b[0m\u001b[0;34m(\u001b[0m\u001b[0mself\u001b[0m\u001b[0;34m.\u001b[0m\u001b[0m_handle_leaflet_event\u001b[0m\u001b[0;34m)\u001b[0m\u001b[0;34m\u001b[0m\u001b[0;34m\u001b[0m\u001b[0m\n",
        "\u001b[0;32m/anaconda3/lib/python3.7/site-packages/ipywidgets/widgets/widget.py\u001b[0m in \u001b[0;36m__init__\u001b[0;34m(self, **kwargs)\u001b[0m\n\u001b[1;32m    410\u001b[0m         \u001b[0;34m\"\"\"Public constructor\"\"\"\u001b[0m\u001b[0;34m\u001b[0m\u001b[0;34m\u001b[0m\u001b[0m\n\u001b[1;32m    411\u001b[0m         \u001b[0mself\u001b[0m\u001b[0;34m.\u001b[0m\u001b[0m_model_id\u001b[0m \u001b[0;34m=\u001b[0m \u001b[0mkwargs\u001b[0m\u001b[0;34m.\u001b[0m\u001b[0mpop\u001b[0m\u001b[0;34m(\u001b[0m\u001b[0;34m'model_id'\u001b[0m\u001b[0;34m,\u001b[0m \u001b[0;32mNone\u001b[0m\u001b[0;34m)\u001b[0m\u001b[0;34m\u001b[0m\u001b[0;34m\u001b[0m\u001b[0m\n\u001b[0;32m--> 412\u001b[0;31m         \u001b[0msuper\u001b[0m\u001b[0;34m(\u001b[0m\u001b[0mWidget\u001b[0m\u001b[0;34m,\u001b[0m \u001b[0mself\u001b[0m\u001b[0;34m)\u001b[0m\u001b[0;34m.\u001b[0m\u001b[0m__init__\u001b[0m\u001b[0;34m(\u001b[0m\u001b[0;34m**\u001b[0m\u001b[0mkwargs\u001b[0m\u001b[0;34m)\u001b[0m\u001b[0;34m\u001b[0m\u001b[0;34m\u001b[0m\u001b[0m\n\u001b[0m\u001b[1;32m    413\u001b[0m \u001b[0;34m\u001b[0m\u001b[0m\n\u001b[1;32m    414\u001b[0m         \u001b[0mWidget\u001b[0m\u001b[0;34m.\u001b[0m\u001b[0m_call_widget_constructed\u001b[0m\u001b[0;34m(\u001b[0m\u001b[0mself\u001b[0m\u001b[0;34m)\u001b[0m\u001b[0;34m\u001b[0m\u001b[0;34m\u001b[0m\u001b[0m\n",
        "\u001b[0;32m/anaconda3/lib/python3.7/site-packages/traitlets/traitlets.py\u001b[0m in \u001b[0;36m__init__\u001b[0;34m(self, *args, **kwargs)\u001b[0m\n\u001b[1;32m    995\u001b[0m             \u001b[0;32mfor\u001b[0m \u001b[0mkey\u001b[0m\u001b[0;34m,\u001b[0m \u001b[0mvalue\u001b[0m \u001b[0;32min\u001b[0m \u001b[0mkwargs\u001b[0m\u001b[0;34m.\u001b[0m\u001b[0mitems\u001b[0m\u001b[0;34m(\u001b[0m\u001b[0;34m)\u001b[0m\u001b[0;34m:\u001b[0m\u001b[0;34m\u001b[0m\u001b[0;34m\u001b[0m\u001b[0m\n\u001b[1;32m    996\u001b[0m                 \u001b[0;32mif\u001b[0m \u001b[0mself\u001b[0m\u001b[0;34m.\u001b[0m\u001b[0mhas_trait\u001b[0m\u001b[0;34m(\u001b[0m\u001b[0mkey\u001b[0m\u001b[0;34m)\u001b[0m\u001b[0;34m:\u001b[0m\u001b[0;34m\u001b[0m\u001b[0;34m\u001b[0m\u001b[0m\n\u001b[0;32m--> 997\u001b[0;31m                     \u001b[0msetattr\u001b[0m\u001b[0;34m(\u001b[0m\u001b[0mself\u001b[0m\u001b[0;34m,\u001b[0m \u001b[0mkey\u001b[0m\u001b[0;34m,\u001b[0m \u001b[0mvalue\u001b[0m\u001b[0;34m)\u001b[0m\u001b[0;34m\u001b[0m\u001b[0;34m\u001b[0m\u001b[0m\n\u001b[0m\u001b[1;32m    998\u001b[0m                 \u001b[0;32melse\u001b[0m\u001b[0;34m:\u001b[0m\u001b[0;34m\u001b[0m\u001b[0;34m\u001b[0m\u001b[0m\n\u001b[1;32m    999\u001b[0m                     \u001b[0;31m# passthrough args that don't set traits to super\u001b[0m\u001b[0;34m\u001b[0m\u001b[0;34m\u001b[0m\u001b[0;34m\u001b[0m\u001b[0m\n",
        "\u001b[0;32m/anaconda3/lib/python3.7/site-packages/traitlets/traitlets.py\u001b[0m in \u001b[0;36m__set__\u001b[0;34m(self, obj, value)\u001b[0m\n\u001b[1;32m    583\u001b[0m             \u001b[0;32mraise\u001b[0m \u001b[0mTraitError\u001b[0m\u001b[0;34m(\u001b[0m\u001b[0;34m'The \"%s\" trait is read-only.'\u001b[0m \u001b[0;34m%\u001b[0m \u001b[0mself\u001b[0m\u001b[0;34m.\u001b[0m\u001b[0mname\u001b[0m\u001b[0;34m)\u001b[0m\u001b[0;34m\u001b[0m\u001b[0;34m\u001b[0m\u001b[0m\n\u001b[1;32m    584\u001b[0m         \u001b[0;32melse\u001b[0m\u001b[0;34m:\u001b[0m\u001b[0;34m\u001b[0m\u001b[0;34m\u001b[0m\u001b[0m\n\u001b[0;32m--> 585\u001b[0;31m             \u001b[0mself\u001b[0m\u001b[0;34m.\u001b[0m\u001b[0mset\u001b[0m\u001b[0;34m(\u001b[0m\u001b[0mobj\u001b[0m\u001b[0;34m,\u001b[0m \u001b[0mvalue\u001b[0m\u001b[0;34m)\u001b[0m\u001b[0;34m\u001b[0m\u001b[0;34m\u001b[0m\u001b[0m\n\u001b[0m\u001b[1;32m    586\u001b[0m \u001b[0;34m\u001b[0m\u001b[0m\n\u001b[1;32m    587\u001b[0m     \u001b[0;32mdef\u001b[0m \u001b[0m_validate\u001b[0m\u001b[0;34m(\u001b[0m\u001b[0mself\u001b[0m\u001b[0;34m,\u001b[0m \u001b[0mobj\u001b[0m\u001b[0;34m,\u001b[0m \u001b[0mvalue\u001b[0m\u001b[0;34m)\u001b[0m\u001b[0;34m:\u001b[0m\u001b[0;34m\u001b[0m\u001b[0;34m\u001b[0m\u001b[0m\n",
        "\u001b[0;32m/anaconda3/lib/python3.7/site-packages/traitlets/traitlets.py\u001b[0m in \u001b[0;36mset\u001b[0;34m(self, obj, value)\u001b[0m\n\u001b[1;32m    557\u001b[0m \u001b[0;34m\u001b[0m\u001b[0m\n\u001b[1;32m    558\u001b[0m     \u001b[0;32mdef\u001b[0m \u001b[0mset\u001b[0m\u001b[0;34m(\u001b[0m\u001b[0mself\u001b[0m\u001b[0;34m,\u001b[0m \u001b[0mobj\u001b[0m\u001b[0;34m,\u001b[0m \u001b[0mvalue\u001b[0m\u001b[0;34m)\u001b[0m\u001b[0;34m:\u001b[0m\u001b[0;34m\u001b[0m\u001b[0;34m\u001b[0m\u001b[0m\n\u001b[0;32m--> 559\u001b[0;31m         \u001b[0mnew_value\u001b[0m \u001b[0;34m=\u001b[0m \u001b[0mself\u001b[0m\u001b[0;34m.\u001b[0m\u001b[0m_validate\u001b[0m\u001b[0;34m(\u001b[0m\u001b[0mobj\u001b[0m\u001b[0;34m,\u001b[0m \u001b[0mvalue\u001b[0m\u001b[0;34m)\u001b[0m\u001b[0;34m\u001b[0m\u001b[0;34m\u001b[0m\u001b[0m\n\u001b[0m\u001b[1;32m    560\u001b[0m         \u001b[0;32mtry\u001b[0m\u001b[0;34m:\u001b[0m\u001b[0;34m\u001b[0m\u001b[0;34m\u001b[0m\u001b[0m\n\u001b[1;32m    561\u001b[0m             \u001b[0mold_value\u001b[0m \u001b[0;34m=\u001b[0m \u001b[0mobj\u001b[0m\u001b[0;34m.\u001b[0m\u001b[0m_trait_values\u001b[0m\u001b[0;34m[\u001b[0m\u001b[0mself\u001b[0m\u001b[0;34m.\u001b[0m\u001b[0mname\u001b[0m\u001b[0;34m]\u001b[0m\u001b[0;34m\u001b[0m\u001b[0;34m\u001b[0m\u001b[0m\n",
        "\u001b[0;32m/anaconda3/lib/python3.7/site-packages/traitlets/traitlets.py\u001b[0m in \u001b[0;36m_validate\u001b[0;34m(self, obj, value)\u001b[0m\n\u001b[1;32m    589\u001b[0m             \u001b[0;32mreturn\u001b[0m \u001b[0mvalue\u001b[0m\u001b[0;34m\u001b[0m\u001b[0;34m\u001b[0m\u001b[0m\n\u001b[1;32m    590\u001b[0m         \u001b[0;32mif\u001b[0m \u001b[0mhasattr\u001b[0m\u001b[0;34m(\u001b[0m\u001b[0mself\u001b[0m\u001b[0;34m,\u001b[0m \u001b[0;34m'validate'\u001b[0m\u001b[0;34m)\u001b[0m\u001b[0;34m:\u001b[0m\u001b[0;34m\u001b[0m\u001b[0;34m\u001b[0m\u001b[0m\n\u001b[0;32m--> 591\u001b[0;31m             \u001b[0mvalue\u001b[0m \u001b[0;34m=\u001b[0m \u001b[0mself\u001b[0m\u001b[0;34m.\u001b[0m\u001b[0mvalidate\u001b[0m\u001b[0;34m(\u001b[0m\u001b[0mobj\u001b[0m\u001b[0;34m,\u001b[0m \u001b[0mvalue\u001b[0m\u001b[0;34m)\u001b[0m\u001b[0;34m\u001b[0m\u001b[0;34m\u001b[0m\u001b[0m\n\u001b[0m\u001b[1;32m    592\u001b[0m         \u001b[0;32mif\u001b[0m \u001b[0mobj\u001b[0m\u001b[0;34m.\u001b[0m\u001b[0m_cross_validation_lock\u001b[0m \u001b[0;32mis\u001b[0m \u001b[0;32mFalse\u001b[0m\u001b[0;34m:\u001b[0m\u001b[0;34m\u001b[0m\u001b[0;34m\u001b[0m\u001b[0m\n\u001b[1;32m    593\u001b[0m             \u001b[0mvalue\u001b[0m \u001b[0;34m=\u001b[0m \u001b[0mself\u001b[0m\u001b[0;34m.\u001b[0m\u001b[0m_cross_validate\u001b[0m\u001b[0;34m(\u001b[0m\u001b[0mobj\u001b[0m\u001b[0;34m,\u001b[0m \u001b[0mvalue\u001b[0m\u001b[0;34m)\u001b[0m\u001b[0;34m\u001b[0m\u001b[0;34m\u001b[0m\u001b[0m\n",
        "\u001b[0;32m/anaconda3/lib/python3.7/site-packages/traitlets/traitlets.py\u001b[0m in \u001b[0;36mvalidate\u001b[0;34m(self, obj, value)\u001b[0m\n\u001b[1;32m   1868\u001b[0m     \u001b[0;32mdef\u001b[0m \u001b[0mvalidate\u001b[0m\u001b[0;34m(\u001b[0m\u001b[0mself\u001b[0m\u001b[0;34m,\u001b[0m \u001b[0mobj\u001b[0m\u001b[0;34m,\u001b[0m \u001b[0mvalue\u001b[0m\u001b[0;34m)\u001b[0m\u001b[0;34m:\u001b[0m\u001b[0;34m\u001b[0m\u001b[0;34m\u001b[0m\u001b[0m\n\u001b[1;32m   1869\u001b[0m         \u001b[0;32mif\u001b[0m \u001b[0;32mnot\u001b[0m \u001b[0misinstance\u001b[0m\u001b[0;34m(\u001b[0m\u001b[0mvalue\u001b[0m\u001b[0;34m,\u001b[0m \u001b[0mint\u001b[0m\u001b[0;34m)\u001b[0m\u001b[0;34m:\u001b[0m\u001b[0;34m\u001b[0m\u001b[0;34m\u001b[0m\u001b[0m\n\u001b[0;32m-> 1870\u001b[0;31m             \u001b[0mself\u001b[0m\u001b[0;34m.\u001b[0m\u001b[0merror\u001b[0m\u001b[0;34m(\u001b[0m\u001b[0mobj\u001b[0m\u001b[0;34m,\u001b[0m \u001b[0mvalue\u001b[0m\u001b[0;34m)\u001b[0m\u001b[0;34m\u001b[0m\u001b[0;34m\u001b[0m\u001b[0m\n\u001b[0m\u001b[1;32m   1871\u001b[0m         \u001b[0;32mreturn\u001b[0m \u001b[0m_validate_bounds\u001b[0m\u001b[0;34m(\u001b[0m\u001b[0mself\u001b[0m\u001b[0;34m,\u001b[0m \u001b[0mobj\u001b[0m\u001b[0;34m,\u001b[0m \u001b[0mvalue\u001b[0m\u001b[0;34m)\u001b[0m\u001b[0;34m\u001b[0m\u001b[0;34m\u001b[0m\u001b[0m\n\u001b[1;32m   1872\u001b[0m \u001b[0;34m\u001b[0m\u001b[0m\n",
        "\u001b[0;32m/anaconda3/lib/python3.7/site-packages/traitlets/traitlets.py\u001b[0m in \u001b[0;36merror\u001b[0;34m(self, obj, value)\u001b[0m\n\u001b[1;32m    623\u001b[0m             \u001b[0me\u001b[0m \u001b[0;34m=\u001b[0m \u001b[0;34m\"The '%s' trait must be %s, but a value of %r was specified.\"\u001b[0m\u001b[0;31m \u001b[0m\u001b[0;31m\\\u001b[0m\u001b[0;34m\u001b[0m\u001b[0;34m\u001b[0m\u001b[0m\n\u001b[1;32m    624\u001b[0m                 \u001b[0;34m%\u001b[0m \u001b[0;34m(\u001b[0m\u001b[0mself\u001b[0m\u001b[0;34m.\u001b[0m\u001b[0mname\u001b[0m\u001b[0;34m,\u001b[0m \u001b[0mself\u001b[0m\u001b[0;34m.\u001b[0m\u001b[0minfo\u001b[0m\u001b[0;34m(\u001b[0m\u001b[0;34m)\u001b[0m\u001b[0;34m,\u001b[0m \u001b[0mrepr_type\u001b[0m\u001b[0;34m(\u001b[0m\u001b[0mvalue\u001b[0m\u001b[0;34m)\u001b[0m\u001b[0;34m)\u001b[0m\u001b[0;34m\u001b[0m\u001b[0;34m\u001b[0m\u001b[0m\n\u001b[0;32m--> 625\u001b[0;31m         \u001b[0;32mraise\u001b[0m \u001b[0mTraitError\u001b[0m\u001b[0;34m(\u001b[0m\u001b[0me\u001b[0m\u001b[0;34m)\u001b[0m\u001b[0;34m\u001b[0m\u001b[0;34m\u001b[0m\u001b[0m\n\u001b[0m\u001b[1;32m    626\u001b[0m \u001b[0;34m\u001b[0m\u001b[0m\n\u001b[1;32m    627\u001b[0m     \u001b[0;32mdef\u001b[0m \u001b[0mget_metadata\u001b[0m\u001b[0;34m(\u001b[0m\u001b[0mself\u001b[0m\u001b[0;34m,\u001b[0m \u001b[0mkey\u001b[0m\u001b[0;34m,\u001b[0m \u001b[0mdefault\u001b[0m\u001b[0;34m=\u001b[0m\u001b[0;32mNone\u001b[0m\u001b[0;34m)\u001b[0m\u001b[0;34m:\u001b[0m\u001b[0;34m\u001b[0m\u001b[0;34m\u001b[0m\u001b[0m\n",
        "\u001b[0;31mTraitError\u001b[0m: The 'zoom' trait of a Map instance must be an int, but a value of 11.5 <class 'float'> was specified."
       ]
      }
     ],
     "persistentId": "229dfb64-a734-43ee-95cb-f7abe0a2e484",
     "text": "def create_map():\n    center = (19.3952, -99.1412)\n    m = Map(center=center,\n                  zoom=11.5, dragging=True,\n                  touch_zoom=True,\n                   close_popup_on_click=True)\n    get_markers(m)\n    return m\n    \n    \ndef get_markers(m):\n    icon = Icon(icon_url='https://image.flaticon.com/icons/png/512/2285/2285410.png',\n               icon_size=[20,20])\n    for place in locations:\n        coord = (place['location']['lon'], -place['location']['lat'])\n        marker = Marker(location=coord, draggable=False,\n                        icon=icon)\n        m.add_layer(marker);\n        add_popup(place, coord, m)\n        \ndef add_popup(place, coord, m):\n    message = widgets.HTML()\n    message.value = f\"Host: {place.get('host')} <br> Place: {place['name']}\"\n    popup = Popup(location=coord,\n                 child=message,\n                 close_button=True,\n                  auto_close=False,\n                 close_on_escape_key=True)\n    m.add_layer(popup)\n        \ncreate_map()"
    },
    "executionTime": "2019-12-16T15:11:11.221Z"
   },
   {
    "cell": {
     "executionCount": 104,
     "executionEventId": "b5103fb7-59d5-4684-968f-ec6581153e34",
     "hasError": false,
     "id": "c47cb284-f183-4fa8-b1ae-f3067f084f0f",
     "outputs": [
      {
       "data": {
        "application/vnd.jupyter.widget-view+json": {
         "model_id": "bb72320ff6ec41dbba4cc565516e3a48",
         "version_major": 2,
         "version_minor": 0
        },
        "text/plain": "Map(basemap={'url': 'https://{s}.tile.openstreetmap.org/{z}/{x}/{y}.png', 'max_zoom': 19, 'attribution': 'Map …"
       },
       "metadata": {},
       "output_type": "display_data"
      }
     ],
     "persistentId": "229dfb64-a734-43ee-95cb-f7abe0a2e484",
     "text": "def create_map():\n    center = (19.3952, -99.1412)\n    m = Map(center=center,\n                  zoom=11, dragging=True,\n                  touch_zoom=True,\n                   close_popup_on_click=True)\n    get_markers(m)\n    return m\n    \n    \ndef get_markers(m):\n    icon = Icon(icon_url='https://image.flaticon.com/icons/png/512/2285/2285410.png',\n               icon_size=[20,20])\n    for place in locations:\n        coord = (place['location']['lon'], -place['location']['lat'])\n        marker = Marker(location=coord, draggable=False,\n                        icon=icon)\n        m.add_layer(marker);\n        add_popup(place, coord, m)\n        \ndef add_popup(place, coord, m):\n    message = widgets.HTML()\n    message.value = f\"Host: {place.get('host')} <br> Place: {place['name']}\"\n    popup = Popup(location=coord,\n                 child=message,\n                 close_button=True,\n                  auto_close=False,\n                 close_on_escape_key=True)\n    m.add_layer(popup)\n        \ncreate_map()"
    },
    "executionTime": "2019-12-16T15:11:14.210Z"
   },
   {
    "cell": {
     "executionCount": 105,
     "executionEventId": "f0b9b3f0-223e-45e9-9762-5d620b4ec659",
     "hasError": false,
     "id": "c47cb284-f183-4fa8-b1ae-f3067f084f0f",
     "outputs": [
      {
       "data": {
        "application/vnd.jupyter.widget-view+json": {
         "model_id": "2c7ba217339245739247ed06cf2e3b31",
         "version_major": 2,
         "version_minor": 0
        },
        "text/plain": "Map(basemap={'url': 'https://{s}.tile.openstreetmap.org/{z}/{x}/{y}.png', 'max_zoom': 19, 'attribution': 'Map …"
       },
       "metadata": {},
       "output_type": "display_data"
      }
     ],
     "persistentId": "229dfb64-a734-43ee-95cb-f7abe0a2e484",
     "text": "def create_map():\n    center = (19.3952, -99.1412)\n    m = Map(center=center,\n                  zoom=11, dragging=True,\n                  touch_zoom=True,\n                   close_popup_on_click=True)\n    get_markers(m)\n    return m\n    \n    \ndef get_markers(m):\n    icon = Icon(icon_url='https://image.flaticon.com/icons/png/512/2285/2285410.png',\n               icon_size=[25,25])\n    for place in locations:\n        coord = (place['location']['lon'], -place['location']['lat'])\n        marker = Marker(location=coord, draggable=False,\n                        icon=icon)\n        m.add_layer(marker);\n        add_popup(place, coord, m)\n        \ndef add_popup(place, coord, m):\n    message = widgets.HTML()\n    message.value = f\"Host: {place.get('host')} <br> Place: {place['name']}\"\n    popup = Popup(location=coord,\n                 child=message,\n                 close_button=True,\n                  auto_close=False,\n                 close_on_escape_key=True)\n    m.add_layer(popup)\n        \ncreate_map()"
    },
    "executionTime": "2019-12-16T15:11:27.295Z"
   },
   {
    "cell": {
     "executionCount": 106,
     "executionEventId": "2185fc0c-1da2-4d7a-89cf-cfadc025bebb",
     "hasError": false,
     "id": "c47cb284-f183-4fa8-b1ae-f3067f084f0f",
     "outputs": [
      {
       "data": {
        "application/vnd.jupyter.widget-view+json": {
         "model_id": "2a465d0373a1455e88194e9d8c10ffdf",
         "version_major": 2,
         "version_minor": 0
        },
        "text/plain": "Map(basemap={'url': 'https://{s}.tile.openstreetmap.org/{z}/{x}/{y}.png', 'max_zoom': 19, 'attribution': 'Map …"
       },
       "metadata": {},
       "output_type": "display_data"
      }
     ],
     "persistentId": "229dfb64-a734-43ee-95cb-f7abe0a2e484",
     "text": "def create_map():\n    center = (19.3952, -99.1412)\n    m = Map(center=center,\n                  zoom=11, dragging=True,\n                  touch_zoom=True,\n                   close_popup_on_click=True)\n    get_markers(m)\n    return m\n    \n    \ndef get_markers(m):\n    icon = Icon(icon_url='https://image.flaticon.com/icons/png/512/2285/2285410.png',\n               icon_size=[25,25])\n    for place in locations:\n        coord = (place['location']['lon'], -place['location']['lat'])\n        marker = Marker(location=coord, draggable=False,\n                        icon=icon)\n        m.add_layer(marker);\n        add_popup(place, coord, m)\n        \ndef add_popup(place, coord, m):\n    message = widgets.HTML()\n    message.value = f\"Host: {place.get('host')} <br> Place: {place['name']}\"\n    marker.popup = message\n        \ncreate_map()"
    },
    "executionTime": "2019-12-16T15:14:03.699Z"
   },
   {
    "cell": {
     "executionCount": 107,
     "executionEventId": "0aa237d4-848d-4740-9667-165796313e33",
     "hasError": false,
     "id": "c47cb284-f183-4fa8-b1ae-f3067f084f0f",
     "outputs": [
      {
       "data": {
        "application/vnd.jupyter.widget-view+json": {
         "model_id": "e0bc6bd860484fbf8c8655eab9f7a480",
         "version_major": 2,
         "version_minor": 0
        },
        "text/plain": "Map(basemap={'url': 'https://{s}.tile.openstreetmap.org/{z}/{x}/{y}.png', 'max_zoom': 19, 'attribution': 'Map …"
       },
       "metadata": {},
       "output_type": "display_data"
      }
     ],
     "persistentId": "229dfb64-a734-43ee-95cb-f7abe0a2e484",
     "text": "def create_map():\n    center = (19.3952, -99.1412)\n    m = Map(center=center,\n                  zoom=11, dragging=True,\n                  touch_zoom=True,\n                   close_popup_on_click=True)\n    get_markers(m)\n    return m\n    \n    \ndef get_markers(m):\n    icon = Icon(icon_url='https://image.flaticon.com/icons/png/512/2285/2285410.png',\n               icon_size=[25,25])\n    for place in locations:\n        coord = (place['location']['lon'], -place['location']['lat'])\n        marker = Marker(location=coord, draggable=False,\n                        icon=icon)\n        add_popup(place, coord, m)\n        m.add_layer(marker);\n        \n        \ndef add_popup(place, coord, m):\n    message = widgets.HTML()\n    message.value = f\"Host: {place.get('host')} <br> Place: {place['name']}\"\n    marker.popup = message\n        \ncreate_map()"
    },
    "executionTime": "2019-12-16T15:14:25.793Z"
   },
   {
    "cell": {
     "executionCount": 108,
     "executionEventId": "2ba67029-f103-4cd8-b8e4-702d8ec7ac42",
     "hasError": false,
     "id": "c47cb284-f183-4fa8-b1ae-f3067f084f0f",
     "outputs": [
      {
       "data": {
        "application/vnd.jupyter.widget-view+json": {
         "model_id": "d7859d45c3ac4e27b6ee2517be4184ef",
         "version_major": 2,
         "version_minor": 0
        },
        "text/plain": "Map(basemap={'url': 'https://{s}.tile.openstreetmap.org/{z}/{x}/{y}.png', 'max_zoom': 19, 'attribution': 'Map …"
       },
       "metadata": {},
       "output_type": "display_data"
      }
     ],
     "persistentId": "229dfb64-a734-43ee-95cb-f7abe0a2e484",
     "text": "def create_map():\n    center = (19.3952, -99.1412)\n    m = Map(center=center,\n                  zoom=11, dragging=True,\n                  touch_zoom=True,\n                   close_popup_on_click=True)\n    get_markers(m)\n    return m\n    \n    \ndef get_markers(m):\n    icon = Icon(icon_url='https://image.flaticon.com/icons/png/512/2285/2285410.png',\n               icon_size=[25,25])\n    for place in locations:\n        coord = (place['location']['lon'], -place['location']['lat'])\n        marker = Marker(location=coord, draggable=False,\n                        icon=icon)\n        message = widgets.HTML()\n        message.value = f\"Host: {place.get('host')} <br> Place: {place['name']}\"\n        marker.popup = message\n        m.add_layer(marker);\n        \n        \ndef add_popup(place, coord, m):\n    message = widgets.HTML()\n    message.value = f\"Host: {place.get('host')} <br> Place: {place['name']}\"\n    marker.popup = message\n        \ncreate_map()"
    },
    "executionTime": "2019-12-16T15:15:27.987Z"
   },
   {
    "cell": {
     "executionCount": 109,
     "executionEventId": "32c36707-3309-4544-9fc0-c5911b7ed094",
     "hasError": true,
     "id": "c47cb284-f183-4fa8-b1ae-f3067f084f0f",
     "outputs": [
      {
       "ename": "NameError",
       "evalue": "name 'basemap_to_tiles' is not defined",
       "output_type": "error",
       "traceback": [
        "\u001b[0;31m---------------------------------------------------------------------------\u001b[0m",
        "\u001b[0;31mNameError\u001b[0m                                 Traceback (most recent call last)",
        "\u001b[0;32m<ipython-input-109-485f7a1a4257>\u001b[0m in \u001b[0;36m<module>\u001b[0;34m\u001b[0m\n\u001b[1;32m     24\u001b[0m \u001b[0;34m\u001b[0m\u001b[0m\n\u001b[1;32m     25\u001b[0m \u001b[0;34m\u001b[0m\u001b[0m\n\u001b[0;32m---> 26\u001b[0;31m \u001b[0mcreate_map\u001b[0m\u001b[0;34m(\u001b[0m\u001b[0;34m)\u001b[0m\u001b[0;34m\u001b[0m\u001b[0;34m\u001b[0m\u001b[0m\n\u001b[0m",
        "\u001b[0;32m<ipython-input-109-485f7a1a4257>\u001b[0m in \u001b[0;36mcreate_map\u001b[0;34m()\u001b[0m\n\u001b[1;32m      5\u001b[0m                   \u001b[0mtouch_zoom\u001b[0m\u001b[0;34m=\u001b[0m\u001b[0;32mTrue\u001b[0m\u001b[0;34m,\u001b[0m\u001b[0;34m\u001b[0m\u001b[0;34m\u001b[0m\u001b[0m\n\u001b[1;32m      6\u001b[0m                    close_popup_on_click=True)\n\u001b[0;32m----> 7\u001b[0;31m     \u001b[0mdark_matter_layer\u001b[0m \u001b[0;34m=\u001b[0m \u001b[0mbasemap_to_tiles\u001b[0m\u001b[0;34m(\u001b[0m\u001b[0mbasemaps\u001b[0m\u001b[0;34m.\u001b[0m\u001b[0mCartoDB\u001b[0m\u001b[0;34m.\u001b[0m\u001b[0mDarkMatter\u001b[0m\u001b[0;34m)\u001b[0m\u001b[0;34m\u001b[0m\u001b[0;34m\u001b[0m\u001b[0m\n\u001b[0m\u001b[1;32m      8\u001b[0m     \u001b[0mm\u001b[0m\u001b[0;34m.\u001b[0m\u001b[0madd_layer\u001b[0m\u001b[0;34m(\u001b[0m\u001b[0mdark_matter_layer\u001b[0m\u001b[0;34m)\u001b[0m\u001b[0;34m\u001b[0m\u001b[0;34m\u001b[0m\u001b[0m\n\u001b[1;32m      9\u001b[0m     \u001b[0mget_markers\u001b[0m\u001b[0;34m(\u001b[0m\u001b[0mm\u001b[0m\u001b[0;34m)\u001b[0m\u001b[0;34m\u001b[0m\u001b[0;34m\u001b[0m\u001b[0m\n",
        "\u001b[0;31mNameError\u001b[0m: name 'basemap_to_tiles' is not defined"
       ]
      }
     ],
     "persistentId": "229dfb64-a734-43ee-95cb-f7abe0a2e484",
     "text": "def create_map():\n    center = (19.3952, -99.1412)\n    m = Map(center=center,\n                  zoom=11, dragging=True,\n                  touch_zoom=True,\n                   close_popup_on_click=True)\n    dark_matter_layer = basemap_to_tiles(basemaps.CartoDB.DarkMatter)\n    m.add_layer(dark_matter_layer)\n    get_markers(m)\n    return m\n    \n    \ndef get_markers(m):\n    icon = Icon(icon_url='https://image.flaticon.com/icons/png/512/2285/2285410.png',\n               icon_size=[25,25])\n    for place in locations:\n        coord = (place['location']['lon'], -place['location']['lat'])\n        marker = Marker(location=coord, draggable=False,\n                        icon=icon)\n        message = widgets.HTML()\n        message.value = f\"Host: {place.get('host')} <br> Place: {place['name']}\"\n        marker.popup = message\n        m.add_layer(marker);\n\n        \ncreate_map()"
    },
    "executionTime": "2019-12-16T15:16:59.726Z"
   },
   {
    "cell": {
     "executionCount": 110,
     "executionEventId": "d976489a-c4e1-4577-81ec-279c8f7ca3f8",
     "hasError": false,
     "id": "d5afaddc-1777-48f2-bf48-983139cea4de",
     "outputs": [],
     "persistentId": "1d60603d-be35-4d7c-9d4c-7e6f00d6aa8f",
     "text": "import ipyvuetify as v\nfrom ipywidgets import IntSlider, jslink\nfrom ipyleaflet import Map, Marker, Popup, WidgetControl, Icon, basemaps, basemap_to_tiles\nimport json\nfrom pathlib import Path"
    },
    "executionTime": "2019-12-16T15:17:13.235Z"
   },
   {
    "cell": {
     "executionCount": 111,
     "executionEventId": "e0d9c623-3b89-44e6-a524-4b27ff764fba",
     "hasError": false,
     "id": "c47cb284-f183-4fa8-b1ae-f3067f084f0f",
     "outputs": [
      {
       "data": {
        "application/vnd.jupyter.widget-view+json": {
         "model_id": "74c4f0be84da45f0a220176016fe0367",
         "version_major": 2,
         "version_minor": 0
        },
        "text/plain": "Map(basemap={'url': 'https://{s}.tile.openstreetmap.org/{z}/{x}/{y}.png', 'max_zoom': 19, 'attribution': 'Map …"
       },
       "metadata": {},
       "output_type": "display_data"
      }
     ],
     "persistentId": "229dfb64-a734-43ee-95cb-f7abe0a2e484",
     "text": "def create_map():\n    center = (19.3952, -99.1412)\n    m = Map(center=center,\n                  zoom=11, dragging=True,\n                  touch_zoom=True,\n                   close_popup_on_click=True)\n    dark_matter_layer = basemap_to_tiles(basemaps.CartoDB.DarkMatter)\n    m.add_layer(dark_matter_layer)\n    get_markers(m)\n    return m\n    \n    \ndef get_markers(m):\n    icon = Icon(icon_url='https://image.flaticon.com/icons/png/512/2285/2285410.png',\n               icon_size=[25,25])\n    for place in locations:\n        coord = (place['location']['lon'], -place['location']['lat'])\n        marker = Marker(location=coord, draggable=False,\n                        icon=icon)\n        message = widgets.HTML()\n        message.value = f\"Host: {place.get('host')} <br> Place: {place['name']}\"\n        marker.popup = message\n        m.add_layer(marker);\n\n        \ncreate_map()"
    },
    "executionTime": "2019-12-16T15:17:15.383Z"
   },
   {
    "cell": {
     "executionCount": 112,
     "executionEventId": "9b199d66-6808-4d03-8599-e383c1bdda3d",
     "hasError": true,
     "id": "c47cb284-f183-4fa8-b1ae-f3067f084f0f",
     "outputs": [
      {
       "ename": "AttributeError",
       "evalue": "day",
       "output_type": "error",
       "traceback": [
        "\u001b[0;31m---------------------------------------------------------------------------\u001b[0m",
        "\u001b[0;31mKeyError\u001b[0m                                  Traceback (most recent call last)",
        "\u001b[0;32m/anaconda3/lib/python3.7/site-packages/ipyleaflet/basemaps.py\u001b[0m in \u001b[0;36m__getattr__\u001b[0;34m(self, key)\u001b[0m\n\u001b[1;32m      5\u001b[0m         \u001b[0;32mtry\u001b[0m\u001b[0;34m:\u001b[0m\u001b[0;34m\u001b[0m\u001b[0;34m\u001b[0m\u001b[0m\n\u001b[0;32m----> 6\u001b[0;31m             \u001b[0;32mreturn\u001b[0m \u001b[0mself\u001b[0m\u001b[0;34m.\u001b[0m\u001b[0m__getitem__\u001b[0m\u001b[0;34m(\u001b[0m\u001b[0mkey\u001b[0m\u001b[0;34m)\u001b[0m\u001b[0;34m\u001b[0m\u001b[0;34m\u001b[0m\u001b[0m\n\u001b[0m\u001b[1;32m      7\u001b[0m         \u001b[0;32mexcept\u001b[0m \u001b[0mKeyError\u001b[0m\u001b[0;34m:\u001b[0m\u001b[0;34m\u001b[0m\u001b[0;34m\u001b[0m\u001b[0m\n",
        "\u001b[0;31mKeyError\u001b[0m: 'day'",
        "\nDuring handling of the above exception, another exception occurred:\n",
        "\u001b[0;31mAttributeError\u001b[0m                            Traceback (most recent call last)",
        "\u001b[0;32m<ipython-input-112-2902b1d70720>\u001b[0m in \u001b[0;36m<module>\u001b[0;34m\u001b[0m\n\u001b[1;32m     24\u001b[0m \u001b[0;34m\u001b[0m\u001b[0m\n\u001b[1;32m     25\u001b[0m \u001b[0;34m\u001b[0m\u001b[0m\n\u001b[0;32m---> 26\u001b[0;31m \u001b[0mcreate_map\u001b[0m\u001b[0;34m(\u001b[0m\u001b[0;34m)\u001b[0m\u001b[0;34m\u001b[0m\u001b[0;34m\u001b[0m\u001b[0m\n\u001b[0m",
        "\u001b[0;32m<ipython-input-112-2902b1d70720>\u001b[0m in \u001b[0;36mcreate_map\u001b[0;34m()\u001b[0m\n\u001b[1;32m      5\u001b[0m                   \u001b[0mtouch_zoom\u001b[0m\u001b[0;34m=\u001b[0m\u001b[0;32mTrue\u001b[0m\u001b[0;34m,\u001b[0m\u001b[0;34m\u001b[0m\u001b[0;34m\u001b[0m\u001b[0m\n\u001b[1;32m      6\u001b[0m                    close_popup_on_click=True)\n\u001b[0;32m----> 7\u001b[0;31m     \u001b[0mdark_matter_layer\u001b[0m \u001b[0;34m=\u001b[0m \u001b[0mbasemap_to_tiles\u001b[0m\u001b[0;34m(\u001b[0m\u001b[0mbasemaps\u001b[0m\u001b[0;34m.\u001b[0m\u001b[0mCartoDB\u001b[0m\u001b[0;34m.\u001b[0m\u001b[0mday\u001b[0m\u001b[0;34m)\u001b[0m\u001b[0;34m\u001b[0m\u001b[0;34m\u001b[0m\u001b[0m\n\u001b[0m\u001b[1;32m      8\u001b[0m     \u001b[0mm\u001b[0m\u001b[0;34m.\u001b[0m\u001b[0madd_layer\u001b[0m\u001b[0;34m(\u001b[0m\u001b[0mdark_matter_layer\u001b[0m\u001b[0;34m)\u001b[0m\u001b[0;34m\u001b[0m\u001b[0;34m\u001b[0m\u001b[0m\n\u001b[1;32m      9\u001b[0m     \u001b[0mget_markers\u001b[0m\u001b[0;34m(\u001b[0m\u001b[0mm\u001b[0m\u001b[0;34m)\u001b[0m\u001b[0;34m\u001b[0m\u001b[0;34m\u001b[0m\u001b[0m\n",
        "\u001b[0;32m/anaconda3/lib/python3.7/site-packages/ipyleaflet/basemaps.py\u001b[0m in \u001b[0;36m__getattr__\u001b[0;34m(self, key)\u001b[0m\n\u001b[1;32m      6\u001b[0m             \u001b[0;32mreturn\u001b[0m \u001b[0mself\u001b[0m\u001b[0;34m.\u001b[0m\u001b[0m__getitem__\u001b[0m\u001b[0;34m(\u001b[0m\u001b[0mkey\u001b[0m\u001b[0;34m)\u001b[0m\u001b[0;34m\u001b[0m\u001b[0;34m\u001b[0m\u001b[0m\n\u001b[1;32m      7\u001b[0m         \u001b[0;32mexcept\u001b[0m \u001b[0mKeyError\u001b[0m\u001b[0;34m:\u001b[0m\u001b[0;34m\u001b[0m\u001b[0;34m\u001b[0m\u001b[0m\n\u001b[0;32m----> 8\u001b[0;31m             \u001b[0;32mraise\u001b[0m \u001b[0mAttributeError\u001b[0m\u001b[0;34m(\u001b[0m\u001b[0mkey\u001b[0m\u001b[0;34m)\u001b[0m\u001b[0;34m\u001b[0m\u001b[0;34m\u001b[0m\u001b[0m\n\u001b[0m\u001b[1;32m      9\u001b[0m \u001b[0;34m\u001b[0m\u001b[0m\n\u001b[1;32m     10\u001b[0m     \u001b[0;32mdef\u001b[0m \u001b[0m__setattr__\u001b[0m\u001b[0;34m(\u001b[0m\u001b[0mself\u001b[0m\u001b[0;34m,\u001b[0m \u001b[0mkey\u001b[0m\u001b[0;34m,\u001b[0m \u001b[0mvalue\u001b[0m\u001b[0;34m)\u001b[0m\u001b[0;34m:\u001b[0m\u001b[0;34m\u001b[0m\u001b[0;34m\u001b[0m\u001b[0m\n",
        "\u001b[0;31mAttributeError\u001b[0m: day"
       ]
      }
     ],
     "persistentId": "229dfb64-a734-43ee-95cb-f7abe0a2e484",
     "text": "def create_map():\n    center = (19.3952, -99.1412)\n    m = Map(center=center,\n                  zoom=11, dragging=True,\n                  touch_zoom=True,\n                   close_popup_on_click=True)\n    dark_matter_layer = basemap_to_tiles(basemaps.CartoDB.day)\n    m.add_layer(dark_matter_layer)\n    get_markers(m)\n    return m\n    \n    \ndef get_markers(m):\n    icon = Icon(icon_url='https://image.flaticon.com/icons/png/512/2285/2285410.png',\n               icon_size=[25,25])\n    for place in locations:\n        coord = (place['location']['lon'], -place['location']['lat'])\n        marker = Marker(location=coord, draggable=False,\n                        icon=icon)\n        message = widgets.HTML()\n        message.value = f\"Host: {place.get('host')} <br> Place: {place['name']}\"\n        marker.popup = message\n        m.add_layer(marker);\n\n        \ncreate_map()"
    },
    "executionTime": "2019-12-16T15:18:02.018Z"
   },
   {
    "cell": {
     "executionCount": 113,
     "executionEventId": "8cc9186b-198e-4d37-a2f3-71a5290c4ca7",
     "hasError": true,
     "id": "c47cb284-f183-4fa8-b1ae-f3067f084f0f",
     "outputs": [
      {
       "ename": "AttributeError",
       "evalue": "DayMatter",
       "output_type": "error",
       "traceback": [
        "\u001b[0;31m---------------------------------------------------------------------------\u001b[0m",
        "\u001b[0;31mKeyError\u001b[0m                                  Traceback (most recent call last)",
        "\u001b[0;32m/anaconda3/lib/python3.7/site-packages/ipyleaflet/basemaps.py\u001b[0m in \u001b[0;36m__getattr__\u001b[0;34m(self, key)\u001b[0m\n\u001b[1;32m      5\u001b[0m         \u001b[0;32mtry\u001b[0m\u001b[0;34m:\u001b[0m\u001b[0;34m\u001b[0m\u001b[0;34m\u001b[0m\u001b[0m\n\u001b[0;32m----> 6\u001b[0;31m             \u001b[0;32mreturn\u001b[0m \u001b[0mself\u001b[0m\u001b[0;34m.\u001b[0m\u001b[0m__getitem__\u001b[0m\u001b[0;34m(\u001b[0m\u001b[0mkey\u001b[0m\u001b[0;34m)\u001b[0m\u001b[0;34m\u001b[0m\u001b[0;34m\u001b[0m\u001b[0m\n\u001b[0m\u001b[1;32m      7\u001b[0m         \u001b[0;32mexcept\u001b[0m \u001b[0mKeyError\u001b[0m\u001b[0;34m:\u001b[0m\u001b[0;34m\u001b[0m\u001b[0;34m\u001b[0m\u001b[0m\n",
        "\u001b[0;31mKeyError\u001b[0m: 'DayMatter'",
        "\nDuring handling of the above exception, another exception occurred:\n",
        "\u001b[0;31mAttributeError\u001b[0m                            Traceback (most recent call last)",
        "\u001b[0;32m<ipython-input-113-c2d23d547cf1>\u001b[0m in \u001b[0;36m<module>\u001b[0;34m\u001b[0m\n\u001b[1;32m     24\u001b[0m \u001b[0;34m\u001b[0m\u001b[0m\n\u001b[1;32m     25\u001b[0m \u001b[0;34m\u001b[0m\u001b[0m\n\u001b[0;32m---> 26\u001b[0;31m \u001b[0mcreate_map\u001b[0m\u001b[0;34m(\u001b[0m\u001b[0;34m)\u001b[0m\u001b[0;34m\u001b[0m\u001b[0;34m\u001b[0m\u001b[0m\n\u001b[0m",
        "\u001b[0;32m<ipython-input-113-c2d23d547cf1>\u001b[0m in \u001b[0;36mcreate_map\u001b[0;34m()\u001b[0m\n\u001b[1;32m      5\u001b[0m                   \u001b[0mtouch_zoom\u001b[0m\u001b[0;34m=\u001b[0m\u001b[0;32mTrue\u001b[0m\u001b[0;34m,\u001b[0m\u001b[0;34m\u001b[0m\u001b[0;34m\u001b[0m\u001b[0m\n\u001b[1;32m      6\u001b[0m                    close_popup_on_click=True)\n\u001b[0;32m----> 7\u001b[0;31m     \u001b[0mdark_matter_layer\u001b[0m \u001b[0;34m=\u001b[0m \u001b[0mbasemap_to_tiles\u001b[0m\u001b[0;34m(\u001b[0m\u001b[0mbasemaps\u001b[0m\u001b[0;34m.\u001b[0m\u001b[0mCartoDB\u001b[0m\u001b[0;34m.\u001b[0m\u001b[0mDayMatter\u001b[0m\u001b[0;34m)\u001b[0m\u001b[0;34m\u001b[0m\u001b[0;34m\u001b[0m\u001b[0m\n\u001b[0m\u001b[1;32m      8\u001b[0m     \u001b[0mm\u001b[0m\u001b[0;34m.\u001b[0m\u001b[0madd_layer\u001b[0m\u001b[0;34m(\u001b[0m\u001b[0mdark_matter_layer\u001b[0m\u001b[0;34m)\u001b[0m\u001b[0;34m\u001b[0m\u001b[0;34m\u001b[0m\u001b[0m\n\u001b[1;32m      9\u001b[0m     \u001b[0mget_markers\u001b[0m\u001b[0;34m(\u001b[0m\u001b[0mm\u001b[0m\u001b[0;34m)\u001b[0m\u001b[0;34m\u001b[0m\u001b[0;34m\u001b[0m\u001b[0m\n",
        "\u001b[0;32m/anaconda3/lib/python3.7/site-packages/ipyleaflet/basemaps.py\u001b[0m in \u001b[0;36m__getattr__\u001b[0;34m(self, key)\u001b[0m\n\u001b[1;32m      6\u001b[0m             \u001b[0;32mreturn\u001b[0m \u001b[0mself\u001b[0m\u001b[0;34m.\u001b[0m\u001b[0m__getitem__\u001b[0m\u001b[0;34m(\u001b[0m\u001b[0mkey\u001b[0m\u001b[0;34m)\u001b[0m\u001b[0;34m\u001b[0m\u001b[0;34m\u001b[0m\u001b[0m\n\u001b[1;32m      7\u001b[0m         \u001b[0;32mexcept\u001b[0m \u001b[0mKeyError\u001b[0m\u001b[0;34m:\u001b[0m\u001b[0;34m\u001b[0m\u001b[0;34m\u001b[0m\u001b[0m\n\u001b[0;32m----> 8\u001b[0;31m             \u001b[0;32mraise\u001b[0m \u001b[0mAttributeError\u001b[0m\u001b[0;34m(\u001b[0m\u001b[0mkey\u001b[0m\u001b[0;34m)\u001b[0m\u001b[0;34m\u001b[0m\u001b[0;34m\u001b[0m\u001b[0m\n\u001b[0m\u001b[1;32m      9\u001b[0m \u001b[0;34m\u001b[0m\u001b[0m\n\u001b[1;32m     10\u001b[0m     \u001b[0;32mdef\u001b[0m \u001b[0m__setattr__\u001b[0m\u001b[0;34m(\u001b[0m\u001b[0mself\u001b[0m\u001b[0;34m,\u001b[0m \u001b[0mkey\u001b[0m\u001b[0;34m,\u001b[0m \u001b[0mvalue\u001b[0m\u001b[0;34m)\u001b[0m\u001b[0;34m:\u001b[0m\u001b[0;34m\u001b[0m\u001b[0;34m\u001b[0m\u001b[0m\n",
        "\u001b[0;31mAttributeError\u001b[0m: DayMatter"
       ]
      }
     ],
     "persistentId": "229dfb64-a734-43ee-95cb-f7abe0a2e484",
     "text": "def create_map():\n    center = (19.3952, -99.1412)\n    m = Map(center=center,\n                  zoom=11, dragging=True,\n                  touch_zoom=True,\n                   close_popup_on_click=True)\n    dark_matter_layer = basemap_to_tiles(basemaps.CartoDB.DayMatter)\n    m.add_layer(dark_matter_layer)\n    get_markers(m)\n    return m\n    \n    \ndef get_markers(m):\n    icon = Icon(icon_url='https://image.flaticon.com/icons/png/512/2285/2285410.png',\n               icon_size=[25,25])\n    for place in locations:\n        coord = (place['location']['lon'], -place['location']['lat'])\n        marker = Marker(location=coord, draggable=False,\n                        icon=icon)\n        message = widgets.HTML()\n        message.value = f\"Host: {place.get('host')} <br> Place: {place['name']}\"\n        marker.popup = message\n        m.add_layer(marker);\n\n        \ncreate_map()"
    },
    "executionTime": "2019-12-16T15:18:13.945Z"
   },
   {
    "cell": {
     "executionCount": 114,
     "executionEventId": "b8b303a6-5d86-4317-83de-c0ae005cedab",
     "hasError": false,
     "id": "d5afaddc-1777-48f2-bf48-983139cea4de",
     "outputs": [],
     "persistentId": "1d60603d-be35-4d7c-9d4c-7e6f00d6aa8f",
     "text": "import ipyvuetify as v\nfrom ipywidgets import IntSlider, jslink\nfrom ipyleaflet import Map, Marker, Popup, WidgetControl, Icon, basemaps\nimport json\nfrom pathlib import Path"
    },
    "executionTime": "2019-12-16T15:20:25.757Z"
   },
   {
    "cell": {
     "executionCount": 115,
     "executionEventId": "3f1cc313-73e5-467e-b70c-fc0a4cfa4188",
     "hasError": false,
     "id": "c47cb284-f183-4fa8-b1ae-f3067f084f0f",
     "outputs": [
      {
       "data": {
        "application/vnd.jupyter.widget-view+json": {
         "model_id": "238f42ef8b1d4715a55d87fe15a01761",
         "version_major": 2,
         "version_minor": 0
        },
        "text/plain": "Map(basemap={'url': 'https://heatmap-external-a.strava.com//tiles/all/hot/{z}/{x}/{y}.png?v=19', 'max_zoom': 1…"
       },
       "metadata": {},
       "output_type": "display_data"
      }
     ],
     "persistentId": "229dfb64-a734-43ee-95cb-f7abe0a2e484",
     "text": "def create_map():\n    center = (19.3952, -99.1412)\n    m = Map(center=center,\n                  zoom=11, dragging=True,\n                  touch_zoom=True,\n                  basemap=basemaps.Strava.All)\n    get_markers(m)\n    return m\n    \n    \ndef get_markers(m):\n    icon = Icon(icon_url='https://image.flaticon.com/icons/png/512/2285/2285410.png',\n               icon_size=[25,25])\n    for place in locations:\n        coord = (place['location']['lon'], -place['location']['lat'])\n        marker = Marker(location=coord, draggable=False,\n                        icon=icon)\n        message = widgets.HTML()\n        message.value = f\"Host: {place.get('host')} <br> Place: {place['name']}\"\n        marker.popup = message\n        m.add_layer(marker);\n\n        \ncreate_map()"
    },
    "executionTime": "2019-12-16T15:21:36.231Z"
   },
   {
    "cell": {
     "executionCount": 116,
     "executionEventId": "7ad6ea17-dab5-40af-997d-32a9471b4546",
     "hasError": false,
     "id": "c47cb284-f183-4fa8-b1ae-f3067f084f0f",
     "outputs": [
      {
       "data": {
        "application/vnd.jupyter.widget-view+json": {
         "model_id": "7e67e0aa66b6454ba83294e3eafd9021",
         "version_major": 2,
         "version_minor": 0
        },
        "text/plain": "Map(basemap={'url': 'http://c.basemaps.cartocdn.com/dark_all/{z}/{x}/{y}.png', 'max_zoom': 20, 'attribution': …"
       },
       "metadata": {},
       "output_type": "display_data"
      }
     ],
     "persistentId": "229dfb64-a734-43ee-95cb-f7abe0a2e484",
     "text": "def create_map():\n    center = (19.3952, -99.1412)\n    m = Map(center=center,\n                  zoom=11, dragging=True,\n                  touch_zoom=True,\n                  basemap=basemaps.CartoDB.DarkMatter)\n    get_markers(m)\n    return m\n    \n    \ndef get_markers(m):\n    icon = Icon(icon_url='https://image.flaticon.com/icons/png/512/2285/2285410.png',\n               icon_size=[25,25])\n    for place in locations:\n        coord = (place['location']['lon'], -place['location']['lat'])\n        marker = Marker(location=coord, draggable=False,\n                        icon=icon)\n        message = widgets.HTML()\n        message.value = f\"Host: {place.get('host')} <br> Place: {place['name']}\"\n        marker.popup = message\n        m.add_layer(marker);\n\n        \ncreate_map()"
    },
    "executionTime": "2019-12-16T15:23:30.317Z"
   },
   {
    "cell": {
     "executionCount": 117,
     "executionEventId": "62694aad-6150-43aa-9a70-0407022e857b",
     "hasError": true,
     "id": "c47cb284-f183-4fa8-b1ae-f3067f084f0f",
     "outputs": [
      {
       "ename": "NameError",
       "evalue": "name 'basemapsOpenStreetMap' is not defined",
       "output_type": "error",
       "traceback": [
        "\u001b[0;31m---------------------------------------------------------------------------\u001b[0m",
        "\u001b[0;31mNameError\u001b[0m                                 Traceback (most recent call last)",
        "\u001b[0;32m<ipython-input-117-e2bc9c355934>\u001b[0m in \u001b[0;36m<module>\u001b[0;34m\u001b[0m\n\u001b[1;32m     22\u001b[0m \u001b[0;34m\u001b[0m\u001b[0m\n\u001b[1;32m     23\u001b[0m \u001b[0;34m\u001b[0m\u001b[0m\n\u001b[0;32m---> 24\u001b[0;31m \u001b[0mcreate_map\u001b[0m\u001b[0;34m(\u001b[0m\u001b[0;34m)\u001b[0m\u001b[0;34m\u001b[0m\u001b[0;34m\u001b[0m\u001b[0m\n\u001b[0m",
        "\u001b[0;32m<ipython-input-117-e2bc9c355934>\u001b[0m in \u001b[0;36mcreate_map\u001b[0;34m()\u001b[0m\n\u001b[1;32m      4\u001b[0m                   \u001b[0mzoom\u001b[0m\u001b[0;34m=\u001b[0m\u001b[0;36m11\u001b[0m\u001b[0;34m,\u001b[0m \u001b[0mdragging\u001b[0m\u001b[0;34m=\u001b[0m\u001b[0;32mTrue\u001b[0m\u001b[0;34m,\u001b[0m\u001b[0;34m\u001b[0m\u001b[0;34m\u001b[0m\u001b[0m\n\u001b[1;32m      5\u001b[0m                   \u001b[0mtouch_zoom\u001b[0m\u001b[0;34m=\u001b[0m\u001b[0;32mTrue\u001b[0m\u001b[0;34m,\u001b[0m\u001b[0;34m\u001b[0m\u001b[0;34m\u001b[0m\u001b[0m\n\u001b[0;32m----> 6\u001b[0;31m                   basemap=basemapsOpenStreetMap['Mapnik'])\n\u001b[0m\u001b[1;32m      7\u001b[0m     \u001b[0mget_markers\u001b[0m\u001b[0;34m(\u001b[0m\u001b[0mm\u001b[0m\u001b[0;34m)\u001b[0m\u001b[0;34m\u001b[0m\u001b[0;34m\u001b[0m\u001b[0m\n\u001b[1;32m      8\u001b[0m     \u001b[0;32mreturn\u001b[0m \u001b[0mm\u001b[0m\u001b[0;34m\u001b[0m\u001b[0;34m\u001b[0m\u001b[0m\n",
        "\u001b[0;31mNameError\u001b[0m: name 'basemapsOpenStreetMap' is not defined"
       ]
      }
     ],
     "persistentId": "229dfb64-a734-43ee-95cb-f7abe0a2e484",
     "text": "def create_map():\n    center = (19.3952, -99.1412)\n    m = Map(center=center,\n                  zoom=11, dragging=True,\n                  touch_zoom=True,\n                  basemap=basemapsOpenStreetMap['Mapnik'])\n    get_markers(m)\n    return m\n    \n    \ndef get_markers(m):\n    icon = Icon(icon_url='https://image.flaticon.com/icons/png/512/2285/2285410.png',\n               icon_size=[25,25])\n    for place in locations:\n        coord = (place['location']['lon'], -place['location']['lat'])\n        marker = Marker(location=coord, draggable=False,\n                        icon=icon)\n        message = widgets.HTML()\n        message.value = f\"Host: {place.get('host')} <br> Place: {place['name']}\"\n        marker.popup = message\n        m.add_layer(marker);\n\n        \ncreate_map()"
    },
    "executionTime": "2019-12-16T15:26:17.586Z"
   },
   {
    "cell": {
     "executionCount": 118,
     "executionEventId": "499cdd29-0579-455a-8eb7-d681b162de54",
     "hasError": false,
     "id": "c47cb284-f183-4fa8-b1ae-f3067f084f0f",
     "outputs": [
      {
       "data": {
        "application/vnd.jupyter.widget-view+json": {
         "model_id": "54c72d07f25f41a7bbf53c58d03e8dd4",
         "version_major": 2,
         "version_minor": 0
        },
        "text/plain": "Map(basemap={'url': 'https://{s}.tile.openstreetmap.org/{z}/{x}/{y}.png', 'max_zoom': 19, 'attribution': 'Map …"
       },
       "metadata": {},
       "output_type": "display_data"
      }
     ],
     "persistentId": "229dfb64-a734-43ee-95cb-f7abe0a2e484",
     "text": "def create_map():\n    center = (19.3952, -99.1412)\n    m = Map(center=center,\n                  zoom=11, dragging=True,\n                  touch_zoom=True,\n                  basemap=basemaps.OpenStreetMap['Mapnik'])\n    get_markers(m)\n    return m\n    \n    \ndef get_markers(m):\n    icon = Icon(icon_url='https://image.flaticon.com/icons/png/512/2285/2285410.png',\n               icon_size=[25,25])\n    for place in locations:\n        coord = (place['location']['lon'], -place['location']['lat'])\n        marker = Marker(location=coord, draggable=False,\n                        icon=icon)\n        message = widgets.HTML()\n        message.value = f\"Host: {place.get('host')} <br> Place: {place['name']}\"\n        marker.popup = message\n        m.add_layer(marker);\n\n        \ncreate_map()"
    },
    "executionTime": "2019-12-16T15:26:21.220Z"
   },
   {
    "cell": {
     "executionCount": 119,
     "executionEventId": "b437bdb9-112a-4e2b-a9cc-6f90c7d6c03e",
     "hasError": false,
     "id": "c47cb284-f183-4fa8-b1ae-f3067f084f0f",
     "outputs": [
      {
       "data": {
        "application/vnd.jupyter.widget-view+json": {
         "model_id": "549c19b5bb28460fb6e1efd17d3e8e37",
         "version_major": 2,
         "version_minor": 0
        },
        "text/plain": "Map(basemap={'url': 'http://c.basemaps.cartocdn.com/dark_all/{z}/{x}/{y}.png', 'max_zoom': 20, 'attribution': …"
       },
       "metadata": {},
       "output_type": "display_data"
      }
     ],
     "persistentId": "229dfb64-a734-43ee-95cb-f7abe0a2e484",
     "text": "def create_map():\n    center = (19.3952, -99.1412)\n    m = Map(center=center,\n                  zoom=11, dragging=True,\n                  touch_zoom=True,\n                  basemap=basemaps.CartoDB.DarkMatter)\n    get_markers(m)\n    return m\n    \n    \ndef get_markers(m):\n    icon = Icon(icon_url='https://image.flaticon.com/icons/png/512/2285/2285410.png',\n               icon_size=[25,25])\n    for place in locations:\n        coord = (place['location']['lon'], -place['location']['lat'])\n        marker = Marker(location=coord, draggable=False,\n                        icon=icon)\n        message = widgets.HTML()\n        message.value = f\"Host: {place.get('host')} <br> Place: {place['name']}\"\n        marker.popup = message\n        m.add_layer(marker);\n\n        \ncreate_map()"
    },
    "executionTime": "2019-12-16T15:26:26.976Z"
   },
   {
    "cell": {
     "executionCount": 120,
     "executionEventId": "31c96f91-bcb2-4fca-a43b-d6549bcd44a9",
     "hasError": true,
     "id": "3b80675a-f933-4120-90a4-8c004a9d5a7d",
     "outputs": [
      {
       "ename": "NameError",
       "evalue": "name 'slider' is not defined",
       "output_type": "error",
       "traceback": [
        "\u001b[0;31m---------------------------------------------------------------------------\u001b[0m",
        "\u001b[0;31mNameError\u001b[0m                                 Traceback (most recent call last)",
        "\u001b[0;32m<ipython-input-120-2c97636755eb>\u001b[0m in \u001b[0;36m<module>\u001b[0;34m\u001b[0m\n\u001b[0;32m----> 1\u001b[0;31m \u001b[0mv\u001b[0m\u001b[0;34m.\u001b[0m\u001b[0mLayout\u001b[0m\u001b[0;34m(\u001b[0m\u001b[0mpa_4\u001b[0m\u001b[0;34m=\u001b[0m\u001b[0;32mTrue\u001b[0m\u001b[0;34m,\u001b[0m \u001b[0m_metadata\u001b[0m\u001b[0;34m=\u001b[0m\u001b[0;34m{\u001b[0m\u001b[0;34m'mount_id'\u001b[0m\u001b[0;34m:\u001b[0m \u001b[0;34m'content-nav'\u001b[0m\u001b[0;34m}\u001b[0m\u001b[0;34m,\u001b[0m \u001b[0mcolumn\u001b[0m\u001b[0;34m=\u001b[0m\u001b[0;32mTrue\u001b[0m\u001b[0;34m,\u001b[0m \u001b[0mchildren\u001b[0m\u001b[0;34m=\u001b[0m\u001b[0;34m[\u001b[0m\u001b[0mslider\u001b[0m\u001b[0;34m,\u001b[0m \u001b[0mwidget_line_styles\u001b[0m\u001b[0;34m]\u001b[0m\u001b[0;34m)\u001b[0m\u001b[0;34m;\u001b[0m\u001b[0;34m\u001b[0m\u001b[0;34m\u001b[0m\u001b[0m\n\u001b[0m",
        "\u001b[0;31mNameError\u001b[0m: name 'slider' is not defined"
       ]
      }
     ],
     "persistentId": "63c8aeab-0a61-499c-9835-229ef5ce8b54",
     "text": "v.Layout(pa_4=True, _metadata={'mount_id': 'content-nav'}, column=True, children=[slider, widget_line_styles]);"
    },
    "executionTime": "2019-12-16T15:35:24.931Z"
   },
   {
    "cell": {
     "executionCount": 121,
     "executionEventId": "dc701a19-c9bb-46f3-b657-cf5cd1856cd7",
     "hasError": true,
     "id": "3b80675a-f933-4120-90a4-8c004a9d5a7d",
     "outputs": [
      {
       "ename": "SyntaxError",
       "evalue": "unexpected EOF while parsing (<ipython-input-121-93e69f1720eb>, line 5)",
       "output_type": "error",
       "traceback": [
        "\u001b[0;36m  File \u001b[0;32m\"<ipython-input-121-93e69f1720eb>\"\u001b[0;36m, line \u001b[0;32m5\u001b[0m\n\u001b[0;31m    fig, slider])\u001b[0m\n\u001b[0m                 ^\u001b[0m\n\u001b[0;31mSyntaxError\u001b[0m\u001b[0;31m:\u001b[0m unexpected EOF while parsing\n"
       ]
      }
     ],
     "persistentId": "63c8aeab-0a61-499c-9835-229ef5ce8b54",
     "text": "v.Layout(row=True, \n         wrap=True, \n         align_center=True, \n         children=[v.Flex(xs12=True, lg6=True, xl4=True, children=[\n                fig, slider])"
    },
    "executionTime": "2019-12-16T15:44:41.211Z"
   },
   {
    "cell": {
     "executionCount": 122,
     "executionEventId": "adb60168-aa12-4ff4-a3f4-b5badd4f6dbc",
     "hasError": true,
     "id": "3b80675a-f933-4120-90a4-8c004a9d5a7d",
     "outputs": [
      {
       "ename": "SyntaxError",
       "evalue": "unexpected EOF while parsing (<ipython-input-122-c8e2340bc416>, line 5)",
       "output_type": "error",
       "traceback": [
        "\u001b[0;36m  File \u001b[0;32m\"<ipython-input-122-c8e2340bc416>\"\u001b[0;36m, line \u001b[0;32m5\u001b[0m\n\u001b[0;31m    children=[fig, slider])]\u001b[0m\n\u001b[0m                            ^\u001b[0m\n\u001b[0;31mSyntaxError\u001b[0m\u001b[0;31m:\u001b[0m unexpected EOF while parsing\n"
       ]
      }
     ],
     "persistentId": "63c8aeab-0a61-499c-9835-229ef5ce8b54",
     "text": "v.Layout(row=True, \n         wrap=True, \n         align_center=True, \n         children=[v.Flex(xs12=True, lg6=True, xl4=True, \n                          children=[fig, slider])]"
    },
    "executionTime": "2019-12-16T15:45:30.969Z"
   },
   {
    "cell": {
     "executionCount": 123,
     "executionEventId": "634f0e3c-2e4f-40ed-8b54-74179b3706be",
     "hasError": true,
     "id": "3b80675a-f933-4120-90a4-8c004a9d5a7d",
     "outputs": [
      {
       "ename": "NameError",
       "evalue": "name 'fig' is not defined",
       "output_type": "error",
       "traceback": [
        "\u001b[0;31m---------------------------------------------------------------------------\u001b[0m",
        "\u001b[0;31mNameError\u001b[0m                                 Traceback (most recent call last)",
        "\u001b[0;32m<ipython-input-123-9319d527b34a>\u001b[0m in \u001b[0;36m<module>\u001b[0;34m\u001b[0m\n\u001b[1;32m      3\u001b[0m          \u001b[0malign_center\u001b[0m\u001b[0;34m=\u001b[0m\u001b[0;32mTrue\u001b[0m\u001b[0;34m,\u001b[0m\u001b[0;34m\u001b[0m\u001b[0;34m\u001b[0m\u001b[0m\n\u001b[1;32m      4\u001b[0m          children=[v.Flex(xs12=True, lg6=True, xl4=True, \n\u001b[0;32m----> 5\u001b[0;31m                           children=[fig, slider])])\n\u001b[0m",
        "\u001b[0;31mNameError\u001b[0m: name 'fig' is not defined"
       ]
      }
     ],
     "persistentId": "63c8aeab-0a61-499c-9835-229ef5ce8b54",
     "text": "v.Layout(row=True, \n         wrap=True, \n         align_center=True, \n         children=[v.Flex(xs12=True, lg6=True, xl4=True, \n                          children=[fig, slider])])"
    },
    "executionTime": "2019-12-16T15:45:35.559Z"
   },
   {
    "cell": {
     "executionCount": 124,
     "executionEventId": "9ae6a282-d2d0-4247-a36f-e98f645ca45e",
     "hasError": false,
     "id": "db6c3a8d-7643-4b8a-b5b5-16ae4a193402",
     "outputs": [
      {
       "data": {
        "application/vnd.jupyter.widget-view+json": {
         "model_id": "49f79845f13b4f81a5b65d5180b1c006",
         "version_major": 2,
         "version_minor": 0
        },
        "text/plain": "Map(basemap={'url': 'http://c.basemaps.cartocdn.com/dark_all/{z}/{x}/{y}.png', 'max_zoom': 20, 'attribution': …"
       },
       "metadata": {},
       "output_type": "display_data"
      }
     ],
     "persistentId": "229dfb64-a734-43ee-95cb-f7abe0a2e484",
     "text": "def create_map():\n    center = (19.3952, -99.1412)\n    m = Map(center=center,\n                  zoom=11, dragging=True,\n                  touch_zoom=True,\n                  basemap=basemaps.CartoDB.DarkMatter)\n    get_markers(m)\n    return m\n    \n    \ndef get_markers(m):\n    icon = Icon(icon_url='https://image.flaticon.com/icons/png/512/2285/2285410.png',\n               icon_size=[25,25])\n    for place in locations:\n        coord = (place['location']['lon'], -place['location']['lat'])\n        marker = Marker(location=coord, draggable=False,\n                        icon=icon)\n        message = widgets.HTML()\n        message.value = f\"Host: {place.get('host')} <br> Place: {place['name']}\"\n        marker.popup = message\n        m.add_layer(marker);\n\n        \nm = create_map()\nm"
    },
    "executionTime": "2019-12-16T15:45:56.726Z"
   },
   {
    "cell": {
     "executionCount": 125,
     "executionEventId": "876cdf57-c98d-4d61-8ed4-6f3930612174",
     "hasError": false,
     "id": "3b80675a-f933-4120-90a4-8c004a9d5a7d",
     "outputs": [
      {
       "data": {
        "application/vnd.jupyter.widget-view+json": {
         "model_id": "55fe45bde1254b67af984447d7431a79",
         "version_major": 2,
         "version_minor": 0
        },
        "text/plain": "Layout(align_center=True, children=[Flex(children=[Map(basemap={'url': 'http://c.basemaps.cartocdn.com/dark_al…"
       },
       "metadata": {},
       "output_type": "display_data"
      }
     ],
     "persistentId": "63c8aeab-0a61-499c-9835-229ef5ce8b54",
     "text": "v.Layout(row=True, \n         wrap=True, \n         align_center=True, \n         children=[v.Flex(xs12=True, lg6=True, xl4=True, \n                          children=[m])])"
    },
    "executionTime": "2019-12-16T15:46:02.516Z"
   },
   {
    "cell": {
     "executionCount": 126,
     "executionEventId": "0fcf8125-b2a1-4013-bbd4-0bb376e1d66d",
     "hasError": false,
     "id": "3b80675a-f933-4120-90a4-8c004a9d5a7d",
     "outputs": [
      {
       "data": {
        "application/vnd.jupyter.widget-view+json": {
         "model_id": "6bd49c2d3d4c48c1bd1c7344e3ceb82d",
         "version_major": 2,
         "version_minor": 0
        },
        "text/plain": "Layout(align_center=True, children=[Flex(children=[Map(basemap={'url': 'http://c.basemaps.cartocdn.com/dark_al…"
       },
       "metadata": {},
       "output_type": "display_data"
      }
     ],
     "persistentId": "63c8aeab-0a61-499c-9835-229ef5ce8b54",
     "text": "v.Layout(row=True, \n         wrap=True, \n         align_center=True, \n         children=[v.Flex(xs12=True, lg6=True, xl4=True, \n                          children=[m])])"
    },
    "executionTime": "2019-12-16T15:51:10.222Z"
   },
   {
    "cell": {
     "executionCount": 127,
     "executionEventId": "d0d2b9ae-0e9c-4dce-a21b-90264f545548",
     "hasError": false,
     "id": "7f4d09fe-5f76-4111-ab2a-3df81441d09c",
     "outputs": [
      {
       "data": {
        "application/vnd.jupyter.widget-view+json": {
         "model_id": "32e6bad755a64fcdb7918488f1b2a007",
         "version_major": 2,
         "version_minor": 0
        },
        "text/plain": "Layout(children=[Btn(children=['button'])], class_='pa-2')"
       },
       "metadata": {},
       "output_type": "display_data"
      }
     ],
     "persistentId": "e6609f75-6b4c-4bab-ba7f-5e7636d03977",
     "text": "count = 0\n\ndef on_click(widget, event, data):\n    global count\n    count += 1\n    button1.children=['button ' + str(count)]\n\nbutton1 = v.Btn(children=['button'])\nbutton1.on_event('click', on_click)\n\nv.Layout(class_='pa-2', children=[button1])"
    },
    "executionTime": "2019-12-16T15:52:17.549Z"
   },
   {
    "cell": {
     "executionCount": 128,
     "executionEventId": "10e21df1-3a7e-454d-9059-06ca187b00dd",
     "hasError": false,
     "id": "3b80675a-f933-4120-90a4-8c004a9d5a7d",
     "outputs": [
      {
       "data": {
        "application/vnd.jupyter.widget-view+json": {
         "model_id": "d259a000c0104ddca176542966470f11",
         "version_major": 2,
         "version_minor": 0
        },
        "text/plain": "Layout(align_center=True, children=[Flex(children=[Map(basemap={'url': 'http://c.basemaps.cartocdn.com/dark_al…"
       },
       "metadata": {},
       "output_type": "display_data"
      }
     ],
     "persistentId": "63c8aeab-0a61-499c-9835-229ef5ce8b54",
     "text": "v.Layout(row=True, \n         wrap=True, \n         align_center=True, \n         children=[v.Flex(xs12=True, lg6=True, xl4=True, \n                          children=[m])])"
    },
    "executionTime": "2019-12-16T15:53:54.692Z"
   },
   {
    "cell": {
     "executionCount": 1,
     "executionEventId": "46394cfa-0972-476e-8b18-ec89d7177704",
     "hasError": false,
     "id": "fc23694f-e02b-4cf5-afbd-fd649e856120",
     "outputs": [],
     "persistentId": "1d60603d-be35-4d7c-9d4c-7e6f00d6aa8f",
     "text": "import ipyvuetify as v\nfrom ipywidgets import IntSlider, jslink\nfrom ipyleaflet import Map, Marker, Popup, WidgetControl, Icon, basemaps\nimport json\nfrom pathlib import Path"
    },
    "executionTime": "2019-12-16T15:55:00.411Z"
   },
   {
    "cell": {
     "executionCount": 2,
     "executionEventId": "7c7876fe-6faa-42cc-b210-aa00895cba68",
     "hasError": false,
     "id": "fb7adb88-eaca-4bd0-8489-5ea8b61c0d93",
     "outputs": [],
     "persistentId": "6daf55d1-9460-48dc-b7a5-7054109241eb",
     "text": "def get_locations():\n    loc_path = Path(\"./data/locations.json\")\n    with open(loc_path, 'r') as json_file:\n        locations = json.load(json_file)\n    return locations.get(\"locations\")"
    },
    "executionTime": "2019-12-16T15:55:00.419Z"
   },
   {
    "cell": {
     "executionCount": 3,
     "executionEventId": "0d66dc5a-bdba-4578-bd15-3c45940df90f",
     "hasError": false,
     "id": "0d62511c-3125-4479-87f1-065ff99aab00",
     "outputs": [],
     "persistentId": "99c047a3-6c9f-4608-a9ab-6e03c2dee00c",
     "text": "locations = get_locations()"
    },
    "executionTime": "2019-12-16T15:55:01.049Z"
   },
   {
    "cell": {
     "executionCount": 4,
     "executionEventId": "c8def0e6-6ce6-4f08-b43c-0fd0f333a6ce",
     "hasError": false,
     "id": "782bd3df-c4f9-4075-81d4-d4929771ab0b",
     "outputs": [
      {
       "data": {
        "text/plain": "[{'name': 'Bellas Artes',\n  'day': 16,\n  'host': 'Tania Allard',\n  'type': 'geopoint',\n  'location': {'lon': 19.4352, 'lat': 99.1412}},\n {'name': 'Museo de Antropologia',\n  'day': 17,\n  'host': 'Tania Allard',\n  'type': 'geopoint',\n  'location': {'lon': 19.426, 'lat': 99.1863}},\n {'name': 'Anahuacalli',\n  'day': 18,\n  'host': 'Tania Allard',\n  'type': 'geopoint',\n  'location': {'lon': 19.3232, 'lat': 99.1493}}]"
       },
       "execution_count": 4,
       "metadata": {},
       "output_type": "execute_result"
      }
     ],
     "persistentId": "783d43fc-c3ce-4e06-8b11-9ef5f2d86d5d",
     "text": "locations"
    },
    "executionTime": "2019-12-16T15:55:01.651Z"
   },
   {
    "cell": {
     "executionCount": 5,
     "executionEventId": "db5400fa-6754-4451-ac04-2952ce2dbd17",
     "hasError": true,
     "id": "8ad39eec-fdba-4abf-a828-f0cb519c3fc6",
     "outputs": [
      {
       "ename": "NameError",
       "evalue": "name 'widgets' is not defined",
       "output_type": "error",
       "traceback": [
        "\u001b[0;31m---------------------------------------------------------------------------\u001b[0m",
        "\u001b[0;31mNameError\u001b[0m                                 Traceback (most recent call last)",
        "\u001b[0;32m<ipython-input-5-afcf4fabb86d>\u001b[0m in \u001b[0;36m<module>\u001b[0;34m\u001b[0m\n\u001b[1;32m     22\u001b[0m \u001b[0;34m\u001b[0m\u001b[0m\n\u001b[1;32m     23\u001b[0m \u001b[0;34m\u001b[0m\u001b[0m\n\u001b[0;32m---> 24\u001b[0;31m \u001b[0mm\u001b[0m \u001b[0;34m=\u001b[0m \u001b[0mcreate_map\u001b[0m\u001b[0;34m(\u001b[0m\u001b[0;34m)\u001b[0m\u001b[0;34m\u001b[0m\u001b[0;34m\u001b[0m\u001b[0m\n\u001b[0m\u001b[1;32m     25\u001b[0m \u001b[0mm\u001b[0m\u001b[0;34m\u001b[0m\u001b[0;34m\u001b[0m\u001b[0m\n",
        "\u001b[0;32m<ipython-input-5-afcf4fabb86d>\u001b[0m in \u001b[0;36mcreate_map\u001b[0;34m()\u001b[0m\n\u001b[1;32m      5\u001b[0m                   \u001b[0mtouch_zoom\u001b[0m\u001b[0;34m=\u001b[0m\u001b[0;32mTrue\u001b[0m\u001b[0;34m,\u001b[0m\u001b[0;34m\u001b[0m\u001b[0;34m\u001b[0m\u001b[0m\n\u001b[1;32m      6\u001b[0m                   basemap=basemaps.CartoDB.DarkMatter)\n\u001b[0;32m----> 7\u001b[0;31m     \u001b[0mget_markers\u001b[0m\u001b[0;34m(\u001b[0m\u001b[0mm\u001b[0m\u001b[0;34m)\u001b[0m\u001b[0;34m\u001b[0m\u001b[0;34m\u001b[0m\u001b[0m\n\u001b[0m\u001b[1;32m      8\u001b[0m     \u001b[0;32mreturn\u001b[0m \u001b[0mm\u001b[0m\u001b[0;34m\u001b[0m\u001b[0;34m\u001b[0m\u001b[0m\n\u001b[1;32m      9\u001b[0m \u001b[0;34m\u001b[0m\u001b[0m\n",
        "\u001b[0;32m<ipython-input-5-afcf4fabb86d>\u001b[0m in \u001b[0;36mget_markers\u001b[0;34m(m)\u001b[0m\n\u001b[1;32m     16\u001b[0m         marker = Marker(location=coord, draggable=False,\n\u001b[1;32m     17\u001b[0m                         icon=icon)\n\u001b[0;32m---> 18\u001b[0;31m         \u001b[0mmessage\u001b[0m \u001b[0;34m=\u001b[0m \u001b[0mwidgets\u001b[0m\u001b[0;34m.\u001b[0m\u001b[0mHTML\u001b[0m\u001b[0;34m(\u001b[0m\u001b[0;34m)\u001b[0m\u001b[0;34m\u001b[0m\u001b[0;34m\u001b[0m\u001b[0m\n\u001b[0m\u001b[1;32m     19\u001b[0m         \u001b[0mmessage\u001b[0m\u001b[0;34m.\u001b[0m\u001b[0mvalue\u001b[0m \u001b[0;34m=\u001b[0m \u001b[0;34mf\"Host: {place.get('host')} <br> Place: {place['name']}\"\u001b[0m\u001b[0;34m\u001b[0m\u001b[0;34m\u001b[0m\u001b[0m\n\u001b[1;32m     20\u001b[0m         \u001b[0mmarker\u001b[0m\u001b[0;34m.\u001b[0m\u001b[0mpopup\u001b[0m \u001b[0;34m=\u001b[0m \u001b[0mmessage\u001b[0m\u001b[0;34m\u001b[0m\u001b[0;34m\u001b[0m\u001b[0m\n",
        "\u001b[0;31mNameError\u001b[0m: name 'widgets' is not defined"
       ]
      }
     ],
     "persistentId": "229dfb64-a734-43ee-95cb-f7abe0a2e484",
     "text": "def create_map():\n    center = (19.3952, -99.1412)\n    m = Map(center=center,\n                  zoom=11, dragging=True,\n                  touch_zoom=True,\n                  basemap=basemaps.CartoDB.DarkMatter)\n    get_markers(m)\n    return m\n    \n    \ndef get_markers(m):\n    icon = Icon(icon_url='https://image.flaticon.com/icons/png/512/2285/2285410.png',\n               icon_size=[25,25])\n    for place in locations:\n        coord = (place['location']['lon'], -place['location']['lat'])\n        marker = Marker(location=coord, draggable=False,\n                        icon=icon)\n        message = widgets.HTML()\n        message.value = f\"Host: {place.get('host')} <br> Place: {place['name']}\"\n        marker.popup = message\n        m.add_layer(marker);\n\n        \nm = create_map()\nm"
    },
    "executionTime": "2019-12-16T15:55:03.505Z"
   },
   {
    "cell": {
     "executionCount": 6,
     "executionEventId": "62a455ba-fe17-4590-af25-1a936e8125c5",
     "hasError": false,
     "id": "fc23694f-e02b-4cf5-afbd-fd649e856120",
     "outputs": [],
     "persistentId": "1d60603d-be35-4d7c-9d4c-7e6f00d6aa8f",
     "text": "import ipyvuetify as v\nfrom ipywidgets import IntSlider, jslink, widgets\nfrom ipyleaflet import Map, Marker, Popup, WidgetControl, Icon, basemaps\nimport json\nfrom pathlib import Path"
    },
    "executionTime": "2019-12-16T15:55:11.542Z"
   },
   {
    "cell": {
     "executionCount": 7,
     "executionEventId": "aac2d0c3-d43a-4609-b8e9-d957411ec23b",
     "hasError": false,
     "id": "fb7adb88-eaca-4bd0-8489-5ea8b61c0d93",
     "outputs": [],
     "persistentId": "6daf55d1-9460-48dc-b7a5-7054109241eb",
     "text": "def get_locations():\n    loc_path = Path(\"./data/locations.json\")\n    with open(loc_path, 'r') as json_file:\n        locations = json.load(json_file)\n    return locations.get(\"locations\")"
    },
    "executionTime": "2019-12-16T15:55:12.615Z"
   },
   {
    "cell": {
     "executionCount": 8,
     "executionEventId": "fd46a62e-125c-4f03-9a0a-8183b80a5863",
     "hasError": false,
     "id": "0d62511c-3125-4479-87f1-065ff99aab00",
     "outputs": [],
     "persistentId": "99c047a3-6c9f-4608-a9ab-6e03c2dee00c",
     "text": "locations = get_locations()"
    },
    "executionTime": "2019-12-16T15:55:13.051Z"
   },
   {
    "cell": {
     "executionCount": 9,
     "executionEventId": "79ac923a-a700-49d9-b244-a6818a7ad086",
     "hasError": false,
     "id": "782bd3df-c4f9-4075-81d4-d4929771ab0b",
     "outputs": [
      {
       "data": {
        "text/plain": "[{'name': 'Bellas Artes',\n  'day': 16,\n  'host': 'Tania Allard',\n  'type': 'geopoint',\n  'location': {'lon': 19.4352, 'lat': 99.1412}},\n {'name': 'Museo de Antropologia',\n  'day': 17,\n  'host': 'Tania Allard',\n  'type': 'geopoint',\n  'location': {'lon': 19.426, 'lat': 99.1863}},\n {'name': 'Anahuacalli',\n  'day': 18,\n  'host': 'Tania Allard',\n  'type': 'geopoint',\n  'location': {'lon': 19.3232, 'lat': 99.1493}}]"
       },
       "execution_count": 9,
       "metadata": {},
       "output_type": "execute_result"
      }
     ],
     "persistentId": "783d43fc-c3ce-4e06-8b11-9ef5f2d86d5d",
     "text": "locations"
    },
    "executionTime": "2019-12-16T15:55:13.399Z"
   },
   {
    "cell": {
     "executionCount": 10,
     "executionEventId": "ced9754a-75b0-4bc7-87d0-004efc9171c9",
     "hasError": false,
     "id": "8ad39eec-fdba-4abf-a828-f0cb519c3fc6",
     "outputs": [
      {
       "data": {
        "application/vnd.jupyter.widget-view+json": {
         "model_id": "a2adcd811a5d49fc9a02971380ae5dec",
         "version_major": 2,
         "version_minor": 0
        },
        "text/plain": "Map(basemap={'url': 'http://c.basemaps.cartocdn.com/dark_all/{z}/{x}/{y}.png', 'max_zoom': 20, 'attribution': …"
       },
       "metadata": {},
       "output_type": "display_data"
      }
     ],
     "persistentId": "229dfb64-a734-43ee-95cb-f7abe0a2e484",
     "text": "def create_map():\n    center = (19.3952, -99.1412)\n    m = Map(center=center,\n                  zoom=11, dragging=True,\n                  touch_zoom=True,\n                  basemap=basemaps.CartoDB.DarkMatter)\n    get_markers(m)\n    return m\n    \n    \ndef get_markers(m):\n    icon = Icon(icon_url='https://image.flaticon.com/icons/png/512/2285/2285410.png',\n               icon_size=[25,25])\n    for place in locations:\n        coord = (place['location']['lon'], -place['location']['lat'])\n        marker = Marker(location=coord, draggable=False,\n                        icon=icon)\n        message = widgets.HTML()\n        message.value = f\"Host: {place.get('host')} <br> Place: {place['name']}\"\n        marker.popup = message\n        m.add_layer(marker);\n\n        \nm = create_map()\nm"
    },
    "executionTime": "2019-12-16T15:55:14.063Z"
   },
   {
    "cell": {
     "executionCount": 11,
     "executionEventId": "d580ede6-e220-49ca-8c2f-a3893a3b92de",
     "hasError": false,
     "id": "759ec975-26d7-48d1-8c69-87c6af411b0a",
     "outputs": [
      {
       "data": {
        "application/vnd.jupyter.widget-view+json": {
         "model_id": "10cb5709b3a04302be6c4d3355e35fc3",
         "version_major": 2,
         "version_minor": 0
        },
        "text/plain": "Layout(align_center=True, children=[Flex(children=[Map(basemap={'url': 'http://c.basemaps.cartocdn.com/dark_al…"
       },
       "metadata": {},
       "output_type": "display_data"
      }
     ],
     "persistentId": "63c8aeab-0a61-499c-9835-229ef5ce8b54",
     "text": "v.Layout(row=True, \n         wrap=True, \n         align_center=True, \n         children=[v.Flex(xs12=True, lg6=True, xl4=True, \n                          children=[m])])"
    },
    "executionTime": "2019-12-16T15:55:18.084Z"
   },
   {
    "cell": {
     "executionCount": 12,
     "executionEventId": "275c8e9b-93ce-4014-9d51-38b2cac76e40",
     "hasError": false,
     "id": "a14d4c58-893f-4008-8e7b-0bb79f909dcb",
     "outputs": [
      {
       "data": {
        "application/vnd.jupyter.widget-view+json": {
         "model_id": "c5867e9f94814723ac727a5452a9d495",
         "version_major": 2,
         "version_minor": 0
        },
        "text/plain": "Layout(children=[Btn(children=['button'])], class_='pa-2')"
       },
       "metadata": {},
       "output_type": "display_data"
      }
     ],
     "persistentId": "e6609f75-6b4c-4bab-ba7f-5e7636d03977",
     "text": "count = 0\n\ndef on_click(widget, event, data):\n    global count\n    count += 1\n    button1.children=['button ' + str(count)]\n\nbutton1 = v.Btn(children=['button'])\nbutton1.on_event('click', on_click)\n\nv.Layout(class_='pa-2', children=[button1])"
    },
    "executionTime": "2019-12-16T15:55:22.942Z"
   },
   {
    "cell": {
     "executionCount": 13,
     "executionEventId": "dd03655f-8f1b-4491-aca2-5bd11562ce63",
     "hasError": false,
     "id": "8ad39eec-fdba-4abf-a828-f0cb519c3fc6",
     "outputs": [],
     "persistentId": "229dfb64-a734-43ee-95cb-f7abe0a2e484",
     "text": "def create_map():\n    center = (19.3952, -99.1412)\n    m = Map(center=center,\n                  zoom=11, dragging=True,\n                  touch_zoom=True,\n                  basemap=basemaps.CartoDB.DarkMatter)\n    get_markers(m)\n    return m\n    \n    \ndef get_markers(m):\n    icon = Icon(icon_url='https://image.flaticon.com/icons/png/512/2285/2285410.png',\n               icon_size=[25,25])\n    for place in locations:\n        coord = (place['location']['lon'], -place['location']['lat'])\n        marker = Marker(location=coord, draggable=False,\n                        icon=icon)\n        message = widgets.HTML()\n        message.value = f\"Host: {place.get('host')} <br> Place: {place['name']}\"\n        marker.popup = message\n        m.add_layer(marker);\n\n        \nm = create_map()"
    },
    "executionTime": "2019-12-16T15:56:28.149Z"
   },
   {
    "cell": {
     "executionCount": 14,
     "executionEventId": "597f13a9-c643-4a4b-a0b8-008ccb4d6537",
     "hasError": false,
     "id": "759ec975-26d7-48d1-8c69-87c6af411b0a",
     "outputs": [
      {
       "data": {
        "application/vnd.jupyter.widget-view+json": {
         "model_id": "74c78014927c49da9ccd05198a284849",
         "version_major": 2,
         "version_minor": 0
        },
        "text/plain": "Layout(align_center=True, children=[Flex(children=[Map(basemap={'url': 'http://c.basemaps.cartocdn.com/dark_al…"
       },
       "metadata": {},
       "output_type": "display_data"
      }
     ],
     "persistentId": "63c8aeab-0a61-499c-9835-229ef5ce8b54",
     "text": "v.Layout(row=True, \n         wrap=True, \n         align_center=True, \n         children=[v.Flex(xs12=True, lg6=True, xl4=True, \n                          children=[m])])"
    },
    "executionTime": "2019-12-16T15:56:29.229Z"
   },
   {
    "cell": {
     "executionCount": 1,
     "executionEventId": "078b8790-dd75-41da-a4b4-ee8d3e13d5be",
     "hasError": false,
     "id": "fc23694f-e02b-4cf5-afbd-fd649e856120",
     "outputs": [],
     "persistentId": "1d60603d-be35-4d7c-9d4c-7e6f00d6aa8f",
     "text": "import ipyvuetify as v\nfrom ipywidgets import IntSlider, jslink, widgets\nfrom ipyleaflet import Map, Marker, Popup, WidgetControl, Icon, basemaps\nimport json\nfrom pathlib import Path"
    },
    "executionTime": "2019-12-16T16:02:11.430Z"
   },
   {
    "cell": {
     "executionCount": 2,
     "executionEventId": "f744635e-3ce1-4df4-8ae7-24c7c0a73dfc",
     "hasError": false,
     "id": "fb7adb88-eaca-4bd0-8489-5ea8b61c0d93",
     "outputs": [],
     "persistentId": "6daf55d1-9460-48dc-b7a5-7054109241eb",
     "text": "def get_locations():\n    loc_path = Path(\"./data/locations.json\")\n    with open(loc_path, 'r') as json_file:\n        locations = json.load(json_file)\n    return locations.get(\"locations\")"
    },
    "executionTime": "2019-12-16T16:02:11.442Z"
   },
   {
    "cell": {
     "executionCount": 3,
     "executionEventId": "e383094c-7d45-421c-9e68-c6c9b81386d5",
     "hasError": false,
     "id": "0d62511c-3125-4479-87f1-065ff99aab00",
     "outputs": [],
     "persistentId": "99c047a3-6c9f-4608-a9ab-6e03c2dee00c",
     "text": "locations = get_locations()"
    },
    "executionTime": "2019-12-16T16:02:11.453Z"
   },
   {
    "cell": {
     "executionCount": 4,
     "executionEventId": "a8c1c45a-0530-4cf6-9fb7-504f342659e2",
     "hasError": false,
     "id": "782bd3df-c4f9-4075-81d4-d4929771ab0b",
     "outputs": [
      {
       "data": {
        "text/plain": "[{'name': 'Bellas Artes',\n  'day': 16,\n  'host': 'Tania Allard',\n  'type': 'geopoint',\n  'location': {'lon': 19.4352, 'lat': 99.1412}},\n {'name': 'Museo de Antropologia',\n  'day': 17,\n  'host': 'Tania Allard',\n  'type': 'geopoint',\n  'location': {'lon': 19.426, 'lat': 99.1863}},\n {'name': 'Anahuacalli',\n  'day': 18,\n  'host': 'Tania Allard',\n  'type': 'geopoint',\n  'location': {'lon': 19.3232, 'lat': 99.1493}}]"
       },
       "execution_count": 4,
       "metadata": {},
       "output_type": "execute_result"
      }
     ],
     "persistentId": "783d43fc-c3ce-4e06-8b11-9ef5f2d86d5d",
     "text": "locations"
    },
    "executionTime": "2019-12-16T16:02:11.555Z"
   },
   {
    "cell": {
     "executionCount": 5,
     "executionEventId": "0f177c65-5a78-4291-b53d-943e205ccfb9",
     "hasError": false,
     "id": "8ad39eec-fdba-4abf-a828-f0cb519c3fc6",
     "outputs": [],
     "persistentId": "229dfb64-a734-43ee-95cb-f7abe0a2e484",
     "text": "def create_map():\n    center = (19.3952, -99.1412)\n    m = Map(center=center,\n                  zoom=11, dragging=True,\n                  touch_zoom=True,\n                  basemap=basemaps.CartoDB.DarkMatter)\n    get_markers(m)\n    return m\n    \n    \ndef get_markers(m):\n    icon = Icon(icon_url='https://image.flaticon.com/icons/png/512/2285/2285410.png',\n               icon_size=[25,25])\n    for place in locations:\n        coord = (place['location']['lon'], -place['location']['lat'])\n        marker = Marker(location=coord, draggable=False,\n                        icon=icon)\n        message = widgets.HTML()\n        message.value = f\"Host: {place.get('host')} <br> Place: {place['name']}\"\n        marker.popup = message\n        m.add_layer(marker);\n\n        \nm = create_map()"
    },
    "executionTime": "2019-12-16T16:02:12.429Z"
   },
   {
    "cell": {
     "executionCount": 6,
     "executionEventId": "3d7abe9a-1c82-4ab1-87d2-cc494eeee4b0",
     "hasError": false,
     "id": "759ec975-26d7-48d1-8c69-87c6af411b0a",
     "outputs": [
      {
       "data": {
        "application/vnd.jupyter.widget-view+json": {
         "model_id": "a9fdb5b7cb46490a811b59b4abfe805b",
         "version_major": 2,
         "version_minor": 0
        },
        "text/plain": "Layout(align_center=True, children=[Flex(children=[Map(basemap={'url': 'http://c.basemaps.cartocdn.com/dark_al…"
       },
       "metadata": {},
       "output_type": "display_data"
      }
     ],
     "persistentId": "63c8aeab-0a61-499c-9835-229ef5ce8b54",
     "text": "v.Layout(row=True, \n         wrap=True, \n         align_center=True, \n         children=[v.Flex(xs12=True, lg6=True, xl4=True, \n                          children=[m])])"
    },
    "executionTime": "2019-12-16T16:02:15.712Z"
   },
   {
    "cell": {
     "executionCount": 7,
     "executionEventId": "4178e6c3-d400-4edb-8fa3-bb750f59f430",
     "hasError": false,
     "id": "8ad39eec-fdba-4abf-a828-f0cb519c3fc6",
     "outputs": [],
     "persistentId": "229dfb64-a734-43ee-95cb-f7abe0a2e484",
     "text": "def create_map():\n    center = (19.3952, -99.1412)\n    m = Map(center=center,\n                  zoom=11, dragging=True,\n                  touch_zoom=True,\n                  basemap=basemaps.CartoDB.DarkMatter)\n    get_markers(m)\n    return m\n    \n    \ndef get_markers(m):\n    icon = Icon(icon_url='https://image.flaticon.com/icons/png/512/1598/1598096.png',\n               icon_size=[25,25])\n    for place in locations:\n        coord = (place['location']['lon'], -place['location']['lat'])\n        marker = Marker(location=coord, draggable=False,\n                        icon=icon)\n        message = widgets.HTML()\n        message.value = f\"Host: {place.get('host')} <br> Place: {place['name']}\"\n        marker.popup = message\n        m.add_layer(marker);\n\n        \nm = create_map()"
    },
    "executionTime": "2019-12-16T16:15:20.831Z"
   },
   {
    "cell": {
     "executionCount": 8,
     "executionEventId": "552bfd89-5b20-436f-a7e8-cc9270ab5ca2",
     "hasError": false,
     "id": "759ec975-26d7-48d1-8c69-87c6af411b0a",
     "outputs": [
      {
       "data": {
        "application/vnd.jupyter.widget-view+json": {
         "model_id": "0c9db22c0f1045b6a7de43c4d8b39268",
         "version_major": 2,
         "version_minor": 0
        },
        "text/plain": "Layout(align_center=True, children=[Flex(children=[Map(basemap={'url': 'http://c.basemaps.cartocdn.com/dark_al…"
       },
       "metadata": {},
       "output_type": "display_data"
      }
     ],
     "persistentId": "63c8aeab-0a61-499c-9835-229ef5ce8b54",
     "text": "layout = v.Layout(row=True, \n         wrap=True, \n         align_center=True, \n         children=[v.Flex(xs12=True, lg6=True, xl4=True, \n                          children=[m])])\nlayout"
    },
    "executionTime": "2019-12-16T16:15:22.460Z"
   },
   {
    "cell": {
     "executionCount": 9,
     "executionEventId": "be9a70aa-d4d1-428a-8425-380b3b4a55e6",
     "hasError": false,
     "id": "8ad39eec-fdba-4abf-a828-f0cb519c3fc6",
     "outputs": [],
     "persistentId": "229dfb64-a734-43ee-95cb-f7abe0a2e484",
     "text": "def create_map():\n    center = (19.3952, -99.1412)\n    m = Map(center=center,\n                  zoom=11, dragging=True,\n                  touch_zoom=True,\n                  basemap=basemaps.CartoDB.DarkMatter)\n    get_markers(m)\n    return m\n    \n    \ndef get_markers(m):\n    icon = Icon(icon_url='https://image.flaticon.com/icons/png/512/1598/1598096.png',\n               icon_size=[30,30])\n    for place in locations:\n        coord = (place['location']['lon'], -place['location']['lat'])\n        marker = Marker(location=coord, draggable=False,\n                        icon=icon)\n        message = widgets.HTML()\n        message.value = f\"Host: {place.get('host')} <br> Place: {place['name']}\"\n        marker.popup = message\n        m.add_layer(marker);\n\n        \nm = create_map()"
    },
    "executionTime": "2019-12-16T16:15:33.123Z"
   },
   {
    "cell": {
     "executionCount": 10,
     "executionEventId": "b5357459-f219-49f1-a2e8-519337be6a94",
     "hasError": false,
     "id": "759ec975-26d7-48d1-8c69-87c6af411b0a",
     "outputs": [
      {
       "data": {
        "application/vnd.jupyter.widget-view+json": {
         "model_id": "4b40d5d6d13f4a9e9035b76659d0649a",
         "version_major": 2,
         "version_minor": 0
        },
        "text/plain": "Layout(align_center=True, children=[Flex(children=[Map(basemap={'url': 'http://c.basemaps.cartocdn.com/dark_al…"
       },
       "metadata": {},
       "output_type": "display_data"
      }
     ],
     "persistentId": "63c8aeab-0a61-499c-9835-229ef5ce8b54",
     "text": "layout = v.Layout(row=True, \n         wrap=True, \n         align_center=True, \n         children=[v.Flex(xs12=True, lg6=True, xl4=True, \n                          children=[m])])\nlayout"
    },
    "executionTime": "2019-12-16T16:15:34.183Z"
   },
   {
    "cell": {
     "executionCount": 11,
     "executionEventId": "c5d31361-ec0c-40d4-8926-ddf38df8e7b0",
     "hasError": false,
     "id": "e9ba93a5-1aed-48ab-a02a-b820b637a344",
     "outputs": [
      {
       "data": {
        "application/vnd.jupyter.widget-view+json": {
         "model_id": "1c0ac75494bc4b489cc707da81485c17",
         "version_major": 2,
         "version_minor": 0
        },
        "text/plain": "PandasDataFrame(headers=[{'text': 'index', 'value': 'index', 'align': 'left', 'sortable': True}, {'text': 'sep…"
       },
       "metadata": {},
       "output_type": "display_data"
      }
     ],
     "persistentId": "bda5b418-59b2-41a9-84d5-f2963040cef5",
     "text": "import pandas as pd\nimport traitlets\nimport ipyvuetify as v\nimport json\n\nclass PandasDataFrame(v.VuetifyTemplate):\n    \"\"\"\n    Vuetify DataTable rendering of a pandas DataFrame\n    \n    Args:\n        data (DataFrame) - the data to render\n        title (str) - optional title\n    \"\"\"\n    \n    headers = traitlets.List([]).tag(sync=True, allow_null=True)\n    items = traitlets.List([]).tag(sync=True, allow_null=True)\n    search = traitlets.Unicode('').tag(sync=True)\n    title = traitlets.Unicode('DataFrame').tag(sync=True)\n    index_col = traitlets.Unicode('').tag(sync=True)\n    template = traitlets.Unicode('''\n        <template>\n          <v-card>\n            <v-card-title>\n              <span class=\"title font-weight-bold\">{{ title }}</span>\n              <v-spacer></v-spacer>\n                <v-text-field\n                    v-model=\"search\"\n                    append-icon=\"search\"\n                    label=\"Search ...\"\n                    single-line\n                    hide-details\n                ></v-text-field>\n            </v-card-title>\n            <v-data-table\n                :headers=\"headers\"\n                :items=\"items\"\n                :search=\"search\"\n                :item-key=\"index_col\"\n                :footer-props=\"{'items-per-page-options': [25, 50, 250, 500]}\"\n            >\n                <template v-slot:no-data>\n                  <v-alert :value=\"true\" color=\"error\" icon=\"warning\">\n                    Sorry, nothing to display here :(\n                  </v-alert>\n                </template>\n                <template v-slot:no-results>\n                    <v-alert :value=\"true\" color=\"error\" icon=\"warning\">\n                      Your search for \"{{ search }}\" found no results.\n                    </v-alert>\n                </template>\n                <template v-slot:items=\"rows\">\n                  <td v-for=\"(element, label, index) in rows.item\"\n                      @click=cell_click(element)\n                      >\n                    {{ element }}\n                  </td>\n                </template>\n            </v-data-table>\n          </v-card>\n        </template>\n        ''').tag(sync=True)\n    \n    def __init__(self, *args, \n                 data=pd.DataFrame(), \n                 title=None,\n                 **kwargs):\n        super().__init__(*args, **kwargs)\n        data = data.reset_index()\n        self.index_col = data.columns[0]\n        headers = [{\n              \"text\": col,\n              \"value\": col\n            } for col in data.columns]\n        headers[0].update({'align': 'left', 'sortable': True})\n        self.headers = headers\n        self.items = json.loads(\n            data.to_json(orient='records'))\n        if title is not None:\n            self.title = title\n    \n    \niris = pd.read_csv('https://raw.githubusercontent.com/mwaskom/seaborn-data/master/iris.csv')\ntest = PandasDataFrame(data = iris, title='Iris')\ntest"
    },
    "executionTime": "2019-12-16T16:17:31.803Z"
   },
   {
    "cell": {
     "executionCount": 12,
     "executionEventId": "f5d14d63-006c-4b26-bdbd-ee498409d2b4",
     "hasError": false,
     "id": "e9ba93a5-1aed-48ab-a02a-b820b637a344",
     "outputs": [
      {
       "data": {
        "application/vnd.jupyter.widget-view+json": {
         "model_id": "3ec612340bd3481ba7ac5516bdabfbde",
         "version_major": 2,
         "version_minor": 0
        },
        "text/plain": "PandasDataFrame(headers=[{'text': 'index', 'value': 'index', 'align': 'left', 'sortable': True}, {'text': 'sep…"
       },
       "metadata": {},
       "output_type": "display_data"
      }
     ],
     "persistentId": "bda5b418-59b2-41a9-84d5-f2963040cef5",
     "text": "import pandas as pd\nimport traitlets\n\nclass PandasDataFrame(v.VuetifyTemplate):\n    \n    headers = traitlets.List([]).tag(sync=True, allow_null=True)\n    items = traitlets.List([]).tag(sync=True, allow_null=True)\n    search = traitlets.Unicode('').tag(sync=True)\n    title = traitlets.Unicode('DataFrame').tag(sync=True)\n    index_col = traitlets.Unicode('').tag(sync=True)\n    template = traitlets.Unicode('''\n        <template>\n          <v-card>\n            <v-card-title>\n              <span class=\"title font-weight-bold\", style=\"color:#574b90;\">{{ title }}</span>\n              <v-spacer></v-spacer>\n            </v-card-title>\n            \n          </v-card>\n        </template>\n        ''').tag(sync=True)\n    \n    def __init__(self, *args, \n                 data=pd.DataFrame(), \n                 title=None,\n                 **kwargs):\n        super().__init__(*args, **kwargs)\n        data = data.reset_index()\n        self.index_col = data.columns[0]\n        headers = [{\n              \"text\": col,\n              \"value\": col\n            } for col in data.columns]\n        headers[0].update({'align': 'left', 'sortable': True})\n        self.headers = headers\n        self.items = json.loads(\n            data.to_json(orient='records'))\n        if title is not None:\n            self.title = title\n    \n    \niris = pd.read_csv('https://raw.githubusercontent.com/mwaskom/seaborn-data/master/iris.csv')\ntest = PandasDataFrame(data = iris, title='Iris')\ntest"
    },
    "executionTime": "2019-12-16T16:20:15.792Z"
   },
   {
    "cell": {
     "executionCount": 13,
     "executionEventId": "3b9a7781-cb21-4753-88b5-58a8f93924e0",
     "hasError": true,
     "id": "e9ba93a5-1aed-48ab-a02a-b820b637a344",
     "outputs": [
      {
       "ename": "AttributeError",
       "evalue": "'PandasDataFrame' object has no attribute '_model_id'",
       "output_type": "error",
       "traceback": [
        "\u001b[0;31m---------------------------------------------------------------------------\u001b[0m",
        "\u001b[0;31mAttributeError\u001b[0m                            Traceback (most recent call last)",
        "\u001b[0;32m/anaconda3/lib/python3.7/site-packages/IPython/core/formatters.py\u001b[0m in \u001b[0;36m__call__\u001b[0;34m(self, obj)\u001b[0m\n\u001b[1;32m    916\u001b[0m             \u001b[0mmethod\u001b[0m \u001b[0;34m=\u001b[0m \u001b[0mget_real_method\u001b[0m\u001b[0;34m(\u001b[0m\u001b[0mobj\u001b[0m\u001b[0;34m,\u001b[0m \u001b[0mself\u001b[0m\u001b[0;34m.\u001b[0m\u001b[0mprint_method\u001b[0m\u001b[0;34m)\u001b[0m\u001b[0;34m\u001b[0m\u001b[0;34m\u001b[0m\u001b[0m\n\u001b[1;32m    917\u001b[0m             \u001b[0;32mif\u001b[0m \u001b[0mmethod\u001b[0m \u001b[0;32mis\u001b[0m \u001b[0;32mnot\u001b[0m \u001b[0;32mNone\u001b[0m\u001b[0;34m:\u001b[0m\u001b[0;34m\u001b[0m\u001b[0;34m\u001b[0m\u001b[0m\n\u001b[0;32m--> 918\u001b[0;31m                 \u001b[0mmethod\u001b[0m\u001b[0;34m(\u001b[0m\u001b[0;34m)\u001b[0m\u001b[0;34m\u001b[0m\u001b[0;34m\u001b[0m\u001b[0m\n\u001b[0m\u001b[1;32m    919\u001b[0m                 \u001b[0;32mreturn\u001b[0m \u001b[0;32mTrue\u001b[0m\u001b[0;34m\u001b[0m\u001b[0;34m\u001b[0m\u001b[0m\n\u001b[1;32m    920\u001b[0m \u001b[0;34m\u001b[0m\u001b[0m\n",
        "\u001b[0;32m/anaconda3/lib/python3.7/site-packages/ipywidgets/widgets/widget.py\u001b[0m in \u001b[0;36m_ipython_display_\u001b[0;34m(self, **kwargs)\u001b[0m\n\u001b[1;32m    725\u001b[0m                 \u001b[0;34m'version_major'\u001b[0m\u001b[0;34m:\u001b[0m \u001b[0;36m2\u001b[0m\u001b[0;34m,\u001b[0m\u001b[0;34m\u001b[0m\u001b[0;34m\u001b[0m\u001b[0m\n\u001b[1;32m    726\u001b[0m                 \u001b[0;34m'version_minor'\u001b[0m\u001b[0;34m:\u001b[0m \u001b[0;36m0\u001b[0m\u001b[0;34m,\u001b[0m\u001b[0;34m\u001b[0m\u001b[0;34m\u001b[0m\u001b[0m\n\u001b[0;32m--> 727\u001b[0;31m                 \u001b[0;34m'model_id'\u001b[0m\u001b[0;34m:\u001b[0m \u001b[0mself\u001b[0m\u001b[0;34m.\u001b[0m\u001b[0m_model_id\u001b[0m\u001b[0;34m\u001b[0m\u001b[0;34m\u001b[0m\u001b[0m\n\u001b[0m\u001b[1;32m    728\u001b[0m             }\n\u001b[1;32m    729\u001b[0m         \u001b[0mdisplay\u001b[0m\u001b[0;34m(\u001b[0m\u001b[0mdata\u001b[0m\u001b[0;34m,\u001b[0m \u001b[0mraw\u001b[0m\u001b[0;34m=\u001b[0m\u001b[0;32mTrue\u001b[0m\u001b[0;34m)\u001b[0m\u001b[0;34m\u001b[0m\u001b[0;34m\u001b[0m\u001b[0m\n",
        "\u001b[0;31mAttributeError\u001b[0m: 'PandasDataFrame' object has no attribute '_model_id'"
       ]
      },
      {
       "data": {
        "text/plain": "PandasDataFrame(title='Where is the next posada?')"
       },
       "execution_count": 13,
       "metadata": {},
       "output_type": "execute_result"
      }
     ],
     "persistentId": "bda5b418-59b2-41a9-84d5-f2963040cef5",
     "text": "import pandas as pd\nimport traitlets\n\nclass PandasDataFrame(v.VuetifyTemplate):\n    \n    headers = traitlets.List([]).tag(sync=True, allow_null=True)\n    items = traitlets.List([]).tag(sync=True, allow_null=True)\n    search = traitlets.Unicode('').tag(sync=True)\n    title = traitlets.Unicode('DataFrame').tag(sync=True)\n    index_col = traitlets.Unicode('').tag(sync=True)\n    template = traitlets.Unicode('''\n        <template>\n          <v-card>\n            <v-card-title>\n              <span class=\"title font-weight-bold\", style=\"color:#574b90;\">{{ title }}</span>\n              <v-spacer></v-spacer>\n            </v-card-title>\n            \n          </v-card>\n        </template>\n        ''').tag(sync=True)\n    \n    def __init__(self, *args, \n                 data=pd.DataFrame(), \n                 title=None,\n                 **kwargs):\n        self.title = \"Where is the next posada?\"\n    \n    \niris = pd.read_csv('https://raw.githubusercontent.com/mwaskom/seaborn-data/master/iris.csv')\ntest = PandasDataFrame(data = iris, title='Iris')\ntest"
    },
    "executionTime": "2019-12-16T16:21:36.883Z"
   },
   {
    "cell": {
     "executionCount": 14,
     "executionEventId": "671aa3de-d246-48cf-a105-3ed61230f727",
     "hasError": true,
     "id": "759ec975-26d7-48d1-8c69-87c6af411b0a",
     "outputs": [
      {
       "ename": "SyntaxError",
       "evalue": "positional argument follows keyword argument (<ipython-input-14-ef551a925b5f>, line 6)",
       "output_type": "error",
       "traceback": [
        "\u001b[0;36m  File \u001b[0;32m\"<ipython-input-14-ef551a925b5f>\"\u001b[0;36m, line \u001b[0;32m6\u001b[0m\n\u001b[0;31m    v.Banner(single_line=True,\u001b[0m\n\u001b[0m    ^\u001b[0m\n\u001b[0;31mSyntaxError\u001b[0m\u001b[0;31m:\u001b[0m positional argument follows keyword argument\n"
       ]
      }
     ],
     "persistentId": "63c8aeab-0a61-499c-9835-229ef5ce8b54",
     "text": "layout = v.Layout(row=True, \n         wrap=True, \n         align_center=True, \n         children=[v.Flex(xs12=True, lg6=True, xl4=True, \n                          children=[m])],\n                 v.Banner(single_line=True,\n    v_slots=[{\n        'name': 'icon',\n        'children': v.Icon(children=['thumb_up'])\n    }, {\n        'name': 'actions',\n        'children': v.Btn(text=True, color='deep-purple accent-4', children=['Action'])\n    }], \n    children=['One line message text string with two actions on tablet / Desktop']))\nlayout"
    },
    "executionTime": "2019-12-16T16:25:34.040Z"
   },
   {
    "cell": {
     "executionCount": 15,
     "executionEventId": "1579ae9d-50a9-41d5-8d91-420d03da3f70",
     "hasError": false,
     "id": "759ec975-26d7-48d1-8c69-87c6af411b0a",
     "outputs": [
      {
       "data": {
        "application/vnd.jupyter.widget-view+json": {
         "model_id": "beadfcbf263f4ad48acecb495b829f3d",
         "version_major": 2,
         "version_minor": 0
        },
        "text/plain": "Layout(align_center=True, children=[Flex(children=[Map(basemap={'url': 'http://c.basemaps.cartocdn.com/dark_al…"
       },
       "metadata": {},
       "output_type": "display_data"
      }
     ],
     "persistentId": "63c8aeab-0a61-499c-9835-229ef5ce8b54",
     "text": "layout = v.Layout(row=True, \n         wrap=True, \n         align_center=True, \n         children=[v.Flex(xs12=True, lg6=True, xl4=True, \n                          children=[m])])\nlayout"
    },
    "executionTime": "2019-12-16T16:25:44.179Z"
   },
   {
    "cell": {
     "executionCount": 16,
     "executionEventId": "d690005f-016c-4079-9582-46b5ad32ecfb",
     "hasError": false,
     "id": "759ec975-26d7-48d1-8c69-87c6af411b0a",
     "outputs": [
      {
       "data": {
        "application/vnd.jupyter.widget-view+json": {
         "model_id": "f6767041db174147b4ac7f3b91fda841",
         "version_major": 2,
         "version_minor": 0
        },
        "text/plain": "Tabs(children=[Tab(children=['Tab1']), Tab(children=['Tab2']), TabItem(children=[Layout(align_center=True, chi…"
       },
       "metadata": {},
       "output_type": "display_data"
      }
     ],
     "persistentId": "63c8aeab-0a61-499c-9835-229ef5ce8b54",
     "text": "# layout = v.Layout(row=True, \n#          wrap=True, \n#          align_center=True, \n#          children=[v.Flex(xs12=True, lg6=True, xl4=True, \n#                           children=[m])])\n# layout\n\nv.Tabs(\n    _metadata={\"mount_id\": \"content-main\"},\n    children=[\n        v.Tab(children=[\"Tab1\"]),\n        v.Tab(children=[\"Tab2\"]),\n        v.TabItem(\n            children=[\n                v.Layout(\n                    row=True,\n                    wrap=True,\n                    align_center=True,\n                    children=[v.Flex(xs12=True, lg6=True, xl4=True, children=[m])],\n                )\n            ]\n        ),\n        v.TabItem(children=[v.Container(children=[\"Lorum ipsum\"])]),\n    ],\n)\n"
    },
    "executionTime": "2019-12-16T16:40:29.771Z"
   },
   {
    "cell": {
     "executionCount": 17,
     "executionEventId": "67f73682-2223-4fac-95b1-4711c6716f11",
     "hasError": false,
     "id": "759ec975-26d7-48d1-8c69-87c6af411b0a",
     "outputs": [
      {
       "data": {
        "application/vnd.jupyter.widget-view+json": {
         "model_id": "f1e9e0e2e76e441c9a55266d10f93767",
         "version_major": 2,
         "version_minor": 0
        },
        "text/plain": "Tabs(children=[Tab(children=['Tab1']), TabItem(children=[Layout(align_center=True, children=[Flex(children=[Ma…"
       },
       "metadata": {},
       "output_type": "display_data"
      }
     ],
     "persistentId": "63c8aeab-0a61-499c-9835-229ef5ce8b54",
     "text": "# layout = v.Layout(row=True, \n#          wrap=True, \n#          align_center=True, \n#          children=[v.Flex(xs12=True, lg6=True, xl4=True, \n#                           children=[m])])\n# layout\n\nv.Tabs(\n    _metadata={\"mount_id\": \"content-main\"},\n    children=[\n        v.Tab(children=[\"Tab1\"]),\n        v.TabItem(\n            children=[\n                v.Layout(\n                    row=True,\n                    wrap=True,\n                    align_center=True,\n                    children=[v.Flex(xs12=True, lg6=True, xl4=True, children=[m])],\n                )\n            ]\n        ),\n        v.TabItem(children=[v.Container(children=[\"Lorum ipsum\"])]),\n    ],\n)\n"
    },
    "executionTime": "2019-12-16T16:40:40.222Z"
   },
   {
    "cell": {
     "executionCount": 18,
     "executionEventId": "b62c9b0a-318e-4ecb-aef4-987aeaa58878",
     "hasError": false,
     "id": "759ec975-26d7-48d1-8c69-87c6af411b0a",
     "outputs": [
      {
       "data": {
        "application/vnd.jupyter.widget-view+json": {
         "model_id": "c206db07907b4e00993510d5d1a005f8",
         "version_major": 2,
         "version_minor": 0
        },
        "text/plain": "Tabs(children=[Tab(children=['Click on the pinatas to find the location of the posada']), TabItem(children=[La…"
       },
       "metadata": {},
       "output_type": "display_data"
      }
     ],
     "persistentId": "63c8aeab-0a61-499c-9835-229ef5ce8b54",
     "text": "# layout = v.Layout(row=True, \n#          wrap=True, \n#          align_center=True, \n#          children=[v.Flex(xs12=True, lg6=True, xl4=True, \n#                           children=[m])])\n# layout\n\nv.Tabs(\n    _metadata={\"mount_id\": \"content-main\"},\n    children=[\n        v.Tab(children=[\"Click on the pinatas to find the location of the posada\"]),\n        v.TabItem(\n            children=[\n                v.Layout(\n                    row=True,\n                    wrap=True,\n                    align_center=True,\n                    children=[v.Flex(xs12=True, lg6=True, xl4=True, children=[m])],\n                )\n            ]\n        ),\n        v.TabItem(children=[v.Container(children=[\"Lorum ipsum\"])]),\n    ],\n)\n"
    },
    "executionTime": "2019-12-16T16:41:09.739Z"
   },
   {
    "cell": {
     "executionCount": 19,
     "executionEventId": "c0c07b14-9469-4b0e-9277-9b7241bccdc1",
     "hasError": false,
     "id": "759ec975-26d7-48d1-8c69-87c6af411b0a",
     "outputs": [
      {
       "data": {
        "application/vnd.jupyter.widget-view+json": {
         "model_id": "181fa49d69ec41b1b9922a1d9835af6a",
         "version_major": 2,
         "version_minor": 0
        },
        "text/plain": "Tabs(children=[Tab(children=['Click on the pinatas to find the location of the posada']), TabItem(children=[La…"
       },
       "metadata": {},
       "output_type": "display_data"
      }
     ],
     "persistentId": "63c8aeab-0a61-499c-9835-229ef5ce8b54",
     "text": "# layout = v.Layout(row=True, \n#          wrap=True, \n#          align_center=True, \n#          children=[v.Flex(xs12=True, lg6=True, xl4=True, \n#                           children=[m])])\n# layout\n\nv.Tabs(\n    _metadata={\"mount_id\": \"content-main\"},\n    children=[\n        v.Tab(children=[\"Click on the pinatas to find the location of the posada\"]),\n        v.TabItem(\n            children=[\n                v.Layout(\n                    row=True,\n                    wrap=True,\n                    align_center=True,\n                    children=[v.Flex(xs12=True, lg6=True, xl4=True, children=[m])],\n                )\n            ]\n        ),\n    ],\n)\n"
    },
    "executionTime": "2019-12-16T16:43:51.817Z"
   },
   {
    "cell": {
     "executionCount": 20,
     "executionEventId": "b3a4602a-4690-49b6-ad2c-bc4bb48beb05",
     "hasError": false,
     "id": "8ad39eec-fdba-4abf-a828-f0cb519c3fc6",
     "outputs": [],
     "persistentId": "229dfb64-a734-43ee-95cb-f7abe0a2e484",
     "text": "def create_map():\n    center = (19.3952, -99.1412)\n    m = Map(center=center,\n                  zoom=11, dragging=True,\n                  touch_zoom=True,\n                  basemap=basemaps.CartoDB.DarkMatter)\n    get_markers(m)\n    return m\n    \n    \ndef get_markers(m):\n    icon = Icon(icon_url='https://image.flaticon.com/icons/png/512/1598/1598096.png',\n               icon_size=[30,30])\n    for place in locations:\n        coord = (place['location']['lon'], -place['location']['lat'])\n        marker = Marker(location=coord, draggable=False,\n                        icon=icon)\n        message = widgets.HTML()\n        message.value = f\"Host: {place.get('host')} <br> Place: {place['name']} <br> Date: December {place['day']}\"\n        marker.popup = message\n        m.add_layer(marker);\n\n        \nm = create_map()"
    },
    "executionTime": "2019-12-16T16:46:56.432Z"
   },
   {
    "cell": {
     "executionCount": 21,
     "executionEventId": "0e446fa8-68a5-4d08-aab6-36fd1a8b0d94",
     "hasError": false,
     "id": "759ec975-26d7-48d1-8c69-87c6af411b0a",
     "outputs": [
      {
       "data": {
        "application/vnd.jupyter.widget-view+json": {
         "model_id": "4ed0f076912b4d7ab5c897405ab329b7",
         "version_major": 2,
         "version_minor": 0
        },
        "text/plain": "Tabs(children=[Tab(children=['Click on the pinatas to find the location of the posada']), TabItem(children=[La…"
       },
       "metadata": {},
       "output_type": "display_data"
      }
     ],
     "persistentId": "63c8aeab-0a61-499c-9835-229ef5ce8b54",
     "text": "# layout = v.Layout(row=True, \n#          wrap=True, \n#          align_center=True, \n#          children=[v.Flex(xs12=True, lg6=True, xl4=True, \n#                           children=[m])])\n# layout\n\nv.Tabs(\n    _metadata={\"mount_id\": \"content-main\"},\n    children=[\n        v.Tab(children=[\"Click on the pinatas to find the location of the posada\"]),\n        v.TabItem(\n            children=[\n                v.Layout(\n                    row=True,\n                    wrap=True,\n                    align_center=True,\n                    children=[v.Flex(xs12=True, lg6=True, xl4=True, children=[m])],\n                )\n            ]\n        ),\n    ],\n)\n"
    },
    "executionTime": "2019-12-16T16:46:57.475Z"
   },
   {
    "cell": {
     "executionCount": 22,
     "executionEventId": "57c6c915-b739-4882-b843-4d4fd613c01a",
     "hasError": false,
     "id": "759ec975-26d7-48d1-8c69-87c6af411b0a",
     "outputs": [
      {
       "data": {
        "application/vnd.jupyter.widget-view+json": {
         "model_id": "94187627b28c46e8b2662d8811e1d782",
         "version_major": 2,
         "version_minor": 0
        },
        "text/plain": "Tabs(children=[Tab(children=['Click on the pinatas to find the location of the posada']), TabItem(children=[La…"
       },
       "metadata": {},
       "output_type": "display_data"
      }
     ],
     "persistentId": "63c8aeab-0a61-499c-9835-229ef5ce8b54",
     "text": "# layout = v.Layout(row=True, \n#          wrap=True, \n#          align_center=True, \n#          children=[v.Flex(xs12=True, lg6=True, xl4=True, \n#                           children=[m])])\n# layout\n\nv.Tabs(\n    _metadata={\"mount_id\": \"content-main\"},\n    children=[\n        v.Tab(children=[\"Click on the pinatas to find the location of the posada\"]),\n        v.TabItem(\n            children=[\n                v.Layout(\n                    row=True,\n                    wrap=True,\n                    align_center=True,\n                    children=[v.Flex(xs12=True, lg6=True, xl4=True, children=[m])],\n                )\n            ]\n        ),\n    ],\n)\n"
    },
    "executionTime": "2019-12-16T16:53:02.332Z"
   },
   {
    "cell": {
     "executionCount": 23,
     "executionEventId": "e8ca632e-2080-4b8e-9925-0adc7da5af50",
     "hasError": false,
     "id": "759ec975-26d7-48d1-8c69-87c6af411b0a",
     "outputs": [
      {
       "data": {
        "application/vnd.jupyter.widget-view+json": {
         "model_id": "0efacf3b33314a2ea751e65f9e4dc032",
         "version_major": 2,
         "version_minor": 0
        },
        "text/plain": "Tabs(children=[Layout(align_center=True, children=[Flex(children=[Map(basemap={'url': 'http://c.basemaps.carto…"
       },
       "metadata": {},
       "output_type": "display_data"
      }
     ],
     "persistentId": "63c8aeab-0a61-499c-9835-229ef5ce8b54",
     "text": "# layout = v.Layout(row=True, \n#          wrap=True, \n#          align_center=True, \n#          children=[v.Flex(xs12=True, lg6=True, xl4=True, \n#                           children=[m])])\n# layout\n\nv.Tabs(\n    _metadata={\"mount_id\": \"content-main\"},\n    children=[\n        v.Layout(\n            row=True,\n            wrap=True,\n            align_center=True,\n            children=[v.Flex(xs12=True, lg6=True, xl4=True, children=[m])],\n        )    ],\n)"
    },
    "executionTime": "2019-12-16T16:53:57.937Z"
   },
   {
    "cell": {
     "executionCount": 24,
     "executionEventId": "04e3508f-eb79-4924-8d72-42ee52e00e17",
     "hasError": true,
     "id": "759ec975-26d7-48d1-8c69-87c6af411b0a",
     "outputs": [
      {
       "ename": "AttributeError",
       "evalue": "module 'ipyvuetify' has no attribute 'card'",
       "output_type": "error",
       "traceback": [
        "\u001b[0;31m---------------------------------------------------------------------------\u001b[0m",
        "\u001b[0;31mAttributeError\u001b[0m                            Traceback (most recent call last)",
        "\u001b[0;32m<ipython-input-24-b3cafd2b5ee2>\u001b[0m in \u001b[0;36m<module>\u001b[0;34m\u001b[0m\n\u001b[1;32m      6\u001b[0m \u001b[0;31m# layout\u001b[0m\u001b[0;34m\u001b[0m\u001b[0;34m\u001b[0m\u001b[0;34m\u001b[0m\u001b[0m\n\u001b[1;32m      7\u001b[0m \u001b[0;34m\u001b[0m\u001b[0m\n\u001b[0;32m----> 8\u001b[0;31m v.card(\n\u001b[0m\u001b[1;32m      9\u001b[0m     \u001b[0m_metadata\u001b[0m\u001b[0;34m=\u001b[0m\u001b[0;34m{\u001b[0m\u001b[0;34m\"mount_id\"\u001b[0m\u001b[0;34m:\u001b[0m \u001b[0;34m\"content-main\"\u001b[0m\u001b[0;34m}\u001b[0m\u001b[0;34m,\u001b[0m\u001b[0;34m\u001b[0m\u001b[0;34m\u001b[0m\u001b[0m\n\u001b[1;32m     10\u001b[0m     children=[\n",
        "\u001b[0;31mAttributeError\u001b[0m: module 'ipyvuetify' has no attribute 'card'"
       ]
      }
     ],
     "persistentId": "63c8aeab-0a61-499c-9835-229ef5ce8b54",
     "text": "# layout = v.Layout(row=True, \n#          wrap=True, \n#          align_center=True, \n#          children=[v.Flex(xs12=True, lg6=True, xl4=True, \n#                           children=[m])])\n# layout\n\nv.card(\n    _metadata={\"mount_id\": \"content-main\"},\n    children=[\n        v.Tab(children=[\"Click on the pinatas to find the location of the posada\"]),\n        v.TabItem(\n            children=[\n                v.Layout(\n                    row=True,\n                    wrap=True,\n                    align_center=True,\n                    children=[v.Flex(xs12=True, lg6=True, xl4=True, children=[m])],\n                )\n            ]\n        ),\n    ],\n)\n"
    },
    "executionTime": "2019-12-16T17:04:35.183Z"
   },
   {
    "cell": {
     "executionCount": 25,
     "executionEventId": "a607b14b-95a0-4e01-ac62-a694af4fe800",
     "hasError": false,
     "id": "759ec975-26d7-48d1-8c69-87c6af411b0a",
     "outputs": [
      {
       "data": {
        "application/vnd.jupyter.widget-view+json": {
         "model_id": "875ea9cd99d74e6b9ad214a065e020c0",
         "version_major": 2,
         "version_minor": 0
        },
        "text/plain": "Layout(children=[Tab(children=['Click on the pinatas to find the location of the posada']), TabItem(children=[…"
       },
       "metadata": {},
       "output_type": "display_data"
      }
     ],
     "persistentId": "63c8aeab-0a61-499c-9835-229ef5ce8b54",
     "text": "# layout = v.Layout(row=True, \n#          wrap=True, \n#          align_center=True, \n#          children=[v.Flex(xs12=True, lg6=True, xl4=True, \n#                           children=[m])])\n# layout\n\nv.Layout(\n    _metadata={\"mount_id\": \"content-main\"},\n    children=[\n        v.Tab(children=[\"Click on the pinatas to find the location of the posada\"]),\n        v.TabItem(\n            children=[\n                v.Layout(\n                    row=True,\n                    wrap=True,\n                    align_center=True,\n                    children=[v.Flex(xs12=True, lg6=True, xl4=True, children=[m])],\n                )\n            ]\n        ),\n    ],\n)\n"
    },
    "executionTime": "2019-12-16T17:05:16.767Z"
   },
   {
    "cell": {
     "executionCount": 26,
     "executionEventId": "2b84bc7a-8d5b-409d-a7da-39bc899e15ea",
     "hasError": false,
     "id": "759ec975-26d7-48d1-8c69-87c6af411b0a",
     "outputs": [
      {
       "data": {
        "application/vnd.jupyter.widget-view+json": {
         "model_id": "243edb7fd7914d558ab87d9bf7fa5370",
         "version_major": 2,
         "version_minor": 0
        },
        "text/plain": "Layout(children=[Flex(children=[Map(basemap={'url': 'http://c.basemaps.cartocdn.com/dark_all/{z}/{x}/{y}.png',…"
       },
       "metadata": {},
       "output_type": "display_data"
      }
     ],
     "persistentId": "63c8aeab-0a61-499c-9835-229ef5ce8b54",
     "text": "# layout = v.Layout(row=True, \n#          wrap=True, \n#          align_center=True, \n#          children=[v.Flex(xs12=True, lg6=True, xl4=True, \n#                           children=[m])])\n# layout\n\nv.Layout(\n    _metadata={\"mount_id\": \"content-main\"},\n    children=[v.Flex(xs12=True, lg6=True, xl4=True, \n                          children=[m])])\n"
    },
    "executionTime": "2019-12-16T17:05:46.829Z"
   },
   {
    "cell": {
     "executionCount": 27,
     "executionEventId": "f4d11ce8-e354-462e-aa21-ff8e3503046f",
     "hasError": true,
     "id": "759ec975-26d7-48d1-8c69-87c6af411b0a",
     "outputs": [
      {
       "ename": "TypeError",
       "evalue": "__init__() takes 1 positional argument but 2 were given",
       "output_type": "error",
       "traceback": [
        "\u001b[0;31m---------------------------------------------------------------------------\u001b[0m",
        "\u001b[0;31mTypeError\u001b[0m                                 Traceback (most recent call last)",
        "\u001b[0;32m<ipython-input-27-e96b7bd7fe58>\u001b[0m in \u001b[0;36m<module>\u001b[0;34m\u001b[0m\n\u001b[1;32m      6\u001b[0m     \u001b[0mchildren\u001b[0m\u001b[0;34m=\u001b[0m\u001b[0;34m[\u001b[0m\u001b[0mv\u001b[0m\u001b[0;34m.\u001b[0m\u001b[0mFlex\u001b[0m\u001b[0;34m(\u001b[0m\u001b[0mxs12\u001b[0m\u001b[0;34m=\u001b[0m\u001b[0;32mTrue\u001b[0m\u001b[0;34m,\u001b[0m \u001b[0mlg6\u001b[0m\u001b[0;34m=\u001b[0m\u001b[0;32mTrue\u001b[0m\u001b[0;34m,\u001b[0m \u001b[0mxl4\u001b[0m\u001b[0;34m=\u001b[0m\u001b[0;32mTrue\u001b[0m\u001b[0;34m,\u001b[0m \u001b[0mchildren\u001b[0m\u001b[0;34m=\u001b[0m\u001b[0;34m[\u001b[0m\u001b[0mm\u001b[0m\u001b[0;34m]\u001b[0m\u001b[0;34m)\u001b[0m\u001b[0;34m]\u001b[0m\u001b[0;34m,\u001b[0m\u001b[0;34m\u001b[0m\u001b[0;34m\u001b[0m\u001b[0m\n\u001b[1;32m      7\u001b[0m )\n\u001b[0;32m----> 8\u001b[0;31m \u001b[0mv\u001b[0m\u001b[0;34m.\u001b[0m\u001b[0mToolbarTitle\u001b[0m\u001b[0;34m(\u001b[0m\u001b[0;34m\"Posadas map 2020\"\u001b[0m\u001b[0;34m)\u001b[0m\u001b[0;34m\u001b[0m\u001b[0;34m\u001b[0m\u001b[0m\n\u001b[0m",
        "\u001b[0;31mTypeError\u001b[0m: __init__() takes 1 positional argument but 2 were given"
       ]
      }
     ],
     "persistentId": "63c8aeab-0a61-499c-9835-229ef5ce8b54",
     "text": "\nv.Layout(\n    row=True,\n    _metadata={\"mount_id\": \"content-main\"},\n    wrap=True,\n    align_center=True,\n    children=[v.Flex(xs12=True, lg6=True, xl4=True, children=[m])],\n)\nv.ToolbarTitle(\"Posadas map 2020\")"
    },
    "executionTime": "2019-12-16T17:08:32.384Z"
   },
   {
    "cell": {
     "executionCount": 28,
     "executionEventId": "4857077c-a8a8-427b-a044-be68fcad6c7f",
     "hasError": false,
     "id": "759ec975-26d7-48d1-8c69-87c6af411b0a",
     "outputs": [
      {
       "data": {
        "text/plain": "\u001b[0;31mInit signature:\u001b[0m \u001b[0mv\u001b[0m\u001b[0;34m.\u001b[0m\u001b[0mToolbarTitle\u001b[0m\u001b[0;34m(\u001b[0m\u001b[0;34m*\u001b[0m\u001b[0margs\u001b[0m\u001b[0;34m,\u001b[0m \u001b[0;34m**\u001b[0m\u001b[0mkwargs\u001b[0m\u001b[0;34m)\u001b[0m\u001b[0;34m\u001b[0m\u001b[0;34m\u001b[0m\u001b[0m\n\u001b[0;31mDocstring:\u001b[0m      Widget that can be inserted into the DOM\n\u001b[0;31mInit docstring:\u001b[0m Public constructor\n\u001b[0;31mFile:\u001b[0m           /anaconda3/lib/python3.7/site-packages/ipyvuetify/generated/ToolbarTitle.py\n\u001b[0;31mType:\u001b[0m           MetaHasTraits\n\u001b[0;31mSubclasses:\u001b[0m     \n"
       },
       "metadata": {},
       "output_type": "display_data"
      }
     ],
     "persistentId": "63c8aeab-0a61-499c-9835-229ef5ce8b54",
     "text": "\nv.Layout(\n    row=True,\n    _metadata={\"mount_id\": \"content-main\"},\n    wrap=True,\n    align_center=True,\n    children=[v.Flex(xs12=True, lg6=True, xl4=True, children=[m])],\n)\n\nv.ToolbarTitle?"
    },
    "executionTime": "2019-12-16T17:09:04.532Z"
   },
   {
    "cell": {
     "executionCount": 29,
     "executionEventId": "89aec6c8-1e74-47e2-9a0f-7022e87a139b",
     "hasError": true,
     "id": "759ec975-26d7-48d1-8c69-87c6af411b0a",
     "outputs": [
      {
       "ename": "TypeError",
       "evalue": "__init__() takes 1 positional argument but 2 were given",
       "output_type": "error",
       "traceback": [
        "\u001b[0;31m---------------------------------------------------------------------------\u001b[0m",
        "\u001b[0;31mTypeError\u001b[0m                                 Traceback (most recent call last)",
        "\u001b[0;32m<ipython-input-29-dc281d22da3e>\u001b[0m in \u001b[0;36m<module>\u001b[0;34m\u001b[0m\n\u001b[1;32m      7\u001b[0m )\n\u001b[1;32m      8\u001b[0m \u001b[0;34m\u001b[0m\u001b[0m\n\u001b[0;32m----> 9\u001b[0;31m \u001b[0mv\u001b[0m\u001b[0;34m.\u001b[0m\u001b[0mToolbarTitle\u001b[0m\u001b[0;34m(\u001b[0m\u001b[0;34m\"hola\"\u001b[0m\u001b[0;34m)\u001b[0m\u001b[0;34m\u001b[0m\u001b[0;34m\u001b[0m\u001b[0m\n\u001b[0m",
        "\u001b[0;31mTypeError\u001b[0m: __init__() takes 1 positional argument but 2 were given"
       ]
      }
     ],
     "persistentId": "63c8aeab-0a61-499c-9835-229ef5ce8b54",
     "text": "\nv.Layout(\n    row=True,\n    _metadata={\"mount_id\": \"content-main\"},\n    wrap=True,\n    align_center=True,\n    children=[v.Flex(xs12=True, lg6=True, xl4=True, children=[m])],\n)\n\nv.ToolbarTitle(\"hola\")"
    },
    "executionTime": "2019-12-16T17:09:14.103Z"
   },
   {
    "cell": {
     "executionCount": 30,
     "executionEventId": "e20df603-558c-4ddd-b244-2c9603bdf50c",
     "hasError": true,
     "id": "759ec975-26d7-48d1-8c69-87c6af411b0a",
     "outputs": [
      {
       "ename": "SyntaxError",
       "evalue": "invalid syntax (<ipython-input-30-a0ffbdfcd9ef>, line 10)",
       "output_type": "error",
       "traceback": [
        "\u001b[0;36m  File \u001b[0;32m\"<ipython-input-30-a0ffbdfcd9ef>\"\u001b[0;36m, line \u001b[0;32m10\u001b[0m\n\u001b[0;31m    children=[v.ToolbarTitle=[\"hola\"]]\u001b[0m\n\u001b[0m                            ^\u001b[0m\n\u001b[0;31mSyntaxError\u001b[0m\u001b[0;31m:\u001b[0m invalid syntax\n"
       ]
      }
     ],
     "persistentId": "63c8aeab-0a61-499c-9835-229ef5ce8b54",
     "text": "\nv.Layout(\n    row=True,\n    _metadata={\"mount_id\": \"content-main\"},\n    wrap=True,\n    align_center=True,\n    children=[v.Flex(xs12=True, lg6=True, xl4=True, children=[m])],\n)\n\nv.AppBar(\n    children=[v.ToolbarTitle=[\"hola\"]]\n)"
    },
    "executionTime": "2019-12-16T17:10:25.559Z"
   },
   {
    "cell": {
     "executionCount": 31,
     "executionEventId": "ec4165a4-d302-46cb-a75d-3141e85279ec",
     "hasError": true,
     "id": "759ec975-26d7-48d1-8c69-87c6af411b0a",
     "outputs": [
      {
       "ename": "TypeError",
       "evalue": "__init__() takes 1 positional argument but 2 were given",
       "output_type": "error",
       "traceback": [
        "\u001b[0;31m---------------------------------------------------------------------------\u001b[0m",
        "\u001b[0;31mTypeError\u001b[0m                                 Traceback (most recent call last)",
        "\u001b[0;32m<ipython-input-31-d9a27bee16ba>\u001b[0m in \u001b[0;36m<module>\u001b[0;34m\u001b[0m\n\u001b[1;32m      8\u001b[0m \u001b[0;34m\u001b[0m\u001b[0m\n\u001b[1;32m      9\u001b[0m v.AppBar(\n\u001b[0;32m---> 10\u001b[0;31m     \u001b[0mchildren\u001b[0m\u001b[0;34m=\u001b[0m\u001b[0;34m[\u001b[0m\u001b[0mv\u001b[0m\u001b[0;34m.\u001b[0m\u001b[0mToolbarTitle\u001b[0m\u001b[0;34m(\u001b[0m\u001b[0;34m\"hola\"\u001b[0m\u001b[0;34m)\u001b[0m\u001b[0;34m]\u001b[0m\u001b[0;34m\u001b[0m\u001b[0;34m\u001b[0m\u001b[0m\n\u001b[0m\u001b[1;32m     11\u001b[0m )\n",
        "\u001b[0;31mTypeError\u001b[0m: __init__() takes 1 positional argument but 2 were given"
       ]
      }
     ],
     "persistentId": "63c8aeab-0a61-499c-9835-229ef5ce8b54",
     "text": "\nv.Layout(\n    row=True,\n    _metadata={\"mount_id\": \"content-main\"},\n    wrap=True,\n    align_center=True,\n    children=[v.Flex(xs12=True, lg6=True, xl4=True, children=[m])],\n)\n\nv.AppBar(\n    children=[v.ToolbarTitle(\"hola\")]\n)"
    },
    "executionTime": "2019-12-16T17:10:37.552Z"
   },
   {
    "cell": {
     "executionCount": 32,
     "executionEventId": "08acf296-9601-4467-949e-c9f8e25673fc",
     "hasError": false,
     "id": "759ec975-26d7-48d1-8c69-87c6af411b0a",
     "outputs": [
      {
       "data": {
        "application/vnd.jupyter.widget-view+json": {
         "model_id": "5b6876f776924be4861512e993b2f12c",
         "version_major": 2,
         "version_minor": 0
        },
        "text/plain": "ToolbarTitle(children=['hola'])"
       },
       "metadata": {},
       "output_type": "display_data"
      }
     ],
     "persistentId": "63c8aeab-0a61-499c-9835-229ef5ce8b54",
     "text": "\nv.Layout(\n    row=True,\n    _metadata={\"mount_id\": \"content-main\"},\n    wrap=True,\n    align_center=True,\n    children=[v.Flex(xs12=True, lg6=True, xl4=True, children=[m])],\n)\n\nv.ToolbarTitle(children=['hola'])"
    },
    "executionTime": "2019-12-16T17:11:41.417Z"
   },
   {
    "cell": {
     "executionCount": 33,
     "executionEventId": "6a4024bf-2e08-44a9-a5d2-bf4dcce82944",
     "hasError": false,
     "id": "759ec975-26d7-48d1-8c69-87c6af411b0a",
     "outputs": [],
     "persistentId": "63c8aeab-0a61-499c-9835-229ef5ce8b54",
     "text": "\nv.Layout(\n    row=True,\n    _metadata={\"mount_id\": \"content-main\"},\n    wrap=True,\n    align_center=True,\n    children=[v.Flex(xs12=True, lg6=True, xl4=True, children=[m])],\n)\n\nv.Layout(pa_4=True, _metadata={'mount_id': 'content-nav'}, \n         column=True, children=[\"25 Days of serverless\"]);"
    },
    "executionTime": "2019-12-16T17:16:40.241Z"
   },
   {
    "cell": {
     "executionCount": 34,
     "executionEventId": "5cb356c7-b36c-4dd8-a288-dc012e5f2ad0",
     "hasError": false,
     "id": "8ad39eec-fdba-4abf-a828-f0cb519c3fc6",
     "outputs": [],
     "persistentId": "229dfb64-a734-43ee-95cb-f7abe0a2e484",
     "text": "def create_map():\n    center = (19.3952, -99.1412)\n    m = Map(center=center,\n                  zoom=11, dragging=True,\n                  touch_zoom=True,\n                  basemap=basemaps.CartoDB.DarkMatter)\n    get_markers(m)\n    return m\n    \n    \ndef get_markers(m):\n    icon = Icon(icon_url='https://image.flaticon.com/icons/png/512/762/762053.png',\n               icon_size=[30,30])\n    for place in locations:\n        coord = (place['location']['lon'], -place['location']['lat'])\n        marker = Marker(location=coord, draggable=False,\n                        icon=icon)\n        message = widgets.HTML()\n        message.value = f\"Host: {place.get('host')} <br> Place: {place['name']} <br> Date: December {place['day']}\"\n        marker.popup = message\n        m.add_layer(marker);\n\n        \nm = create_map()"
    },
    "executionTime": "2019-12-16T17:19:43.142Z"
   },
   {
    "cell": {
     "executionCount": 35,
     "executionEventId": "c14d9c72-b1ef-48f4-9a77-015e6f9446a2",
     "hasError": false,
     "id": "759ec975-26d7-48d1-8c69-87c6af411b0a",
     "outputs": [],
     "persistentId": "63c8aeab-0a61-499c-9835-229ef5ce8b54",
     "text": "\nv.Layout(\n    row=True,\n    _metadata={\"mount_id\": \"content-main\"},\n    wrap=True,\n    align_center=True,\n    children=[v.Flex(xs12=True, lg6=True, xl4=True, children=[m])],\n)\n\nv.Layout(pa_4=True, _metadata={'mount_id': 'content-nav'}, \n         column=True, children=[\"25 Days of serverless\"]);"
    },
    "executionTime": "2019-12-16T17:19:44.608Z"
   },
   {
    "cell": {
     "executionCount": 36,
     "executionEventId": "30d1448c-44d1-41a6-9bce-e8996d5ae40f",
     "hasError": true,
     "id": "759ec975-26d7-48d1-8c69-87c6af411b0a",
     "outputs": [
      {
       "ename": "TraitError",
       "evalue": "The 'children' trait of a ToolbarTitle instance must be a list, but a value of class 'str' (i.e. 'Hola') was specified.",
       "output_type": "error",
       "traceback": [
        "\u001b[0;31m---------------------------------------------------------------------------\u001b[0m",
        "\u001b[0;31mTraitError\u001b[0m                                Traceback (most recent call last)",
        "\u001b[0;32m<ipython-input-36-3120e3138ad6>\u001b[0m in \u001b[0;36m<module>\u001b[0;34m\u001b[0m\n\u001b[1;32m     10\u001b[0m          column=True, children=[\"25 Days of serverless\"]);\n\u001b[1;32m     11\u001b[0m \u001b[0;34m\u001b[0m\u001b[0m\n\u001b[0;32m---> 12\u001b[0;31m \u001b[0mv\u001b[0m\u001b[0;34m.\u001b[0m\u001b[0mAppBar\u001b[0m\u001b[0;34m(\u001b[0m\u001b[0mchildren\u001b[0m\u001b[0;34m=\u001b[0m\u001b[0;34m[\u001b[0m\u001b[0mv\u001b[0m\u001b[0;34m.\u001b[0m\u001b[0mToolbarTitle\u001b[0m\u001b[0;34m(\u001b[0m\u001b[0mchildren\u001b[0m\u001b[0;34m=\u001b[0m\u001b[0;34m'Hola'\u001b[0m\u001b[0;34m)\u001b[0m\u001b[0;34m]\u001b[0m\u001b[0;34m)\u001b[0m\u001b[0;34m\u001b[0m\u001b[0;34m\u001b[0m\u001b[0m\n\u001b[0m",
        "\u001b[0;32m/anaconda3/lib/python3.7/site-packages/ipywidgets/widgets/widget.py\u001b[0m in \u001b[0;36m__init__\u001b[0;34m(self, **kwargs)\u001b[0m\n\u001b[1;32m    410\u001b[0m         \u001b[0;34m\"\"\"Public constructor\"\"\"\u001b[0m\u001b[0;34m\u001b[0m\u001b[0;34m\u001b[0m\u001b[0m\n\u001b[1;32m    411\u001b[0m         \u001b[0mself\u001b[0m\u001b[0;34m.\u001b[0m\u001b[0m_model_id\u001b[0m \u001b[0;34m=\u001b[0m \u001b[0mkwargs\u001b[0m\u001b[0;34m.\u001b[0m\u001b[0mpop\u001b[0m\u001b[0;34m(\u001b[0m\u001b[0;34m'model_id'\u001b[0m\u001b[0;34m,\u001b[0m \u001b[0;32mNone\u001b[0m\u001b[0;34m)\u001b[0m\u001b[0;34m\u001b[0m\u001b[0;34m\u001b[0m\u001b[0m\n\u001b[0;32m--> 412\u001b[0;31m         \u001b[0msuper\u001b[0m\u001b[0;34m(\u001b[0m\u001b[0mWidget\u001b[0m\u001b[0;34m,\u001b[0m \u001b[0mself\u001b[0m\u001b[0;34m)\u001b[0m\u001b[0;34m.\u001b[0m\u001b[0m__init__\u001b[0m\u001b[0;34m(\u001b[0m\u001b[0;34m**\u001b[0m\u001b[0mkwargs\u001b[0m\u001b[0;34m)\u001b[0m\u001b[0;34m\u001b[0m\u001b[0;34m\u001b[0m\u001b[0m\n\u001b[0m\u001b[1;32m    413\u001b[0m \u001b[0;34m\u001b[0m\u001b[0m\n\u001b[1;32m    414\u001b[0m         \u001b[0mWidget\u001b[0m\u001b[0;34m.\u001b[0m\u001b[0m_call_widget_constructed\u001b[0m\u001b[0;34m(\u001b[0m\u001b[0mself\u001b[0m\u001b[0;34m)\u001b[0m\u001b[0;34m\u001b[0m\u001b[0;34m\u001b[0m\u001b[0m\n",
        "\u001b[0;32m/anaconda3/lib/python3.7/site-packages/traitlets/traitlets.py\u001b[0m in \u001b[0;36m__init__\u001b[0;34m(self, *args, **kwargs)\u001b[0m\n\u001b[1;32m    995\u001b[0m             \u001b[0;32mfor\u001b[0m \u001b[0mkey\u001b[0m\u001b[0;34m,\u001b[0m \u001b[0mvalue\u001b[0m \u001b[0;32min\u001b[0m \u001b[0mkwargs\u001b[0m\u001b[0;34m.\u001b[0m\u001b[0mitems\u001b[0m\u001b[0;34m(\u001b[0m\u001b[0;34m)\u001b[0m\u001b[0;34m:\u001b[0m\u001b[0;34m\u001b[0m\u001b[0;34m\u001b[0m\u001b[0m\n\u001b[1;32m    996\u001b[0m                 \u001b[0;32mif\u001b[0m \u001b[0mself\u001b[0m\u001b[0;34m.\u001b[0m\u001b[0mhas_trait\u001b[0m\u001b[0;34m(\u001b[0m\u001b[0mkey\u001b[0m\u001b[0;34m)\u001b[0m\u001b[0;34m:\u001b[0m\u001b[0;34m\u001b[0m\u001b[0;34m\u001b[0m\u001b[0m\n\u001b[0;32m--> 997\u001b[0;31m                     \u001b[0msetattr\u001b[0m\u001b[0;34m(\u001b[0m\u001b[0mself\u001b[0m\u001b[0;34m,\u001b[0m \u001b[0mkey\u001b[0m\u001b[0;34m,\u001b[0m \u001b[0mvalue\u001b[0m\u001b[0;34m)\u001b[0m\u001b[0;34m\u001b[0m\u001b[0;34m\u001b[0m\u001b[0m\n\u001b[0m\u001b[1;32m    998\u001b[0m                 \u001b[0;32melse\u001b[0m\u001b[0;34m:\u001b[0m\u001b[0;34m\u001b[0m\u001b[0;34m\u001b[0m\u001b[0m\n\u001b[1;32m    999\u001b[0m                     \u001b[0;31m# passthrough args that don't set traits to super\u001b[0m\u001b[0;34m\u001b[0m\u001b[0;34m\u001b[0m\u001b[0;34m\u001b[0m\u001b[0m\n",
        "\u001b[0;32m/anaconda3/lib/python3.7/site-packages/traitlets/traitlets.py\u001b[0m in \u001b[0;36m__set__\u001b[0;34m(self, obj, value)\u001b[0m\n\u001b[1;32m    583\u001b[0m             \u001b[0;32mraise\u001b[0m \u001b[0mTraitError\u001b[0m\u001b[0;34m(\u001b[0m\u001b[0;34m'The \"%s\" trait is read-only.'\u001b[0m \u001b[0;34m%\u001b[0m \u001b[0mself\u001b[0m\u001b[0;34m.\u001b[0m\u001b[0mname\u001b[0m\u001b[0;34m)\u001b[0m\u001b[0;34m\u001b[0m\u001b[0;34m\u001b[0m\u001b[0m\n\u001b[1;32m    584\u001b[0m         \u001b[0;32melse\u001b[0m\u001b[0;34m:\u001b[0m\u001b[0;34m\u001b[0m\u001b[0;34m\u001b[0m\u001b[0m\n\u001b[0;32m--> 585\u001b[0;31m             \u001b[0mself\u001b[0m\u001b[0;34m.\u001b[0m\u001b[0mset\u001b[0m\u001b[0;34m(\u001b[0m\u001b[0mobj\u001b[0m\u001b[0;34m,\u001b[0m \u001b[0mvalue\u001b[0m\u001b[0;34m)\u001b[0m\u001b[0;34m\u001b[0m\u001b[0;34m\u001b[0m\u001b[0m\n\u001b[0m\u001b[1;32m    586\u001b[0m \u001b[0;34m\u001b[0m\u001b[0m\n\u001b[1;32m    587\u001b[0m     \u001b[0;32mdef\u001b[0m \u001b[0m_validate\u001b[0m\u001b[0;34m(\u001b[0m\u001b[0mself\u001b[0m\u001b[0;34m,\u001b[0m \u001b[0mobj\u001b[0m\u001b[0;34m,\u001b[0m \u001b[0mvalue\u001b[0m\u001b[0;34m)\u001b[0m\u001b[0;34m:\u001b[0m\u001b[0;34m\u001b[0m\u001b[0;34m\u001b[0m\u001b[0m\n",
        "\u001b[0;32m/anaconda3/lib/python3.7/site-packages/traitlets/traitlets.py\u001b[0m in \u001b[0;36mset\u001b[0;34m(self, obj, value)\u001b[0m\n\u001b[1;32m    557\u001b[0m \u001b[0;34m\u001b[0m\u001b[0m\n\u001b[1;32m    558\u001b[0m     \u001b[0;32mdef\u001b[0m \u001b[0mset\u001b[0m\u001b[0;34m(\u001b[0m\u001b[0mself\u001b[0m\u001b[0;34m,\u001b[0m \u001b[0mobj\u001b[0m\u001b[0;34m,\u001b[0m \u001b[0mvalue\u001b[0m\u001b[0;34m)\u001b[0m\u001b[0;34m:\u001b[0m\u001b[0;34m\u001b[0m\u001b[0;34m\u001b[0m\u001b[0m\n\u001b[0;32m--> 559\u001b[0;31m         \u001b[0mnew_value\u001b[0m \u001b[0;34m=\u001b[0m \u001b[0mself\u001b[0m\u001b[0;34m.\u001b[0m\u001b[0m_validate\u001b[0m\u001b[0;34m(\u001b[0m\u001b[0mobj\u001b[0m\u001b[0;34m,\u001b[0m \u001b[0mvalue\u001b[0m\u001b[0;34m)\u001b[0m\u001b[0;34m\u001b[0m\u001b[0;34m\u001b[0m\u001b[0m\n\u001b[0m\u001b[1;32m    560\u001b[0m         \u001b[0;32mtry\u001b[0m\u001b[0;34m:\u001b[0m\u001b[0;34m\u001b[0m\u001b[0;34m\u001b[0m\u001b[0m\n\u001b[1;32m    561\u001b[0m             \u001b[0mold_value\u001b[0m \u001b[0;34m=\u001b[0m \u001b[0mobj\u001b[0m\u001b[0;34m.\u001b[0m\u001b[0m_trait_values\u001b[0m\u001b[0;34m[\u001b[0m\u001b[0mself\u001b[0m\u001b[0;34m.\u001b[0m\u001b[0mname\u001b[0m\u001b[0;34m]\u001b[0m\u001b[0;34m\u001b[0m\u001b[0;34m\u001b[0m\u001b[0m\n",
        "\u001b[0;32m/anaconda3/lib/python3.7/site-packages/traitlets/traitlets.py\u001b[0m in \u001b[0;36m_validate\u001b[0;34m(self, obj, value)\u001b[0m\n\u001b[1;32m    589\u001b[0m             \u001b[0;32mreturn\u001b[0m \u001b[0mvalue\u001b[0m\u001b[0;34m\u001b[0m\u001b[0;34m\u001b[0m\u001b[0m\n\u001b[1;32m    590\u001b[0m         \u001b[0;32mif\u001b[0m \u001b[0mhasattr\u001b[0m\u001b[0;34m(\u001b[0m\u001b[0mself\u001b[0m\u001b[0;34m,\u001b[0m \u001b[0;34m'validate'\u001b[0m\u001b[0;34m)\u001b[0m\u001b[0;34m:\u001b[0m\u001b[0;34m\u001b[0m\u001b[0;34m\u001b[0m\u001b[0m\n\u001b[0;32m--> 591\u001b[0;31m             \u001b[0mvalue\u001b[0m \u001b[0;34m=\u001b[0m \u001b[0mself\u001b[0m\u001b[0;34m.\u001b[0m\u001b[0mvalidate\u001b[0m\u001b[0;34m(\u001b[0m\u001b[0mobj\u001b[0m\u001b[0;34m,\u001b[0m \u001b[0mvalue\u001b[0m\u001b[0;34m)\u001b[0m\u001b[0;34m\u001b[0m\u001b[0;34m\u001b[0m\u001b[0m\n\u001b[0m\u001b[1;32m    592\u001b[0m         \u001b[0;32mif\u001b[0m \u001b[0mobj\u001b[0m\u001b[0;34m.\u001b[0m\u001b[0m_cross_validation_lock\u001b[0m \u001b[0;32mis\u001b[0m \u001b[0;32mFalse\u001b[0m\u001b[0;34m:\u001b[0m\u001b[0;34m\u001b[0m\u001b[0;34m\u001b[0m\u001b[0m\n\u001b[1;32m    593\u001b[0m             \u001b[0mvalue\u001b[0m \u001b[0;34m=\u001b[0m \u001b[0mself\u001b[0m\u001b[0;34m.\u001b[0m\u001b[0m_cross_validate\u001b[0m\u001b[0;34m(\u001b[0m\u001b[0mobj\u001b[0m\u001b[0;34m,\u001b[0m \u001b[0mvalue\u001b[0m\u001b[0;34m)\u001b[0m\u001b[0;34m\u001b[0m\u001b[0;34m\u001b[0m\u001b[0m\n",
        "\u001b[0;32m/anaconda3/lib/python3.7/site-packages/traitlets/traitlets.py\u001b[0m in \u001b[0;36mvalidate\u001b[0;34m(self, obj, value)\u001b[0m\n\u001b[1;32m   2322\u001b[0m \u001b[0;34m\u001b[0m\u001b[0m\n\u001b[1;32m   2323\u001b[0m     \u001b[0;32mdef\u001b[0m \u001b[0mvalidate\u001b[0m\u001b[0;34m(\u001b[0m\u001b[0mself\u001b[0m\u001b[0;34m,\u001b[0m \u001b[0mobj\u001b[0m\u001b[0;34m,\u001b[0m \u001b[0mvalue\u001b[0m\u001b[0;34m)\u001b[0m\u001b[0;34m:\u001b[0m\u001b[0;34m\u001b[0m\u001b[0;34m\u001b[0m\u001b[0m\n\u001b[0;32m-> 2324\u001b[0;31m         \u001b[0mvalue\u001b[0m \u001b[0;34m=\u001b[0m \u001b[0msuper\u001b[0m\u001b[0;34m(\u001b[0m\u001b[0mList\u001b[0m\u001b[0;34m,\u001b[0m \u001b[0mself\u001b[0m\u001b[0;34m)\u001b[0m\u001b[0;34m.\u001b[0m\u001b[0mvalidate\u001b[0m\u001b[0;34m(\u001b[0m\u001b[0mobj\u001b[0m\u001b[0;34m,\u001b[0m \u001b[0mvalue\u001b[0m\u001b[0;34m)\u001b[0m\u001b[0;34m\u001b[0m\u001b[0;34m\u001b[0m\u001b[0m\n\u001b[0m\u001b[1;32m   2325\u001b[0m         \u001b[0mvalue\u001b[0m \u001b[0;34m=\u001b[0m \u001b[0mself\u001b[0m\u001b[0;34m.\u001b[0m\u001b[0mvalidate_elements\u001b[0m\u001b[0;34m(\u001b[0m\u001b[0mobj\u001b[0m\u001b[0;34m,\u001b[0m \u001b[0mvalue\u001b[0m\u001b[0;34m)\u001b[0m\u001b[0;34m\u001b[0m\u001b[0;34m\u001b[0m\u001b[0m\n\u001b[1;32m   2326\u001b[0m         \u001b[0;32mreturn\u001b[0m \u001b[0mvalue\u001b[0m\u001b[0;34m\u001b[0m\u001b[0;34m\u001b[0m\u001b[0m\n",
        "\u001b[0;32m/anaconda3/lib/python3.7/site-packages/traitlets/traitlets.py\u001b[0m in \u001b[0;36mvalidate\u001b[0;34m(self, obj, value)\u001b[0m\n\u001b[1;32m   2236\u001b[0m         \u001b[0;32mif\u001b[0m \u001b[0misinstance\u001b[0m\u001b[0;34m(\u001b[0m\u001b[0mvalue\u001b[0m\u001b[0;34m,\u001b[0m \u001b[0mself\u001b[0m\u001b[0;34m.\u001b[0m\u001b[0m_cast_types\u001b[0m\u001b[0;34m)\u001b[0m\u001b[0;34m:\u001b[0m\u001b[0;34m\u001b[0m\u001b[0;34m\u001b[0m\u001b[0m\n\u001b[1;32m   2237\u001b[0m             \u001b[0mvalue\u001b[0m \u001b[0;34m=\u001b[0m \u001b[0mself\u001b[0m\u001b[0;34m.\u001b[0m\u001b[0mklass\u001b[0m\u001b[0;34m(\u001b[0m\u001b[0mvalue\u001b[0m\u001b[0;34m)\u001b[0m\u001b[0;34m\u001b[0m\u001b[0;34m\u001b[0m\u001b[0m\n\u001b[0;32m-> 2238\u001b[0;31m         \u001b[0mvalue\u001b[0m \u001b[0;34m=\u001b[0m \u001b[0msuper\u001b[0m\u001b[0;34m(\u001b[0m\u001b[0mContainer\u001b[0m\u001b[0;34m,\u001b[0m \u001b[0mself\u001b[0m\u001b[0;34m)\u001b[0m\u001b[0;34m.\u001b[0m\u001b[0mvalidate\u001b[0m\u001b[0;34m(\u001b[0m\u001b[0mobj\u001b[0m\u001b[0;34m,\u001b[0m \u001b[0mvalue\u001b[0m\u001b[0;34m)\u001b[0m\u001b[0;34m\u001b[0m\u001b[0;34m\u001b[0m\u001b[0m\n\u001b[0m\u001b[1;32m   2239\u001b[0m         \u001b[0;32mif\u001b[0m \u001b[0mvalue\u001b[0m \u001b[0;32mis\u001b[0m \u001b[0;32mNone\u001b[0m\u001b[0;34m:\u001b[0m\u001b[0;34m\u001b[0m\u001b[0;34m\u001b[0m\u001b[0m\n\u001b[1;32m   2240\u001b[0m             \u001b[0;32mreturn\u001b[0m \u001b[0mvalue\u001b[0m\u001b[0;34m\u001b[0m\u001b[0;34m\u001b[0m\u001b[0m\n",
        "\u001b[0;32m/anaconda3/lib/python3.7/site-packages/traitlets/traitlets.py\u001b[0m in \u001b[0;36mvalidate\u001b[0;34m(self, obj, value)\u001b[0m\n\u001b[1;32m   1675\u001b[0m             \u001b[0;32mreturn\u001b[0m \u001b[0mvalue\u001b[0m\u001b[0;34m\u001b[0m\u001b[0;34m\u001b[0m\u001b[0m\n\u001b[1;32m   1676\u001b[0m         \u001b[0;32melse\u001b[0m\u001b[0;34m:\u001b[0m\u001b[0;34m\u001b[0m\u001b[0;34m\u001b[0m\u001b[0m\n\u001b[0;32m-> 1677\u001b[0;31m             \u001b[0mself\u001b[0m\u001b[0;34m.\u001b[0m\u001b[0merror\u001b[0m\u001b[0;34m(\u001b[0m\u001b[0mobj\u001b[0m\u001b[0;34m,\u001b[0m \u001b[0mvalue\u001b[0m\u001b[0;34m)\u001b[0m\u001b[0;34m\u001b[0m\u001b[0;34m\u001b[0m\u001b[0m\n\u001b[0m\u001b[1;32m   1678\u001b[0m \u001b[0;34m\u001b[0m\u001b[0m\n\u001b[1;32m   1679\u001b[0m     \u001b[0;32mdef\u001b[0m \u001b[0minfo\u001b[0m\u001b[0;34m(\u001b[0m\u001b[0mself\u001b[0m\u001b[0;34m)\u001b[0m\u001b[0;34m:\u001b[0m\u001b[0;34m\u001b[0m\u001b[0;34m\u001b[0m\u001b[0m\n",
        "\u001b[0;32m/anaconda3/lib/python3.7/site-packages/traitlets/traitlets.py\u001b[0m in \u001b[0;36merror\u001b[0;34m(self, obj, value)\u001b[0m\n\u001b[1;32m   1522\u001b[0m                 \u001b[0;34m%\u001b[0m \u001b[0;34m(\u001b[0m\u001b[0mself\u001b[0m\u001b[0;34m.\u001b[0m\u001b[0mname\u001b[0m\u001b[0;34m,\u001b[0m \u001b[0mself\u001b[0m\u001b[0;34m.\u001b[0m\u001b[0minfo\u001b[0m\u001b[0;34m(\u001b[0m\u001b[0;34m)\u001b[0m\u001b[0;34m,\u001b[0m \u001b[0mmsg\u001b[0m\u001b[0;34m)\u001b[0m\u001b[0;34m\u001b[0m\u001b[0;34m\u001b[0m\u001b[0m\n\u001b[1;32m   1523\u001b[0m \u001b[0;34m\u001b[0m\u001b[0m\n\u001b[0;32m-> 1524\u001b[0;31m         \u001b[0;32mraise\u001b[0m \u001b[0mTraitError\u001b[0m\u001b[0;34m(\u001b[0m\u001b[0me\u001b[0m\u001b[0;34m)\u001b[0m\u001b[0;34m\u001b[0m\u001b[0;34m\u001b[0m\u001b[0m\n\u001b[0m\u001b[1;32m   1525\u001b[0m \u001b[0;34m\u001b[0m\u001b[0m\n\u001b[1;32m   1526\u001b[0m \u001b[0;34m\u001b[0m\u001b[0m\n",
        "\u001b[0;31mTraitError\u001b[0m: The 'children' trait of a ToolbarTitle instance must be a list, but a value of class 'str' (i.e. 'Hola') was specified."
       ]
      }
     ],
     "persistentId": "63c8aeab-0a61-499c-9835-229ef5ce8b54",
     "text": "\nv.Layout(\n    row=True,\n    _metadata={\"mount_id\": \"content-main\"},\n    wrap=True,\n    align_center=True,\n    children=[v.Flex(xs12=True, lg6=True, xl4=True, children=[m])],\n)\n\nv.Layout(pa_4=True, _metadata={'mount_id': 'content-nav'}, \n         column=True, children=[\"25 Days of serverless\"]);\n\nv.AppBar(children=[v.ToolbarTitle(children='Hola')])"
    },
    "executionTime": "2019-12-16T17:22:32.740Z"
   },
   {
    "cell": {
     "executionCount": 37,
     "executionEventId": "89578a6d-98de-4514-80ca-06bcf10597cf",
     "hasError": false,
     "id": "759ec975-26d7-48d1-8c69-87c6af411b0a",
     "outputs": [
      {
       "data": {
        "application/vnd.jupyter.widget-view+json": {
         "model_id": "76ddcff8f75741f99dc9b653eec380bc",
         "version_major": 2,
         "version_minor": 0
        },
        "text/plain": "AppBar(children=[ToolbarTitle(children=['Hola'])])"
       },
       "metadata": {},
       "output_type": "display_data"
      }
     ],
     "persistentId": "63c8aeab-0a61-499c-9835-229ef5ce8b54",
     "text": "\nv.Layout(\n    row=True,\n    _metadata={\"mount_id\": \"content-main\"},\n    wrap=True,\n    align_center=True,\n    children=[v.Flex(xs12=True, lg6=True, xl4=True, children=[m])],\n)\n\nv.Layout(pa_4=True, _metadata={'mount_id': 'content-nav'}, \n         column=True, children=[\"25 Days of serverless\"]);\n\nv.AppBar(children=[v.ToolbarTitle(children=['Hola'])])"
    },
    "executionTime": "2019-12-16T17:22:50.561Z"
   },
   {
    "cell": {
     "executionCount": 38,
     "executionEventId": "5b2130e6-ba43-4ab4-a011-e9948c89d12e",
     "hasError": false,
     "id": "759ec975-26d7-48d1-8c69-87c6af411b0a",
     "outputs": [
      {
       "data": {
        "application/vnd.jupyter.widget-view+json": {
         "model_id": "f682cea4ab08416c8a07a6770e04b27a",
         "version_major": 2,
         "version_minor": 0
        },
        "text/plain": "Layout(children=[ToolbarTitle(children=['hola'])])"
       },
       "metadata": {},
       "output_type": "display_data"
      }
     ],
     "persistentId": "63c8aeab-0a61-499c-9835-229ef5ce8b54",
     "text": "\nv.Layout(\n    row=True,\n    _metadata={\"mount_id\": \"content-main\"},\n    wrap=True,\n    align_center=True,\n    children=[v.Flex(xs12=True, lg6=True, xl4=True, children=[m, \"Click on the pinata to see the details\"])],\n)\n\nv.Layout(pa_4=True, \n         _metadata={'mount_id': 'content-nav'}, \n         column=True, \n         children=[\"25 Days of serverless\"]);\n\nv.Layout(children=[v.ToolbarTitle(children=['hola'])])"
    },
    "executionTime": "2019-12-16T17:29:14.980Z"
   },
   {
    "cell": {
     "executionCount": 39,
     "executionEventId": "13a1d4af-f11d-4aab-8ba0-f530288d8768",
     "hasError": false,
     "id": "759ec975-26d7-48d1-8c69-87c6af411b0a",
     "outputs": [],
     "persistentId": "63c8aeab-0a61-499c-9835-229ef5ce8b54",
     "text": "\nv.Layout(\n    row=True,\n    _metadata={\"mount_id\": \"content-main\"},\n    wrap=True,\n    align_center=True,\n    children=[v.Flex(xs12=True, lg6=True, xl4=True, children=[m, \"Click on the pinata to see the details\"])],\n)\n\nv.Layout(pa_4=True, \n         _metadata={'mount_id': 'content-nav'}, \n         column=True, \n         children=[\"25 Days of serverless\"]);"
    },
    "executionTime": "2019-12-16T17:29:18.089Z"
   },
   {
    "cell": {
     "executionCount": 40,
     "executionEventId": "bd7e2073-7b5a-4f41-8cd7-b727328b6439",
     "hasError": true,
     "id": "759ec975-26d7-48d1-8c69-87c6af411b0a",
     "outputs": [
      {
       "ename": "TraitError",
       "evalue": "Element of the 'children' trait of a Layout instance must be a DOMWidget or a unicode string, but a value of <class 'ipyvuetify.generated.Card.Card'> <class 'traitlets.traitlets.MetaHasTraits'> was specified.",
       "output_type": "error",
       "traceback": [
        "\u001b[0;31m---------------------------------------------------------------------------\u001b[0m",
        "\u001b[0;31mTraitError\u001b[0m                                Traceback (most recent call last)",
        "\u001b[0;32m/anaconda3/lib/python3.7/site-packages/traitlets/traitlets.py\u001b[0m in \u001b[0;36mvalidate_elements\u001b[0;34m(self, obj, value)\u001b[0m\n\u001b[1;32m   2251\u001b[0m             \u001b[0;32mtry\u001b[0m\u001b[0;34m:\u001b[0m\u001b[0;34m\u001b[0m\u001b[0;34m\u001b[0m\u001b[0m\n\u001b[0;32m-> 2252\u001b[0;31m                 \u001b[0mv\u001b[0m \u001b[0;34m=\u001b[0m \u001b[0mself\u001b[0m\u001b[0;34m.\u001b[0m\u001b[0m_trait\u001b[0m\u001b[0;34m.\u001b[0m\u001b[0m_validate\u001b[0m\u001b[0;34m(\u001b[0m\u001b[0mobj\u001b[0m\u001b[0;34m,\u001b[0m \u001b[0mv\u001b[0m\u001b[0;34m)\u001b[0m\u001b[0;34m\u001b[0m\u001b[0;34m\u001b[0m\u001b[0m\n\u001b[0m\u001b[1;32m   2253\u001b[0m             \u001b[0;32mexcept\u001b[0m \u001b[0mTraitError\u001b[0m\u001b[0;34m:\u001b[0m\u001b[0;34m\u001b[0m\u001b[0;34m\u001b[0m\u001b[0m\n",
        "\u001b[0;32m/anaconda3/lib/python3.7/site-packages/traitlets/traitlets.py\u001b[0m in \u001b[0;36m_validate\u001b[0;34m(self, obj, value)\u001b[0m\n\u001b[1;32m    590\u001b[0m         \u001b[0;32mif\u001b[0m \u001b[0mhasattr\u001b[0m\u001b[0;34m(\u001b[0m\u001b[0mself\u001b[0m\u001b[0;34m,\u001b[0m \u001b[0;34m'validate'\u001b[0m\u001b[0;34m)\u001b[0m\u001b[0;34m:\u001b[0m\u001b[0;34m\u001b[0m\u001b[0;34m\u001b[0m\u001b[0m\n\u001b[0;32m--> 591\u001b[0;31m             \u001b[0mvalue\u001b[0m \u001b[0;34m=\u001b[0m \u001b[0mself\u001b[0m\u001b[0;34m.\u001b[0m\u001b[0mvalidate\u001b[0m\u001b[0;34m(\u001b[0m\u001b[0mobj\u001b[0m\u001b[0;34m,\u001b[0m \u001b[0mvalue\u001b[0m\u001b[0;34m)\u001b[0m\u001b[0;34m\u001b[0m\u001b[0;34m\u001b[0m\u001b[0m\n\u001b[0m\u001b[1;32m    592\u001b[0m         \u001b[0;32mif\u001b[0m \u001b[0mobj\u001b[0m\u001b[0;34m.\u001b[0m\u001b[0m_cross_validation_lock\u001b[0m \u001b[0;32mis\u001b[0m \u001b[0;32mFalse\u001b[0m\u001b[0;34m:\u001b[0m\u001b[0;34m\u001b[0m\u001b[0;34m\u001b[0m\u001b[0m\n",
        "\u001b[0;32m/anaconda3/lib/python3.7/site-packages/traitlets/traitlets.py\u001b[0m in \u001b[0;36mvalidate\u001b[0;34m(self, obj, value)\u001b[0m\n\u001b[1;32m   1802\u001b[0m                     \u001b[0;32mcontinue\u001b[0m\u001b[0;34m\u001b[0m\u001b[0;34m\u001b[0m\u001b[0m\n\u001b[0;32m-> 1803\u001b[0;31m         \u001b[0mself\u001b[0m\u001b[0;34m.\u001b[0m\u001b[0merror\u001b[0m\u001b[0;34m(\u001b[0m\u001b[0mobj\u001b[0m\u001b[0;34m,\u001b[0m \u001b[0mvalue\u001b[0m\u001b[0;34m)\u001b[0m\u001b[0;34m\u001b[0m\u001b[0;34m\u001b[0m\u001b[0m\n\u001b[0m\u001b[1;32m   1804\u001b[0m \u001b[0;34m\u001b[0m\u001b[0m\n",
        "\u001b[0;32m/anaconda3/lib/python3.7/site-packages/traitlets/traitlets.py\u001b[0m in \u001b[0;36merror\u001b[0;34m(self, obj, value)\u001b[0m\n\u001b[1;32m    624\u001b[0m                 \u001b[0;34m%\u001b[0m \u001b[0;34m(\u001b[0m\u001b[0mself\u001b[0m\u001b[0;34m.\u001b[0m\u001b[0mname\u001b[0m\u001b[0;34m,\u001b[0m \u001b[0mself\u001b[0m\u001b[0;34m.\u001b[0m\u001b[0minfo\u001b[0m\u001b[0;34m(\u001b[0m\u001b[0;34m)\u001b[0m\u001b[0;34m,\u001b[0m \u001b[0mrepr_type\u001b[0m\u001b[0;34m(\u001b[0m\u001b[0mvalue\u001b[0m\u001b[0;34m)\u001b[0m\u001b[0;34m)\u001b[0m\u001b[0;34m\u001b[0m\u001b[0;34m\u001b[0m\u001b[0m\n\u001b[0;32m--> 625\u001b[0;31m         \u001b[0;32mraise\u001b[0m \u001b[0mTraitError\u001b[0m\u001b[0;34m(\u001b[0m\u001b[0me\u001b[0m\u001b[0;34m)\u001b[0m\u001b[0;34m\u001b[0m\u001b[0;34m\u001b[0m\u001b[0m\n\u001b[0m\u001b[1;32m    626\u001b[0m \u001b[0;34m\u001b[0m\u001b[0m\n",
        "\u001b[0;31mTraitError\u001b[0m: The 'None' trait of a Layout instance must be a DOMWidget or a unicode string, but a value of <class 'ipyvuetify.generated.Card.Card'> <class 'traitlets.traitlets.MetaHasTraits'> was specified.",
        "\nDuring handling of the above exception, another exception occurred:\n",
        "\u001b[0;31mTraitError\u001b[0m                                Traceback (most recent call last)",
        "\u001b[0;32m<ipython-input-40-5b784d0291ea>\u001b[0m in \u001b[0;36m<module>\u001b[0;34m\u001b[0m\n\u001b[1;32m      5\u001b[0m     \u001b[0malign_center\u001b[0m\u001b[0;34m=\u001b[0m\u001b[0;32mTrue\u001b[0m\u001b[0;34m,\u001b[0m\u001b[0;34m\u001b[0m\u001b[0;34m\u001b[0m\u001b[0m\n\u001b[1;32m      6\u001b[0m     children=[v.Flex(xs12=True, lg6=True, xl4=True, children=[\"Clivk on\", m]), \n\u001b[0;32m----> 7\u001b[0;31m              v.Card]\n\u001b[0m\u001b[1;32m      8\u001b[0m )\n\u001b[1;32m      9\u001b[0m \u001b[0;34m\u001b[0m\u001b[0m\n",
        "\u001b[0;32m/anaconda3/lib/python3.7/site-packages/ipywidgets/widgets/widget.py\u001b[0m in \u001b[0;36m__init__\u001b[0;34m(self, **kwargs)\u001b[0m\n\u001b[1;32m    410\u001b[0m         \u001b[0;34m\"\"\"Public constructor\"\"\"\u001b[0m\u001b[0;34m\u001b[0m\u001b[0;34m\u001b[0m\u001b[0m\n\u001b[1;32m    411\u001b[0m         \u001b[0mself\u001b[0m\u001b[0;34m.\u001b[0m\u001b[0m_model_id\u001b[0m \u001b[0;34m=\u001b[0m \u001b[0mkwargs\u001b[0m\u001b[0;34m.\u001b[0m\u001b[0mpop\u001b[0m\u001b[0;34m(\u001b[0m\u001b[0;34m'model_id'\u001b[0m\u001b[0;34m,\u001b[0m \u001b[0;32mNone\u001b[0m\u001b[0;34m)\u001b[0m\u001b[0;34m\u001b[0m\u001b[0;34m\u001b[0m\u001b[0m\n\u001b[0;32m--> 412\u001b[0;31m         \u001b[0msuper\u001b[0m\u001b[0;34m(\u001b[0m\u001b[0mWidget\u001b[0m\u001b[0;34m,\u001b[0m \u001b[0mself\u001b[0m\u001b[0;34m)\u001b[0m\u001b[0;34m.\u001b[0m\u001b[0m__init__\u001b[0m\u001b[0;34m(\u001b[0m\u001b[0;34m**\u001b[0m\u001b[0mkwargs\u001b[0m\u001b[0;34m)\u001b[0m\u001b[0;34m\u001b[0m\u001b[0;34m\u001b[0m\u001b[0m\n\u001b[0m\u001b[1;32m    413\u001b[0m \u001b[0;34m\u001b[0m\u001b[0m\n\u001b[1;32m    414\u001b[0m         \u001b[0mWidget\u001b[0m\u001b[0;34m.\u001b[0m\u001b[0m_call_widget_constructed\u001b[0m\u001b[0;34m(\u001b[0m\u001b[0mself\u001b[0m\u001b[0;34m)\u001b[0m\u001b[0;34m\u001b[0m\u001b[0;34m\u001b[0m\u001b[0m\n",
        "\u001b[0;32m/anaconda3/lib/python3.7/site-packages/traitlets/traitlets.py\u001b[0m in \u001b[0;36m__init__\u001b[0;34m(self, *args, **kwargs)\u001b[0m\n\u001b[1;32m    995\u001b[0m             \u001b[0;32mfor\u001b[0m \u001b[0mkey\u001b[0m\u001b[0;34m,\u001b[0m \u001b[0mvalue\u001b[0m \u001b[0;32min\u001b[0m \u001b[0mkwargs\u001b[0m\u001b[0;34m.\u001b[0m\u001b[0mitems\u001b[0m\u001b[0;34m(\u001b[0m\u001b[0;34m)\u001b[0m\u001b[0;34m:\u001b[0m\u001b[0;34m\u001b[0m\u001b[0;34m\u001b[0m\u001b[0m\n\u001b[1;32m    996\u001b[0m                 \u001b[0;32mif\u001b[0m \u001b[0mself\u001b[0m\u001b[0;34m.\u001b[0m\u001b[0mhas_trait\u001b[0m\u001b[0;34m(\u001b[0m\u001b[0mkey\u001b[0m\u001b[0;34m)\u001b[0m\u001b[0;34m:\u001b[0m\u001b[0;34m\u001b[0m\u001b[0;34m\u001b[0m\u001b[0m\n\u001b[0;32m--> 997\u001b[0;31m                     \u001b[0msetattr\u001b[0m\u001b[0;34m(\u001b[0m\u001b[0mself\u001b[0m\u001b[0;34m,\u001b[0m \u001b[0mkey\u001b[0m\u001b[0;34m,\u001b[0m \u001b[0mvalue\u001b[0m\u001b[0;34m)\u001b[0m\u001b[0;34m\u001b[0m\u001b[0;34m\u001b[0m\u001b[0m\n\u001b[0m\u001b[1;32m    998\u001b[0m                 \u001b[0;32melse\u001b[0m\u001b[0;34m:\u001b[0m\u001b[0;34m\u001b[0m\u001b[0;34m\u001b[0m\u001b[0m\n\u001b[1;32m    999\u001b[0m                     \u001b[0;31m# passthrough args that don't set traits to super\u001b[0m\u001b[0;34m\u001b[0m\u001b[0;34m\u001b[0m\u001b[0;34m\u001b[0m\u001b[0m\n",
        "\u001b[0;32m/anaconda3/lib/python3.7/site-packages/traitlets/traitlets.py\u001b[0m in \u001b[0;36m__set__\u001b[0;34m(self, obj, value)\u001b[0m\n\u001b[1;32m    583\u001b[0m             \u001b[0;32mraise\u001b[0m \u001b[0mTraitError\u001b[0m\u001b[0;34m(\u001b[0m\u001b[0;34m'The \"%s\" trait is read-only.'\u001b[0m \u001b[0;34m%\u001b[0m \u001b[0mself\u001b[0m\u001b[0;34m.\u001b[0m\u001b[0mname\u001b[0m\u001b[0;34m)\u001b[0m\u001b[0;34m\u001b[0m\u001b[0;34m\u001b[0m\u001b[0m\n\u001b[1;32m    584\u001b[0m         \u001b[0;32melse\u001b[0m\u001b[0;34m:\u001b[0m\u001b[0;34m\u001b[0m\u001b[0;34m\u001b[0m\u001b[0m\n\u001b[0;32m--> 585\u001b[0;31m             \u001b[0mself\u001b[0m\u001b[0;34m.\u001b[0m\u001b[0mset\u001b[0m\u001b[0;34m(\u001b[0m\u001b[0mobj\u001b[0m\u001b[0;34m,\u001b[0m \u001b[0mvalue\u001b[0m\u001b[0;34m)\u001b[0m\u001b[0;34m\u001b[0m\u001b[0;34m\u001b[0m\u001b[0m\n\u001b[0m\u001b[1;32m    586\u001b[0m \u001b[0;34m\u001b[0m\u001b[0m\n\u001b[1;32m    587\u001b[0m     \u001b[0;32mdef\u001b[0m \u001b[0m_validate\u001b[0m\u001b[0;34m(\u001b[0m\u001b[0mself\u001b[0m\u001b[0;34m,\u001b[0m \u001b[0mobj\u001b[0m\u001b[0;34m,\u001b[0m \u001b[0mvalue\u001b[0m\u001b[0;34m)\u001b[0m\u001b[0;34m:\u001b[0m\u001b[0;34m\u001b[0m\u001b[0;34m\u001b[0m\u001b[0m\n",
        "\u001b[0;32m/anaconda3/lib/python3.7/site-packages/traitlets/traitlets.py\u001b[0m in \u001b[0;36mset\u001b[0;34m(self, obj, value)\u001b[0m\n\u001b[1;32m    557\u001b[0m \u001b[0;34m\u001b[0m\u001b[0m\n\u001b[1;32m    558\u001b[0m     \u001b[0;32mdef\u001b[0m \u001b[0mset\u001b[0m\u001b[0;34m(\u001b[0m\u001b[0mself\u001b[0m\u001b[0;34m,\u001b[0m \u001b[0mobj\u001b[0m\u001b[0;34m,\u001b[0m \u001b[0mvalue\u001b[0m\u001b[0;34m)\u001b[0m\u001b[0;34m:\u001b[0m\u001b[0;34m\u001b[0m\u001b[0;34m\u001b[0m\u001b[0m\n\u001b[0;32m--> 559\u001b[0;31m         \u001b[0mnew_value\u001b[0m \u001b[0;34m=\u001b[0m \u001b[0mself\u001b[0m\u001b[0;34m.\u001b[0m\u001b[0m_validate\u001b[0m\u001b[0;34m(\u001b[0m\u001b[0mobj\u001b[0m\u001b[0;34m,\u001b[0m \u001b[0mvalue\u001b[0m\u001b[0;34m)\u001b[0m\u001b[0;34m\u001b[0m\u001b[0;34m\u001b[0m\u001b[0m\n\u001b[0m\u001b[1;32m    560\u001b[0m         \u001b[0;32mtry\u001b[0m\u001b[0;34m:\u001b[0m\u001b[0;34m\u001b[0m\u001b[0;34m\u001b[0m\u001b[0m\n\u001b[1;32m    561\u001b[0m             \u001b[0mold_value\u001b[0m \u001b[0;34m=\u001b[0m \u001b[0mobj\u001b[0m\u001b[0;34m.\u001b[0m\u001b[0m_trait_values\u001b[0m\u001b[0;34m[\u001b[0m\u001b[0mself\u001b[0m\u001b[0;34m.\u001b[0m\u001b[0mname\u001b[0m\u001b[0;34m]\u001b[0m\u001b[0;34m\u001b[0m\u001b[0;34m\u001b[0m\u001b[0m\n",
        "\u001b[0;32m/anaconda3/lib/python3.7/site-packages/traitlets/traitlets.py\u001b[0m in \u001b[0;36m_validate\u001b[0;34m(self, obj, value)\u001b[0m\n\u001b[1;32m    589\u001b[0m             \u001b[0;32mreturn\u001b[0m \u001b[0mvalue\u001b[0m\u001b[0;34m\u001b[0m\u001b[0;34m\u001b[0m\u001b[0m\n\u001b[1;32m    590\u001b[0m         \u001b[0;32mif\u001b[0m \u001b[0mhasattr\u001b[0m\u001b[0;34m(\u001b[0m\u001b[0mself\u001b[0m\u001b[0;34m,\u001b[0m \u001b[0;34m'validate'\u001b[0m\u001b[0;34m)\u001b[0m\u001b[0;34m:\u001b[0m\u001b[0;34m\u001b[0m\u001b[0;34m\u001b[0m\u001b[0m\n\u001b[0;32m--> 591\u001b[0;31m             \u001b[0mvalue\u001b[0m \u001b[0;34m=\u001b[0m \u001b[0mself\u001b[0m\u001b[0;34m.\u001b[0m\u001b[0mvalidate\u001b[0m\u001b[0;34m(\u001b[0m\u001b[0mobj\u001b[0m\u001b[0;34m,\u001b[0m \u001b[0mvalue\u001b[0m\u001b[0;34m)\u001b[0m\u001b[0;34m\u001b[0m\u001b[0;34m\u001b[0m\u001b[0m\n\u001b[0m\u001b[1;32m    592\u001b[0m         \u001b[0;32mif\u001b[0m \u001b[0mobj\u001b[0m\u001b[0;34m.\u001b[0m\u001b[0m_cross_validation_lock\u001b[0m \u001b[0;32mis\u001b[0m \u001b[0;32mFalse\u001b[0m\u001b[0;34m:\u001b[0m\u001b[0;34m\u001b[0m\u001b[0;34m\u001b[0m\u001b[0m\n\u001b[1;32m    593\u001b[0m             \u001b[0mvalue\u001b[0m \u001b[0;34m=\u001b[0m \u001b[0mself\u001b[0m\u001b[0;34m.\u001b[0m\u001b[0m_cross_validate\u001b[0m\u001b[0;34m(\u001b[0m\u001b[0mobj\u001b[0m\u001b[0;34m,\u001b[0m \u001b[0mvalue\u001b[0m\u001b[0;34m)\u001b[0m\u001b[0;34m\u001b[0m\u001b[0;34m\u001b[0m\u001b[0m\n",
        "\u001b[0;32m/anaconda3/lib/python3.7/site-packages/traitlets/traitlets.py\u001b[0m in \u001b[0;36mvalidate\u001b[0;34m(self, obj, value)\u001b[0m\n\u001b[1;32m   2322\u001b[0m \u001b[0;34m\u001b[0m\u001b[0m\n\u001b[1;32m   2323\u001b[0m     \u001b[0;32mdef\u001b[0m \u001b[0mvalidate\u001b[0m\u001b[0;34m(\u001b[0m\u001b[0mself\u001b[0m\u001b[0;34m,\u001b[0m \u001b[0mobj\u001b[0m\u001b[0;34m,\u001b[0m \u001b[0mvalue\u001b[0m\u001b[0;34m)\u001b[0m\u001b[0;34m:\u001b[0m\u001b[0;34m\u001b[0m\u001b[0;34m\u001b[0m\u001b[0m\n\u001b[0;32m-> 2324\u001b[0;31m         \u001b[0mvalue\u001b[0m \u001b[0;34m=\u001b[0m \u001b[0msuper\u001b[0m\u001b[0;34m(\u001b[0m\u001b[0mList\u001b[0m\u001b[0;34m,\u001b[0m \u001b[0mself\u001b[0m\u001b[0;34m)\u001b[0m\u001b[0;34m.\u001b[0m\u001b[0mvalidate\u001b[0m\u001b[0;34m(\u001b[0m\u001b[0mobj\u001b[0m\u001b[0;34m,\u001b[0m \u001b[0mvalue\u001b[0m\u001b[0;34m)\u001b[0m\u001b[0;34m\u001b[0m\u001b[0;34m\u001b[0m\u001b[0m\n\u001b[0m\u001b[1;32m   2325\u001b[0m         \u001b[0mvalue\u001b[0m \u001b[0;34m=\u001b[0m \u001b[0mself\u001b[0m\u001b[0;34m.\u001b[0m\u001b[0mvalidate_elements\u001b[0m\u001b[0;34m(\u001b[0m\u001b[0mobj\u001b[0m\u001b[0;34m,\u001b[0m \u001b[0mvalue\u001b[0m\u001b[0;34m)\u001b[0m\u001b[0;34m\u001b[0m\u001b[0;34m\u001b[0m\u001b[0m\n\u001b[1;32m   2326\u001b[0m         \u001b[0;32mreturn\u001b[0m \u001b[0mvalue\u001b[0m\u001b[0;34m\u001b[0m\u001b[0;34m\u001b[0m\u001b[0m\n",
        "\u001b[0;32m/anaconda3/lib/python3.7/site-packages/traitlets/traitlets.py\u001b[0m in \u001b[0;36mvalidate\u001b[0;34m(self, obj, value)\u001b[0m\n\u001b[1;32m   2240\u001b[0m             \u001b[0;32mreturn\u001b[0m \u001b[0mvalue\u001b[0m\u001b[0;34m\u001b[0m\u001b[0;34m\u001b[0m\u001b[0m\n\u001b[1;32m   2241\u001b[0m \u001b[0;34m\u001b[0m\u001b[0m\n\u001b[0;32m-> 2242\u001b[0;31m         \u001b[0mvalue\u001b[0m \u001b[0;34m=\u001b[0m \u001b[0mself\u001b[0m\u001b[0;34m.\u001b[0m\u001b[0mvalidate_elements\u001b[0m\u001b[0;34m(\u001b[0m\u001b[0mobj\u001b[0m\u001b[0;34m,\u001b[0m \u001b[0mvalue\u001b[0m\u001b[0;34m)\u001b[0m\u001b[0;34m\u001b[0m\u001b[0;34m\u001b[0m\u001b[0m\n\u001b[0m\u001b[1;32m   2243\u001b[0m \u001b[0;34m\u001b[0m\u001b[0m\n\u001b[1;32m   2244\u001b[0m         \u001b[0;32mreturn\u001b[0m \u001b[0mvalue\u001b[0m\u001b[0;34m\u001b[0m\u001b[0;34m\u001b[0m\u001b[0m\n",
        "\u001b[0;32m/anaconda3/lib/python3.7/site-packages/traitlets/traitlets.py\u001b[0m in \u001b[0;36mvalidate_elements\u001b[0;34m(self, obj, value)\u001b[0m\n\u001b[1;32m   2319\u001b[0m             \u001b[0mself\u001b[0m\u001b[0;34m.\u001b[0m\u001b[0mlength_error\u001b[0m\u001b[0;34m(\u001b[0m\u001b[0mobj\u001b[0m\u001b[0;34m,\u001b[0m \u001b[0mvalue\u001b[0m\u001b[0;34m)\u001b[0m\u001b[0;34m\u001b[0m\u001b[0;34m\u001b[0m\u001b[0m\n\u001b[1;32m   2320\u001b[0m \u001b[0;34m\u001b[0m\u001b[0m\n\u001b[0;32m-> 2321\u001b[0;31m         \u001b[0;32mreturn\u001b[0m \u001b[0msuper\u001b[0m\u001b[0;34m(\u001b[0m\u001b[0mList\u001b[0m\u001b[0;34m,\u001b[0m \u001b[0mself\u001b[0m\u001b[0;34m)\u001b[0m\u001b[0;34m.\u001b[0m\u001b[0mvalidate_elements\u001b[0m\u001b[0;34m(\u001b[0m\u001b[0mobj\u001b[0m\u001b[0;34m,\u001b[0m \u001b[0mvalue\u001b[0m\u001b[0;34m)\u001b[0m\u001b[0;34m\u001b[0m\u001b[0;34m\u001b[0m\u001b[0m\n\u001b[0m\u001b[1;32m   2322\u001b[0m \u001b[0;34m\u001b[0m\u001b[0m\n\u001b[1;32m   2323\u001b[0m     \u001b[0;32mdef\u001b[0m \u001b[0mvalidate\u001b[0m\u001b[0;34m(\u001b[0m\u001b[0mself\u001b[0m\u001b[0;34m,\u001b[0m \u001b[0mobj\u001b[0m\u001b[0;34m,\u001b[0m \u001b[0mvalue\u001b[0m\u001b[0;34m)\u001b[0m\u001b[0;34m:\u001b[0m\u001b[0;34m\u001b[0m\u001b[0;34m\u001b[0m\u001b[0m\n",
        "\u001b[0;32m/anaconda3/lib/python3.7/site-packages/traitlets/traitlets.py\u001b[0m in \u001b[0;36mvalidate_elements\u001b[0;34m(self, obj, value)\u001b[0m\n\u001b[1;32m   2252\u001b[0m                 \u001b[0mv\u001b[0m \u001b[0;34m=\u001b[0m \u001b[0mself\u001b[0m\u001b[0;34m.\u001b[0m\u001b[0m_trait\u001b[0m\u001b[0;34m.\u001b[0m\u001b[0m_validate\u001b[0m\u001b[0;34m(\u001b[0m\u001b[0mobj\u001b[0m\u001b[0;34m,\u001b[0m \u001b[0mv\u001b[0m\u001b[0;34m)\u001b[0m\u001b[0;34m\u001b[0m\u001b[0;34m\u001b[0m\u001b[0m\n\u001b[1;32m   2253\u001b[0m             \u001b[0;32mexcept\u001b[0m \u001b[0mTraitError\u001b[0m\u001b[0;34m:\u001b[0m\u001b[0;34m\u001b[0m\u001b[0;34m\u001b[0m\u001b[0m\n\u001b[0;32m-> 2254\u001b[0;31m                 \u001b[0mself\u001b[0m\u001b[0;34m.\u001b[0m\u001b[0melement_error\u001b[0m\u001b[0;34m(\u001b[0m\u001b[0mobj\u001b[0m\u001b[0;34m,\u001b[0m \u001b[0mv\u001b[0m\u001b[0;34m,\u001b[0m \u001b[0mself\u001b[0m\u001b[0;34m.\u001b[0m\u001b[0m_trait\u001b[0m\u001b[0;34m)\u001b[0m\u001b[0;34m\u001b[0m\u001b[0;34m\u001b[0m\u001b[0m\n\u001b[0m\u001b[1;32m   2255\u001b[0m             \u001b[0;32melse\u001b[0m\u001b[0;34m:\u001b[0m\u001b[0;34m\u001b[0m\u001b[0;34m\u001b[0m\u001b[0m\n\u001b[1;32m   2256\u001b[0m                 \u001b[0mvalidated\u001b[0m\u001b[0;34m.\u001b[0m\u001b[0mappend\u001b[0m\u001b[0;34m(\u001b[0m\u001b[0mv\u001b[0m\u001b[0;34m)\u001b[0m\u001b[0;34m\u001b[0m\u001b[0;34m\u001b[0m\u001b[0m\n",
        "\u001b[0;32m/anaconda3/lib/python3.7/site-packages/traitlets/traitlets.py\u001b[0m in \u001b[0;36melement_error\u001b[0;34m(self, obj, element, validator)\u001b[0m\n\u001b[1;32m   2231\u001b[0m         \u001b[0me\u001b[0m \u001b[0;34m=\u001b[0m \u001b[0;34m\"Element of the '%s' trait of %s instance must be %s, but a value of %s was specified.\"\u001b[0m\u001b[0;31m \u001b[0m\u001b[0;31m\\\u001b[0m\u001b[0;34m\u001b[0m\u001b[0;34m\u001b[0m\u001b[0m\n\u001b[1;32m   2232\u001b[0m             \u001b[0;34m%\u001b[0m \u001b[0;34m(\u001b[0m\u001b[0mself\u001b[0m\u001b[0;34m.\u001b[0m\u001b[0mname\u001b[0m\u001b[0;34m,\u001b[0m \u001b[0mclass_of\u001b[0m\u001b[0;34m(\u001b[0m\u001b[0mobj\u001b[0m\u001b[0;34m)\u001b[0m\u001b[0;34m,\u001b[0m \u001b[0mvalidator\u001b[0m\u001b[0;34m.\u001b[0m\u001b[0minfo\u001b[0m\u001b[0;34m(\u001b[0m\u001b[0;34m)\u001b[0m\u001b[0;34m,\u001b[0m \u001b[0mrepr_type\u001b[0m\u001b[0;34m(\u001b[0m\u001b[0melement\u001b[0m\u001b[0;34m)\u001b[0m\u001b[0;34m)\u001b[0m\u001b[0;34m\u001b[0m\u001b[0;34m\u001b[0m\u001b[0m\n\u001b[0;32m-> 2233\u001b[0;31m         \u001b[0;32mraise\u001b[0m \u001b[0mTraitError\u001b[0m\u001b[0;34m(\u001b[0m\u001b[0me\u001b[0m\u001b[0;34m)\u001b[0m\u001b[0;34m\u001b[0m\u001b[0;34m\u001b[0m\u001b[0m\n\u001b[0m\u001b[1;32m   2234\u001b[0m \u001b[0;34m\u001b[0m\u001b[0m\n\u001b[1;32m   2235\u001b[0m     \u001b[0;32mdef\u001b[0m \u001b[0mvalidate\u001b[0m\u001b[0;34m(\u001b[0m\u001b[0mself\u001b[0m\u001b[0;34m,\u001b[0m \u001b[0mobj\u001b[0m\u001b[0;34m,\u001b[0m \u001b[0mvalue\u001b[0m\u001b[0;34m)\u001b[0m\u001b[0;34m:\u001b[0m\u001b[0;34m\u001b[0m\u001b[0;34m\u001b[0m\u001b[0m\n",
        "\u001b[0;31mTraitError\u001b[0m: Element of the 'children' trait of a Layout instance must be a DOMWidget or a unicode string, but a value of <class 'ipyvuetify.generated.Card.Card'> <class 'traitlets.traitlets.MetaHasTraits'> was specified."
       ]
      }
     ],
     "persistentId": "63c8aeab-0a61-499c-9835-229ef5ce8b54",
     "text": "\nv.Layout(\n    row=True,\n    _metadata={\"mount_id\": \"content-main\"},\n    wrap=True,\n    align_center=True,\n    children=[v.Flex(xs12=True, lg6=True, xl4=True, children=[\"Clivk on\", m]), \n             v.Card]\n)\n\nv.Layout(pa_4=True, \n         _metadata={'mount_id': 'content-nav'}, \n         column=True, children=[\"25 Days of serverless\"]);"
    },
    "executionTime": "2019-12-16T17:34:45.540Z"
   },
   {
    "cell": {
     "executionCount": 41,
     "executionEventId": "160f942a-03f2-4e6a-a71d-2fa1df2ea013",
     "hasError": true,
     "id": "759ec975-26d7-48d1-8c69-87c6af411b0a",
     "outputs": [
      {
       "ename": "TraitError",
       "evalue": "Element of the 'children' trait of a Layout instance must be a DOMWidget or a unicode string, but a value of <class 'ipyvuetify.generated.Card.Card'> <class 'traitlets.traitlets.MetaHasTraits'> was specified.",
       "output_type": "error",
       "traceback": [
        "\u001b[0;31m---------------------------------------------------------------------------\u001b[0m",
        "\u001b[0;31mTraitError\u001b[0m                                Traceback (most recent call last)",
        "\u001b[0;32m/anaconda3/lib/python3.7/site-packages/traitlets/traitlets.py\u001b[0m in \u001b[0;36mvalidate_elements\u001b[0;34m(self, obj, value)\u001b[0m\n\u001b[1;32m   2251\u001b[0m             \u001b[0;32mtry\u001b[0m\u001b[0;34m:\u001b[0m\u001b[0;34m\u001b[0m\u001b[0;34m\u001b[0m\u001b[0m\n\u001b[0;32m-> 2252\u001b[0;31m                 \u001b[0mv\u001b[0m \u001b[0;34m=\u001b[0m \u001b[0mself\u001b[0m\u001b[0;34m.\u001b[0m\u001b[0m_trait\u001b[0m\u001b[0;34m.\u001b[0m\u001b[0m_validate\u001b[0m\u001b[0;34m(\u001b[0m\u001b[0mobj\u001b[0m\u001b[0;34m,\u001b[0m \u001b[0mv\u001b[0m\u001b[0;34m)\u001b[0m\u001b[0;34m\u001b[0m\u001b[0;34m\u001b[0m\u001b[0m\n\u001b[0m\u001b[1;32m   2253\u001b[0m             \u001b[0;32mexcept\u001b[0m \u001b[0mTraitError\u001b[0m\u001b[0;34m:\u001b[0m\u001b[0;34m\u001b[0m\u001b[0;34m\u001b[0m\u001b[0m\n",
        "\u001b[0;32m/anaconda3/lib/python3.7/site-packages/traitlets/traitlets.py\u001b[0m in \u001b[0;36m_validate\u001b[0;34m(self, obj, value)\u001b[0m\n\u001b[1;32m    590\u001b[0m         \u001b[0;32mif\u001b[0m \u001b[0mhasattr\u001b[0m\u001b[0;34m(\u001b[0m\u001b[0mself\u001b[0m\u001b[0;34m,\u001b[0m \u001b[0;34m'validate'\u001b[0m\u001b[0;34m)\u001b[0m\u001b[0;34m:\u001b[0m\u001b[0;34m\u001b[0m\u001b[0;34m\u001b[0m\u001b[0m\n\u001b[0;32m--> 591\u001b[0;31m             \u001b[0mvalue\u001b[0m \u001b[0;34m=\u001b[0m \u001b[0mself\u001b[0m\u001b[0;34m.\u001b[0m\u001b[0mvalidate\u001b[0m\u001b[0;34m(\u001b[0m\u001b[0mobj\u001b[0m\u001b[0;34m,\u001b[0m \u001b[0mvalue\u001b[0m\u001b[0;34m)\u001b[0m\u001b[0;34m\u001b[0m\u001b[0;34m\u001b[0m\u001b[0m\n\u001b[0m\u001b[1;32m    592\u001b[0m         \u001b[0;32mif\u001b[0m \u001b[0mobj\u001b[0m\u001b[0;34m.\u001b[0m\u001b[0m_cross_validation_lock\u001b[0m \u001b[0;32mis\u001b[0m \u001b[0;32mFalse\u001b[0m\u001b[0;34m:\u001b[0m\u001b[0;34m\u001b[0m\u001b[0;34m\u001b[0m\u001b[0m\n",
        "\u001b[0;32m/anaconda3/lib/python3.7/site-packages/traitlets/traitlets.py\u001b[0m in \u001b[0;36mvalidate\u001b[0;34m(self, obj, value)\u001b[0m\n\u001b[1;32m   1802\u001b[0m                     \u001b[0;32mcontinue\u001b[0m\u001b[0;34m\u001b[0m\u001b[0;34m\u001b[0m\u001b[0m\n\u001b[0;32m-> 1803\u001b[0;31m         \u001b[0mself\u001b[0m\u001b[0;34m.\u001b[0m\u001b[0merror\u001b[0m\u001b[0;34m(\u001b[0m\u001b[0mobj\u001b[0m\u001b[0;34m,\u001b[0m \u001b[0mvalue\u001b[0m\u001b[0;34m)\u001b[0m\u001b[0;34m\u001b[0m\u001b[0;34m\u001b[0m\u001b[0m\n\u001b[0m\u001b[1;32m   1804\u001b[0m \u001b[0;34m\u001b[0m\u001b[0m\n",
        "\u001b[0;32m/anaconda3/lib/python3.7/site-packages/traitlets/traitlets.py\u001b[0m in \u001b[0;36merror\u001b[0;34m(self, obj, value)\u001b[0m\n\u001b[1;32m    624\u001b[0m                 \u001b[0;34m%\u001b[0m \u001b[0;34m(\u001b[0m\u001b[0mself\u001b[0m\u001b[0;34m.\u001b[0m\u001b[0mname\u001b[0m\u001b[0;34m,\u001b[0m \u001b[0mself\u001b[0m\u001b[0;34m.\u001b[0m\u001b[0minfo\u001b[0m\u001b[0;34m(\u001b[0m\u001b[0;34m)\u001b[0m\u001b[0;34m,\u001b[0m \u001b[0mrepr_type\u001b[0m\u001b[0;34m(\u001b[0m\u001b[0mvalue\u001b[0m\u001b[0;34m)\u001b[0m\u001b[0;34m)\u001b[0m\u001b[0;34m\u001b[0m\u001b[0;34m\u001b[0m\u001b[0m\n\u001b[0;32m--> 625\u001b[0;31m         \u001b[0;32mraise\u001b[0m \u001b[0mTraitError\u001b[0m\u001b[0;34m(\u001b[0m\u001b[0me\u001b[0m\u001b[0;34m)\u001b[0m\u001b[0;34m\u001b[0m\u001b[0;34m\u001b[0m\u001b[0m\n\u001b[0m\u001b[1;32m    626\u001b[0m \u001b[0;34m\u001b[0m\u001b[0m\n",
        "\u001b[0;31mTraitError\u001b[0m: The 'None' trait of a Layout instance must be a DOMWidget or a unicode string, but a value of <class 'ipyvuetify.generated.Card.Card'> <class 'traitlets.traitlets.MetaHasTraits'> was specified.",
        "\nDuring handling of the above exception, another exception occurred:\n",
        "\u001b[0;31mTraitError\u001b[0m                                Traceback (most recent call last)",
        "\u001b[0;32m<ipython-input-41-62bbe78144bc>\u001b[0m in \u001b[0;36m<module>\u001b[0;34m\u001b[0m\n\u001b[1;32m      5\u001b[0m     \u001b[0malign_center\u001b[0m\u001b[0;34m=\u001b[0m\u001b[0;32mTrue\u001b[0m\u001b[0;34m,\u001b[0m\u001b[0;34m\u001b[0m\u001b[0;34m\u001b[0m\u001b[0m\n\u001b[1;32m      6\u001b[0m     children=[v.Flex(xs12=True, lg6=True, xl4=True, children=[m]), \n\u001b[0;32m----> 7\u001b[0;31m              v.Card]\n\u001b[0m\u001b[1;32m      8\u001b[0m )\n\u001b[1;32m      9\u001b[0m \u001b[0;34m\u001b[0m\u001b[0m\n",
        "\u001b[0;32m/anaconda3/lib/python3.7/site-packages/ipywidgets/widgets/widget.py\u001b[0m in \u001b[0;36m__init__\u001b[0;34m(self, **kwargs)\u001b[0m\n\u001b[1;32m    410\u001b[0m         \u001b[0;34m\"\"\"Public constructor\"\"\"\u001b[0m\u001b[0;34m\u001b[0m\u001b[0;34m\u001b[0m\u001b[0m\n\u001b[1;32m    411\u001b[0m         \u001b[0mself\u001b[0m\u001b[0;34m.\u001b[0m\u001b[0m_model_id\u001b[0m \u001b[0;34m=\u001b[0m \u001b[0mkwargs\u001b[0m\u001b[0;34m.\u001b[0m\u001b[0mpop\u001b[0m\u001b[0;34m(\u001b[0m\u001b[0;34m'model_id'\u001b[0m\u001b[0;34m,\u001b[0m \u001b[0;32mNone\u001b[0m\u001b[0;34m)\u001b[0m\u001b[0;34m\u001b[0m\u001b[0;34m\u001b[0m\u001b[0m\n\u001b[0;32m--> 412\u001b[0;31m         \u001b[0msuper\u001b[0m\u001b[0;34m(\u001b[0m\u001b[0mWidget\u001b[0m\u001b[0;34m,\u001b[0m \u001b[0mself\u001b[0m\u001b[0;34m)\u001b[0m\u001b[0;34m.\u001b[0m\u001b[0m__init__\u001b[0m\u001b[0;34m(\u001b[0m\u001b[0;34m**\u001b[0m\u001b[0mkwargs\u001b[0m\u001b[0;34m)\u001b[0m\u001b[0;34m\u001b[0m\u001b[0;34m\u001b[0m\u001b[0m\n\u001b[0m\u001b[1;32m    413\u001b[0m \u001b[0;34m\u001b[0m\u001b[0m\n\u001b[1;32m    414\u001b[0m         \u001b[0mWidget\u001b[0m\u001b[0;34m.\u001b[0m\u001b[0m_call_widget_constructed\u001b[0m\u001b[0;34m(\u001b[0m\u001b[0mself\u001b[0m\u001b[0;34m)\u001b[0m\u001b[0;34m\u001b[0m\u001b[0;34m\u001b[0m\u001b[0m\n",
        "\u001b[0;32m/anaconda3/lib/python3.7/site-packages/traitlets/traitlets.py\u001b[0m in \u001b[0;36m__init__\u001b[0;34m(self, *args, **kwargs)\u001b[0m\n\u001b[1;32m    995\u001b[0m             \u001b[0;32mfor\u001b[0m \u001b[0mkey\u001b[0m\u001b[0;34m,\u001b[0m \u001b[0mvalue\u001b[0m \u001b[0;32min\u001b[0m \u001b[0mkwargs\u001b[0m\u001b[0;34m.\u001b[0m\u001b[0mitems\u001b[0m\u001b[0;34m(\u001b[0m\u001b[0;34m)\u001b[0m\u001b[0;34m:\u001b[0m\u001b[0;34m\u001b[0m\u001b[0;34m\u001b[0m\u001b[0m\n\u001b[1;32m    996\u001b[0m                 \u001b[0;32mif\u001b[0m \u001b[0mself\u001b[0m\u001b[0;34m.\u001b[0m\u001b[0mhas_trait\u001b[0m\u001b[0;34m(\u001b[0m\u001b[0mkey\u001b[0m\u001b[0;34m)\u001b[0m\u001b[0;34m:\u001b[0m\u001b[0;34m\u001b[0m\u001b[0;34m\u001b[0m\u001b[0m\n\u001b[0;32m--> 997\u001b[0;31m                     \u001b[0msetattr\u001b[0m\u001b[0;34m(\u001b[0m\u001b[0mself\u001b[0m\u001b[0;34m,\u001b[0m \u001b[0mkey\u001b[0m\u001b[0;34m,\u001b[0m \u001b[0mvalue\u001b[0m\u001b[0;34m)\u001b[0m\u001b[0;34m\u001b[0m\u001b[0;34m\u001b[0m\u001b[0m\n\u001b[0m\u001b[1;32m    998\u001b[0m                 \u001b[0;32melse\u001b[0m\u001b[0;34m:\u001b[0m\u001b[0;34m\u001b[0m\u001b[0;34m\u001b[0m\u001b[0m\n\u001b[1;32m    999\u001b[0m                     \u001b[0;31m# passthrough args that don't set traits to super\u001b[0m\u001b[0;34m\u001b[0m\u001b[0;34m\u001b[0m\u001b[0;34m\u001b[0m\u001b[0m\n",
        "\u001b[0;32m/anaconda3/lib/python3.7/site-packages/traitlets/traitlets.py\u001b[0m in \u001b[0;36m__set__\u001b[0;34m(self, obj, value)\u001b[0m\n\u001b[1;32m    583\u001b[0m             \u001b[0;32mraise\u001b[0m \u001b[0mTraitError\u001b[0m\u001b[0;34m(\u001b[0m\u001b[0;34m'The \"%s\" trait is read-only.'\u001b[0m \u001b[0;34m%\u001b[0m \u001b[0mself\u001b[0m\u001b[0;34m.\u001b[0m\u001b[0mname\u001b[0m\u001b[0;34m)\u001b[0m\u001b[0;34m\u001b[0m\u001b[0;34m\u001b[0m\u001b[0m\n\u001b[1;32m    584\u001b[0m         \u001b[0;32melse\u001b[0m\u001b[0;34m:\u001b[0m\u001b[0;34m\u001b[0m\u001b[0;34m\u001b[0m\u001b[0m\n\u001b[0;32m--> 585\u001b[0;31m             \u001b[0mself\u001b[0m\u001b[0;34m.\u001b[0m\u001b[0mset\u001b[0m\u001b[0;34m(\u001b[0m\u001b[0mobj\u001b[0m\u001b[0;34m,\u001b[0m \u001b[0mvalue\u001b[0m\u001b[0;34m)\u001b[0m\u001b[0;34m\u001b[0m\u001b[0;34m\u001b[0m\u001b[0m\n\u001b[0m\u001b[1;32m    586\u001b[0m \u001b[0;34m\u001b[0m\u001b[0m\n\u001b[1;32m    587\u001b[0m     \u001b[0;32mdef\u001b[0m \u001b[0m_validate\u001b[0m\u001b[0;34m(\u001b[0m\u001b[0mself\u001b[0m\u001b[0;34m,\u001b[0m \u001b[0mobj\u001b[0m\u001b[0;34m,\u001b[0m \u001b[0mvalue\u001b[0m\u001b[0;34m)\u001b[0m\u001b[0;34m:\u001b[0m\u001b[0;34m\u001b[0m\u001b[0;34m\u001b[0m\u001b[0m\n",
        "\u001b[0;32m/anaconda3/lib/python3.7/site-packages/traitlets/traitlets.py\u001b[0m in \u001b[0;36mset\u001b[0;34m(self, obj, value)\u001b[0m\n\u001b[1;32m    557\u001b[0m \u001b[0;34m\u001b[0m\u001b[0m\n\u001b[1;32m    558\u001b[0m     \u001b[0;32mdef\u001b[0m \u001b[0mset\u001b[0m\u001b[0;34m(\u001b[0m\u001b[0mself\u001b[0m\u001b[0;34m,\u001b[0m \u001b[0mobj\u001b[0m\u001b[0;34m,\u001b[0m \u001b[0mvalue\u001b[0m\u001b[0;34m)\u001b[0m\u001b[0;34m:\u001b[0m\u001b[0;34m\u001b[0m\u001b[0;34m\u001b[0m\u001b[0m\n\u001b[0;32m--> 559\u001b[0;31m         \u001b[0mnew_value\u001b[0m \u001b[0;34m=\u001b[0m \u001b[0mself\u001b[0m\u001b[0;34m.\u001b[0m\u001b[0m_validate\u001b[0m\u001b[0;34m(\u001b[0m\u001b[0mobj\u001b[0m\u001b[0;34m,\u001b[0m \u001b[0mvalue\u001b[0m\u001b[0;34m)\u001b[0m\u001b[0;34m\u001b[0m\u001b[0;34m\u001b[0m\u001b[0m\n\u001b[0m\u001b[1;32m    560\u001b[0m         \u001b[0;32mtry\u001b[0m\u001b[0;34m:\u001b[0m\u001b[0;34m\u001b[0m\u001b[0;34m\u001b[0m\u001b[0m\n\u001b[1;32m    561\u001b[0m             \u001b[0mold_value\u001b[0m \u001b[0;34m=\u001b[0m \u001b[0mobj\u001b[0m\u001b[0;34m.\u001b[0m\u001b[0m_trait_values\u001b[0m\u001b[0;34m[\u001b[0m\u001b[0mself\u001b[0m\u001b[0;34m.\u001b[0m\u001b[0mname\u001b[0m\u001b[0;34m]\u001b[0m\u001b[0;34m\u001b[0m\u001b[0;34m\u001b[0m\u001b[0m\n",
        "\u001b[0;32m/anaconda3/lib/python3.7/site-packages/traitlets/traitlets.py\u001b[0m in \u001b[0;36m_validate\u001b[0;34m(self, obj, value)\u001b[0m\n\u001b[1;32m    589\u001b[0m             \u001b[0;32mreturn\u001b[0m \u001b[0mvalue\u001b[0m\u001b[0;34m\u001b[0m\u001b[0;34m\u001b[0m\u001b[0m\n\u001b[1;32m    590\u001b[0m         \u001b[0;32mif\u001b[0m \u001b[0mhasattr\u001b[0m\u001b[0;34m(\u001b[0m\u001b[0mself\u001b[0m\u001b[0;34m,\u001b[0m \u001b[0;34m'validate'\u001b[0m\u001b[0;34m)\u001b[0m\u001b[0;34m:\u001b[0m\u001b[0;34m\u001b[0m\u001b[0;34m\u001b[0m\u001b[0m\n\u001b[0;32m--> 591\u001b[0;31m             \u001b[0mvalue\u001b[0m \u001b[0;34m=\u001b[0m \u001b[0mself\u001b[0m\u001b[0;34m.\u001b[0m\u001b[0mvalidate\u001b[0m\u001b[0;34m(\u001b[0m\u001b[0mobj\u001b[0m\u001b[0;34m,\u001b[0m \u001b[0mvalue\u001b[0m\u001b[0;34m)\u001b[0m\u001b[0;34m\u001b[0m\u001b[0;34m\u001b[0m\u001b[0m\n\u001b[0m\u001b[1;32m    592\u001b[0m         \u001b[0;32mif\u001b[0m \u001b[0mobj\u001b[0m\u001b[0;34m.\u001b[0m\u001b[0m_cross_validation_lock\u001b[0m \u001b[0;32mis\u001b[0m \u001b[0;32mFalse\u001b[0m\u001b[0;34m:\u001b[0m\u001b[0;34m\u001b[0m\u001b[0;34m\u001b[0m\u001b[0m\n\u001b[1;32m    593\u001b[0m             \u001b[0mvalue\u001b[0m \u001b[0;34m=\u001b[0m \u001b[0mself\u001b[0m\u001b[0;34m.\u001b[0m\u001b[0m_cross_validate\u001b[0m\u001b[0;34m(\u001b[0m\u001b[0mobj\u001b[0m\u001b[0;34m,\u001b[0m \u001b[0mvalue\u001b[0m\u001b[0;34m)\u001b[0m\u001b[0;34m\u001b[0m\u001b[0;34m\u001b[0m\u001b[0m\n",
        "\u001b[0;32m/anaconda3/lib/python3.7/site-packages/traitlets/traitlets.py\u001b[0m in \u001b[0;36mvalidate\u001b[0;34m(self, obj, value)\u001b[0m\n\u001b[1;32m   2322\u001b[0m \u001b[0;34m\u001b[0m\u001b[0m\n\u001b[1;32m   2323\u001b[0m     \u001b[0;32mdef\u001b[0m \u001b[0mvalidate\u001b[0m\u001b[0;34m(\u001b[0m\u001b[0mself\u001b[0m\u001b[0;34m,\u001b[0m \u001b[0mobj\u001b[0m\u001b[0;34m,\u001b[0m \u001b[0mvalue\u001b[0m\u001b[0;34m)\u001b[0m\u001b[0;34m:\u001b[0m\u001b[0;34m\u001b[0m\u001b[0;34m\u001b[0m\u001b[0m\n\u001b[0;32m-> 2324\u001b[0;31m         \u001b[0mvalue\u001b[0m \u001b[0;34m=\u001b[0m \u001b[0msuper\u001b[0m\u001b[0;34m(\u001b[0m\u001b[0mList\u001b[0m\u001b[0;34m,\u001b[0m \u001b[0mself\u001b[0m\u001b[0;34m)\u001b[0m\u001b[0;34m.\u001b[0m\u001b[0mvalidate\u001b[0m\u001b[0;34m(\u001b[0m\u001b[0mobj\u001b[0m\u001b[0;34m,\u001b[0m \u001b[0mvalue\u001b[0m\u001b[0;34m)\u001b[0m\u001b[0;34m\u001b[0m\u001b[0;34m\u001b[0m\u001b[0m\n\u001b[0m\u001b[1;32m   2325\u001b[0m         \u001b[0mvalue\u001b[0m \u001b[0;34m=\u001b[0m \u001b[0mself\u001b[0m\u001b[0;34m.\u001b[0m\u001b[0mvalidate_elements\u001b[0m\u001b[0;34m(\u001b[0m\u001b[0mobj\u001b[0m\u001b[0;34m,\u001b[0m \u001b[0mvalue\u001b[0m\u001b[0;34m)\u001b[0m\u001b[0;34m\u001b[0m\u001b[0;34m\u001b[0m\u001b[0m\n\u001b[1;32m   2326\u001b[0m         \u001b[0;32mreturn\u001b[0m \u001b[0mvalue\u001b[0m\u001b[0;34m\u001b[0m\u001b[0;34m\u001b[0m\u001b[0m\n",
        "\u001b[0;32m/anaconda3/lib/python3.7/site-packages/traitlets/traitlets.py\u001b[0m in \u001b[0;36mvalidate\u001b[0;34m(self, obj, value)\u001b[0m\n\u001b[1;32m   2240\u001b[0m             \u001b[0;32mreturn\u001b[0m \u001b[0mvalue\u001b[0m\u001b[0;34m\u001b[0m\u001b[0;34m\u001b[0m\u001b[0m\n\u001b[1;32m   2241\u001b[0m \u001b[0;34m\u001b[0m\u001b[0m\n\u001b[0;32m-> 2242\u001b[0;31m         \u001b[0mvalue\u001b[0m \u001b[0;34m=\u001b[0m \u001b[0mself\u001b[0m\u001b[0;34m.\u001b[0m\u001b[0mvalidate_elements\u001b[0m\u001b[0;34m(\u001b[0m\u001b[0mobj\u001b[0m\u001b[0;34m,\u001b[0m \u001b[0mvalue\u001b[0m\u001b[0;34m)\u001b[0m\u001b[0;34m\u001b[0m\u001b[0;34m\u001b[0m\u001b[0m\n\u001b[0m\u001b[1;32m   2243\u001b[0m \u001b[0;34m\u001b[0m\u001b[0m\n\u001b[1;32m   2244\u001b[0m         \u001b[0;32mreturn\u001b[0m \u001b[0mvalue\u001b[0m\u001b[0;34m\u001b[0m\u001b[0;34m\u001b[0m\u001b[0m\n",
        "\u001b[0;32m/anaconda3/lib/python3.7/site-packages/traitlets/traitlets.py\u001b[0m in \u001b[0;36mvalidate_elements\u001b[0;34m(self, obj, value)\u001b[0m\n\u001b[1;32m   2319\u001b[0m             \u001b[0mself\u001b[0m\u001b[0;34m.\u001b[0m\u001b[0mlength_error\u001b[0m\u001b[0;34m(\u001b[0m\u001b[0mobj\u001b[0m\u001b[0;34m,\u001b[0m \u001b[0mvalue\u001b[0m\u001b[0;34m)\u001b[0m\u001b[0;34m\u001b[0m\u001b[0;34m\u001b[0m\u001b[0m\n\u001b[1;32m   2320\u001b[0m \u001b[0;34m\u001b[0m\u001b[0m\n\u001b[0;32m-> 2321\u001b[0;31m         \u001b[0;32mreturn\u001b[0m \u001b[0msuper\u001b[0m\u001b[0;34m(\u001b[0m\u001b[0mList\u001b[0m\u001b[0;34m,\u001b[0m \u001b[0mself\u001b[0m\u001b[0;34m)\u001b[0m\u001b[0;34m.\u001b[0m\u001b[0mvalidate_elements\u001b[0m\u001b[0;34m(\u001b[0m\u001b[0mobj\u001b[0m\u001b[0;34m,\u001b[0m \u001b[0mvalue\u001b[0m\u001b[0;34m)\u001b[0m\u001b[0;34m\u001b[0m\u001b[0;34m\u001b[0m\u001b[0m\n\u001b[0m\u001b[1;32m   2322\u001b[0m \u001b[0;34m\u001b[0m\u001b[0m\n\u001b[1;32m   2323\u001b[0m     \u001b[0;32mdef\u001b[0m \u001b[0mvalidate\u001b[0m\u001b[0;34m(\u001b[0m\u001b[0mself\u001b[0m\u001b[0;34m,\u001b[0m \u001b[0mobj\u001b[0m\u001b[0;34m,\u001b[0m \u001b[0mvalue\u001b[0m\u001b[0;34m)\u001b[0m\u001b[0;34m:\u001b[0m\u001b[0;34m\u001b[0m\u001b[0;34m\u001b[0m\u001b[0m\n",
        "\u001b[0;32m/anaconda3/lib/python3.7/site-packages/traitlets/traitlets.py\u001b[0m in \u001b[0;36mvalidate_elements\u001b[0;34m(self, obj, value)\u001b[0m\n\u001b[1;32m   2252\u001b[0m                 \u001b[0mv\u001b[0m \u001b[0;34m=\u001b[0m \u001b[0mself\u001b[0m\u001b[0;34m.\u001b[0m\u001b[0m_trait\u001b[0m\u001b[0;34m.\u001b[0m\u001b[0m_validate\u001b[0m\u001b[0;34m(\u001b[0m\u001b[0mobj\u001b[0m\u001b[0;34m,\u001b[0m \u001b[0mv\u001b[0m\u001b[0;34m)\u001b[0m\u001b[0;34m\u001b[0m\u001b[0;34m\u001b[0m\u001b[0m\n\u001b[1;32m   2253\u001b[0m             \u001b[0;32mexcept\u001b[0m \u001b[0mTraitError\u001b[0m\u001b[0;34m:\u001b[0m\u001b[0;34m\u001b[0m\u001b[0;34m\u001b[0m\u001b[0m\n\u001b[0;32m-> 2254\u001b[0;31m                 \u001b[0mself\u001b[0m\u001b[0;34m.\u001b[0m\u001b[0melement_error\u001b[0m\u001b[0;34m(\u001b[0m\u001b[0mobj\u001b[0m\u001b[0;34m,\u001b[0m \u001b[0mv\u001b[0m\u001b[0;34m,\u001b[0m \u001b[0mself\u001b[0m\u001b[0;34m.\u001b[0m\u001b[0m_trait\u001b[0m\u001b[0;34m)\u001b[0m\u001b[0;34m\u001b[0m\u001b[0;34m\u001b[0m\u001b[0m\n\u001b[0m\u001b[1;32m   2255\u001b[0m             \u001b[0;32melse\u001b[0m\u001b[0;34m:\u001b[0m\u001b[0;34m\u001b[0m\u001b[0;34m\u001b[0m\u001b[0m\n\u001b[1;32m   2256\u001b[0m                 \u001b[0mvalidated\u001b[0m\u001b[0;34m.\u001b[0m\u001b[0mappend\u001b[0m\u001b[0;34m(\u001b[0m\u001b[0mv\u001b[0m\u001b[0;34m)\u001b[0m\u001b[0;34m\u001b[0m\u001b[0;34m\u001b[0m\u001b[0m\n",
        "\u001b[0;32m/anaconda3/lib/python3.7/site-packages/traitlets/traitlets.py\u001b[0m in \u001b[0;36melement_error\u001b[0;34m(self, obj, element, validator)\u001b[0m\n\u001b[1;32m   2231\u001b[0m         \u001b[0me\u001b[0m \u001b[0;34m=\u001b[0m \u001b[0;34m\"Element of the '%s' trait of %s instance must be %s, but a value of %s was specified.\"\u001b[0m\u001b[0;31m \u001b[0m\u001b[0;31m\\\u001b[0m\u001b[0;34m\u001b[0m\u001b[0;34m\u001b[0m\u001b[0m\n\u001b[1;32m   2232\u001b[0m             \u001b[0;34m%\u001b[0m \u001b[0;34m(\u001b[0m\u001b[0mself\u001b[0m\u001b[0;34m.\u001b[0m\u001b[0mname\u001b[0m\u001b[0;34m,\u001b[0m \u001b[0mclass_of\u001b[0m\u001b[0;34m(\u001b[0m\u001b[0mobj\u001b[0m\u001b[0;34m)\u001b[0m\u001b[0;34m,\u001b[0m \u001b[0mvalidator\u001b[0m\u001b[0;34m.\u001b[0m\u001b[0minfo\u001b[0m\u001b[0;34m(\u001b[0m\u001b[0;34m)\u001b[0m\u001b[0;34m,\u001b[0m \u001b[0mrepr_type\u001b[0m\u001b[0;34m(\u001b[0m\u001b[0melement\u001b[0m\u001b[0;34m)\u001b[0m\u001b[0;34m)\u001b[0m\u001b[0;34m\u001b[0m\u001b[0;34m\u001b[0m\u001b[0m\n\u001b[0;32m-> 2233\u001b[0;31m         \u001b[0;32mraise\u001b[0m \u001b[0mTraitError\u001b[0m\u001b[0;34m(\u001b[0m\u001b[0me\u001b[0m\u001b[0;34m)\u001b[0m\u001b[0;34m\u001b[0m\u001b[0;34m\u001b[0m\u001b[0m\n\u001b[0m\u001b[1;32m   2234\u001b[0m \u001b[0;34m\u001b[0m\u001b[0m\n\u001b[1;32m   2235\u001b[0m     \u001b[0;32mdef\u001b[0m \u001b[0mvalidate\u001b[0m\u001b[0;34m(\u001b[0m\u001b[0mself\u001b[0m\u001b[0;34m,\u001b[0m \u001b[0mobj\u001b[0m\u001b[0;34m,\u001b[0m \u001b[0mvalue\u001b[0m\u001b[0;34m)\u001b[0m\u001b[0;34m:\u001b[0m\u001b[0;34m\u001b[0m\u001b[0;34m\u001b[0m\u001b[0m\n",
        "\u001b[0;31mTraitError\u001b[0m: Element of the 'children' trait of a Layout instance must be a DOMWidget or a unicode string, but a value of <class 'ipyvuetify.generated.Card.Card'> <class 'traitlets.traitlets.MetaHasTraits'> was specified."
       ]
      }
     ],
     "persistentId": "63c8aeab-0a61-499c-9835-229ef5ce8b54",
     "text": "\nv.Layout(\n    row=True,\n    _metadata={\"mount_id\": \"content-main\"},\n    wrap=True,\n    align_center=True,\n    children=[v.Flex(xs12=True, lg6=True, xl4=True, children=[m]), \n             v.Card]\n)\n\nv.Layout(pa_4=True, \n         _metadata={'mount_id': 'content-nav'}, \n         column=True, children=[\"25 Days of serverless\"]);"
    },
    "executionTime": "2019-12-16T17:35:05.331Z"
   },
   {
    "cell": {
     "executionCount": 42,
     "executionEventId": "ceaef188-6fd8-44a8-a650-4081378ce0af",
     "hasError": true,
     "id": "759ec975-26d7-48d1-8c69-87c6af411b0a",
     "outputs": [
      {
       "ename": "TraitError",
       "evalue": "Element of the 'children' trait of a Layout instance must be a DOMWidget or a unicode string, but a value of <class 'ipyvuetify.generated.Card.Card'> <class 'traitlets.traitlets.MetaHasTraits'> was specified.",
       "output_type": "error",
       "traceback": [
        "\u001b[0;31m---------------------------------------------------------------------------\u001b[0m",
        "\u001b[0;31mTraitError\u001b[0m                                Traceback (most recent call last)",
        "\u001b[0;32m/anaconda3/lib/python3.7/site-packages/traitlets/traitlets.py\u001b[0m in \u001b[0;36mvalidate_elements\u001b[0;34m(self, obj, value)\u001b[0m\n\u001b[1;32m   2251\u001b[0m             \u001b[0;32mtry\u001b[0m\u001b[0;34m:\u001b[0m\u001b[0;34m\u001b[0m\u001b[0;34m\u001b[0m\u001b[0m\n\u001b[0;32m-> 2252\u001b[0;31m                 \u001b[0mv\u001b[0m \u001b[0;34m=\u001b[0m \u001b[0mself\u001b[0m\u001b[0;34m.\u001b[0m\u001b[0m_trait\u001b[0m\u001b[0;34m.\u001b[0m\u001b[0m_validate\u001b[0m\u001b[0;34m(\u001b[0m\u001b[0mobj\u001b[0m\u001b[0;34m,\u001b[0m \u001b[0mv\u001b[0m\u001b[0;34m)\u001b[0m\u001b[0;34m\u001b[0m\u001b[0;34m\u001b[0m\u001b[0m\n\u001b[0m\u001b[1;32m   2253\u001b[0m             \u001b[0;32mexcept\u001b[0m \u001b[0mTraitError\u001b[0m\u001b[0;34m:\u001b[0m\u001b[0;34m\u001b[0m\u001b[0;34m\u001b[0m\u001b[0m\n",
        "\u001b[0;32m/anaconda3/lib/python3.7/site-packages/traitlets/traitlets.py\u001b[0m in \u001b[0;36m_validate\u001b[0;34m(self, obj, value)\u001b[0m\n\u001b[1;32m    590\u001b[0m         \u001b[0;32mif\u001b[0m \u001b[0mhasattr\u001b[0m\u001b[0;34m(\u001b[0m\u001b[0mself\u001b[0m\u001b[0;34m,\u001b[0m \u001b[0;34m'validate'\u001b[0m\u001b[0;34m)\u001b[0m\u001b[0;34m:\u001b[0m\u001b[0;34m\u001b[0m\u001b[0;34m\u001b[0m\u001b[0m\n\u001b[0;32m--> 591\u001b[0;31m             \u001b[0mvalue\u001b[0m \u001b[0;34m=\u001b[0m \u001b[0mself\u001b[0m\u001b[0;34m.\u001b[0m\u001b[0mvalidate\u001b[0m\u001b[0;34m(\u001b[0m\u001b[0mobj\u001b[0m\u001b[0;34m,\u001b[0m \u001b[0mvalue\u001b[0m\u001b[0;34m)\u001b[0m\u001b[0;34m\u001b[0m\u001b[0;34m\u001b[0m\u001b[0m\n\u001b[0m\u001b[1;32m    592\u001b[0m         \u001b[0;32mif\u001b[0m \u001b[0mobj\u001b[0m\u001b[0;34m.\u001b[0m\u001b[0m_cross_validation_lock\u001b[0m \u001b[0;32mis\u001b[0m \u001b[0;32mFalse\u001b[0m\u001b[0;34m:\u001b[0m\u001b[0;34m\u001b[0m\u001b[0;34m\u001b[0m\u001b[0m\n",
        "\u001b[0;32m/anaconda3/lib/python3.7/site-packages/traitlets/traitlets.py\u001b[0m in \u001b[0;36mvalidate\u001b[0;34m(self, obj, value)\u001b[0m\n\u001b[1;32m   1802\u001b[0m                     \u001b[0;32mcontinue\u001b[0m\u001b[0;34m\u001b[0m\u001b[0;34m\u001b[0m\u001b[0m\n\u001b[0;32m-> 1803\u001b[0;31m         \u001b[0mself\u001b[0m\u001b[0;34m.\u001b[0m\u001b[0merror\u001b[0m\u001b[0;34m(\u001b[0m\u001b[0mobj\u001b[0m\u001b[0;34m,\u001b[0m \u001b[0mvalue\u001b[0m\u001b[0;34m)\u001b[0m\u001b[0;34m\u001b[0m\u001b[0;34m\u001b[0m\u001b[0m\n\u001b[0m\u001b[1;32m   1804\u001b[0m \u001b[0;34m\u001b[0m\u001b[0m\n",
        "\u001b[0;32m/anaconda3/lib/python3.7/site-packages/traitlets/traitlets.py\u001b[0m in \u001b[0;36merror\u001b[0;34m(self, obj, value)\u001b[0m\n\u001b[1;32m    624\u001b[0m                 \u001b[0;34m%\u001b[0m \u001b[0;34m(\u001b[0m\u001b[0mself\u001b[0m\u001b[0;34m.\u001b[0m\u001b[0mname\u001b[0m\u001b[0;34m,\u001b[0m \u001b[0mself\u001b[0m\u001b[0;34m.\u001b[0m\u001b[0minfo\u001b[0m\u001b[0;34m(\u001b[0m\u001b[0;34m)\u001b[0m\u001b[0;34m,\u001b[0m \u001b[0mrepr_type\u001b[0m\u001b[0;34m(\u001b[0m\u001b[0mvalue\u001b[0m\u001b[0;34m)\u001b[0m\u001b[0;34m)\u001b[0m\u001b[0;34m\u001b[0m\u001b[0;34m\u001b[0m\u001b[0m\n\u001b[0;32m--> 625\u001b[0;31m         \u001b[0;32mraise\u001b[0m \u001b[0mTraitError\u001b[0m\u001b[0;34m(\u001b[0m\u001b[0me\u001b[0m\u001b[0;34m)\u001b[0m\u001b[0;34m\u001b[0m\u001b[0;34m\u001b[0m\u001b[0m\n\u001b[0m\u001b[1;32m    626\u001b[0m \u001b[0;34m\u001b[0m\u001b[0m\n",
        "\u001b[0;31mTraitError\u001b[0m: The 'None' trait of a Layout instance must be a DOMWidget or a unicode string, but a value of <class 'ipyvuetify.generated.Card.Card'> <class 'traitlets.traitlets.MetaHasTraits'> was specified.",
        "\nDuring handling of the above exception, another exception occurred:\n",
        "\u001b[0;31mTraitError\u001b[0m                                Traceback (most recent call last)",
        "\u001b[0;32m<ipython-input-42-62bbe78144bc>\u001b[0m in \u001b[0;36m<module>\u001b[0;34m\u001b[0m\n\u001b[1;32m      5\u001b[0m     \u001b[0malign_center\u001b[0m\u001b[0;34m=\u001b[0m\u001b[0;32mTrue\u001b[0m\u001b[0;34m,\u001b[0m\u001b[0;34m\u001b[0m\u001b[0;34m\u001b[0m\u001b[0m\n\u001b[1;32m      6\u001b[0m     children=[v.Flex(xs12=True, lg6=True, xl4=True, children=[m]), \n\u001b[0;32m----> 7\u001b[0;31m              v.Card]\n\u001b[0m\u001b[1;32m      8\u001b[0m )\n\u001b[1;32m      9\u001b[0m \u001b[0;34m\u001b[0m\u001b[0m\n",
        "\u001b[0;32m/anaconda3/lib/python3.7/site-packages/ipywidgets/widgets/widget.py\u001b[0m in \u001b[0;36m__init__\u001b[0;34m(self, **kwargs)\u001b[0m\n\u001b[1;32m    410\u001b[0m         \u001b[0;34m\"\"\"Public constructor\"\"\"\u001b[0m\u001b[0;34m\u001b[0m\u001b[0;34m\u001b[0m\u001b[0m\n\u001b[1;32m    411\u001b[0m         \u001b[0mself\u001b[0m\u001b[0;34m.\u001b[0m\u001b[0m_model_id\u001b[0m \u001b[0;34m=\u001b[0m \u001b[0mkwargs\u001b[0m\u001b[0;34m.\u001b[0m\u001b[0mpop\u001b[0m\u001b[0;34m(\u001b[0m\u001b[0;34m'model_id'\u001b[0m\u001b[0;34m,\u001b[0m \u001b[0;32mNone\u001b[0m\u001b[0;34m)\u001b[0m\u001b[0;34m\u001b[0m\u001b[0;34m\u001b[0m\u001b[0m\n\u001b[0;32m--> 412\u001b[0;31m         \u001b[0msuper\u001b[0m\u001b[0;34m(\u001b[0m\u001b[0mWidget\u001b[0m\u001b[0;34m,\u001b[0m \u001b[0mself\u001b[0m\u001b[0;34m)\u001b[0m\u001b[0;34m.\u001b[0m\u001b[0m__init__\u001b[0m\u001b[0;34m(\u001b[0m\u001b[0;34m**\u001b[0m\u001b[0mkwargs\u001b[0m\u001b[0;34m)\u001b[0m\u001b[0;34m\u001b[0m\u001b[0;34m\u001b[0m\u001b[0m\n\u001b[0m\u001b[1;32m    413\u001b[0m \u001b[0;34m\u001b[0m\u001b[0m\n\u001b[1;32m    414\u001b[0m         \u001b[0mWidget\u001b[0m\u001b[0;34m.\u001b[0m\u001b[0m_call_widget_constructed\u001b[0m\u001b[0;34m(\u001b[0m\u001b[0mself\u001b[0m\u001b[0;34m)\u001b[0m\u001b[0;34m\u001b[0m\u001b[0;34m\u001b[0m\u001b[0m\n",
        "\u001b[0;32m/anaconda3/lib/python3.7/site-packages/traitlets/traitlets.py\u001b[0m in \u001b[0;36m__init__\u001b[0;34m(self, *args, **kwargs)\u001b[0m\n\u001b[1;32m    995\u001b[0m             \u001b[0;32mfor\u001b[0m \u001b[0mkey\u001b[0m\u001b[0;34m,\u001b[0m \u001b[0mvalue\u001b[0m \u001b[0;32min\u001b[0m \u001b[0mkwargs\u001b[0m\u001b[0;34m.\u001b[0m\u001b[0mitems\u001b[0m\u001b[0;34m(\u001b[0m\u001b[0;34m)\u001b[0m\u001b[0;34m:\u001b[0m\u001b[0;34m\u001b[0m\u001b[0;34m\u001b[0m\u001b[0m\n\u001b[1;32m    996\u001b[0m                 \u001b[0;32mif\u001b[0m \u001b[0mself\u001b[0m\u001b[0;34m.\u001b[0m\u001b[0mhas_trait\u001b[0m\u001b[0;34m(\u001b[0m\u001b[0mkey\u001b[0m\u001b[0;34m)\u001b[0m\u001b[0;34m:\u001b[0m\u001b[0;34m\u001b[0m\u001b[0;34m\u001b[0m\u001b[0m\n\u001b[0;32m--> 997\u001b[0;31m                     \u001b[0msetattr\u001b[0m\u001b[0;34m(\u001b[0m\u001b[0mself\u001b[0m\u001b[0;34m,\u001b[0m \u001b[0mkey\u001b[0m\u001b[0;34m,\u001b[0m \u001b[0mvalue\u001b[0m\u001b[0;34m)\u001b[0m\u001b[0;34m\u001b[0m\u001b[0;34m\u001b[0m\u001b[0m\n\u001b[0m\u001b[1;32m    998\u001b[0m                 \u001b[0;32melse\u001b[0m\u001b[0;34m:\u001b[0m\u001b[0;34m\u001b[0m\u001b[0;34m\u001b[0m\u001b[0m\n\u001b[1;32m    999\u001b[0m                     \u001b[0;31m# passthrough args that don't set traits to super\u001b[0m\u001b[0;34m\u001b[0m\u001b[0;34m\u001b[0m\u001b[0;34m\u001b[0m\u001b[0m\n",
        "\u001b[0;32m/anaconda3/lib/python3.7/site-packages/traitlets/traitlets.py\u001b[0m in \u001b[0;36m__set__\u001b[0;34m(self, obj, value)\u001b[0m\n\u001b[1;32m    583\u001b[0m             \u001b[0;32mraise\u001b[0m \u001b[0mTraitError\u001b[0m\u001b[0;34m(\u001b[0m\u001b[0;34m'The \"%s\" trait is read-only.'\u001b[0m \u001b[0;34m%\u001b[0m \u001b[0mself\u001b[0m\u001b[0;34m.\u001b[0m\u001b[0mname\u001b[0m\u001b[0;34m)\u001b[0m\u001b[0;34m\u001b[0m\u001b[0;34m\u001b[0m\u001b[0m\n\u001b[1;32m    584\u001b[0m         \u001b[0;32melse\u001b[0m\u001b[0;34m:\u001b[0m\u001b[0;34m\u001b[0m\u001b[0;34m\u001b[0m\u001b[0m\n\u001b[0;32m--> 585\u001b[0;31m             \u001b[0mself\u001b[0m\u001b[0;34m.\u001b[0m\u001b[0mset\u001b[0m\u001b[0;34m(\u001b[0m\u001b[0mobj\u001b[0m\u001b[0;34m,\u001b[0m \u001b[0mvalue\u001b[0m\u001b[0;34m)\u001b[0m\u001b[0;34m\u001b[0m\u001b[0;34m\u001b[0m\u001b[0m\n\u001b[0m\u001b[1;32m    586\u001b[0m \u001b[0;34m\u001b[0m\u001b[0m\n\u001b[1;32m    587\u001b[0m     \u001b[0;32mdef\u001b[0m \u001b[0m_validate\u001b[0m\u001b[0;34m(\u001b[0m\u001b[0mself\u001b[0m\u001b[0;34m,\u001b[0m \u001b[0mobj\u001b[0m\u001b[0;34m,\u001b[0m \u001b[0mvalue\u001b[0m\u001b[0;34m)\u001b[0m\u001b[0;34m:\u001b[0m\u001b[0;34m\u001b[0m\u001b[0;34m\u001b[0m\u001b[0m\n",
        "\u001b[0;32m/anaconda3/lib/python3.7/site-packages/traitlets/traitlets.py\u001b[0m in \u001b[0;36mset\u001b[0;34m(self, obj, value)\u001b[0m\n\u001b[1;32m    557\u001b[0m \u001b[0;34m\u001b[0m\u001b[0m\n\u001b[1;32m    558\u001b[0m     \u001b[0;32mdef\u001b[0m \u001b[0mset\u001b[0m\u001b[0;34m(\u001b[0m\u001b[0mself\u001b[0m\u001b[0;34m,\u001b[0m \u001b[0mobj\u001b[0m\u001b[0;34m,\u001b[0m \u001b[0mvalue\u001b[0m\u001b[0;34m)\u001b[0m\u001b[0;34m:\u001b[0m\u001b[0;34m\u001b[0m\u001b[0;34m\u001b[0m\u001b[0m\n\u001b[0;32m--> 559\u001b[0;31m         \u001b[0mnew_value\u001b[0m \u001b[0;34m=\u001b[0m \u001b[0mself\u001b[0m\u001b[0;34m.\u001b[0m\u001b[0m_validate\u001b[0m\u001b[0;34m(\u001b[0m\u001b[0mobj\u001b[0m\u001b[0;34m,\u001b[0m \u001b[0mvalue\u001b[0m\u001b[0;34m)\u001b[0m\u001b[0;34m\u001b[0m\u001b[0;34m\u001b[0m\u001b[0m\n\u001b[0m\u001b[1;32m    560\u001b[0m         \u001b[0;32mtry\u001b[0m\u001b[0;34m:\u001b[0m\u001b[0;34m\u001b[0m\u001b[0;34m\u001b[0m\u001b[0m\n\u001b[1;32m    561\u001b[0m             \u001b[0mold_value\u001b[0m \u001b[0;34m=\u001b[0m \u001b[0mobj\u001b[0m\u001b[0;34m.\u001b[0m\u001b[0m_trait_values\u001b[0m\u001b[0;34m[\u001b[0m\u001b[0mself\u001b[0m\u001b[0;34m.\u001b[0m\u001b[0mname\u001b[0m\u001b[0;34m]\u001b[0m\u001b[0;34m\u001b[0m\u001b[0;34m\u001b[0m\u001b[0m\n",
        "\u001b[0;32m/anaconda3/lib/python3.7/site-packages/traitlets/traitlets.py\u001b[0m in \u001b[0;36m_validate\u001b[0;34m(self, obj, value)\u001b[0m\n\u001b[1;32m    589\u001b[0m             \u001b[0;32mreturn\u001b[0m \u001b[0mvalue\u001b[0m\u001b[0;34m\u001b[0m\u001b[0;34m\u001b[0m\u001b[0m\n\u001b[1;32m    590\u001b[0m         \u001b[0;32mif\u001b[0m \u001b[0mhasattr\u001b[0m\u001b[0;34m(\u001b[0m\u001b[0mself\u001b[0m\u001b[0;34m,\u001b[0m \u001b[0;34m'validate'\u001b[0m\u001b[0;34m)\u001b[0m\u001b[0;34m:\u001b[0m\u001b[0;34m\u001b[0m\u001b[0;34m\u001b[0m\u001b[0m\n\u001b[0;32m--> 591\u001b[0;31m             \u001b[0mvalue\u001b[0m \u001b[0;34m=\u001b[0m \u001b[0mself\u001b[0m\u001b[0;34m.\u001b[0m\u001b[0mvalidate\u001b[0m\u001b[0;34m(\u001b[0m\u001b[0mobj\u001b[0m\u001b[0;34m,\u001b[0m \u001b[0mvalue\u001b[0m\u001b[0;34m)\u001b[0m\u001b[0;34m\u001b[0m\u001b[0;34m\u001b[0m\u001b[0m\n\u001b[0m\u001b[1;32m    592\u001b[0m         \u001b[0;32mif\u001b[0m \u001b[0mobj\u001b[0m\u001b[0;34m.\u001b[0m\u001b[0m_cross_validation_lock\u001b[0m \u001b[0;32mis\u001b[0m \u001b[0;32mFalse\u001b[0m\u001b[0;34m:\u001b[0m\u001b[0;34m\u001b[0m\u001b[0;34m\u001b[0m\u001b[0m\n\u001b[1;32m    593\u001b[0m             \u001b[0mvalue\u001b[0m \u001b[0;34m=\u001b[0m \u001b[0mself\u001b[0m\u001b[0;34m.\u001b[0m\u001b[0m_cross_validate\u001b[0m\u001b[0;34m(\u001b[0m\u001b[0mobj\u001b[0m\u001b[0;34m,\u001b[0m \u001b[0mvalue\u001b[0m\u001b[0;34m)\u001b[0m\u001b[0;34m\u001b[0m\u001b[0;34m\u001b[0m\u001b[0m\n",
        "\u001b[0;32m/anaconda3/lib/python3.7/site-packages/traitlets/traitlets.py\u001b[0m in \u001b[0;36mvalidate\u001b[0;34m(self, obj, value)\u001b[0m\n\u001b[1;32m   2322\u001b[0m \u001b[0;34m\u001b[0m\u001b[0m\n\u001b[1;32m   2323\u001b[0m     \u001b[0;32mdef\u001b[0m \u001b[0mvalidate\u001b[0m\u001b[0;34m(\u001b[0m\u001b[0mself\u001b[0m\u001b[0;34m,\u001b[0m \u001b[0mobj\u001b[0m\u001b[0;34m,\u001b[0m \u001b[0mvalue\u001b[0m\u001b[0;34m)\u001b[0m\u001b[0;34m:\u001b[0m\u001b[0;34m\u001b[0m\u001b[0;34m\u001b[0m\u001b[0m\n\u001b[0;32m-> 2324\u001b[0;31m         \u001b[0mvalue\u001b[0m \u001b[0;34m=\u001b[0m \u001b[0msuper\u001b[0m\u001b[0;34m(\u001b[0m\u001b[0mList\u001b[0m\u001b[0;34m,\u001b[0m \u001b[0mself\u001b[0m\u001b[0;34m)\u001b[0m\u001b[0;34m.\u001b[0m\u001b[0mvalidate\u001b[0m\u001b[0;34m(\u001b[0m\u001b[0mobj\u001b[0m\u001b[0;34m,\u001b[0m \u001b[0mvalue\u001b[0m\u001b[0;34m)\u001b[0m\u001b[0;34m\u001b[0m\u001b[0;34m\u001b[0m\u001b[0m\n\u001b[0m\u001b[1;32m   2325\u001b[0m         \u001b[0mvalue\u001b[0m \u001b[0;34m=\u001b[0m \u001b[0mself\u001b[0m\u001b[0;34m.\u001b[0m\u001b[0mvalidate_elements\u001b[0m\u001b[0;34m(\u001b[0m\u001b[0mobj\u001b[0m\u001b[0;34m,\u001b[0m \u001b[0mvalue\u001b[0m\u001b[0;34m)\u001b[0m\u001b[0;34m\u001b[0m\u001b[0;34m\u001b[0m\u001b[0m\n\u001b[1;32m   2326\u001b[0m         \u001b[0;32mreturn\u001b[0m \u001b[0mvalue\u001b[0m\u001b[0;34m\u001b[0m\u001b[0;34m\u001b[0m\u001b[0m\n",
        "\u001b[0;32m/anaconda3/lib/python3.7/site-packages/traitlets/traitlets.py\u001b[0m in \u001b[0;36mvalidate\u001b[0;34m(self, obj, value)\u001b[0m\n\u001b[1;32m   2240\u001b[0m             \u001b[0;32mreturn\u001b[0m \u001b[0mvalue\u001b[0m\u001b[0;34m\u001b[0m\u001b[0;34m\u001b[0m\u001b[0m\n\u001b[1;32m   2241\u001b[0m \u001b[0;34m\u001b[0m\u001b[0m\n\u001b[0;32m-> 2242\u001b[0;31m         \u001b[0mvalue\u001b[0m \u001b[0;34m=\u001b[0m \u001b[0mself\u001b[0m\u001b[0;34m.\u001b[0m\u001b[0mvalidate_elements\u001b[0m\u001b[0;34m(\u001b[0m\u001b[0mobj\u001b[0m\u001b[0;34m,\u001b[0m \u001b[0mvalue\u001b[0m\u001b[0;34m)\u001b[0m\u001b[0;34m\u001b[0m\u001b[0;34m\u001b[0m\u001b[0m\n\u001b[0m\u001b[1;32m   2243\u001b[0m \u001b[0;34m\u001b[0m\u001b[0m\n\u001b[1;32m   2244\u001b[0m         \u001b[0;32mreturn\u001b[0m \u001b[0mvalue\u001b[0m\u001b[0;34m\u001b[0m\u001b[0;34m\u001b[0m\u001b[0m\n",
        "\u001b[0;32m/anaconda3/lib/python3.7/site-packages/traitlets/traitlets.py\u001b[0m in \u001b[0;36mvalidate_elements\u001b[0;34m(self, obj, value)\u001b[0m\n\u001b[1;32m   2319\u001b[0m             \u001b[0mself\u001b[0m\u001b[0;34m.\u001b[0m\u001b[0mlength_error\u001b[0m\u001b[0;34m(\u001b[0m\u001b[0mobj\u001b[0m\u001b[0;34m,\u001b[0m \u001b[0mvalue\u001b[0m\u001b[0;34m)\u001b[0m\u001b[0;34m\u001b[0m\u001b[0;34m\u001b[0m\u001b[0m\n\u001b[1;32m   2320\u001b[0m \u001b[0;34m\u001b[0m\u001b[0m\n\u001b[0;32m-> 2321\u001b[0;31m         \u001b[0;32mreturn\u001b[0m \u001b[0msuper\u001b[0m\u001b[0;34m(\u001b[0m\u001b[0mList\u001b[0m\u001b[0;34m,\u001b[0m \u001b[0mself\u001b[0m\u001b[0;34m)\u001b[0m\u001b[0;34m.\u001b[0m\u001b[0mvalidate_elements\u001b[0m\u001b[0;34m(\u001b[0m\u001b[0mobj\u001b[0m\u001b[0;34m,\u001b[0m \u001b[0mvalue\u001b[0m\u001b[0;34m)\u001b[0m\u001b[0;34m\u001b[0m\u001b[0;34m\u001b[0m\u001b[0m\n\u001b[0m\u001b[1;32m   2322\u001b[0m \u001b[0;34m\u001b[0m\u001b[0m\n\u001b[1;32m   2323\u001b[0m     \u001b[0;32mdef\u001b[0m \u001b[0mvalidate\u001b[0m\u001b[0;34m(\u001b[0m\u001b[0mself\u001b[0m\u001b[0;34m,\u001b[0m \u001b[0mobj\u001b[0m\u001b[0;34m,\u001b[0m \u001b[0mvalue\u001b[0m\u001b[0;34m)\u001b[0m\u001b[0;34m:\u001b[0m\u001b[0;34m\u001b[0m\u001b[0;34m\u001b[0m\u001b[0m\n",
        "\u001b[0;32m/anaconda3/lib/python3.7/site-packages/traitlets/traitlets.py\u001b[0m in \u001b[0;36mvalidate_elements\u001b[0;34m(self, obj, value)\u001b[0m\n\u001b[1;32m   2252\u001b[0m                 \u001b[0mv\u001b[0m \u001b[0;34m=\u001b[0m \u001b[0mself\u001b[0m\u001b[0;34m.\u001b[0m\u001b[0m_trait\u001b[0m\u001b[0;34m.\u001b[0m\u001b[0m_validate\u001b[0m\u001b[0;34m(\u001b[0m\u001b[0mobj\u001b[0m\u001b[0;34m,\u001b[0m \u001b[0mv\u001b[0m\u001b[0;34m)\u001b[0m\u001b[0;34m\u001b[0m\u001b[0;34m\u001b[0m\u001b[0m\n\u001b[1;32m   2253\u001b[0m             \u001b[0;32mexcept\u001b[0m \u001b[0mTraitError\u001b[0m\u001b[0;34m:\u001b[0m\u001b[0;34m\u001b[0m\u001b[0;34m\u001b[0m\u001b[0m\n\u001b[0;32m-> 2254\u001b[0;31m                 \u001b[0mself\u001b[0m\u001b[0;34m.\u001b[0m\u001b[0melement_error\u001b[0m\u001b[0;34m(\u001b[0m\u001b[0mobj\u001b[0m\u001b[0;34m,\u001b[0m \u001b[0mv\u001b[0m\u001b[0;34m,\u001b[0m \u001b[0mself\u001b[0m\u001b[0;34m.\u001b[0m\u001b[0m_trait\u001b[0m\u001b[0;34m)\u001b[0m\u001b[0;34m\u001b[0m\u001b[0;34m\u001b[0m\u001b[0m\n\u001b[0m\u001b[1;32m   2255\u001b[0m             \u001b[0;32melse\u001b[0m\u001b[0;34m:\u001b[0m\u001b[0;34m\u001b[0m\u001b[0;34m\u001b[0m\u001b[0m\n\u001b[1;32m   2256\u001b[0m                 \u001b[0mvalidated\u001b[0m\u001b[0;34m.\u001b[0m\u001b[0mappend\u001b[0m\u001b[0;34m(\u001b[0m\u001b[0mv\u001b[0m\u001b[0;34m)\u001b[0m\u001b[0;34m\u001b[0m\u001b[0;34m\u001b[0m\u001b[0m\n",
        "\u001b[0;32m/anaconda3/lib/python3.7/site-packages/traitlets/traitlets.py\u001b[0m in \u001b[0;36melement_error\u001b[0;34m(self, obj, element, validator)\u001b[0m\n\u001b[1;32m   2231\u001b[0m         \u001b[0me\u001b[0m \u001b[0;34m=\u001b[0m \u001b[0;34m\"Element of the '%s' trait of %s instance must be %s, but a value of %s was specified.\"\u001b[0m\u001b[0;31m \u001b[0m\u001b[0;31m\\\u001b[0m\u001b[0;34m\u001b[0m\u001b[0;34m\u001b[0m\u001b[0m\n\u001b[1;32m   2232\u001b[0m             \u001b[0;34m%\u001b[0m \u001b[0;34m(\u001b[0m\u001b[0mself\u001b[0m\u001b[0;34m.\u001b[0m\u001b[0mname\u001b[0m\u001b[0;34m,\u001b[0m \u001b[0mclass_of\u001b[0m\u001b[0;34m(\u001b[0m\u001b[0mobj\u001b[0m\u001b[0;34m)\u001b[0m\u001b[0;34m,\u001b[0m \u001b[0mvalidator\u001b[0m\u001b[0;34m.\u001b[0m\u001b[0minfo\u001b[0m\u001b[0;34m(\u001b[0m\u001b[0;34m)\u001b[0m\u001b[0;34m,\u001b[0m \u001b[0mrepr_type\u001b[0m\u001b[0;34m(\u001b[0m\u001b[0melement\u001b[0m\u001b[0;34m)\u001b[0m\u001b[0;34m)\u001b[0m\u001b[0;34m\u001b[0m\u001b[0;34m\u001b[0m\u001b[0m\n\u001b[0;32m-> 2233\u001b[0;31m         \u001b[0;32mraise\u001b[0m \u001b[0mTraitError\u001b[0m\u001b[0;34m(\u001b[0m\u001b[0me\u001b[0m\u001b[0;34m)\u001b[0m\u001b[0;34m\u001b[0m\u001b[0;34m\u001b[0m\u001b[0m\n\u001b[0m\u001b[1;32m   2234\u001b[0m \u001b[0;34m\u001b[0m\u001b[0m\n\u001b[1;32m   2235\u001b[0m     \u001b[0;32mdef\u001b[0m \u001b[0mvalidate\u001b[0m\u001b[0;34m(\u001b[0m\u001b[0mself\u001b[0m\u001b[0;34m,\u001b[0m \u001b[0mobj\u001b[0m\u001b[0;34m,\u001b[0m \u001b[0mvalue\u001b[0m\u001b[0;34m)\u001b[0m\u001b[0;34m:\u001b[0m\u001b[0;34m\u001b[0m\u001b[0;34m\u001b[0m\u001b[0m\n",
        "\u001b[0;31mTraitError\u001b[0m: Element of the 'children' trait of a Layout instance must be a DOMWidget or a unicode string, but a value of <class 'ipyvuetify.generated.Card.Card'> <class 'traitlets.traitlets.MetaHasTraits'> was specified."
       ]
      }
     ],
     "persistentId": "63c8aeab-0a61-499c-9835-229ef5ce8b54",
     "text": "\nv.Layout(\n    row=True,\n    _metadata={\"mount_id\": \"content-main\"},\n    wrap=True,\n    align_center=True,\n    children=[v.Flex(xs12=True, lg6=True, xl4=True, children=[m]), \n             v.Card]\n)\n\nv.Layout(pa_4=True, \n         _metadata={'mount_id': 'content-nav'}, \n         column=True, children=[\"25 Days of serverless\"]);"
    },
    "executionTime": "2019-12-16T17:35:14.876Z"
   },
   {
    "cell": {
     "executionCount": 43,
     "executionEventId": "7abcd49c-436e-4f9b-a8e0-8247869606f3",
     "hasError": false,
     "id": "759ec975-26d7-48d1-8c69-87c6af411b0a",
     "outputs": [],
     "persistentId": "63c8aeab-0a61-499c-9835-229ef5ce8b54",
     "text": "\nv.Layout(\n    row=True,\n    _metadata={\"mount_id\": \"content-main\"},\n    wrap=True,\n    align_center=True,\n    children=[v.Flex(xs12=True, lg6=True, xl4=True, children=[m])]\n)\n\nv.Layout(pa_4=True, \n         _metadata={'mount_id': 'content-nav'}, \n         column=True, children=[\"25 Days of serverless\"]);"
    },
    "executionTime": "2019-12-16T17:35:23.869Z"
   },
   {
    "cell": {
     "executionCount": 44,
     "executionEventId": "fd463ec7-b585-49d4-90da-767f95308498",
     "hasError": false,
     "id": "759ec975-26d7-48d1-8c69-87c6af411b0a",
     "outputs": [
      {
       "data": {
        "application/vnd.jupyter.widget-view+json": {
         "model_id": "e54e2135ccf241dca6ec957741bad38d",
         "version_major": 2,
         "version_minor": 0
        },
        "text/plain": "Banner(children=['Click on the pinatas to see the location and date details'], single_line=True, v_slots=[{'na…"
       },
       "metadata": {},
       "output_type": "display_data"
      }
     ],
     "persistentId": "63c8aeab-0a61-499c-9835-229ef5ce8b54",
     "text": "\nv.Layout(\n    row=True,\n    _metadata={\"mount_id\": \"content-main\"},\n    wrap=True,\n    align_center=True,\n    children=[v.Flex(xs12=True, lg6=True, xl4=True, children=[m])]\n)\n\nv.Layout(pa_4=True, \n         _metadata={'mount_id': 'content-nav'}, \n         column=True, children=[\"25 Days of serverless\"]);\n\nv.Banner(single_line=True,\n    v_slots=[{\n        'name': 'icon',\n        'children': v.Icon(children=['thumb_up'])\n    }, {\n        'name': 'actions',\n        'children': v.Btn(text=True, color='deep-purple accent-4', children=['Action'])\n    }], \n    children=['Click on the pinatas to see the location and date details'])"
    },
    "executionTime": "2019-12-16T17:36:43.927Z"
   },
   {
    "cell": {
     "executionCount": 45,
     "executionEventId": "35e8e530-e420-41cf-80f2-ce170804bba6",
     "hasError": false,
     "id": "759ec975-26d7-48d1-8c69-87c6af411b0a",
     "outputs": [
      {
       "data": {
        "application/vnd.jupyter.widget-view+json": {
         "model_id": "8dd86cc8ba094e55b5ab7a7c03a16ce6",
         "version_major": 2,
         "version_minor": 0
        },
        "text/plain": "Layout(children=['25 Days of serverless'], column=True, pa_4=True)"
       },
       "metadata": {},
       "output_type": "display_data"
      }
     ],
     "persistentId": "63c8aeab-0a61-499c-9835-229ef5ce8b54",
     "text": "v.Layout(\n    row=True,\n    _metadata={\"mount_id\": \"content-main\"},\n    wrap=True,\n    align_center=True,\n    children=[\n        v.Flex(xs12=True, lg6=True, xl4=True, children=[m]),\n        v.Banner(\n            single_line=True,\n            v_slots=[\n                {\"name\": \"icon\", \"children\": v.Icon(children=[\"thumb_up\"])},\n                {\n                    \"name\": \"actions\",\n                    \"children\": v.Btn(\n                        text=True, color=\"deep-purple accent-4\", children=[\"Action\"]\n                    ),\n                },\n            ],\n            children=[\"Click on the pinatas to see the location and date details\"],\n        ),\n    ],\n)\n\nv.Layout(\n    pa_4=True,\n    _metadata={\"mount_id\": \"content-nav\"},\n    column=True,\n    children=[\"25 Days of serverless\"],\n)\n\n"
    },
    "executionTime": "2019-12-16T17:38:12.486Z"
   },
   {
    "cell": {
     "executionCount": 46,
     "executionEventId": "a1efc6e0-b758-454b-9eb9-d9dffc8f3edd",
     "hasError": false,
     "id": "759ec975-26d7-48d1-8c69-87c6af411b0a",
     "outputs": [
      {
       "data": {
        "text/plain": "\u001b[0;31mInit signature:\u001b[0m \u001b[0mv\u001b[0m\u001b[0;34m.\u001b[0m\u001b[0mLayout\u001b[0m\u001b[0;34m(\u001b[0m\u001b[0;34m*\u001b[0m\u001b[0margs\u001b[0m\u001b[0;34m,\u001b[0m \u001b[0;34m**\u001b[0m\u001b[0mkwargs\u001b[0m\u001b[0;34m)\u001b[0m\u001b[0;34m\u001b[0m\u001b[0;34m\u001b[0m\u001b[0m\n\u001b[0;31mDocstring:\u001b[0m      Widget that can be inserted into the DOM\n\u001b[0;31mInit docstring:\u001b[0m Public constructor\n\u001b[0;31mFile:\u001b[0m           /anaconda3/lib/python3.7/site-packages/ipyvuetify/generated/Layout.py\n\u001b[0;31mType:\u001b[0m           MetaHasTraits\n\u001b[0;31mSubclasses:\u001b[0m     \n"
       },
       "metadata": {},
       "output_type": "display_data"
      }
     ],
     "persistentId": "63c8aeab-0a61-499c-9835-229ef5ce8b54",
     "text": "v.Layout(\n    row=True,\n    _metadata={\"mount_id\": \"content-main\"},\n    wrap=True,\n    align_center=True,\n    children=[\n        v.Flex(xs12=True, lg6=True, xl4=True, children=[m]),\n        v.Banner(\n            single_line=True,\n            v_slots=[\n                {\"name\": \"icon\", \"children\": v.Icon(color=\"deep-purple accent-4\", children=[\"room\"])},\n            ],\n            children=[\"Click on the pinatas to see the location and date details\"],\n        ),\n    ],\n)\n\nv.Layout(\n    pa_4=True,\n    _metadata={\"mount_id\": \"content-nav\"},\n    column=True,\n    children=[],\n)\n\nv.Layout?"
    },
    "executionTime": "2019-12-16T17:42:39.545Z"
   },
   {
    "cell": {
     "executionCount": 47,
     "executionEventId": "490a4ad4-f015-40f7-91cb-f8b3f6a10e90",
     "hasError": false,
     "id": "550b7556-fc90-4986-bf1a-5e0a24456646",
     "outputs": [],
     "persistentId": "1d60603d-be35-4d7c-9d4c-7e6f00d6aa8f",
     "text": "import ipyvuetify as v\nfrom ipywidgets import IntSlider, jslink, widgets\nfrom ipyleaflet import Map, Marker, Popup, WidgetControl, Icon, basemaps\nimport json\nfrom pathlib import Path"
    },
    "executionTime": "2019-12-16T18:45:47.791Z"
   },
   {
    "cell": {
     "executionCount": 48,
     "executionEventId": "c305c9f1-3981-4e95-8c34-ea9bd190cfee",
     "hasError": false,
     "id": "2292d473-9384-454c-b943-dcae23f45d62",
     "outputs": [],
     "persistentId": "6daf55d1-9460-48dc-b7a5-7054109241eb",
     "text": "def get_locations():\n    loc_path = Path(\"./data/locations.json\")\n    with open(loc_path, 'r') as json_file:\n        locations = json.load(json_file)\n    return locations.get(\"locations\")"
    },
    "executionTime": "2019-12-16T18:45:48.399Z"
   },
   {
    "cell": {
     "executionCount": 49,
     "executionEventId": "6ad41db4-ef62-41f7-afd6-842475630563",
     "hasError": false,
     "id": "8b271695-4ed2-42c7-965d-17bbc383ed6d",
     "outputs": [],
     "persistentId": "99c047a3-6c9f-4608-a9ab-6e03c2dee00c",
     "text": "locations = get_locations()"
    },
    "executionTime": "2019-12-16T18:45:48.564Z"
   },
   {
    "cell": {
     "executionCount": 50,
     "executionEventId": "e8a1ba1d-93e1-4048-8fe7-f7c292a98839",
     "hasError": false,
     "id": "fae77b10-356f-4f4a-ad97-b7e7a556d0fd",
     "outputs": [],
     "persistentId": "229dfb64-a734-43ee-95cb-f7abe0a2e484",
     "text": "def create_map():\n    center = (19.3952, -99.1412)\n    m = Map(center=center,\n                  zoom=11, dragging=True,\n                  touch_zoom=True,\n                  basemap=basemaps.CartoDB.DarkMatter)\n    get_markers(m)\n    return m\n    \n    \ndef get_markers(m):\n    icon = Icon(icon_url='https://image.flaticon.com/icons/png/512/762/762053.png',\n               icon_size=[30,30])\n    for place in locations:\n        coord = (place['location']['lon'], -place['location']['lat'])\n        marker = Marker(location=coord, draggable=False,\n                        icon=icon)\n        message = widgets.HTML()\n        message.value = f\"Host: {place.get('host')} <br> Place: {place['name']} <br> Date: December {place['day']}\"\n        marker.popup = message\n        m.add_layer(marker);\n\n        \nm = create_map()"
    },
    "executionTime": "2019-12-16T18:45:48.794Z"
   },
   {
    "cell": {
     "executionCount": 51,
     "executionEventId": "2dbf87d2-cd54-473f-a00d-a76dafdcc4da",
     "hasError": true,
     "id": "cace3427-4a4b-445f-a184-959c49ea43b4",
     "outputs": [
      {
       "ename": "AttributeError",
       "evalue": "module 'ipyvuetify' has no attribute 'content'",
       "output_type": "error",
       "traceback": [
        "\u001b[0;31m---------------------------------------------------------------------------\u001b[0m",
        "\u001b[0;31mAttributeError\u001b[0m                            Traceback (most recent call last)",
        "\u001b[0;32m<ipython-input-51-fa2200163118>\u001b[0m in \u001b[0;36m<module>\u001b[0;34m\u001b[0m\n\u001b[1;32m      1\u001b[0m v.App(\n\u001b[0;32m----> 2\u001b[0;31m     v.content(\n\u001b[0m\u001b[1;32m      3\u001b[0m     \u001b[0mrow\u001b[0m\u001b[0;34m=\u001b[0m\u001b[0;32mTrue\u001b[0m\u001b[0;34m,\u001b[0m\u001b[0;34m\u001b[0m\u001b[0;34m\u001b[0m\u001b[0m\n\u001b[1;32m      4\u001b[0m     _metadata={\n\u001b[1;32m      5\u001b[0m     \u001b[0;34m\"mount_id\"\u001b[0m\u001b[0;34m:\u001b[0m \u001b[0;34m\"content-main\"\u001b[0m\u001b[0;34m\u001b[0m\u001b[0;34m\u001b[0m\u001b[0m\n",
        "\u001b[0;31mAttributeError\u001b[0m: module 'ipyvuetify' has no attribute 'content'"
       ]
      }
     ],
     "persistentId": "63c8aeab-0a61-499c-9835-229ef5ce8b54",
     "text": "v.App(\n    v.content(\n    row=True,\n    _metadata={\n    \"mount_id\": \"content-main\"\n},\n    wrap=True,\n    align_center=True,\n    children=[\n        v.Flex(xs12=True, lg6=True, xl4=True, children=[m\n    ]),\n        v.Banner(\n            single_line=True,\n            v_slots=[\n        {\n            \"name\": \"icon\",\n            \"children\": v.Icon(color=\"deep-purple accent-4\", children=[\n                \"room\"\n            ])\n        },\n    ],\n            children=[\n        \"Click on the pinatas to see the location and date details\"\n    ],\n        ),\n],\n)\n)\n"
    },
    "executionTime": "2019-12-16T18:45:49.013Z"
   },
   {
    "cell": {
     "executionCount": 52,
     "executionEventId": "83629737-32c1-4c20-80a2-f56ff06d5991",
     "hasError": true,
     "id": "cace3427-4a4b-445f-a184-959c49ea43b4",
     "outputs": [
      {
       "ename": "AttributeError",
       "evalue": "module 'ipyvuetify' has no attribute 'layout'",
       "output_type": "error",
       "traceback": [
        "\u001b[0;31m---------------------------------------------------------------------------\u001b[0m",
        "\u001b[0;31mAttributeError\u001b[0m                            Traceback (most recent call last)",
        "\u001b[0;32m<ipython-input-52-343f9ea1a368>\u001b[0m in \u001b[0;36m<module>\u001b[0;34m\u001b[0m\n\u001b[1;32m      1\u001b[0m v.App(\n\u001b[0;32m----> 2\u001b[0;31m     v.layout(\n\u001b[0m\u001b[1;32m      3\u001b[0m     \u001b[0mrow\u001b[0m\u001b[0;34m=\u001b[0m\u001b[0;32mTrue\u001b[0m\u001b[0;34m,\u001b[0m\u001b[0;34m\u001b[0m\u001b[0;34m\u001b[0m\u001b[0m\n\u001b[1;32m      4\u001b[0m     _metadata={\n\u001b[1;32m      5\u001b[0m     \u001b[0;34m\"mount_id\"\u001b[0m\u001b[0;34m:\u001b[0m \u001b[0;34m\"content-main\"\u001b[0m\u001b[0;34m\u001b[0m\u001b[0;34m\u001b[0m\u001b[0m\n",
        "\u001b[0;31mAttributeError\u001b[0m: module 'ipyvuetify' has no attribute 'layout'"
       ]
      }
     ],
     "persistentId": "63c8aeab-0a61-499c-9835-229ef5ce8b54",
     "text": "v.App(\n    v.layout(\n    row=True,\n    _metadata={\n    \"mount_id\": \"content-main\"\n},\n    wrap=True,\n    align_center=True,\n    children=[\n        v.Flex(xs12=True, lg6=True, xl4=True, children=[m\n    ]),\n        v.Banner(\n            single_line=True,\n            v_slots=[\n        {\n            \"name\": \"icon\",\n            \"children\": v.Icon(color=\"deep-purple accent-4\", children=[\n                \"room\"\n            ])\n        },\n    ],\n            children=[\n        \"Click on the pinatas to see the location and date details\"\n    ],\n        ),\n],\n)\n)\n"
    },
    "executionTime": "2019-12-16T18:45:56.661Z"
   },
   {
    "cell": {
     "executionCount": 53,
     "executionEventId": "eb098606-1d6d-47ee-9ce6-65433c6b817f",
     "hasError": true,
     "id": "cace3427-4a4b-445f-a184-959c49ea43b4",
     "outputs": [
      {
       "ename": "TypeError",
       "evalue": "__init__() takes 1 positional argument but 2 were given",
       "output_type": "error",
       "traceback": [
        "\u001b[0;31m---------------------------------------------------------------------------\u001b[0m",
        "\u001b[0;31mTypeError\u001b[0m                                 Traceback (most recent call last)",
        "\u001b[0;32m<ipython-input-53-7ecc1bcf4c43>\u001b[0m in \u001b[0;36m<module>\u001b[0;34m\u001b[0m\n\u001b[1;32m     21\u001b[0m     ],\n\u001b[1;32m     22\u001b[0m             children=[\n\u001b[0;32m---> 23\u001b[0;31m         \u001b[0;34m\"Click on the pinatas to see the location and date details\"\u001b[0m\u001b[0;34m\u001b[0m\u001b[0;34m\u001b[0m\u001b[0m\n\u001b[0m\u001b[1;32m     24\u001b[0m     ],\n\u001b[1;32m     25\u001b[0m         ),\n",
        "\u001b[0;31mTypeError\u001b[0m: __init__() takes 1 positional argument but 2 were given"
       ]
      }
     ],
     "persistentId": "63c8aeab-0a61-499c-9835-229ef5ce8b54",
     "text": "v.App(\n    v.Layout(\n    row=True,\n    _metadata={\n    \"mount_id\": \"content-main\"\n},\n    wrap=True,\n    align_center=True,\n    children=[\n        v.Flex(xs12=True, lg6=True, xl4=True, children=[m\n    ]),\n        v.Banner(\n            single_line=True,\n            v_slots=[\n        {\n            \"name\": \"icon\",\n            \"children\": v.Icon(color=\"deep-purple accent-4\", children=[\n                \"room\"\n            ])\n        },\n    ],\n            children=[\n        \"Click on the pinatas to see the location and date details\"\n    ],\n        ),\n],\n)\n)\n"
    },
    "executionTime": "2019-12-16T18:46:01.299Z"
   },
   {
    "cell": {
     "executionCount": 54,
     "executionEventId": "ae0ced1e-48dc-444e-b74f-4dae5f080994",
     "hasError": true,
     "id": "cace3427-4a4b-445f-a184-959c49ea43b4",
     "outputs": [
      {
       "ename": "TypeError",
       "evalue": "__init__() takes 1 positional argument but 2 were given",
       "output_type": "error",
       "traceback": [
        "\u001b[0;31m---------------------------------------------------------------------------\u001b[0m",
        "\u001b[0;31mTypeError\u001b[0m                                 Traceback (most recent call last)",
        "\u001b[0;32m<ipython-input-54-7ecc1bcf4c43>\u001b[0m in \u001b[0;36m<module>\u001b[0;34m\u001b[0m\n\u001b[1;32m     21\u001b[0m     ],\n\u001b[1;32m     22\u001b[0m             children=[\n\u001b[0;32m---> 23\u001b[0;31m         \u001b[0;34m\"Click on the pinatas to see the location and date details\"\u001b[0m\u001b[0;34m\u001b[0m\u001b[0;34m\u001b[0m\u001b[0m\n\u001b[0m\u001b[1;32m     24\u001b[0m     ],\n\u001b[1;32m     25\u001b[0m         ),\n",
        "\u001b[0;31mTypeError\u001b[0m: __init__() takes 1 positional argument but 2 were given"
       ]
      }
     ],
     "persistentId": "63c8aeab-0a61-499c-9835-229ef5ce8b54",
     "text": "\nv.App(\n    v.Layout(\n    row=True,\n    _metadata={\n    \"mount_id\": \"content-main\"\n},\n    wrap=True,\n    align_center=True,\n    children=[\n        v.Flex(xs12=True, lg6=True, xl4=True, children=[m\n    ]),\n        v.Banner(\n            single_line=True,\n            v_slots=[\n        {\n            \"name\": \"icon\",\n            \"children\": v.Icon(color=\"deep-purple accent-4\", children=[\n                \"room\"\n            ])\n        },\n    ],\n            children=[\n        \"Click on the pinatas to see the location and date details\"\n    ],\n        ),\n],\n)\n)\n"
    },
    "executionTime": "2019-12-16T18:46:23.337Z"
   },
   {
    "cell": {
     "executionCount": 55,
     "executionEventId": "2b1d8a89-23c7-4569-84ce-a1006048f6de",
     "hasError": true,
     "id": "cace3427-4a4b-445f-a184-959c49ea43b4",
     "outputs": [
      {
       "ename": "AttributeError",
       "evalue": "module 'ipyvuetify' has no attribute 'content'",
       "output_type": "error",
       "traceback": [
        "\u001b[0;31m---------------------------------------------------------------------------\u001b[0m",
        "\u001b[0;31mAttributeError\u001b[0m                            Traceback (most recent call last)",
        "\u001b[0;32m<ipython-input-55-fa2200163118>\u001b[0m in \u001b[0;36m<module>\u001b[0;34m\u001b[0m\n\u001b[1;32m      1\u001b[0m v.App(\n\u001b[0;32m----> 2\u001b[0;31m     v.content(\n\u001b[0m\u001b[1;32m      3\u001b[0m     \u001b[0mrow\u001b[0m\u001b[0;34m=\u001b[0m\u001b[0;32mTrue\u001b[0m\u001b[0;34m,\u001b[0m\u001b[0;34m\u001b[0m\u001b[0;34m\u001b[0m\u001b[0m\n\u001b[1;32m      4\u001b[0m     _metadata={\n\u001b[1;32m      5\u001b[0m     \u001b[0;34m\"mount_id\"\u001b[0m\u001b[0;34m:\u001b[0m \u001b[0;34m\"content-main\"\u001b[0m\u001b[0;34m\u001b[0m\u001b[0;34m\u001b[0m\u001b[0m\n",
        "\u001b[0;31mAttributeError\u001b[0m: module 'ipyvuetify' has no attribute 'content'"
       ]
      }
     ],
     "persistentId": "63c8aeab-0a61-499c-9835-229ef5ce8b54",
     "text": "v.App(\n    v.content(\n    row=True,\n    _metadata={\n    \"mount_id\": \"content-main\"\n},\n    wrap=True,\n    align_center=True,\n    children=[\n        v.Flex(xs12=True, lg6=True, xl4=True, children=[m\n    ]),\n        v.Banner(\n            single_line=True,\n            v_slots=[\n        {\n            \"name\": \"icon\",\n            \"children\": v.Icon(color=\"deep-purple accent-4\", children=[\n                \"room\"\n            ])\n        },\n    ],\n            children=[\n        \"Click on the pinatas to see the location and date details\"\n    ],\n        ),\n],\n)\n)\n"
    },
    "executionTime": "2019-12-16T18:46:45.105Z"
   },
   {
    "cell": {
     "executionCount": 56,
     "executionEventId": "50a959bd-68c3-4c68-930d-9f89e4ed2756",
     "hasError": true,
     "id": "cace3427-4a4b-445f-a184-959c49ea43b4",
     "outputs": [
      {
       "ename": "TraitError",
       "evalue": "Element of the 'children' trait of a Layout instance must be a DOMWidget or a unicode string, but a value of <class 'ipyvuetify.generated.App.App'> <class 'traitlets.traitlets.MetaHasTraits'> was specified.",
       "output_type": "error",
       "traceback": [
        "\u001b[0;31m---------------------------------------------------------------------------\u001b[0m",
        "\u001b[0;31mTraitError\u001b[0m                                Traceback (most recent call last)",
        "\u001b[0;32m/anaconda3/lib/python3.7/site-packages/traitlets/traitlets.py\u001b[0m in \u001b[0;36mvalidate_elements\u001b[0;34m(self, obj, value)\u001b[0m\n\u001b[1;32m   2251\u001b[0m             \u001b[0;32mtry\u001b[0m\u001b[0;34m:\u001b[0m\u001b[0;34m\u001b[0m\u001b[0;34m\u001b[0m\u001b[0m\n\u001b[0;32m-> 2252\u001b[0;31m                 \u001b[0mv\u001b[0m \u001b[0;34m=\u001b[0m \u001b[0mself\u001b[0m\u001b[0;34m.\u001b[0m\u001b[0m_trait\u001b[0m\u001b[0;34m.\u001b[0m\u001b[0m_validate\u001b[0m\u001b[0;34m(\u001b[0m\u001b[0mobj\u001b[0m\u001b[0;34m,\u001b[0m \u001b[0mv\u001b[0m\u001b[0;34m)\u001b[0m\u001b[0;34m\u001b[0m\u001b[0;34m\u001b[0m\u001b[0m\n\u001b[0m\u001b[1;32m   2253\u001b[0m             \u001b[0;32mexcept\u001b[0m \u001b[0mTraitError\u001b[0m\u001b[0;34m:\u001b[0m\u001b[0;34m\u001b[0m\u001b[0;34m\u001b[0m\u001b[0m\n",
        "\u001b[0;32m/anaconda3/lib/python3.7/site-packages/traitlets/traitlets.py\u001b[0m in \u001b[0;36m_validate\u001b[0;34m(self, obj, value)\u001b[0m\n\u001b[1;32m    590\u001b[0m         \u001b[0;32mif\u001b[0m \u001b[0mhasattr\u001b[0m\u001b[0;34m(\u001b[0m\u001b[0mself\u001b[0m\u001b[0;34m,\u001b[0m \u001b[0;34m'validate'\u001b[0m\u001b[0;34m)\u001b[0m\u001b[0;34m:\u001b[0m\u001b[0;34m\u001b[0m\u001b[0;34m\u001b[0m\u001b[0m\n\u001b[0;32m--> 591\u001b[0;31m             \u001b[0mvalue\u001b[0m \u001b[0;34m=\u001b[0m \u001b[0mself\u001b[0m\u001b[0;34m.\u001b[0m\u001b[0mvalidate\u001b[0m\u001b[0;34m(\u001b[0m\u001b[0mobj\u001b[0m\u001b[0;34m,\u001b[0m \u001b[0mvalue\u001b[0m\u001b[0;34m)\u001b[0m\u001b[0;34m\u001b[0m\u001b[0;34m\u001b[0m\u001b[0m\n\u001b[0m\u001b[1;32m    592\u001b[0m         \u001b[0;32mif\u001b[0m \u001b[0mobj\u001b[0m\u001b[0;34m.\u001b[0m\u001b[0m_cross_validation_lock\u001b[0m \u001b[0;32mis\u001b[0m \u001b[0;32mFalse\u001b[0m\u001b[0;34m:\u001b[0m\u001b[0;34m\u001b[0m\u001b[0;34m\u001b[0m\u001b[0m\n",
        "\u001b[0;32m/anaconda3/lib/python3.7/site-packages/traitlets/traitlets.py\u001b[0m in \u001b[0;36mvalidate\u001b[0;34m(self, obj, value)\u001b[0m\n\u001b[1;32m   1802\u001b[0m                     \u001b[0;32mcontinue\u001b[0m\u001b[0;34m\u001b[0m\u001b[0;34m\u001b[0m\u001b[0m\n\u001b[0;32m-> 1803\u001b[0;31m         \u001b[0mself\u001b[0m\u001b[0;34m.\u001b[0m\u001b[0merror\u001b[0m\u001b[0;34m(\u001b[0m\u001b[0mobj\u001b[0m\u001b[0;34m,\u001b[0m \u001b[0mvalue\u001b[0m\u001b[0;34m)\u001b[0m\u001b[0;34m\u001b[0m\u001b[0;34m\u001b[0m\u001b[0m\n\u001b[0m\u001b[1;32m   1804\u001b[0m \u001b[0;34m\u001b[0m\u001b[0m\n",
        "\u001b[0;32m/anaconda3/lib/python3.7/site-packages/traitlets/traitlets.py\u001b[0m in \u001b[0;36merror\u001b[0;34m(self, obj, value)\u001b[0m\n\u001b[1;32m    624\u001b[0m                 \u001b[0;34m%\u001b[0m \u001b[0;34m(\u001b[0m\u001b[0mself\u001b[0m\u001b[0;34m.\u001b[0m\u001b[0mname\u001b[0m\u001b[0;34m,\u001b[0m \u001b[0mself\u001b[0m\u001b[0;34m.\u001b[0m\u001b[0minfo\u001b[0m\u001b[0;34m(\u001b[0m\u001b[0;34m)\u001b[0m\u001b[0;34m,\u001b[0m \u001b[0mrepr_type\u001b[0m\u001b[0;34m(\u001b[0m\u001b[0mvalue\u001b[0m\u001b[0;34m)\u001b[0m\u001b[0;34m)\u001b[0m\u001b[0;34m\u001b[0m\u001b[0;34m\u001b[0m\u001b[0m\n\u001b[0;32m--> 625\u001b[0;31m         \u001b[0;32mraise\u001b[0m \u001b[0mTraitError\u001b[0m\u001b[0;34m(\u001b[0m\u001b[0me\u001b[0m\u001b[0;34m)\u001b[0m\u001b[0;34m\u001b[0m\u001b[0;34m\u001b[0m\u001b[0m\n\u001b[0m\u001b[1;32m    626\u001b[0m \u001b[0;34m\u001b[0m\u001b[0m\n",
        "\u001b[0;31mTraitError\u001b[0m: The 'None' trait of a Layout instance must be a DOMWidget or a unicode string, but a value of <class 'ipyvuetify.generated.App.App'> <class 'traitlets.traitlets.MetaHasTraits'> was specified.",
        "\nDuring handling of the above exception, another exception occurred:\n",
        "\u001b[0;31mTraitError\u001b[0m                                Traceback (most recent call last)",
        "\u001b[0;32m<ipython-input-56-503f25c29784>\u001b[0m in \u001b[0;36m<module>\u001b[0;34m\u001b[0m\n\u001b[1;32m     18\u001b[0m v.Layout(\n\u001b[1;32m     19\u001b[0m    \u001b[0mrow\u001b[0m\u001b[0;34m=\u001b[0m\u001b[0;32mTrue\u001b[0m\u001b[0;34m,\u001b[0m\u001b[0;34m\u001b[0m\u001b[0;34m\u001b[0m\u001b[0m\n\u001b[0;32m---> 20\u001b[0;31m     \u001b[0mchildren\u001b[0m\u001b[0;34m=\u001b[0m\u001b[0;34m[\u001b[0m\u001b[0mv\u001b[0m\u001b[0;34m.\u001b[0m\u001b[0mApp\u001b[0m\u001b[0;34m]\u001b[0m\u001b[0;34m\u001b[0m\u001b[0;34m\u001b[0m\u001b[0m\n\u001b[0m\u001b[1;32m     21\u001b[0m )\n",
        "\u001b[0;32m/anaconda3/lib/python3.7/site-packages/ipywidgets/widgets/widget.py\u001b[0m in \u001b[0;36m__init__\u001b[0;34m(self, **kwargs)\u001b[0m\n\u001b[1;32m    410\u001b[0m         \u001b[0;34m\"\"\"Public constructor\"\"\"\u001b[0m\u001b[0;34m\u001b[0m\u001b[0;34m\u001b[0m\u001b[0m\n\u001b[1;32m    411\u001b[0m         \u001b[0mself\u001b[0m\u001b[0;34m.\u001b[0m\u001b[0m_model_id\u001b[0m \u001b[0;34m=\u001b[0m \u001b[0mkwargs\u001b[0m\u001b[0;34m.\u001b[0m\u001b[0mpop\u001b[0m\u001b[0;34m(\u001b[0m\u001b[0;34m'model_id'\u001b[0m\u001b[0;34m,\u001b[0m \u001b[0;32mNone\u001b[0m\u001b[0;34m)\u001b[0m\u001b[0;34m\u001b[0m\u001b[0;34m\u001b[0m\u001b[0m\n\u001b[0;32m--> 412\u001b[0;31m         \u001b[0msuper\u001b[0m\u001b[0;34m(\u001b[0m\u001b[0mWidget\u001b[0m\u001b[0;34m,\u001b[0m \u001b[0mself\u001b[0m\u001b[0;34m)\u001b[0m\u001b[0;34m.\u001b[0m\u001b[0m__init__\u001b[0m\u001b[0;34m(\u001b[0m\u001b[0;34m**\u001b[0m\u001b[0mkwargs\u001b[0m\u001b[0;34m)\u001b[0m\u001b[0;34m\u001b[0m\u001b[0;34m\u001b[0m\u001b[0m\n\u001b[0m\u001b[1;32m    413\u001b[0m \u001b[0;34m\u001b[0m\u001b[0m\n\u001b[1;32m    414\u001b[0m         \u001b[0mWidget\u001b[0m\u001b[0;34m.\u001b[0m\u001b[0m_call_widget_constructed\u001b[0m\u001b[0;34m(\u001b[0m\u001b[0mself\u001b[0m\u001b[0;34m)\u001b[0m\u001b[0;34m\u001b[0m\u001b[0;34m\u001b[0m\u001b[0m\n",
        "\u001b[0;32m/anaconda3/lib/python3.7/site-packages/traitlets/traitlets.py\u001b[0m in \u001b[0;36m__init__\u001b[0;34m(self, *args, **kwargs)\u001b[0m\n\u001b[1;32m    995\u001b[0m             \u001b[0;32mfor\u001b[0m \u001b[0mkey\u001b[0m\u001b[0;34m,\u001b[0m \u001b[0mvalue\u001b[0m \u001b[0;32min\u001b[0m \u001b[0mkwargs\u001b[0m\u001b[0;34m.\u001b[0m\u001b[0mitems\u001b[0m\u001b[0;34m(\u001b[0m\u001b[0;34m)\u001b[0m\u001b[0;34m:\u001b[0m\u001b[0;34m\u001b[0m\u001b[0;34m\u001b[0m\u001b[0m\n\u001b[1;32m    996\u001b[0m                 \u001b[0;32mif\u001b[0m \u001b[0mself\u001b[0m\u001b[0;34m.\u001b[0m\u001b[0mhas_trait\u001b[0m\u001b[0;34m(\u001b[0m\u001b[0mkey\u001b[0m\u001b[0;34m)\u001b[0m\u001b[0;34m:\u001b[0m\u001b[0;34m\u001b[0m\u001b[0;34m\u001b[0m\u001b[0m\n\u001b[0;32m--> 997\u001b[0;31m                     \u001b[0msetattr\u001b[0m\u001b[0;34m(\u001b[0m\u001b[0mself\u001b[0m\u001b[0;34m,\u001b[0m \u001b[0mkey\u001b[0m\u001b[0;34m,\u001b[0m \u001b[0mvalue\u001b[0m\u001b[0;34m)\u001b[0m\u001b[0;34m\u001b[0m\u001b[0;34m\u001b[0m\u001b[0m\n\u001b[0m\u001b[1;32m    998\u001b[0m                 \u001b[0;32melse\u001b[0m\u001b[0;34m:\u001b[0m\u001b[0;34m\u001b[0m\u001b[0;34m\u001b[0m\u001b[0m\n\u001b[1;32m    999\u001b[0m                     \u001b[0;31m# passthrough args that don't set traits to super\u001b[0m\u001b[0;34m\u001b[0m\u001b[0;34m\u001b[0m\u001b[0;34m\u001b[0m\u001b[0m\n",
        "\u001b[0;32m/anaconda3/lib/python3.7/site-packages/traitlets/traitlets.py\u001b[0m in \u001b[0;36m__set__\u001b[0;34m(self, obj, value)\u001b[0m\n\u001b[1;32m    583\u001b[0m             \u001b[0;32mraise\u001b[0m \u001b[0mTraitError\u001b[0m\u001b[0;34m(\u001b[0m\u001b[0;34m'The \"%s\" trait is read-only.'\u001b[0m \u001b[0;34m%\u001b[0m \u001b[0mself\u001b[0m\u001b[0;34m.\u001b[0m\u001b[0mname\u001b[0m\u001b[0;34m)\u001b[0m\u001b[0;34m\u001b[0m\u001b[0;34m\u001b[0m\u001b[0m\n\u001b[1;32m    584\u001b[0m         \u001b[0;32melse\u001b[0m\u001b[0;34m:\u001b[0m\u001b[0;34m\u001b[0m\u001b[0;34m\u001b[0m\u001b[0m\n\u001b[0;32m--> 585\u001b[0;31m             \u001b[0mself\u001b[0m\u001b[0;34m.\u001b[0m\u001b[0mset\u001b[0m\u001b[0;34m(\u001b[0m\u001b[0mobj\u001b[0m\u001b[0;34m,\u001b[0m \u001b[0mvalue\u001b[0m\u001b[0;34m)\u001b[0m\u001b[0;34m\u001b[0m\u001b[0;34m\u001b[0m\u001b[0m\n\u001b[0m\u001b[1;32m    586\u001b[0m \u001b[0;34m\u001b[0m\u001b[0m\n\u001b[1;32m    587\u001b[0m     \u001b[0;32mdef\u001b[0m \u001b[0m_validate\u001b[0m\u001b[0;34m(\u001b[0m\u001b[0mself\u001b[0m\u001b[0;34m,\u001b[0m \u001b[0mobj\u001b[0m\u001b[0;34m,\u001b[0m \u001b[0mvalue\u001b[0m\u001b[0;34m)\u001b[0m\u001b[0;34m:\u001b[0m\u001b[0;34m\u001b[0m\u001b[0;34m\u001b[0m\u001b[0m\n",
        "\u001b[0;32m/anaconda3/lib/python3.7/site-packages/traitlets/traitlets.py\u001b[0m in \u001b[0;36mset\u001b[0;34m(self, obj, value)\u001b[0m\n\u001b[1;32m    557\u001b[0m \u001b[0;34m\u001b[0m\u001b[0m\n\u001b[1;32m    558\u001b[0m     \u001b[0;32mdef\u001b[0m \u001b[0mset\u001b[0m\u001b[0;34m(\u001b[0m\u001b[0mself\u001b[0m\u001b[0;34m,\u001b[0m \u001b[0mobj\u001b[0m\u001b[0;34m,\u001b[0m \u001b[0mvalue\u001b[0m\u001b[0;34m)\u001b[0m\u001b[0;34m:\u001b[0m\u001b[0;34m\u001b[0m\u001b[0;34m\u001b[0m\u001b[0m\n\u001b[0;32m--> 559\u001b[0;31m         \u001b[0mnew_value\u001b[0m \u001b[0;34m=\u001b[0m \u001b[0mself\u001b[0m\u001b[0;34m.\u001b[0m\u001b[0m_validate\u001b[0m\u001b[0;34m(\u001b[0m\u001b[0mobj\u001b[0m\u001b[0;34m,\u001b[0m \u001b[0mvalue\u001b[0m\u001b[0;34m)\u001b[0m\u001b[0;34m\u001b[0m\u001b[0;34m\u001b[0m\u001b[0m\n\u001b[0m\u001b[1;32m    560\u001b[0m         \u001b[0;32mtry\u001b[0m\u001b[0;34m:\u001b[0m\u001b[0;34m\u001b[0m\u001b[0;34m\u001b[0m\u001b[0m\n\u001b[1;32m    561\u001b[0m             \u001b[0mold_value\u001b[0m \u001b[0;34m=\u001b[0m \u001b[0mobj\u001b[0m\u001b[0;34m.\u001b[0m\u001b[0m_trait_values\u001b[0m\u001b[0;34m[\u001b[0m\u001b[0mself\u001b[0m\u001b[0;34m.\u001b[0m\u001b[0mname\u001b[0m\u001b[0;34m]\u001b[0m\u001b[0;34m\u001b[0m\u001b[0;34m\u001b[0m\u001b[0m\n",
        "\u001b[0;32m/anaconda3/lib/python3.7/site-packages/traitlets/traitlets.py\u001b[0m in \u001b[0;36m_validate\u001b[0;34m(self, obj, value)\u001b[0m\n\u001b[1;32m    589\u001b[0m             \u001b[0;32mreturn\u001b[0m \u001b[0mvalue\u001b[0m\u001b[0;34m\u001b[0m\u001b[0;34m\u001b[0m\u001b[0m\n\u001b[1;32m    590\u001b[0m         \u001b[0;32mif\u001b[0m \u001b[0mhasattr\u001b[0m\u001b[0;34m(\u001b[0m\u001b[0mself\u001b[0m\u001b[0;34m,\u001b[0m \u001b[0;34m'validate'\u001b[0m\u001b[0;34m)\u001b[0m\u001b[0;34m:\u001b[0m\u001b[0;34m\u001b[0m\u001b[0;34m\u001b[0m\u001b[0m\n\u001b[0;32m--> 591\u001b[0;31m             \u001b[0mvalue\u001b[0m \u001b[0;34m=\u001b[0m \u001b[0mself\u001b[0m\u001b[0;34m.\u001b[0m\u001b[0mvalidate\u001b[0m\u001b[0;34m(\u001b[0m\u001b[0mobj\u001b[0m\u001b[0;34m,\u001b[0m \u001b[0mvalue\u001b[0m\u001b[0;34m)\u001b[0m\u001b[0;34m\u001b[0m\u001b[0;34m\u001b[0m\u001b[0m\n\u001b[0m\u001b[1;32m    592\u001b[0m         \u001b[0;32mif\u001b[0m \u001b[0mobj\u001b[0m\u001b[0;34m.\u001b[0m\u001b[0m_cross_validation_lock\u001b[0m \u001b[0;32mis\u001b[0m \u001b[0;32mFalse\u001b[0m\u001b[0;34m:\u001b[0m\u001b[0;34m\u001b[0m\u001b[0;34m\u001b[0m\u001b[0m\n\u001b[1;32m    593\u001b[0m             \u001b[0mvalue\u001b[0m \u001b[0;34m=\u001b[0m \u001b[0mself\u001b[0m\u001b[0;34m.\u001b[0m\u001b[0m_cross_validate\u001b[0m\u001b[0;34m(\u001b[0m\u001b[0mobj\u001b[0m\u001b[0;34m,\u001b[0m \u001b[0mvalue\u001b[0m\u001b[0;34m)\u001b[0m\u001b[0;34m\u001b[0m\u001b[0;34m\u001b[0m\u001b[0m\n",
        "\u001b[0;32m/anaconda3/lib/python3.7/site-packages/traitlets/traitlets.py\u001b[0m in \u001b[0;36mvalidate\u001b[0;34m(self, obj, value)\u001b[0m\n\u001b[1;32m   2322\u001b[0m \u001b[0;34m\u001b[0m\u001b[0m\n\u001b[1;32m   2323\u001b[0m     \u001b[0;32mdef\u001b[0m \u001b[0mvalidate\u001b[0m\u001b[0;34m(\u001b[0m\u001b[0mself\u001b[0m\u001b[0;34m,\u001b[0m \u001b[0mobj\u001b[0m\u001b[0;34m,\u001b[0m \u001b[0mvalue\u001b[0m\u001b[0;34m)\u001b[0m\u001b[0;34m:\u001b[0m\u001b[0;34m\u001b[0m\u001b[0;34m\u001b[0m\u001b[0m\n\u001b[0;32m-> 2324\u001b[0;31m         \u001b[0mvalue\u001b[0m \u001b[0;34m=\u001b[0m \u001b[0msuper\u001b[0m\u001b[0;34m(\u001b[0m\u001b[0mList\u001b[0m\u001b[0;34m,\u001b[0m \u001b[0mself\u001b[0m\u001b[0;34m)\u001b[0m\u001b[0;34m.\u001b[0m\u001b[0mvalidate\u001b[0m\u001b[0;34m(\u001b[0m\u001b[0mobj\u001b[0m\u001b[0;34m,\u001b[0m \u001b[0mvalue\u001b[0m\u001b[0;34m)\u001b[0m\u001b[0;34m\u001b[0m\u001b[0;34m\u001b[0m\u001b[0m\n\u001b[0m\u001b[1;32m   2325\u001b[0m         \u001b[0mvalue\u001b[0m \u001b[0;34m=\u001b[0m \u001b[0mself\u001b[0m\u001b[0;34m.\u001b[0m\u001b[0mvalidate_elements\u001b[0m\u001b[0;34m(\u001b[0m\u001b[0mobj\u001b[0m\u001b[0;34m,\u001b[0m \u001b[0mvalue\u001b[0m\u001b[0;34m)\u001b[0m\u001b[0;34m\u001b[0m\u001b[0;34m\u001b[0m\u001b[0m\n\u001b[1;32m   2326\u001b[0m         \u001b[0;32mreturn\u001b[0m \u001b[0mvalue\u001b[0m\u001b[0;34m\u001b[0m\u001b[0;34m\u001b[0m\u001b[0m\n",
        "\u001b[0;32m/anaconda3/lib/python3.7/site-packages/traitlets/traitlets.py\u001b[0m in \u001b[0;36mvalidate\u001b[0;34m(self, obj, value)\u001b[0m\n\u001b[1;32m   2240\u001b[0m             \u001b[0;32mreturn\u001b[0m \u001b[0mvalue\u001b[0m\u001b[0;34m\u001b[0m\u001b[0;34m\u001b[0m\u001b[0m\n\u001b[1;32m   2241\u001b[0m \u001b[0;34m\u001b[0m\u001b[0m\n\u001b[0;32m-> 2242\u001b[0;31m         \u001b[0mvalue\u001b[0m \u001b[0;34m=\u001b[0m \u001b[0mself\u001b[0m\u001b[0;34m.\u001b[0m\u001b[0mvalidate_elements\u001b[0m\u001b[0;34m(\u001b[0m\u001b[0mobj\u001b[0m\u001b[0;34m,\u001b[0m \u001b[0mvalue\u001b[0m\u001b[0;34m)\u001b[0m\u001b[0;34m\u001b[0m\u001b[0;34m\u001b[0m\u001b[0m\n\u001b[0m\u001b[1;32m   2243\u001b[0m \u001b[0;34m\u001b[0m\u001b[0m\n\u001b[1;32m   2244\u001b[0m         \u001b[0;32mreturn\u001b[0m \u001b[0mvalue\u001b[0m\u001b[0;34m\u001b[0m\u001b[0;34m\u001b[0m\u001b[0m\n",
        "\u001b[0;32m/anaconda3/lib/python3.7/site-packages/traitlets/traitlets.py\u001b[0m in \u001b[0;36mvalidate_elements\u001b[0;34m(self, obj, value)\u001b[0m\n\u001b[1;32m   2319\u001b[0m             \u001b[0mself\u001b[0m\u001b[0;34m.\u001b[0m\u001b[0mlength_error\u001b[0m\u001b[0;34m(\u001b[0m\u001b[0mobj\u001b[0m\u001b[0;34m,\u001b[0m \u001b[0mvalue\u001b[0m\u001b[0;34m)\u001b[0m\u001b[0;34m\u001b[0m\u001b[0;34m\u001b[0m\u001b[0m\n\u001b[1;32m   2320\u001b[0m \u001b[0;34m\u001b[0m\u001b[0m\n\u001b[0;32m-> 2321\u001b[0;31m         \u001b[0;32mreturn\u001b[0m \u001b[0msuper\u001b[0m\u001b[0;34m(\u001b[0m\u001b[0mList\u001b[0m\u001b[0;34m,\u001b[0m \u001b[0mself\u001b[0m\u001b[0;34m)\u001b[0m\u001b[0;34m.\u001b[0m\u001b[0mvalidate_elements\u001b[0m\u001b[0;34m(\u001b[0m\u001b[0mobj\u001b[0m\u001b[0;34m,\u001b[0m \u001b[0mvalue\u001b[0m\u001b[0;34m)\u001b[0m\u001b[0;34m\u001b[0m\u001b[0;34m\u001b[0m\u001b[0m\n\u001b[0m\u001b[1;32m   2322\u001b[0m \u001b[0;34m\u001b[0m\u001b[0m\n\u001b[1;32m   2323\u001b[0m     \u001b[0;32mdef\u001b[0m \u001b[0mvalidate\u001b[0m\u001b[0;34m(\u001b[0m\u001b[0mself\u001b[0m\u001b[0;34m,\u001b[0m \u001b[0mobj\u001b[0m\u001b[0;34m,\u001b[0m \u001b[0mvalue\u001b[0m\u001b[0;34m)\u001b[0m\u001b[0;34m:\u001b[0m\u001b[0;34m\u001b[0m\u001b[0;34m\u001b[0m\u001b[0m\n",
        "\u001b[0;32m/anaconda3/lib/python3.7/site-packages/traitlets/traitlets.py\u001b[0m in \u001b[0;36mvalidate_elements\u001b[0;34m(self, obj, value)\u001b[0m\n\u001b[1;32m   2252\u001b[0m                 \u001b[0mv\u001b[0m \u001b[0;34m=\u001b[0m \u001b[0mself\u001b[0m\u001b[0;34m.\u001b[0m\u001b[0m_trait\u001b[0m\u001b[0;34m.\u001b[0m\u001b[0m_validate\u001b[0m\u001b[0;34m(\u001b[0m\u001b[0mobj\u001b[0m\u001b[0;34m,\u001b[0m \u001b[0mv\u001b[0m\u001b[0;34m)\u001b[0m\u001b[0;34m\u001b[0m\u001b[0;34m\u001b[0m\u001b[0m\n\u001b[1;32m   2253\u001b[0m             \u001b[0;32mexcept\u001b[0m \u001b[0mTraitError\u001b[0m\u001b[0;34m:\u001b[0m\u001b[0;34m\u001b[0m\u001b[0;34m\u001b[0m\u001b[0m\n\u001b[0;32m-> 2254\u001b[0;31m                 \u001b[0mself\u001b[0m\u001b[0;34m.\u001b[0m\u001b[0melement_error\u001b[0m\u001b[0;34m(\u001b[0m\u001b[0mobj\u001b[0m\u001b[0;34m,\u001b[0m \u001b[0mv\u001b[0m\u001b[0;34m,\u001b[0m \u001b[0mself\u001b[0m\u001b[0;34m.\u001b[0m\u001b[0m_trait\u001b[0m\u001b[0;34m)\u001b[0m\u001b[0;34m\u001b[0m\u001b[0;34m\u001b[0m\u001b[0m\n\u001b[0m\u001b[1;32m   2255\u001b[0m             \u001b[0;32melse\u001b[0m\u001b[0;34m:\u001b[0m\u001b[0;34m\u001b[0m\u001b[0;34m\u001b[0m\u001b[0m\n\u001b[1;32m   2256\u001b[0m                 \u001b[0mvalidated\u001b[0m\u001b[0;34m.\u001b[0m\u001b[0mappend\u001b[0m\u001b[0;34m(\u001b[0m\u001b[0mv\u001b[0m\u001b[0;34m)\u001b[0m\u001b[0;34m\u001b[0m\u001b[0;34m\u001b[0m\u001b[0m\n",
        "\u001b[0;32m/anaconda3/lib/python3.7/site-packages/traitlets/traitlets.py\u001b[0m in \u001b[0;36melement_error\u001b[0;34m(self, obj, element, validator)\u001b[0m\n\u001b[1;32m   2231\u001b[0m         \u001b[0me\u001b[0m \u001b[0;34m=\u001b[0m \u001b[0;34m\"Element of the '%s' trait of %s instance must be %s, but a value of %s was specified.\"\u001b[0m\u001b[0;31m \u001b[0m\u001b[0;31m\\\u001b[0m\u001b[0;34m\u001b[0m\u001b[0;34m\u001b[0m\u001b[0m\n\u001b[1;32m   2232\u001b[0m             \u001b[0;34m%\u001b[0m \u001b[0;34m(\u001b[0m\u001b[0mself\u001b[0m\u001b[0;34m.\u001b[0m\u001b[0mname\u001b[0m\u001b[0;34m,\u001b[0m \u001b[0mclass_of\u001b[0m\u001b[0;34m(\u001b[0m\u001b[0mobj\u001b[0m\u001b[0;34m)\u001b[0m\u001b[0;34m,\u001b[0m \u001b[0mvalidator\u001b[0m\u001b[0;34m.\u001b[0m\u001b[0minfo\u001b[0m\u001b[0;34m(\u001b[0m\u001b[0;34m)\u001b[0m\u001b[0;34m,\u001b[0m \u001b[0mrepr_type\u001b[0m\u001b[0;34m(\u001b[0m\u001b[0melement\u001b[0m\u001b[0;34m)\u001b[0m\u001b[0;34m)\u001b[0m\u001b[0;34m\u001b[0m\u001b[0;34m\u001b[0m\u001b[0m\n\u001b[0;32m-> 2233\u001b[0;31m         \u001b[0;32mraise\u001b[0m \u001b[0mTraitError\u001b[0m\u001b[0;34m(\u001b[0m\u001b[0me\u001b[0m\u001b[0;34m)\u001b[0m\u001b[0;34m\u001b[0m\u001b[0;34m\u001b[0m\u001b[0m\n\u001b[0m\u001b[1;32m   2234\u001b[0m \u001b[0;34m\u001b[0m\u001b[0m\n\u001b[1;32m   2235\u001b[0m     \u001b[0;32mdef\u001b[0m \u001b[0mvalidate\u001b[0m\u001b[0;34m(\u001b[0m\u001b[0mself\u001b[0m\u001b[0;34m,\u001b[0m \u001b[0mobj\u001b[0m\u001b[0;34m,\u001b[0m \u001b[0mvalue\u001b[0m\u001b[0;34m)\u001b[0m\u001b[0;34m:\u001b[0m\u001b[0;34m\u001b[0m\u001b[0;34m\u001b[0m\u001b[0m\n",
        "\u001b[0;31mTraitError\u001b[0m: Element of the 'children' trait of a Layout instance must be a DOMWidget or a unicode string, but a value of <class 'ipyvuetify.generated.App.App'> <class 'traitlets.traitlets.MetaHasTraits'> was specified."
       ]
      }
     ],
     "persistentId": "63c8aeab-0a61-499c-9835-229ef5ce8b54",
     "text": "v.Layout(\n    row=True,\n    _metadata={\"mount_id\": \"content\"},\n    wrap=True,\n    align_center=True,\n    children=[\n        v.Flex(xs12=True, lg6=True, xl4=True, children=[m]),\n        v.Banner(\n            single_line=True,\n            v_slots=[\n                {\"name\": \"icon\", \"children\": v.Icon(color=\"deep-purple accent-4\", children=[\"room\"])},\n            ],\n            children=[\"Click on the pinatas to see the location and date details\"],\n        ),\n    ],\n)\n\nv.Layout(\n   row=True,\n    children=[v.App]\n)"
    },
    "executionTime": "2019-12-16T18:47:48.993Z"
   },
   {
    "cell": {
     "executionCount": 57,
     "executionEventId": "d3f9a71b-2c89-4596-80cd-c50af390440a",
     "hasError": false,
     "id": "cace3427-4a4b-445f-a184-959c49ea43b4",
     "outputs": [
      {
       "data": {
        "application/vnd.jupyter.widget-view+json": {
         "model_id": "7d16bef01e7d4b7aaead12fa0c0f2024",
         "version_major": 2,
         "version_minor": 0
        },
        "text/plain": "Layout(align_center=True, children=[Flex(children=[Map(basemap={'url': 'http://c.basemaps.cartocdn.com/dark_al…"
       },
       "metadata": {},
       "output_type": "display_data"
      }
     ],
     "persistentId": "63c8aeab-0a61-499c-9835-229ef5ce8b54",
     "text": "v.Layout(\n    row=True,\n    _metadata={\"mount_id\": \"content\"},\n    wrap=True,\n    align_center=True,\n    children=[\n        v.Flex(xs12=True, lg6=True, xl4=True, children=[m]),\n        v.Banner(\n            single_line=True,\n            v_slots=[\n                {\"name\": \"icon\", \"children\": v.Icon(color=\"deep-purple accent-4\", children=[\"room\"])},\n            ],\n            children=[\"Click on the pinatas to see the location and date details\"],\n        ),\n    ],\n)\n"
    },
    "executionTime": "2019-12-16T18:47:58.694Z"
   },
   {
    "cell": {
     "executionCount": 58,
     "executionEventId": "d3987d48-81e8-44b0-8c53-f151f60e44d6",
     "hasError": false,
     "id": "cace3427-4a4b-445f-a184-959c49ea43b4",
     "outputs": [
      {
       "data": {
        "application/vnd.jupyter.widget-view+json": {
         "model_id": "ddf92109921a4a248423eaf8ab24120f",
         "version_major": 2,
         "version_minor": 0
        },
        "text/plain": "Content(children=[Flex(children=[Map(basemap={'url': 'http://c.basemaps.cartocdn.com/dark_all/{z}/{x}/{y}.png'…"
       },
       "metadata": {},
       "output_type": "display_data"
      }
     ],
     "persistentId": "63c8aeab-0a61-499c-9835-229ef5ce8b54",
     "text": "v.Content(\n    row=True,\n    _metadata={\"mount_id\": \"content-main\"},\n    wrap=True,\n    align_center=True,\n    children=[\n        v.Flex(xs12=True, lg6=True, xl4=True, children=[m]),\n        v.Divider(),\n        v.Banner(\n            single_line=True,\n            v_slots=[\n                {\"name\": \"icon\", \"children\": v.Icon(color=\"deep-purple accent-4\", children=[\"room\"])},\n            ],\n            children=[\"Click on the pinatas to see the location and date details\"],\n        ),\n    \n    ],\n)\n"
    },
    "executionTime": "2019-12-16T18:50:42.823Z"
   },
   {
    "cell": {
     "executionCount": 59,
     "executionEventId": "4201517a-fbcd-4122-b931-3a500eec0cec",
     "hasError": false,
     "id": "cace3427-4a4b-445f-a184-959c49ea43b4",
     "outputs": [
      {
       "data": {
        "application/vnd.jupyter.widget-view+json": {
         "model_id": "3655e0ba5d3e4d9184a5845af4701576",
         "version_major": 2,
         "version_minor": 0
        },
        "text/plain": "Content(children=[Flex(children=[Map(basemap={'url': 'http://c.basemaps.cartocdn.com/dark_all/{z}/{x}/{y}.png'…"
       },
       "metadata": {},
       "output_type": "display_data"
      }
     ],
     "persistentId": "63c8aeab-0a61-499c-9835-229ef5ce8b54",
     "text": "v.Content(\n    _metadata={\"mount_id\": \"content-main\"},\n    wrap=True,\n    align_center=True,\n    children=[\n        v.Flex(xs12=True, lg6=True, xl4=True, children=[m]),\n        v.Divider(),\n        v.Banner(\n            single_line=True,\n            v_slots=[\n                {\"name\": \"icon\", \"children\": v.Icon(color=\"deep-purple accent-4\", children=[\"room\"])},\n            ],\n            children=[\"Click on the pinatas to see the location and date details\"],\n        ),\n    \n    ],\n)\n"
    },
    "executionTime": "2019-12-16T18:51:09.390Z"
   },
   {
    "cell": {
     "executionCount": 60,
     "executionEventId": "abbc13c3-b39c-4295-9408-2251a7e62dcc",
     "hasError": true,
     "id": "cace3427-4a4b-445f-a184-959c49ea43b4",
     "outputs": [
      {
       "ename": "TypeError",
       "evalue": "__init__() takes 1 positional argument but 2 were given",
       "output_type": "error",
       "traceback": [
        "\u001b[0;31m---------------------------------------------------------------------------\u001b[0m",
        "\u001b[0;31mTypeError\u001b[0m                                 Traceback (most recent call last)",
        "\u001b[0;32m<ipython-input-60-7062617a6ce9>\u001b[0m in \u001b[0;36m<module>\u001b[0;34m\u001b[0m\n\u001b[1;32m     30\u001b[0m                 \u001b[0;34m{\u001b[0m\u001b[0;34m\"name\"\u001b[0m\u001b[0;34m:\u001b[0m \u001b[0;34m\"icon\"\u001b[0m\u001b[0;34m,\u001b[0m \u001b[0;34m\"children\"\u001b[0m\u001b[0;34m:\u001b[0m \u001b[0mv\u001b[0m\u001b[0;34m.\u001b[0m\u001b[0mIcon\u001b[0m\u001b[0;34m(\u001b[0m\u001b[0mcolor\u001b[0m\u001b[0;34m=\u001b[0m\u001b[0;34m\"deep-purple accent-4\"\u001b[0m\u001b[0;34m,\u001b[0m \u001b[0mchildren\u001b[0m\u001b[0;34m=\u001b[0m\u001b[0;34m[\u001b[0m\u001b[0;34m\"room\"\u001b[0m\u001b[0;34m]\u001b[0m\u001b[0;34m)\u001b[0m\u001b[0;34m}\u001b[0m\u001b[0;34m,\u001b[0m\u001b[0;34m\u001b[0m\u001b[0;34m\u001b[0m\u001b[0m\n\u001b[1;32m     31\u001b[0m             ],\n\u001b[0;32m---> 32\u001b[0;31m             \u001b[0mchildren\u001b[0m\u001b[0;34m=\u001b[0m\u001b[0;34m[\u001b[0m\u001b[0;34m\"Click on the pinatas to see the location and date details\"\u001b[0m\u001b[0;34m]\u001b[0m\u001b[0;34m,\u001b[0m\u001b[0;34m\u001b[0m\u001b[0;34m\u001b[0m\u001b[0m\n\u001b[0m\u001b[1;32m     33\u001b[0m         ),\n\u001b[1;32m     34\u001b[0m \u001b[0;34m\u001b[0m\u001b[0m\n",
        "\u001b[0;31mTypeError\u001b[0m: __init__() takes 1 positional argument but 2 were given"
       ]
      }
     ],
     "persistentId": "63c8aeab-0a61-499c-9835-229ef5ce8b54",
     "text": "v.Content(\n    _metadata={\"mount_id\": \"content-main\"},\n    wrap=True,\n    align_center=True,\n    children=[\n        v.Flex(xs12=True, lg6=True, xl4=True, children=[m]),\n        v.Divider(),\n        v.Banner(\n            single_line=True,\n            v_slots=[\n                {\"name\": \"icon\", \"children\": v.Icon(color=\"deep-purple accent-4\", children=[\"room\"])},\n            ],\n            children=[\"Click on the pinatas to see the location and date details\"],\n        ),\n    \n    ],\n)\n\nv.Layout(\n    v.Content(\n    _metadata={\"mount_id\": \"content-main\"},\n    wrap=True,\n    align_center=True,\n    children=[\n        v.Flex(xs12=True, lg6=True, xl4=True, children=[m]),\n        v.Divider(),\n        v.Banner(\n            single_line=True,\n            v_slots=[\n                {\"name\": \"icon\", \"children\": v.Icon(color=\"deep-purple accent-4\", children=[\"room\"])},\n            ],\n            children=[\"Click on the pinatas to see the location and date details\"],\n        ),\n    \n    ],\n)\n)"
    },
    "executionTime": "2019-12-16T18:52:23.285Z"
   },
   {
    "cell": {
     "executionCount": 61,
     "executionEventId": "c1657a09-d40a-40a3-9d11-d248f77aa724",
     "hasError": false,
     "id": "cace3427-4a4b-445f-a184-959c49ea43b4",
     "outputs": [
      {
       "data": {
        "application/vnd.jupyter.widget-view+json": {
         "model_id": "89336d141ee44365b09d83a62e21eeee",
         "version_major": 2,
         "version_minor": 0
        },
        "text/plain": "Layout(children=[Content(children=[Flex(children=[Map(basemap={'url': 'http://c.basemaps.cartocdn.com/dark_all…"
       },
       "metadata": {},
       "output_type": "display_data"
      }
     ],
     "persistentId": "63c8aeab-0a61-499c-9835-229ef5ce8b54",
     "text": "v.Content(\n    _metadata={\"mount_id\": \"content-main\"},\n    wrap=True,\n    align_center=True,\n    children=[\n        v.Flex(xs12=True, lg6=True, xl4=True, children=[m]),\n        v.Divider(),\n        v.Banner(\n            single_line=True,\n            v_slots=[\n                {\"name\": \"icon\", \"children\": v.Icon(color=\"deep-purple accent-4\", children=[\"room\"])},\n            ],\n            children=[\"Click on the pinatas to see the location and date details\"],\n        ),\n    \n    ],\n)\n\nv.Layout(\n    children=[v.Content(\n    _metadata={\"mount_id\": \"content-main\"},\n    wrap=True,\n    align_center=True,\n    children=[\n        v.Flex(xs12=True, lg6=True, xl4=True, children=[m]),\n        v.Divider(),\n        v.Banner(\n            single_line=True,\n            v_slots=[\n                {\"name\": \"icon\", \"children\": v.Icon(color=\"deep-purple accent-4\", children=[\"room\"])},\n            ],\n            children=[\"Click on the pinatas to see the location and date details\"],\n        ),\n    \n    ],\n)]\n)"
    },
    "executionTime": "2019-12-16T18:52:39.783Z"
   },
   {
    "cell": {
     "executionCount": 62,
     "executionEventId": "22c7c4aa-c899-48ac-9693-86ebffc3e626",
     "hasError": true,
     "id": "cace3427-4a4b-445f-a184-959c49ea43b4",
     "outputs": [
      {
       "ename": "SyntaxError",
       "evalue": "invalid syntax (<ipython-input-62-207ca204263a>, line 20)",
       "output_type": "error",
       "traceback": [
        "\u001b[0;36m  File \u001b[0;32m\"<ipython-input-62-207ca204263a>\"\u001b[0;36m, line \u001b[0;32m20\u001b[0m\n\u001b[0;31m    v.Appbar(\u001b[0m\n\u001b[0m    ^\u001b[0m\n\u001b[0;31mSyntaxError\u001b[0m\u001b[0;31m:\u001b[0m invalid syntax\n"
       ]
      }
     ],
     "persistentId": "63c8aeab-0a61-499c-9835-229ef5ce8b54",
     "text": "v.Layout(\n    children=[\n        v.Content(\n        _metadata={\"mount_id\": \"content-main\"},\n        wrap=True,\n        align_center=True,\n        children=[\n            v.Flex(xs12=True, lg6=True, xl4=True, children=[m]),\n            v.Divider(),\n            v.Banner(\n                single_line=True,\n                v_slots=[\n                    {\"name\": \"icon\", \"children\": v.Icon(color=\"deep-purple accent-4\", children=[\"room\"])},\n                ],\n                children=[\"Click on the pinatas to see the location and date details\"],\n            ),\n        \n        ],\n        )\n        v.Appbar(\n            children=[\n                v.ToolbarTitle(children=['Jola'])\n            ]\n        )\n    ]\n)"
    },
    "executionTime": "2019-12-16T18:55:18.976Z"
   },
   {
    "cell": {
     "executionCount": 63,
     "executionEventId": "7a71c029-ec66-48ab-9312-a33cf73044a4",
     "hasError": true,
     "id": "cace3427-4a4b-445f-a184-959c49ea43b4",
     "outputs": [
      {
       "ename": "AttributeError",
       "evalue": "module 'ipyvuetify' has no attribute 'Appbar'",
       "output_type": "error",
       "traceback": [
        "\u001b[0;31m---------------------------------------------------------------------------\u001b[0m",
        "\u001b[0;31mAttributeError\u001b[0m                            Traceback (most recent call last)",
        "\u001b[0;32m<ipython-input-63-dbcfd58ee048>\u001b[0m in \u001b[0;36m<module>\u001b[0;34m\u001b[0m\n\u001b[1;32m     18\u001b[0m         ],\n\u001b[1;32m     19\u001b[0m         ),\n\u001b[0;32m---> 20\u001b[0;31m         v.Appbar(\n\u001b[0m\u001b[1;32m     21\u001b[0m             children=[\n\u001b[1;32m     22\u001b[0m                 \u001b[0mv\u001b[0m\u001b[0;34m.\u001b[0m\u001b[0mToolbarTitle\u001b[0m\u001b[0;34m(\u001b[0m\u001b[0mchildren\u001b[0m\u001b[0;34m=\u001b[0m\u001b[0;34m[\u001b[0m\u001b[0;34m'Jola'\u001b[0m\u001b[0;34m]\u001b[0m\u001b[0;34m)\u001b[0m\u001b[0;34m\u001b[0m\u001b[0;34m\u001b[0m\u001b[0m\n",
        "\u001b[0;31mAttributeError\u001b[0m: module 'ipyvuetify' has no attribute 'Appbar'"
       ]
      }
     ],
     "persistentId": "63c8aeab-0a61-499c-9835-229ef5ce8b54",
     "text": "v.Layout(\n    children=[\n        v.Content(\n        _metadata={\"mount_id\": \"content-main\"},\n        wrap=True,\n        align_center=True,\n        children=[\n            v.Flex(xs12=True, lg6=True, xl4=True, children=[m]),\n            v.Divider(),\n            v.Banner(\n                single_line=True,\n                v_slots=[\n                    {\"name\": \"icon\", \"children\": v.Icon(color=\"deep-purple accent-4\", children=[\"room\"])},\n                ],\n                children=[\"Click on the pinatas to see the location and date details\"],\n            ),\n        \n        ],\n        ),\n        v.Appbar(\n            children=[\n                v.ToolbarTitle(children=['Jola'])\n            ]\n        )\n    ]\n)"
    },
    "executionTime": "2019-12-16T18:55:29.604Z"
   },
   {
    "cell": {
     "executionCount": 64,
     "executionEventId": "2ca0ea77-a16d-4074-b488-746089097300",
     "hasError": false,
     "id": "cace3427-4a4b-445f-a184-959c49ea43b4",
     "outputs": [
      {
       "data": {
        "application/vnd.jupyter.widget-view+json": {
         "model_id": "805b565452e2472793ba279e6c4472f9",
         "version_major": 2,
         "version_minor": 0
        },
        "text/plain": "Layout(children=[Content(children=[Flex(children=[Map(basemap={'url': 'http://c.basemaps.cartocdn.com/dark_all…"
       },
       "metadata": {},
       "output_type": "display_data"
      }
     ],
     "persistentId": "63c8aeab-0a61-499c-9835-229ef5ce8b54",
     "text": "v.Layout(\n    children=[\n        v.Content(\n        _metadata={\"mount_id\": \"content-main\"},\n        wrap=True,\n        align_center=True,\n        children=[\n            v.Flex(xs12=True, lg6=True, xl4=True, children=[m]),\n            v.Divider(),\n            v.Banner(\n                single_line=True,\n                v_slots=[\n                    {\"name\": \"icon\", \"children\": v.Icon(color=\"deep-purple accent-4\", children=[\"room\"])},\n                ],\n                children=[\"Click on the pinatas to see the location and date details\"],\n            ),\n        \n        ],\n        ),\n        v.AppBar(\n            children=[\n                v.ToolbarTitle(children=['Jola'])\n            ]\n        )\n    ]\n)"
    },
    "executionTime": "2019-12-16T18:55:35.765Z"
   },
   {
    "cell": {
     "executionCount": 65,
     "executionEventId": "c2bf5f63-ef5e-40f9-9c2d-a9709125c3db",
     "hasError": false,
     "id": "cace3427-4a4b-445f-a184-959c49ea43b4",
     "outputs": [
      {
       "data": {
        "application/vnd.jupyter.widget-view+json": {
         "model_id": "87d3814a99c24c9aa791a9aa956ade66",
         "version_major": 2,
         "version_minor": 0
        },
        "text/plain": "Layout(children=[Content(children=[Flex(children=[Map(basemap={'url': 'http://c.basemaps.cartocdn.com/dark_all…"
       },
       "metadata": {},
       "output_type": "display_data"
      }
     ],
     "persistentId": "63c8aeab-0a61-499c-9835-229ef5ce8b54",
     "text": "v.Layout(\n    children=[\n        v.Content(\n        _metadata={\"mount_id\": \"content-main\"},\n        wrap=True,\n        align_center=True,\n        children=[\n            v.Flex(xs12=True, lg6=True, xl4=True, children=[m]),\n            v.Divider(),\n            v.Banner(\n                single_line=True,\n                v_slots=[\n                    {\"name\": \"icon\", \"children\": v.Icon(color=\"deep-purple accent-4\", children=[\"room\"])},\n                ],\n                children=[\"Click on the pinatas to see the location and date details\"],\n            ),\n        \n        ],\n        ),\n       \n    ]\n)"
    },
    "executionTime": "2019-12-16T18:58:44.018Z"
   },
   {
    "cell": {
     "executionCount": 66,
     "executionEventId": "c2101be9-c640-477c-973a-f9d39a74787c",
     "hasError": true,
     "id": "cace3427-4a4b-445f-a184-959c49ea43b4",
     "outputs": [
      {
       "ename": "SyntaxError",
       "evalue": "invalid syntax (<ipython-input-66-464079909df7>, line 27)",
       "output_type": "error",
       "traceback": [
        "\u001b[0;36m  File \u001b[0;32m\"<ipython-input-66-464079909df7>\"\u001b[0;36m, line \u001b[0;32m27\u001b[0m\n\u001b[0;31m    <script>\u001b[0m\n\u001b[0m    ^\u001b[0m\n\u001b[0;31mSyntaxError\u001b[0m\u001b[0;31m:\u001b[0m invalid syntax\n"
       ]
      }
     ],
     "persistentId": "63c8aeab-0a61-499c-9835-229ef5ce8b54",
     "text": "v.Layout(\n    children=[\n        v.Content(\n        _metadata={\"mount_id\": \"content-main\"},\n        wrap=True,\n        align_center=True,\n        children=[\n            v.Flex(xs12=True, lg6=True, xl4=True, children=[m]),\n            v.Divider(),\n            v.Banner(\n                single_line=True,\n                v_slots=[\n                    {\"name\": \"icon\", \"children\": v.Icon(color=\"deep-purple accent-4\", children=[\"room\"])},\n                ],\n                children=[\"Click on the pinatas to see the location and date details\"],\n            ),\n        \n        ],\n        ),\n        v.Container(\n            _metadata={\"mount_id\":\"content-nav\"}\n        )\n       \n    ]\n)\n\n<script>\ndata()P\n</script>"
    },
    "executionTime": "2019-12-16T19:05:53.280Z"
   },
   {
    "cell": {
     "executionCount": 67,
     "executionEventId": "c388ddbf-789b-40c7-bf0d-3c812892a904",
     "hasError": true,
     "id": "cace3427-4a4b-445f-a184-959c49ea43b4",
     "outputs": [
      {
       "ename": "SyntaxError",
       "evalue": "invalid syntax (<ipython-input-67-f84a11972737>, line 27)",
       "output_type": "error",
       "traceback": [
        "\u001b[0;36m  File \u001b[0;32m\"<ipython-input-67-f84a11972737>\"\u001b[0;36m, line \u001b[0;32m27\u001b[0m\n\u001b[0;31m    <script>\u001b[0m\n\u001b[0m    ^\u001b[0m\n\u001b[0;31mSyntaxError\u001b[0m\u001b[0;31m:\u001b[0m invalid syntax\n"
       ]
      }
     ],
     "persistentId": "63c8aeab-0a61-499c-9835-229ef5ce8b54",
     "text": "v.Layout(\n    children=[\n        v.Content(\n        _metadata={\"mount_id\": \"content-main\"},\n        wrap=True,\n        align_center=True,\n        children=[\n            v.Flex(xs12=True, lg6=True, xl4=True, children=[m]),\n            v.Divider(),\n            v.Banner(\n                single_line=True,\n                v_slots=[\n                    {\"name\": \"icon\", \"children\": v.Icon(color=\"deep-purple accent-4\", children=[\"room\"])},\n                ],\n                children=[\"Click on the pinatas to see the location and date details\"],\n            ),\n        \n        ],\n        ),\n        v.Container(\n            _metadata={\"mount_id\":\"content-nav\"}\n        )\n       \n    ]\n)\n\n<script>\ndata(){\n    return{\n        sowNavBar: false\n    }\n}\n</script>"
    },
    "executionTime": "2019-12-16T19:06:14.537Z"
   },
   {
    "cell": {
     "executionCount": 68,
     "executionEventId": "b1dad2da-787c-43c5-9890-01e61efe9dbb",
     "hasError": false,
     "id": "cace3427-4a4b-445f-a184-959c49ea43b4",
     "outputs": [
      {
       "data": {
        "application/vnd.jupyter.widget-view+json": {
         "model_id": "136bb4e2a5ef4d2e887b16fbbfe2011f",
         "version_major": 2,
         "version_minor": 0
        },
        "text/plain": "Layout(children=[Content(children=[Flex(children=[Map(basemap={'url': 'http://c.basemaps.cartocdn.com/dark_all…"
       },
       "metadata": {},
       "output_type": "display_data"
      }
     ],
     "persistentId": "63c8aeab-0a61-499c-9835-229ef5ce8b54",
     "text": "v.Layout(\n    children=[\n        v.Content(\n        _metadata={\"mount_id\": \"content-main\"},\n        wrap=True,\n        align_center=True,\n        children=[\n            v.Flex(xs12=True, lg6=True, xl4=True, children=[m]),\n            v.Divider(),\n            v.Banner(\n                single_line=True,\n                v_slots=[\n                    {\"name\": \"icon\", \"children\": v.Icon(color=\"deep-purple accent-4\", children=[\"room\"])},\n                ],\n                children=[\"Click on the pinatas to see the location and date details\"],\n            ),\n        \n        ],\n        ),\n        v.Container(\n            _metadata={\"mount_id\":\"content-nav\"}\n        )\n       \n    ]\n)\n"
    },
    "executionTime": "2019-12-16T19:06:35.933Z"
   },
   {
    "cell": {
     "executionCount": 69,
     "executionEventId": "992a6353-6a60-462f-b26e-b12bc4a3ec7c",
     "hasError": false,
     "id": "cace3427-4a4b-445f-a184-959c49ea43b4",
     "outputs": [
      {
       "data": {
        "application/vnd.jupyter.widget-view+json": {
         "model_id": "d1e71b2b9bce4f44b150bcb5c8251e09",
         "version_major": 2,
         "version_minor": 0
        },
        "text/plain": "Layout(children=[Content(children=[Flex(children=[Map(basemap={'url': 'http://c.basemaps.cartocdn.com/dark_all…"
       },
       "metadata": {},
       "output_type": "display_data"
      }
     ],
     "persistentId": "63c8aeab-0a61-499c-9835-229ef5ce8b54",
     "text": "v.Layout(\n    children=[\n        v.Content(\n        _metadata={\"mount_id\": \"content-main\"},\n        wrap=True,\n        row=True,\n        align_center=True,\n        children=[\n            v.Flex(xs12=True, lg6=True, xl4=True, children=[m]),\n            v.Divider(),\n            v.Banner(\n                single_line=True,\n                v_slots=[\n                    {\"name\": \"icon\", \"children\": v.Icon(color=\"deep-purple accent-4\", children=[\"room\"])},\n                ],\n                children=[\"Click on the pinatas to see the location and date details\"],\n            ),\n        \n        ],\n        ),\n        v.Container(\n            _metadata={\"mount_id\":\"content-nav\"}\n        )\n       \n    ]\n)\n"
    },
    "executionTime": "2019-12-16T19:06:57.213Z"
   },
   {
    "cell": {
     "executionCount": 70,
     "executionEventId": "52753276-5f78-467f-8c0d-07fb7f6ece6f",
     "hasError": false,
     "id": "cace3427-4a4b-445f-a184-959c49ea43b4",
     "outputs": [
      {
       "data": {
        "application/vnd.jupyter.widget-view+json": {
         "model_id": "4611379b99364addb558ea608e18c021",
         "version_major": 2,
         "version_minor": 0
        },
        "text/plain": "Layout(children=[Content(children=[Flex(children=[Map(basemap={'url': 'http://c.basemaps.cartocdn.com/dark_all…"
       },
       "metadata": {},
       "output_type": "display_data"
      }
     ],
     "persistentId": "63c8aeab-0a61-499c-9835-229ef5ce8b54",
     "text": "v.Layout(\n    children=[\n        v.Content(\n        _metadata={\"mount_id\": \"content-main\"},\n        wrap=True,\n        row=True,\n        align_center=True,\n        children=[\n            v.Flex(xs12=True, lg6=True, xl4=True, children=[m]),\n            v.Divider(),\n            v.Banner(\n                single_line=True,\n                v_slots=[\n                    {\"name\": \"icon\", \"children\": v.Icon(color=\"deep-purple accent-4\", children=[\"room\"])},\n                ],\n                children=[\"Click on the pinatas to see the location and date details\"],\n            ),\n        \n        ],\n        ),\n        v.NavigationDrawer(\n            \n        )\n       \n    ]\n)\n"
    },
    "executionTime": "2019-12-16T19:08:52.212Z"
   },
   {
    "cell": {
     "executionCount": 71,
     "executionEventId": "ac96d674-4933-46d7-ab99-bc199a917705",
     "hasError": false,
     "id": "cace3427-4a4b-445f-a184-959c49ea43b4",
     "outputs": [
      {
       "data": {
        "application/vnd.jupyter.widget-view+json": {
         "model_id": "97e589cb0f59461287d13a8c92db84d0",
         "version_major": 2,
         "version_minor": 0
        },
        "text/plain": "Layout(children=[Content(children=[Flex(children=[Map(basemap={'url': 'http://c.basemaps.cartocdn.com/dark_all…"
       },
       "metadata": {},
       "output_type": "display_data"
      }
     ],
     "persistentId": "63c8aeab-0a61-499c-9835-229ef5ce8b54",
     "text": "v.Layout(\n    children=[\n        v.Content(\n        _metadata={\"mount_id\": \"content-main\"},\n        wrap=True,\n        row=True,\n        align_center=True,\n        children=[\n            v.Flex(xs12=True, lg6=True, xl4=True, children=[m]),\n            v.Divider(),\n            v.Banner(\n                single_line=True,\n                v_slots=[\n                    {\"name\": \"icon\", \"children\": v.Icon(color=\"deep-purple accent-4\", children=[\"room\"])},\n                ],\n                children=[\"Click on the pinatas to see the location and date details\"],\n            ),\n        \n        ],\n        ),\n       v.AppBar(\n           children=[\n               v.ToolbarTitle(children=['Hola'])\n           ]\n       )\n    ]\n)\n"
    },
    "executionTime": "2019-12-16T19:12:00.821Z"
   },
   {
    "cell": {
     "executionCount": 72,
     "executionEventId": "c874ae7f-dd6c-4c23-85ee-94253b09efc0",
     "hasError": true,
     "id": "cace3427-4a4b-445f-a184-959c49ea43b4",
     "outputs": [
      {
       "ename": "AttributeError",
       "evalue": "module 'ipyvuetify' has no attribute 'ToolBarTitle'",
       "output_type": "error",
       "traceback": [
        "\u001b[0;31m---------------------------------------------------------------------------\u001b[0m",
        "\u001b[0;31mAttributeError\u001b[0m                            Traceback (most recent call last)",
        "\u001b[0;32m<ipython-input-72-cfe4b7040c0e>\u001b[0m in \u001b[0;36m<module>\u001b[0;34m\u001b[0m\n\u001b[1;32m     21\u001b[0m         v.AppBar(\n\u001b[1;32m     22\u001b[0m             children=[\n\u001b[0;32m---> 23\u001b[0;31m                 \u001b[0mv\u001b[0m\u001b[0;34m.\u001b[0m\u001b[0mToolBarTitle\u001b[0m\u001b[0;34m(\u001b[0m\u001b[0mchildren\u001b[0m\u001b[0;34m=\u001b[0m\u001b[0;34m[\u001b[0m\u001b[0;34m'hola'\u001b[0m\u001b[0;34m]\u001b[0m\u001b[0;34m)\u001b[0m\u001b[0;34m\u001b[0m\u001b[0;34m\u001b[0m\u001b[0m\n\u001b[0m\u001b[1;32m     24\u001b[0m             ]\n\u001b[1;32m     25\u001b[0m         )\n",
        "\u001b[0;31mAttributeError\u001b[0m: module 'ipyvuetify' has no attribute 'ToolBarTitle'"
       ]
      }
     ],
     "persistentId": "63c8aeab-0a61-499c-9835-229ef5ce8b54",
     "text": "v.Layout(\n    children=[\n        v.Content(\n        _metadata={\"mount_id\": \"content-main\"},\n        wrap=True,\n        row=True,\n        align_center=True,\n        children=[\n            v.Flex(xs12=True, lg6=True, xl4=True, children=[m]),\n            v.Divider(),\n            v.Banner(\n                single_line=True,\n                v_slots=[\n                    {\"name\": \"icon\", \"children\": v.Icon(color=\"deep-purple accent-4\", children=[\"room\"])},\n                ],\n                children=[\"Click on the pinatas to see the location and date details\"],\n            ),\n        \n        ],\n        ),\n        v.AppBar(\n            children=[\n                v.ToolBarTitle(children=['hola'])\n            ]\n        )\n    ]\n)\n"
    },
    "executionTime": "2019-12-16T19:14:23.033Z"
   },
   {
    "cell": {
     "executionCount": 73,
     "executionEventId": "236ab84e-f8b2-46bb-8729-507d434bd55b",
     "hasError": false,
     "id": "cace3427-4a4b-445f-a184-959c49ea43b4",
     "outputs": [
      {
       "data": {
        "application/vnd.jupyter.widget-view+json": {
         "model_id": "e2d73c776ef7460d85af3e189e8c5e1b",
         "version_major": 2,
         "version_minor": 0
        },
        "text/plain": "Layout(children=[Content(children=[Flex(children=[Map(basemap={'url': 'http://c.basemaps.cartocdn.com/dark_all…"
       },
       "metadata": {},
       "output_type": "display_data"
      }
     ],
     "persistentId": "63c8aeab-0a61-499c-9835-229ef5ce8b54",
     "text": "v.Layout(\n    children=[\n        v.Content(\n        _metadata={\"mount_id\": \"content-main\"},\n        wrap=True,\n        row=True,\n        align_center=True,\n        children=[\n            v.Flex(xs12=True, lg6=True, xl4=True, children=[m]),\n            v.Divider(),\n            v.Banner(\n                single_line=True,\n                v_slots=[\n                    {\"name\": \"icon\", \"children\": v.Icon(color=\"deep-purple accent-4\", children=[\"room\"])},\n                ],\n                children=[\"Click on the pinatas to see the location and date details\"],\n            ),\n        \n        ],\n        ),\n        v.AppBar(\n            children=[\n                v.ToolbarTitle(children=['hola'])\n            ]\n        )\n    ]\n)\n"
    },
    "executionTime": "2019-12-16T19:14:30.955Z"
   },
   {
    "cell": {
     "executionCount": 74,
     "executionEventId": "a5d3c1a1-87e9-4693-92d8-ce033d495644",
     "hasError": false,
     "id": "cace3427-4a4b-445f-a184-959c49ea43b4",
     "outputs": [
      {
       "data": {
        "application/vnd.jupyter.widget-view+json": {
         "model_id": "91f8f25c21264559974a8da004205991",
         "version_major": 2,
         "version_minor": 0
        },
        "text/plain": "Layout(children=[Content(children=[Flex(children=[Map(basemap={'url': 'http://c.basemaps.cartocdn.com/dark_all…"
       },
       "metadata": {},
       "output_type": "display_data"
      }
     ],
     "persistentId": "63c8aeab-0a61-499c-9835-229ef5ce8b54",
     "text": "v.Layout(\n    children=[\n        v.Content(\n        _metadata={\"mount_id\": \"content-main\"},\n        wrap=True,\n        row=True,\n        align_center=True,\n        children=[\n            v.Flex(xs12=True, lg6=True, xl4=True, children=[m]),\n            v.Divider(),\n            v.Banner(\n                single_line=True,\n                v_slots=[\n                    {\"name\": \"icon\", \"children\": v.Icon(color=\"deep-purple accent-4\", children=[\"room\"])},\n                ],\n                children=[\"Click on the pinatas to see the location and date details\"],\n            ),\n        \n        ],\n        ),\n        v.Toolbar(\n            children=[\n                v.ToolbarTitle(children=['hola'])\n            ]\n        )\n    ]\n)\n"
    },
    "executionTime": "2019-12-16T19:15:38.499Z"
   },
   {
    "cell": {
     "executionCount": 75,
     "executionEventId": "1029381a-97dc-4839-867a-80722bad040c",
     "hasError": false,
     "id": "cace3427-4a4b-445f-a184-959c49ea43b4",
     "outputs": [
      {
       "data": {
        "application/vnd.jupyter.widget-view+json": {
         "model_id": "9ed2872c6513483094e7511474ec75fb",
         "version_major": 2,
         "version_minor": 0
        },
        "text/plain": "Layout(children=[Content(children=[Flex(children=[Map(basemap={'url': 'http://c.basemaps.cartocdn.com/dark_all…"
       },
       "metadata": {},
       "output_type": "display_data"
      }
     ],
     "persistentId": "63c8aeab-0a61-499c-9835-229ef5ce8b54",
     "text": "v.Layout(\n    children=[\n        v.Content(\n        _metadata={\"mount_id\": \"content-main\"},\n        wrap=True,\n        row=True,\n        align_center=True,\n        children=[\n            v.Flex(xs12=True, lg6=True, xl4=True, children=[m]),\n            v.Divider(),\n            v.Banner(\n                single_line=True,\n                v_slots=[\n                    {\"name\": \"icon\", \"children\": v.Icon(color=\"deep-purple accent-4\", children=[\"room\"])},\n                ],\n                children=[\"Click on the pinatas to see the location and date details\"],\n            ),\n        \n        ],\n        ),\n        v.Sheet(\n            children=[\n                v.ToolbarTitle(children=['hola'])\n            ]\n        )\n    ]\n)\n"
    },
    "executionTime": "2019-12-16T19:16:17.613Z"
   },
   {
    "cell": {
     "executionCount": 76,
     "executionEventId": "e521f62b-7574-46bc-83db-72d1813fc1ad",
     "hasError": false,
     "id": "550b7556-fc90-4986-bf1a-5e0a24456646",
     "outputs": [],
     "persistentId": "1d60603d-be35-4d7c-9d4c-7e6f00d6aa8f",
     "text": "import ipyvuetify as v\nfrom ipywidgets import IntSlider, jslink, widgets\nfrom ipyleaflet import Map, Marker, Popup, WidgetControl, Icon, basemaps\nimport json\nfrom pathlib import Path"
    },
    "executionTime": "2019-12-16T20:26:12.434Z"
   },
   {
    "cell": {
     "executionCount": 77,
     "executionEventId": "424f1840-f6b4-41c0-aace-b6f7ff4efc7c",
     "hasError": false,
     "id": "2292d473-9384-454c-b943-dcae23f45d62",
     "outputs": [],
     "persistentId": "6daf55d1-9460-48dc-b7a5-7054109241eb",
     "text": "def get_locations():\n    loc_path = Path(\"./data/locations.json\")\n    with open(loc_path, 'r') as json_file:\n        locations = json.load(json_file)\n    return locations.get(\"locations\")"
    },
    "executionTime": "2019-12-16T20:26:12.640Z"
   },
   {
    "cell": {
     "executionCount": 78,
     "executionEventId": "4590c81d-9d3d-43cd-a24f-087d184cb8f9",
     "hasError": false,
     "id": "8b271695-4ed2-42c7-965d-17bbc383ed6d",
     "outputs": [],
     "persistentId": "99c047a3-6c9f-4608-a9ab-6e03c2dee00c",
     "text": "locations = get_locations()"
    },
    "executionTime": "2019-12-16T20:26:12.842Z"
   },
   {
    "cell": {
     "executionCount": 79,
     "executionEventId": "03281029-8e14-46e7-a8ec-26e86a395eca",
     "hasError": true,
     "id": "fae77b10-356f-4f4a-ad97-b7e7a556d0fd",
     "outputs": [
      {
       "ename": "KeyError",
       "evalue": "'day'",
       "output_type": "error",
       "traceback": [
        "\u001b[0;31m---------------------------------------------------------------------------\u001b[0m",
        "\u001b[0;31mKeyError\u001b[0m                                  Traceback (most recent call last)",
        "\u001b[0;32m<ipython-input-79-a2cbda8a58b1>\u001b[0m in \u001b[0;36m<module>\u001b[0;34m\u001b[0m\n\u001b[1;32m     22\u001b[0m \u001b[0;34m\u001b[0m\u001b[0m\n\u001b[1;32m     23\u001b[0m \u001b[0;34m\u001b[0m\u001b[0m\n\u001b[0;32m---> 24\u001b[0;31m \u001b[0mm\u001b[0m \u001b[0;34m=\u001b[0m \u001b[0mcreate_map\u001b[0m\u001b[0;34m(\u001b[0m\u001b[0;34m)\u001b[0m\u001b[0;34m\u001b[0m\u001b[0;34m\u001b[0m\u001b[0m\n\u001b[0m",
        "\u001b[0;32m<ipython-input-79-a2cbda8a58b1>\u001b[0m in \u001b[0;36mcreate_map\u001b[0;34m()\u001b[0m\n\u001b[1;32m      5\u001b[0m                   \u001b[0mtouch_zoom\u001b[0m\u001b[0;34m=\u001b[0m\u001b[0;32mTrue\u001b[0m\u001b[0;34m,\u001b[0m\u001b[0;34m\u001b[0m\u001b[0;34m\u001b[0m\u001b[0m\n\u001b[1;32m      6\u001b[0m                   basemap=basemaps.CartoDB.DarkMatter)\n\u001b[0;32m----> 7\u001b[0;31m     \u001b[0mget_markers\u001b[0m\u001b[0;34m(\u001b[0m\u001b[0mm\u001b[0m\u001b[0;34m)\u001b[0m\u001b[0;34m\u001b[0m\u001b[0;34m\u001b[0m\u001b[0m\n\u001b[0m\u001b[1;32m      8\u001b[0m     \u001b[0;32mreturn\u001b[0m \u001b[0mm\u001b[0m\u001b[0;34m\u001b[0m\u001b[0;34m\u001b[0m\u001b[0m\n\u001b[1;32m      9\u001b[0m \u001b[0;34m\u001b[0m\u001b[0m\n",
        "\u001b[0;32m<ipython-input-79-a2cbda8a58b1>\u001b[0m in \u001b[0;36mget_markers\u001b[0;34m(m)\u001b[0m\n\u001b[1;32m     17\u001b[0m                         icon=icon)\n\u001b[1;32m     18\u001b[0m         \u001b[0mmessage\u001b[0m \u001b[0;34m=\u001b[0m \u001b[0mwidgets\u001b[0m\u001b[0;34m.\u001b[0m\u001b[0mHTML\u001b[0m\u001b[0;34m(\u001b[0m\u001b[0;34m)\u001b[0m\u001b[0;34m\u001b[0m\u001b[0;34m\u001b[0m\u001b[0m\n\u001b[0;32m---> 19\u001b[0;31m         \u001b[0mmessage\u001b[0m\u001b[0;34m.\u001b[0m\u001b[0mvalue\u001b[0m \u001b[0;34m=\u001b[0m \u001b[0;34mf\"Host: {place.get('host')} <br> Place: {place['name']} <br> Date: December {place['day']}\"\u001b[0m\u001b[0;34m\u001b[0m\u001b[0;34m\u001b[0m\u001b[0m\n\u001b[0m\u001b[1;32m     20\u001b[0m         \u001b[0mmarker\u001b[0m\u001b[0;34m.\u001b[0m\u001b[0mpopup\u001b[0m \u001b[0;34m=\u001b[0m \u001b[0mmessage\u001b[0m\u001b[0;34m\u001b[0m\u001b[0;34m\u001b[0m\u001b[0m\n\u001b[1;32m     21\u001b[0m         \u001b[0mm\u001b[0m\u001b[0;34m.\u001b[0m\u001b[0madd_layer\u001b[0m\u001b[0;34m(\u001b[0m\u001b[0mmarker\u001b[0m\u001b[0;34m)\u001b[0m\u001b[0;34m;\u001b[0m\u001b[0;34m\u001b[0m\u001b[0;34m\u001b[0m\u001b[0m\n",
        "\u001b[0;31mKeyError\u001b[0m: 'day'"
       ]
      }
     ],
     "persistentId": "229dfb64-a734-43ee-95cb-f7abe0a2e484",
     "text": "def create_map():\n    center = (19.3952, -99.1412)\n    m = Map(center=center,\n                  zoom=11, dragging=True,\n                  touch_zoom=True,\n                  basemap=basemaps.CartoDB.DarkMatter)\n    get_markers(m)\n    return m\n    \n    \ndef get_markers(m):\n    icon = Icon(icon_url='https://image.flaticon.com/icons/png/512/762/762053.png',\n               icon_size=[30,30])\n    for place in locations:\n        coord = (place['location']['lon'], -place['location']['lat'])\n        marker = Marker(location=coord, draggable=False,\n                        icon=icon)\n        message = widgets.HTML()\n        message.value = f\"Host: {place.get('host')} <br> Place: {place['name']} <br> Date: December {place['day']}\"\n        marker.popup = message\n        m.add_layer(marker);\n\n        \nm = create_map()"
    },
    "executionTime": "2019-12-16T20:26:13.153Z"
   },
   {
    "cell": {
     "executionCount": 80,
     "executionEventId": "f06dbfbf-fa11-496d-8f11-32b6deb83c79",
     "hasError": true,
     "id": "550b7556-fc90-4986-bf1a-5e0a24456646",
     "outputs": [
      {
       "ename": "ModuleNotFoundError",
       "evalue": "No module named 'datetetime'",
       "output_type": "error",
       "traceback": [
        "\u001b[0;31m---------------------------------------------------------------------------\u001b[0m",
        "\u001b[0;31mModuleNotFoundError\u001b[0m                       Traceback (most recent call last)",
        "\u001b[0;32m<ipython-input-80-8761072a4f3d>\u001b[0m in \u001b[0;36m<module>\u001b[0;34m\u001b[0m\n\u001b[1;32m      4\u001b[0m \u001b[0;32mimport\u001b[0m \u001b[0mjson\u001b[0m\u001b[0;34m\u001b[0m\u001b[0;34m\u001b[0m\u001b[0m\n\u001b[1;32m      5\u001b[0m \u001b[0;32mfrom\u001b[0m \u001b[0mpathlib\u001b[0m \u001b[0;32mimport\u001b[0m \u001b[0mPath\u001b[0m\u001b[0;34m\u001b[0m\u001b[0;34m\u001b[0m\u001b[0m\n\u001b[0;32m----> 6\u001b[0;31m \u001b[0;32mimport\u001b[0m \u001b[0mdatetetime\u001b[0m\u001b[0;34m\u001b[0m\u001b[0;34m\u001b[0m\u001b[0m\n\u001b[0m",
        "\u001b[0;31mModuleNotFoundError\u001b[0m: No module named 'datetetime'"
       ]
      }
     ],
     "persistentId": "1d60603d-be35-4d7c-9d4c-7e6f00d6aa8f",
     "text": "import ipyvuetify as v\nfrom ipywidgets import IntSlider, jslink, widgets\nfrom ipyleaflet import Map, Marker, Popup, WidgetControl, Icon, basemaps\nimport json\nfrom pathlib import Path\nimport datetetime"
    },
    "executionTime": "2019-12-16T20:27:50.865Z"
   },
   {
    "cell": {
     "executionCount": 81,
     "executionEventId": "19176eca-d820-4749-90d2-58e0fc13dcc9",
     "hasError": false,
     "id": "550b7556-fc90-4986-bf1a-5e0a24456646",
     "outputs": [],
     "persistentId": "1d60603d-be35-4d7c-9d4c-7e6f00d6aa8f",
     "text": "import ipyvuetify as v\nfrom ipywidgets import IntSlider, jslink, widgets\nfrom ipyleaflet import Map, Marker, Popup, WidgetControl, Icon, basemaps\nimport json\nfrom pathlib import Path\nimport datetime"
    },
    "executionTime": "2019-12-16T20:28:20.994Z"
   },
   {
    "cell": {
     "executionCount": 82,
     "executionEventId": "37fb3228-ee48-490d-b147-1a6c6e382dfc",
     "hasError": false,
     "id": "fae77b10-356f-4f4a-ad97-b7e7a556d0fd",
     "outputs": [],
     "persistentId": "229dfb64-a734-43ee-95cb-f7abe0a2e484",
     "text": "def create_map():\n    center = (19.3952, -99.1412)\n    m = Map(center=center,\n                  zoom=11, dragging=True,\n                  touch_zoom=True,\n                  basemap=basemaps.CartoDB.DarkMatter)\n    get_markers(m)\n    return m\n    \n    \ndef get_markers(m):\n    icon = Icon(icon_url='https://image.flaticon.com/icons/png/512/762/762053.png',\n               icon_size=[30,30])\n    for place in locations:\n        coord = (place['location']['lon'], -place['location']['lat'])\n        marker = Marker(location=coord, draggable=False,\n                        icon=icon)\n        message = widgets.HTML()\n        message.value = f\"Host: {place.get('host')} <br> Place: {place['name']} <br> {place.get('date')}\"\n        marker.popup = message\n        m.add_layer(marker);\n\n        \nm = create_map()"
    },
    "executionTime": "2019-12-16T20:28:57.343Z"
   },
   {
    "cell": {
     "executionCount": 83,
     "executionEventId": "41941551-09ce-4a53-b371-884e5ef5aae2",
     "hasError": false,
     "id": "cace3427-4a4b-445f-a184-959c49ea43b4",
     "outputs": [
      {
       "data": {
        "application/vnd.jupyter.widget-view+json": {
         "model_id": "91488cde5ffa4a0eb924df3fc1185423",
         "version_major": 2,
         "version_minor": 0
        },
        "text/plain": "Layout(children=[Content(children=[Flex(children=[Map(basemap={'url': 'http://c.basemaps.cartocdn.com/dark_all…"
       },
       "metadata": {},
       "output_type": "display_data"
      }
     ],
     "persistentId": "63c8aeab-0a61-499c-9835-229ef5ce8b54",
     "text": "v.Layout(\n    children=[\n        v.Content(\n        _metadata={\"mount_id\": \"content-main\"},\n        wrap=True,\n        row=True,\n        align_center=True,\n        children=[v.Flex(xs12=True, lg6=True, xl4=True, children=[m]),\n            v.Divider(),\n            v.Banner(\n                single_line=True,\n                v_slots=[\n                    {\"name\": \"icon\", \"children\": v.Icon(color=\"#f5cd79\", children=[\"room\"])},\n                ],\n                children=[\"Click on the pinatas to see the location and date details\"],\n            ),\n        \n        ],\n        ),\n       \n    ]\n)\n"
    },
    "executionTime": "2019-12-16T20:29:01.424Z"
   },
   {
    "cell": {
     "executionCount": 84,
     "executionEventId": "7da6184c-a263-491e-a8bb-d05c69165127",
     "hasError": false,
     "id": "fae77b10-356f-4f4a-ad97-b7e7a556d0fd",
     "outputs": [],
     "persistentId": "229dfb64-a734-43ee-95cb-f7abe0a2e484",
     "text": "def create_map():\n    center = (19.3952, -99.1412)\n    m = Map(center=center,\n                  zoom=11, dragging=True,\n                  touch_zoom=True,\n                  basemap=basemaps.CartoDB.DarkMatter)\n    get_markers(m)\n    return m\n    \n    \ndef get_markers(m):\n    icon = Icon(icon_url='https://image.flaticon.com/icons/png/512/762/762053.png',\n               icon_size=[30,30])\n    for place in locations:\n        coord = (place['location']['lon'], -place['location']['lat'])\n        marker = Marker(location=coord, draggable=False,\n                        icon=icon)\n        message = widgets.HTML()\n        message.value = f\"Host: {place.get('host')} <br> Place: {place.get('name')} <br> {place.get('date')}\"\n        marker.popup = message\n        m.add_layer(marker);\n\n        \nm = create_map()"
    },
    "executionTime": "2019-12-16T20:29:28.634Z"
   },
   {
    "cell": {
     "executionCount": 85,
     "executionEventId": "e3cac26a-3a2f-4258-9b8c-1499289db588",
     "hasError": true,
     "id": "fae77b10-356f-4f4a-ad97-b7e7a556d0fd",
     "outputs": [
      {
       "ename": "TypeError",
       "evalue": "an integer is required (got type str)",
       "output_type": "error",
       "traceback": [
        "\u001b[0;31m---------------------------------------------------------------------------\u001b[0m",
        "\u001b[0;31mTypeError\u001b[0m                                 Traceback (most recent call last)",
        "\u001b[0;32m<ipython-input-85-2b259ae3683d>\u001b[0m in \u001b[0;36m<module>\u001b[0;34m\u001b[0m\n\u001b[1;32m     24\u001b[0m \u001b[0;34m\u001b[0m\u001b[0m\n\u001b[1;32m     25\u001b[0m \u001b[0;34m\u001b[0m\u001b[0m\n\u001b[0;32m---> 26\u001b[0;31m \u001b[0mm\u001b[0m \u001b[0;34m=\u001b[0m \u001b[0mcreate_map\u001b[0m\u001b[0;34m(\u001b[0m\u001b[0;34m)\u001b[0m\u001b[0;34m\u001b[0m\u001b[0;34m\u001b[0m\u001b[0m\n\u001b[0m",
        "\u001b[0;32m<ipython-input-85-2b259ae3683d>\u001b[0m in \u001b[0;36mcreate_map\u001b[0;34m()\u001b[0m\n\u001b[1;32m      5\u001b[0m                   \u001b[0mtouch_zoom\u001b[0m\u001b[0;34m=\u001b[0m\u001b[0;32mTrue\u001b[0m\u001b[0;34m,\u001b[0m\u001b[0;34m\u001b[0m\u001b[0;34m\u001b[0m\u001b[0m\n\u001b[1;32m      6\u001b[0m                   basemap=basemaps.CartoDB.DarkMatter)\n\u001b[0;32m----> 7\u001b[0;31m     \u001b[0mget_markers\u001b[0m\u001b[0;34m(\u001b[0m\u001b[0mm\u001b[0m\u001b[0;34m)\u001b[0m\u001b[0;34m\u001b[0m\u001b[0;34m\u001b[0m\u001b[0m\n\u001b[0m\u001b[1;32m      8\u001b[0m     \u001b[0;32mreturn\u001b[0m \u001b[0mm\u001b[0m\u001b[0;34m\u001b[0m\u001b[0;34m\u001b[0m\u001b[0m\n\u001b[1;32m      9\u001b[0m \u001b[0;34m\u001b[0m\u001b[0m\n",
        "\u001b[0;32m<ipython-input-85-2b259ae3683d>\u001b[0m in \u001b[0;36mget_markers\u001b[0;34m(m)\u001b[0m\n\u001b[1;32m     17\u001b[0m                         icon=icon)\n\u001b[1;32m     18\u001b[0m         \u001b[0mmessage\u001b[0m \u001b[0;34m=\u001b[0m \u001b[0mwidgets\u001b[0m\u001b[0;34m.\u001b[0m\u001b[0mHTML\u001b[0m\u001b[0;34m(\u001b[0m\u001b[0;34m)\u001b[0m\u001b[0;34m\u001b[0m\u001b[0;34m\u001b[0m\u001b[0m\n\u001b[0;32m---> 19\u001b[0;31m         \u001b[0mdate\u001b[0m \u001b[0;34m=\u001b[0m \u001b[0mdatetime\u001b[0m\u001b[0;34m.\u001b[0m\u001b[0mdatetime\u001b[0m\u001b[0;34m(\u001b[0m\u001b[0mplace\u001b[0m\u001b[0;34m.\u001b[0m\u001b[0mget\u001b[0m\u001b[0;34m(\u001b[0m\u001b[0;34m'date'\u001b[0m\u001b[0;34m)\u001b[0m\u001b[0;34m)\u001b[0m\u001b[0;34m.\u001b[0m\u001b[0mstrftime\u001b[0m\u001b[0;34m(\u001b[0m\u001b[0;34m\"%B %d\"\u001b[0m\u001b[0;34m)\u001b[0m\u001b[0;34m\u001b[0m\u001b[0;34m\u001b[0m\u001b[0m\n\u001b[0m\u001b[1;32m     20\u001b[0m         \u001b[0mprint\u001b[0m\u001b[0;34m(\u001b[0m\u001b[0mdate\u001b[0m\u001b[0;34m)\u001b[0m\u001b[0;34m\u001b[0m\u001b[0;34m\u001b[0m\u001b[0m\n\u001b[1;32m     21\u001b[0m         \u001b[0mmessage\u001b[0m\u001b[0;34m.\u001b[0m\u001b[0mvalue\u001b[0m \u001b[0;34m=\u001b[0m \u001b[0;34mf\"Host: {place.get('host')} <br> Place: {place.get('name')} <br> {place.get('date')}\"\u001b[0m\u001b[0;34m\u001b[0m\u001b[0;34m\u001b[0m\u001b[0m\n",
        "\u001b[0;31mTypeError\u001b[0m: an integer is required (got type str)"
       ]
      }
     ],
     "persistentId": "229dfb64-a734-43ee-95cb-f7abe0a2e484",
     "text": "def create_map():\n    center = (19.3952, -99.1412)\n    m = Map(center=center,\n                  zoom=11, dragging=True,\n                  touch_zoom=True,\n                  basemap=basemaps.CartoDB.DarkMatter)\n    get_markers(m)\n    return m\n    \n    \ndef get_markers(m):\n    icon = Icon(icon_url='https://image.flaticon.com/icons/png/512/762/762053.png',\n               icon_size=[30,30])\n    for place in locations:\n        coord = (place['location']['lon'], -place['location']['lat'])\n        marker = Marker(location=coord, draggable=False,\n                        icon=icon)\n        message = widgets.HTML()\n        date = datetime.datetime(place.get('date')).strftime(\"%B %d\")\n        print(date)\n        message.value = f\"Host: {place.get('host')} <br> Place: {place.get('name')} <br> {place.get('date')}\"\n        marker.popup = message\n        m.add_layer(marker);\n\n        \nm = create_map()"
    },
    "executionTime": "2019-12-16T20:30:52.228Z"
   },
   {
    "cell": {
     "executionCount": 86,
     "executionEventId": "faf4afeb-eb0f-4d00-ab81-3d1d6055dfe8",
     "hasError": true,
     "id": "fae77b10-356f-4f4a-ad97-b7e7a556d0fd",
     "outputs": [
      {
       "ename": "TypeError",
       "evalue": "an integer is required (got type str)",
       "output_type": "error",
       "traceback": [
        "\u001b[0;31m---------------------------------------------------------------------------\u001b[0m",
        "\u001b[0;31mTypeError\u001b[0m                                 Traceback (most recent call last)",
        "\u001b[0;32m<ipython-input-86-48dfb09b5e6d>\u001b[0m in \u001b[0;36m<module>\u001b[0;34m\u001b[0m\n\u001b[1;32m     24\u001b[0m \u001b[0;34m\u001b[0m\u001b[0m\n\u001b[1;32m     25\u001b[0m \u001b[0;34m\u001b[0m\u001b[0m\n\u001b[0;32m---> 26\u001b[0;31m \u001b[0mm\u001b[0m \u001b[0;34m=\u001b[0m \u001b[0mcreate_map\u001b[0m\u001b[0;34m(\u001b[0m\u001b[0;34m)\u001b[0m\u001b[0;34m\u001b[0m\u001b[0;34m\u001b[0m\u001b[0m\n\u001b[0m",
        "\u001b[0;32m<ipython-input-86-48dfb09b5e6d>\u001b[0m in \u001b[0;36mcreate_map\u001b[0;34m()\u001b[0m\n\u001b[1;32m      5\u001b[0m                   \u001b[0mtouch_zoom\u001b[0m\u001b[0;34m=\u001b[0m\u001b[0;32mTrue\u001b[0m\u001b[0;34m,\u001b[0m\u001b[0;34m\u001b[0m\u001b[0;34m\u001b[0m\u001b[0m\n\u001b[1;32m      6\u001b[0m                   basemap=basemaps.CartoDB.DarkMatter)\n\u001b[0;32m----> 7\u001b[0;31m     \u001b[0mget_markers\u001b[0m\u001b[0;34m(\u001b[0m\u001b[0mm\u001b[0m\u001b[0;34m)\u001b[0m\u001b[0;34m\u001b[0m\u001b[0;34m\u001b[0m\u001b[0m\n\u001b[0m\u001b[1;32m      8\u001b[0m     \u001b[0;32mreturn\u001b[0m \u001b[0mm\u001b[0m\u001b[0;34m\u001b[0m\u001b[0;34m\u001b[0m\u001b[0m\n\u001b[1;32m      9\u001b[0m \u001b[0;34m\u001b[0m\u001b[0m\n",
        "\u001b[0;32m<ipython-input-86-48dfb09b5e6d>\u001b[0m in \u001b[0;36mget_markers\u001b[0;34m(m)\u001b[0m\n\u001b[1;32m     17\u001b[0m                         icon=icon)\n\u001b[1;32m     18\u001b[0m         \u001b[0mmessage\u001b[0m \u001b[0;34m=\u001b[0m \u001b[0mwidgets\u001b[0m\u001b[0;34m.\u001b[0m\u001b[0mHTML\u001b[0m\u001b[0;34m(\u001b[0m\u001b[0;34m)\u001b[0m\u001b[0;34m\u001b[0m\u001b[0;34m\u001b[0m\u001b[0m\n\u001b[0;32m---> 19\u001b[0;31m         \u001b[0mdate\u001b[0m \u001b[0;34m=\u001b[0m \u001b[0mdatetime\u001b[0m\u001b[0;34m.\u001b[0m\u001b[0mdatetime\u001b[0m\u001b[0;34m(\u001b[0m\u001b[0mplace\u001b[0m\u001b[0;34m.\u001b[0m\u001b[0mget\u001b[0m\u001b[0;34m(\u001b[0m\u001b[0;34m'date'\u001b[0m\u001b[0;34m)\u001b[0m\u001b[0;34m)\u001b[0m\u001b[0;34m.\u001b[0m\u001b[0mstrptime\u001b[0m\u001b[0;34m(\u001b[0m\u001b[0;34m\"%B %d\"\u001b[0m\u001b[0;34m)\u001b[0m\u001b[0;34m\u001b[0m\u001b[0;34m\u001b[0m\u001b[0m\n\u001b[0m\u001b[1;32m     20\u001b[0m         \u001b[0mprint\u001b[0m\u001b[0;34m(\u001b[0m\u001b[0mdate\u001b[0m\u001b[0;34m)\u001b[0m\u001b[0;34m\u001b[0m\u001b[0;34m\u001b[0m\u001b[0m\n\u001b[1;32m     21\u001b[0m         \u001b[0mmessage\u001b[0m\u001b[0;34m.\u001b[0m\u001b[0mvalue\u001b[0m \u001b[0;34m=\u001b[0m \u001b[0;34mf\"Host: {place.get('host')} <br> Place: {place.get('name')} <br> {place.get('date')}\"\u001b[0m\u001b[0;34m\u001b[0m\u001b[0;34m\u001b[0m\u001b[0m\n",
        "\u001b[0;31mTypeError\u001b[0m: an integer is required (got type str)"
       ]
      }
     ],
     "persistentId": "229dfb64-a734-43ee-95cb-f7abe0a2e484",
     "text": "def create_map():\n    center = (19.3952, -99.1412)\n    m = Map(center=center,\n                  zoom=11, dragging=True,\n                  touch_zoom=True,\n                  basemap=basemaps.CartoDB.DarkMatter)\n    get_markers(m)\n    return m\n    \n    \ndef get_markers(m):\n    icon = Icon(icon_url='https://image.flaticon.com/icons/png/512/762/762053.png',\n               icon_size=[30,30])\n    for place in locations:\n        coord = (place['location']['lon'], -place['location']['lat'])\n        marker = Marker(location=coord, draggable=False,\n                        icon=icon)\n        message = widgets.HTML()\n        date = datetime.datetime(place.get('date')).strptime(\"%B %d\")\n        print(date)\n        message.value = f\"Host: {place.get('host')} <br> Place: {place.get('name')} <br> {place.get('date')}\"\n        marker.popup = message\n        m.add_layer(marker);\n\n        \nm = create_map()"
    },
    "executionTime": "2019-12-16T20:31:15.038Z"
   },
   {
    "cell": {
     "executionCount": 87,
     "executionEventId": "597001ad-ade6-4d5b-9fad-19165294f761",
     "hasError": false,
     "id": "fae77b10-356f-4f4a-ad97-b7e7a556d0fd",
     "outputs": [
      {
       "name": "stdout",
       "output_type": "stream",
       "text": "1900-12-16 00:00:00\n1900-12-17 00:00:00\n1900-12-18 00:00:00\n"
      }
     ],
     "persistentId": "229dfb64-a734-43ee-95cb-f7abe0a2e484",
     "text": "def create_map():\n    center = (19.3952, -99.1412)\n    m = Map(center=center,\n                  zoom=11, dragging=True,\n                  touch_zoom=True,\n                  basemap=basemaps.CartoDB.DarkMatter)\n    get_markers(m)\n    return m\n    \n    \ndef get_markers(m):\n    icon = Icon(icon_url='https://image.flaticon.com/icons/png/512/762/762053.png',\n               icon_size=[30,30])\n    for place in locations:\n        coord = (place['location']['lon'], -place['location']['lat'])\n        marker = Marker(location=coord, draggable=False,\n                        icon=icon)\n        message = widgets.HTML()\n        date = datetime.datetime.strptime(place.get('date'), \"%B %d\")\n        print(date)\n        message.value = f\"Host: {place.get('host')} <br> Place: {place.get('name')} <br> {place.get('date')}\"\n        marker.popup = message\n        m.add_layer(marker);\n\n        \nm = create_map()"
    },
    "executionTime": "2019-12-16T20:31:38.442Z"
   },
   {
    "cell": {
     "executionCount": 88,
     "executionEventId": "996b228b-6d12-4267-bd3f-0ee58251d2a3",
     "hasError": true,
     "id": "fae77b10-356f-4f4a-ad97-b7e7a556d0fd",
     "outputs": [
      {
       "ename": "ValueError",
       "evalue": "time data 'December 16' does not match format '2019 %B %d'",
       "output_type": "error",
       "traceback": [
        "\u001b[0;31m---------------------------------------------------------------------------\u001b[0m",
        "\u001b[0;31mValueError\u001b[0m                                Traceback (most recent call last)",
        "\u001b[0;32m<ipython-input-88-50bd47e0fa80>\u001b[0m in \u001b[0;36m<module>\u001b[0;34m\u001b[0m\n\u001b[1;32m     24\u001b[0m \u001b[0;34m\u001b[0m\u001b[0m\n\u001b[1;32m     25\u001b[0m \u001b[0;34m\u001b[0m\u001b[0m\n\u001b[0;32m---> 26\u001b[0;31m \u001b[0mm\u001b[0m \u001b[0;34m=\u001b[0m \u001b[0mcreate_map\u001b[0m\u001b[0;34m(\u001b[0m\u001b[0;34m)\u001b[0m\u001b[0;34m\u001b[0m\u001b[0;34m\u001b[0m\u001b[0m\n\u001b[0m",
        "\u001b[0;32m<ipython-input-88-50bd47e0fa80>\u001b[0m in \u001b[0;36mcreate_map\u001b[0;34m()\u001b[0m\n\u001b[1;32m      5\u001b[0m                   \u001b[0mtouch_zoom\u001b[0m\u001b[0;34m=\u001b[0m\u001b[0;32mTrue\u001b[0m\u001b[0;34m,\u001b[0m\u001b[0;34m\u001b[0m\u001b[0;34m\u001b[0m\u001b[0m\n\u001b[1;32m      6\u001b[0m                   basemap=basemaps.CartoDB.DarkMatter)\n\u001b[0;32m----> 7\u001b[0;31m     \u001b[0mget_markers\u001b[0m\u001b[0;34m(\u001b[0m\u001b[0mm\u001b[0m\u001b[0;34m)\u001b[0m\u001b[0;34m\u001b[0m\u001b[0;34m\u001b[0m\u001b[0m\n\u001b[0m\u001b[1;32m      8\u001b[0m     \u001b[0;32mreturn\u001b[0m \u001b[0mm\u001b[0m\u001b[0;34m\u001b[0m\u001b[0;34m\u001b[0m\u001b[0m\n\u001b[1;32m      9\u001b[0m \u001b[0;34m\u001b[0m\u001b[0m\n",
        "\u001b[0;32m<ipython-input-88-50bd47e0fa80>\u001b[0m in \u001b[0;36mget_markers\u001b[0;34m(m)\u001b[0m\n\u001b[1;32m     17\u001b[0m                         icon=icon)\n\u001b[1;32m     18\u001b[0m         \u001b[0mmessage\u001b[0m \u001b[0;34m=\u001b[0m \u001b[0mwidgets\u001b[0m\u001b[0;34m.\u001b[0m\u001b[0mHTML\u001b[0m\u001b[0;34m(\u001b[0m\u001b[0;34m)\u001b[0m\u001b[0;34m\u001b[0m\u001b[0;34m\u001b[0m\u001b[0m\n\u001b[0;32m---> 19\u001b[0;31m         \u001b[0mdate\u001b[0m \u001b[0;34m=\u001b[0m \u001b[0mdatetime\u001b[0m\u001b[0;34m.\u001b[0m\u001b[0mdatetime\u001b[0m\u001b[0;34m.\u001b[0m\u001b[0mstrptime\u001b[0m\u001b[0;34m(\u001b[0m\u001b[0mplace\u001b[0m\u001b[0;34m.\u001b[0m\u001b[0mget\u001b[0m\u001b[0;34m(\u001b[0m\u001b[0;34m'date'\u001b[0m\u001b[0;34m)\u001b[0m\u001b[0;34m,\u001b[0m \u001b[0;34m\"2019 %B %d\"\u001b[0m\u001b[0;34m)\u001b[0m\u001b[0;34m\u001b[0m\u001b[0;34m\u001b[0m\u001b[0m\n\u001b[0m\u001b[1;32m     20\u001b[0m         \u001b[0mprint\u001b[0m\u001b[0;34m(\u001b[0m\u001b[0mdate\u001b[0m\u001b[0;34m)\u001b[0m\u001b[0;34m\u001b[0m\u001b[0;34m\u001b[0m\u001b[0m\n\u001b[1;32m     21\u001b[0m         \u001b[0mmessage\u001b[0m\u001b[0;34m.\u001b[0m\u001b[0mvalue\u001b[0m \u001b[0;34m=\u001b[0m \u001b[0;34mf\"Host: {place.get('host')} <br> Place: {place.get('name')} <br> {place.get('date')}\"\u001b[0m\u001b[0;34m\u001b[0m\u001b[0;34m\u001b[0m\u001b[0m\n",
        "\u001b[0;32m/anaconda3/lib/python3.7/_strptime.py\u001b[0m in \u001b[0;36m_strptime_datetime\u001b[0;34m(cls, data_string, format)\u001b[0m\n\u001b[1;32m    575\u001b[0m     \"\"\"Return a class cls instance based on the input string and the\n\u001b[1;32m    576\u001b[0m     format string.\"\"\"\n\u001b[0;32m--> 577\u001b[0;31m     \u001b[0mtt\u001b[0m\u001b[0;34m,\u001b[0m \u001b[0mfraction\u001b[0m\u001b[0;34m,\u001b[0m \u001b[0mgmtoff_fraction\u001b[0m \u001b[0;34m=\u001b[0m \u001b[0m_strptime\u001b[0m\u001b[0;34m(\u001b[0m\u001b[0mdata_string\u001b[0m\u001b[0;34m,\u001b[0m \u001b[0mformat\u001b[0m\u001b[0;34m)\u001b[0m\u001b[0;34m\u001b[0m\u001b[0;34m\u001b[0m\u001b[0m\n\u001b[0m\u001b[1;32m    578\u001b[0m     \u001b[0mtzname\u001b[0m\u001b[0;34m,\u001b[0m \u001b[0mgmtoff\u001b[0m \u001b[0;34m=\u001b[0m \u001b[0mtt\u001b[0m\u001b[0;34m[\u001b[0m\u001b[0;34m-\u001b[0m\u001b[0;36m2\u001b[0m\u001b[0;34m:\u001b[0m\u001b[0;34m]\u001b[0m\u001b[0;34m\u001b[0m\u001b[0;34m\u001b[0m\u001b[0m\n\u001b[1;32m    579\u001b[0m     \u001b[0margs\u001b[0m \u001b[0;34m=\u001b[0m \u001b[0mtt\u001b[0m\u001b[0;34m[\u001b[0m\u001b[0;34m:\u001b[0m\u001b[0;36m6\u001b[0m\u001b[0;34m]\u001b[0m \u001b[0;34m+\u001b[0m \u001b[0;34m(\u001b[0m\u001b[0mfraction\u001b[0m\u001b[0;34m,\u001b[0m\u001b[0;34m)\u001b[0m\u001b[0;34m\u001b[0m\u001b[0;34m\u001b[0m\u001b[0m\n",
        "\u001b[0;32m/anaconda3/lib/python3.7/_strptime.py\u001b[0m in \u001b[0;36m_strptime\u001b[0;34m(data_string, format)\u001b[0m\n\u001b[1;32m    357\u001b[0m     \u001b[0;32mif\u001b[0m \u001b[0;32mnot\u001b[0m \u001b[0mfound\u001b[0m\u001b[0;34m:\u001b[0m\u001b[0;34m\u001b[0m\u001b[0;34m\u001b[0m\u001b[0m\n\u001b[1;32m    358\u001b[0m         raise ValueError(\"time data %r does not match format %r\" %\n\u001b[0;32m--> 359\u001b[0;31m                          (data_string, format))\n\u001b[0m\u001b[1;32m    360\u001b[0m     \u001b[0;32mif\u001b[0m \u001b[0mlen\u001b[0m\u001b[0;34m(\u001b[0m\u001b[0mdata_string\u001b[0m\u001b[0;34m)\u001b[0m \u001b[0;34m!=\u001b[0m \u001b[0mfound\u001b[0m\u001b[0;34m.\u001b[0m\u001b[0mend\u001b[0m\u001b[0;34m(\u001b[0m\u001b[0;34m)\u001b[0m\u001b[0;34m:\u001b[0m\u001b[0;34m\u001b[0m\u001b[0;34m\u001b[0m\u001b[0m\n\u001b[1;32m    361\u001b[0m         raise ValueError(\"unconverted data remains: %s\" %\n",
        "\u001b[0;31mValueError\u001b[0m: time data 'December 16' does not match format '2019 %B %d'"
       ]
      }
     ],
     "persistentId": "229dfb64-a734-43ee-95cb-f7abe0a2e484",
     "text": "def create_map():\n    center = (19.3952, -99.1412)\n    m = Map(center=center,\n                  zoom=11, dragging=True,\n                  touch_zoom=True,\n                  basemap=basemaps.CartoDB.DarkMatter)\n    get_markers(m)\n    return m\n    \n    \ndef get_markers(m):\n    icon = Icon(icon_url='https://image.flaticon.com/icons/png/512/762/762053.png',\n               icon_size=[30,30])\n    for place in locations:\n        coord = (place['location']['lon'], -place['location']['lat'])\n        marker = Marker(location=coord, draggable=False,\n                        icon=icon)\n        message = widgets.HTML()\n        date = datetime.datetime.strptime(place.get('date'), \"2019 %B %d\")\n        print(date)\n        message.value = f\"Host: {place.get('host')} <br> Place: {place.get('name')} <br> {place.get('date')}\"\n        marker.popup = message\n        m.add_layer(marker);\n\n        \nm = create_map()"
    },
    "executionTime": "2019-12-16T20:33:30.243Z"
   },
   {
    "cell": {
     "executionCount": 89,
     "executionEventId": "d58ef166-d809-450b-8f87-409eff75865e",
     "hasError": true,
     "id": "fae77b10-356f-4f4a-ad97-b7e7a556d0fd",
     "outputs": [
      {
       "ename": "ValueError",
       "evalue": "time data 'December 16' does not match format '%Y %B %d'",
       "output_type": "error",
       "traceback": [
        "\u001b[0;31m---------------------------------------------------------------------------\u001b[0m",
        "\u001b[0;31mValueError\u001b[0m                                Traceback (most recent call last)",
        "\u001b[0;32m<ipython-input-89-e2224b04e7d7>\u001b[0m in \u001b[0;36m<module>\u001b[0;34m\u001b[0m\n\u001b[1;32m     24\u001b[0m \u001b[0;34m\u001b[0m\u001b[0m\n\u001b[1;32m     25\u001b[0m \u001b[0;34m\u001b[0m\u001b[0m\n\u001b[0;32m---> 26\u001b[0;31m \u001b[0mm\u001b[0m \u001b[0;34m=\u001b[0m \u001b[0mcreate_map\u001b[0m\u001b[0;34m(\u001b[0m\u001b[0;34m)\u001b[0m\u001b[0;34m\u001b[0m\u001b[0;34m\u001b[0m\u001b[0m\n\u001b[0m",
        "\u001b[0;32m<ipython-input-89-e2224b04e7d7>\u001b[0m in \u001b[0;36mcreate_map\u001b[0;34m()\u001b[0m\n\u001b[1;32m      5\u001b[0m                   \u001b[0mtouch_zoom\u001b[0m\u001b[0;34m=\u001b[0m\u001b[0;32mTrue\u001b[0m\u001b[0;34m,\u001b[0m\u001b[0;34m\u001b[0m\u001b[0;34m\u001b[0m\u001b[0m\n\u001b[1;32m      6\u001b[0m                   basemap=basemaps.CartoDB.DarkMatter)\n\u001b[0;32m----> 7\u001b[0;31m     \u001b[0mget_markers\u001b[0m\u001b[0;34m(\u001b[0m\u001b[0mm\u001b[0m\u001b[0;34m)\u001b[0m\u001b[0;34m\u001b[0m\u001b[0;34m\u001b[0m\u001b[0m\n\u001b[0m\u001b[1;32m      8\u001b[0m     \u001b[0;32mreturn\u001b[0m \u001b[0mm\u001b[0m\u001b[0;34m\u001b[0m\u001b[0;34m\u001b[0m\u001b[0m\n\u001b[1;32m      9\u001b[0m \u001b[0;34m\u001b[0m\u001b[0m\n",
        "\u001b[0;32m<ipython-input-89-e2224b04e7d7>\u001b[0m in \u001b[0;36mget_markers\u001b[0;34m(m)\u001b[0m\n\u001b[1;32m     17\u001b[0m                         icon=icon)\n\u001b[1;32m     18\u001b[0m         \u001b[0mmessage\u001b[0m \u001b[0;34m=\u001b[0m \u001b[0mwidgets\u001b[0m\u001b[0;34m.\u001b[0m\u001b[0mHTML\u001b[0m\u001b[0;34m(\u001b[0m\u001b[0;34m)\u001b[0m\u001b[0;34m\u001b[0m\u001b[0;34m\u001b[0m\u001b[0m\n\u001b[0;32m---> 19\u001b[0;31m         \u001b[0mdate\u001b[0m \u001b[0;34m=\u001b[0m \u001b[0mdatetime\u001b[0m\u001b[0;34m.\u001b[0m\u001b[0mdatetime\u001b[0m\u001b[0;34m.\u001b[0m\u001b[0mstrptime\u001b[0m\u001b[0;34m(\u001b[0m\u001b[0mplace\u001b[0m\u001b[0;34m.\u001b[0m\u001b[0mget\u001b[0m\u001b[0;34m(\u001b[0m\u001b[0;34m'date'\u001b[0m\u001b[0;34m)\u001b[0m\u001b[0;34m,\u001b[0m \u001b[0;34m\"%Y %B %d\"\u001b[0m\u001b[0;34m)\u001b[0m\u001b[0;34m\u001b[0m\u001b[0;34m\u001b[0m\u001b[0m\n\u001b[0m\u001b[1;32m     20\u001b[0m         \u001b[0mprint\u001b[0m\u001b[0;34m(\u001b[0m\u001b[0mdate\u001b[0m\u001b[0;34m)\u001b[0m\u001b[0;34m\u001b[0m\u001b[0;34m\u001b[0m\u001b[0m\n\u001b[1;32m     21\u001b[0m         \u001b[0mmessage\u001b[0m\u001b[0;34m.\u001b[0m\u001b[0mvalue\u001b[0m \u001b[0;34m=\u001b[0m \u001b[0;34mf\"Host: {place.get('host')} <br> Place: {place.get('name')} <br> {place.get('date')}\"\u001b[0m\u001b[0;34m\u001b[0m\u001b[0;34m\u001b[0m\u001b[0m\n",
        "\u001b[0;32m/anaconda3/lib/python3.7/_strptime.py\u001b[0m in \u001b[0;36m_strptime_datetime\u001b[0;34m(cls, data_string, format)\u001b[0m\n\u001b[1;32m    575\u001b[0m     \"\"\"Return a class cls instance based on the input string and the\n\u001b[1;32m    576\u001b[0m     format string.\"\"\"\n\u001b[0;32m--> 577\u001b[0;31m     \u001b[0mtt\u001b[0m\u001b[0;34m,\u001b[0m \u001b[0mfraction\u001b[0m\u001b[0;34m,\u001b[0m \u001b[0mgmtoff_fraction\u001b[0m \u001b[0;34m=\u001b[0m \u001b[0m_strptime\u001b[0m\u001b[0;34m(\u001b[0m\u001b[0mdata_string\u001b[0m\u001b[0;34m,\u001b[0m \u001b[0mformat\u001b[0m\u001b[0;34m)\u001b[0m\u001b[0;34m\u001b[0m\u001b[0;34m\u001b[0m\u001b[0m\n\u001b[0m\u001b[1;32m    578\u001b[0m     \u001b[0mtzname\u001b[0m\u001b[0;34m,\u001b[0m \u001b[0mgmtoff\u001b[0m \u001b[0;34m=\u001b[0m \u001b[0mtt\u001b[0m\u001b[0;34m[\u001b[0m\u001b[0;34m-\u001b[0m\u001b[0;36m2\u001b[0m\u001b[0;34m:\u001b[0m\u001b[0;34m]\u001b[0m\u001b[0;34m\u001b[0m\u001b[0;34m\u001b[0m\u001b[0m\n\u001b[1;32m    579\u001b[0m     \u001b[0margs\u001b[0m \u001b[0;34m=\u001b[0m \u001b[0mtt\u001b[0m\u001b[0;34m[\u001b[0m\u001b[0;34m:\u001b[0m\u001b[0;36m6\u001b[0m\u001b[0;34m]\u001b[0m \u001b[0;34m+\u001b[0m \u001b[0;34m(\u001b[0m\u001b[0mfraction\u001b[0m\u001b[0;34m,\u001b[0m\u001b[0;34m)\u001b[0m\u001b[0;34m\u001b[0m\u001b[0;34m\u001b[0m\u001b[0m\n",
        "\u001b[0;32m/anaconda3/lib/python3.7/_strptime.py\u001b[0m in \u001b[0;36m_strptime\u001b[0;34m(data_string, format)\u001b[0m\n\u001b[1;32m    357\u001b[0m     \u001b[0;32mif\u001b[0m \u001b[0;32mnot\u001b[0m \u001b[0mfound\u001b[0m\u001b[0;34m:\u001b[0m\u001b[0;34m\u001b[0m\u001b[0;34m\u001b[0m\u001b[0m\n\u001b[1;32m    358\u001b[0m         raise ValueError(\"time data %r does not match format %r\" %\n\u001b[0;32m--> 359\u001b[0;31m                          (data_string, format))\n\u001b[0m\u001b[1;32m    360\u001b[0m     \u001b[0;32mif\u001b[0m \u001b[0mlen\u001b[0m\u001b[0;34m(\u001b[0m\u001b[0mdata_string\u001b[0m\u001b[0;34m)\u001b[0m \u001b[0;34m!=\u001b[0m \u001b[0mfound\u001b[0m\u001b[0;34m.\u001b[0m\u001b[0mend\u001b[0m\u001b[0;34m(\u001b[0m\u001b[0;34m)\u001b[0m\u001b[0;34m:\u001b[0m\u001b[0;34m\u001b[0m\u001b[0;34m\u001b[0m\u001b[0m\n\u001b[1;32m    361\u001b[0m         raise ValueError(\"unconverted data remains: %s\" %\n",
        "\u001b[0;31mValueError\u001b[0m: time data 'December 16' does not match format '%Y %B %d'"
       ]
      }
     ],
     "persistentId": "229dfb64-a734-43ee-95cb-f7abe0a2e484",
     "text": "def create_map():\n    center = (19.3952, -99.1412)\n    m = Map(center=center,\n                  zoom=11, dragging=True,\n                  touch_zoom=True,\n                  basemap=basemaps.CartoDB.DarkMatter)\n    get_markers(m)\n    return m\n    \n    \ndef get_markers(m):\n    icon = Icon(icon_url='https://image.flaticon.com/icons/png/512/762/762053.png',\n               icon_size=[30,30])\n    for place in locations:\n        coord = (place['location']['lon'], -place['location']['lat'])\n        marker = Marker(location=coord, draggable=False,\n                        icon=icon)\n        message = widgets.HTML()\n        date = datetime.datetime.strptime(place.get('date'), \"%Y %B %d\")\n        print(date)\n        message.value = f\"Host: {place.get('host')} <br> Place: {place.get('name')} <br> {place.get('date')}\"\n        marker.popup = message\n        m.add_layer(marker);\n\n        \nm = create_map()"
    },
    "executionTime": "2019-12-16T20:33:40.307Z"
   },
   {
    "cell": {
     "executionCount": 90,
     "executionEventId": "224d3e65-5855-40d2-9f2f-371d4e8330a9",
     "hasError": true,
     "id": "fae77b10-356f-4f4a-ad97-b7e7a556d0fd",
     "outputs": [
      {
       "ename": "ValueError",
       "evalue": "time data 'December 16' does not match format '%Y %B %d'",
       "output_type": "error",
       "traceback": [
        "\u001b[0;31m---------------------------------------------------------------------------\u001b[0m",
        "\u001b[0;31mValueError\u001b[0m                                Traceback (most recent call last)",
        "\u001b[0;32m<ipython-input-90-e2224b04e7d7>\u001b[0m in \u001b[0;36m<module>\u001b[0;34m\u001b[0m\n\u001b[1;32m     24\u001b[0m \u001b[0;34m\u001b[0m\u001b[0m\n\u001b[1;32m     25\u001b[0m \u001b[0;34m\u001b[0m\u001b[0m\n\u001b[0;32m---> 26\u001b[0;31m \u001b[0mm\u001b[0m \u001b[0;34m=\u001b[0m \u001b[0mcreate_map\u001b[0m\u001b[0;34m(\u001b[0m\u001b[0;34m)\u001b[0m\u001b[0;34m\u001b[0m\u001b[0;34m\u001b[0m\u001b[0m\n\u001b[0m",
        "\u001b[0;32m<ipython-input-90-e2224b04e7d7>\u001b[0m in \u001b[0;36mcreate_map\u001b[0;34m()\u001b[0m\n\u001b[1;32m      5\u001b[0m                   \u001b[0mtouch_zoom\u001b[0m\u001b[0;34m=\u001b[0m\u001b[0;32mTrue\u001b[0m\u001b[0;34m,\u001b[0m\u001b[0;34m\u001b[0m\u001b[0;34m\u001b[0m\u001b[0m\n\u001b[1;32m      6\u001b[0m                   basemap=basemaps.CartoDB.DarkMatter)\n\u001b[0;32m----> 7\u001b[0;31m     \u001b[0mget_markers\u001b[0m\u001b[0;34m(\u001b[0m\u001b[0mm\u001b[0m\u001b[0;34m)\u001b[0m\u001b[0;34m\u001b[0m\u001b[0;34m\u001b[0m\u001b[0m\n\u001b[0m\u001b[1;32m      8\u001b[0m     \u001b[0;32mreturn\u001b[0m \u001b[0mm\u001b[0m\u001b[0;34m\u001b[0m\u001b[0;34m\u001b[0m\u001b[0m\n\u001b[1;32m      9\u001b[0m \u001b[0;34m\u001b[0m\u001b[0m\n",
        "\u001b[0;32m<ipython-input-90-e2224b04e7d7>\u001b[0m in \u001b[0;36mget_markers\u001b[0;34m(m)\u001b[0m\n\u001b[1;32m     17\u001b[0m                         icon=icon)\n\u001b[1;32m     18\u001b[0m         \u001b[0mmessage\u001b[0m \u001b[0;34m=\u001b[0m \u001b[0mwidgets\u001b[0m\u001b[0;34m.\u001b[0m\u001b[0mHTML\u001b[0m\u001b[0;34m(\u001b[0m\u001b[0;34m)\u001b[0m\u001b[0;34m\u001b[0m\u001b[0;34m\u001b[0m\u001b[0m\n\u001b[0;32m---> 19\u001b[0;31m         \u001b[0mdate\u001b[0m \u001b[0;34m=\u001b[0m \u001b[0mdatetime\u001b[0m\u001b[0;34m.\u001b[0m\u001b[0mdatetime\u001b[0m\u001b[0;34m.\u001b[0m\u001b[0mstrptime\u001b[0m\u001b[0;34m(\u001b[0m\u001b[0mplace\u001b[0m\u001b[0;34m.\u001b[0m\u001b[0mget\u001b[0m\u001b[0;34m(\u001b[0m\u001b[0;34m'date'\u001b[0m\u001b[0;34m)\u001b[0m\u001b[0;34m,\u001b[0m \u001b[0;34m\"%Y %B %d\"\u001b[0m\u001b[0;34m)\u001b[0m\u001b[0;34m\u001b[0m\u001b[0;34m\u001b[0m\u001b[0m\n\u001b[0m\u001b[1;32m     20\u001b[0m         \u001b[0mprint\u001b[0m\u001b[0;34m(\u001b[0m\u001b[0mdate\u001b[0m\u001b[0;34m)\u001b[0m\u001b[0;34m\u001b[0m\u001b[0;34m\u001b[0m\u001b[0m\n\u001b[1;32m     21\u001b[0m         \u001b[0mmessage\u001b[0m\u001b[0;34m.\u001b[0m\u001b[0mvalue\u001b[0m \u001b[0;34m=\u001b[0m \u001b[0;34mf\"Host: {place.get('host')} <br> Place: {place.get('name')} <br> {place.get('date')}\"\u001b[0m\u001b[0;34m\u001b[0m\u001b[0;34m\u001b[0m\u001b[0m\n",
        "\u001b[0;32m/anaconda3/lib/python3.7/_strptime.py\u001b[0m in \u001b[0;36m_strptime_datetime\u001b[0;34m(cls, data_string, format)\u001b[0m\n\u001b[1;32m    575\u001b[0m     \"\"\"Return a class cls instance based on the input string and the\n\u001b[1;32m    576\u001b[0m     format string.\"\"\"\n\u001b[0;32m--> 577\u001b[0;31m     \u001b[0mtt\u001b[0m\u001b[0;34m,\u001b[0m \u001b[0mfraction\u001b[0m\u001b[0;34m,\u001b[0m \u001b[0mgmtoff_fraction\u001b[0m \u001b[0;34m=\u001b[0m \u001b[0m_strptime\u001b[0m\u001b[0;34m(\u001b[0m\u001b[0mdata_string\u001b[0m\u001b[0;34m,\u001b[0m \u001b[0mformat\u001b[0m\u001b[0;34m)\u001b[0m\u001b[0;34m\u001b[0m\u001b[0;34m\u001b[0m\u001b[0m\n\u001b[0m\u001b[1;32m    578\u001b[0m     \u001b[0mtzname\u001b[0m\u001b[0;34m,\u001b[0m \u001b[0mgmtoff\u001b[0m \u001b[0;34m=\u001b[0m \u001b[0mtt\u001b[0m\u001b[0;34m[\u001b[0m\u001b[0;34m-\u001b[0m\u001b[0;36m2\u001b[0m\u001b[0;34m:\u001b[0m\u001b[0;34m]\u001b[0m\u001b[0;34m\u001b[0m\u001b[0;34m\u001b[0m\u001b[0m\n\u001b[1;32m    579\u001b[0m     \u001b[0margs\u001b[0m \u001b[0;34m=\u001b[0m \u001b[0mtt\u001b[0m\u001b[0;34m[\u001b[0m\u001b[0;34m:\u001b[0m\u001b[0;36m6\u001b[0m\u001b[0;34m]\u001b[0m \u001b[0;34m+\u001b[0m \u001b[0;34m(\u001b[0m\u001b[0mfraction\u001b[0m\u001b[0;34m,\u001b[0m\u001b[0;34m)\u001b[0m\u001b[0;34m\u001b[0m\u001b[0;34m\u001b[0m\u001b[0m\n",
        "\u001b[0;32m/anaconda3/lib/python3.7/_strptime.py\u001b[0m in \u001b[0;36m_strptime\u001b[0;34m(data_string, format)\u001b[0m\n\u001b[1;32m    357\u001b[0m     \u001b[0;32mif\u001b[0m \u001b[0;32mnot\u001b[0m \u001b[0mfound\u001b[0m\u001b[0;34m:\u001b[0m\u001b[0;34m\u001b[0m\u001b[0;34m\u001b[0m\u001b[0m\n\u001b[1;32m    358\u001b[0m         raise ValueError(\"time data %r does not match format %r\" %\n\u001b[0;32m--> 359\u001b[0;31m                          (data_string, format))\n\u001b[0m\u001b[1;32m    360\u001b[0m     \u001b[0;32mif\u001b[0m \u001b[0mlen\u001b[0m\u001b[0;34m(\u001b[0m\u001b[0mdata_string\u001b[0m\u001b[0;34m)\u001b[0m \u001b[0;34m!=\u001b[0m \u001b[0mfound\u001b[0m\u001b[0;34m.\u001b[0m\u001b[0mend\u001b[0m\u001b[0;34m(\u001b[0m\u001b[0;34m)\u001b[0m\u001b[0;34m:\u001b[0m\u001b[0;34m\u001b[0m\u001b[0;34m\u001b[0m\u001b[0m\n\u001b[1;32m    361\u001b[0m         raise ValueError(\"unconverted data remains: %s\" %\n",
        "\u001b[0;31mValueError\u001b[0m: time data 'December 16' does not match format '%Y %B %d'"
       ]
      }
     ],
     "persistentId": "229dfb64-a734-43ee-95cb-f7abe0a2e484",
     "text": "def create_map():\n    center = (19.3952, -99.1412)\n    m = Map(center=center,\n                  zoom=11, dragging=True,\n                  touch_zoom=True,\n                  basemap=basemaps.CartoDB.DarkMatter)\n    get_markers(m)\n    return m\n    \n    \ndef get_markers(m):\n    icon = Icon(icon_url='https://image.flaticon.com/icons/png/512/762/762053.png',\n               icon_size=[30,30])\n    for place in locations:\n        coord = (place['location']['lon'], -place['location']['lat'])\n        marker = Marker(location=coord, draggable=False,\n                        icon=icon)\n        message = widgets.HTML()\n        date = datetime.datetime.strptime(place.get('date'), \"%Y %B %d\")\n        print(date)\n        message.value = f\"Host: {place.get('host')} <br> Place: {place.get('name')} <br> {place.get('date')}\"\n        marker.popup = message\n        m.add_layer(marker);\n\n        \nm = create_map()"
    },
    "executionTime": "2019-12-16T20:34:03.288Z"
   },
   {
    "cell": {
     "executionCount": 91,
     "executionEventId": "5b2a34f3-da96-4078-b6ac-451891d61e4b",
     "hasError": true,
     "id": "fae77b10-356f-4f4a-ad97-b7e7a556d0fd",
     "outputs": [
      {
       "ename": "ValueError",
       "evalue": "time data 'December 16' does not match format '%y %B %d'",
       "output_type": "error",
       "traceback": [
        "\u001b[0;31m---------------------------------------------------------------------------\u001b[0m",
        "\u001b[0;31mValueError\u001b[0m                                Traceback (most recent call last)",
        "\u001b[0;32m<ipython-input-91-8c6ded4c676b>\u001b[0m in \u001b[0;36m<module>\u001b[0;34m\u001b[0m\n\u001b[1;32m     24\u001b[0m \u001b[0;34m\u001b[0m\u001b[0m\n\u001b[1;32m     25\u001b[0m \u001b[0;34m\u001b[0m\u001b[0m\n\u001b[0;32m---> 26\u001b[0;31m \u001b[0mm\u001b[0m \u001b[0;34m=\u001b[0m \u001b[0mcreate_map\u001b[0m\u001b[0;34m(\u001b[0m\u001b[0;34m)\u001b[0m\u001b[0;34m\u001b[0m\u001b[0;34m\u001b[0m\u001b[0m\n\u001b[0m",
        "\u001b[0;32m<ipython-input-91-8c6ded4c676b>\u001b[0m in \u001b[0;36mcreate_map\u001b[0;34m()\u001b[0m\n\u001b[1;32m      5\u001b[0m                   \u001b[0mtouch_zoom\u001b[0m\u001b[0;34m=\u001b[0m\u001b[0;32mTrue\u001b[0m\u001b[0;34m,\u001b[0m\u001b[0;34m\u001b[0m\u001b[0;34m\u001b[0m\u001b[0m\n\u001b[1;32m      6\u001b[0m                   basemap=basemaps.CartoDB.DarkMatter)\n\u001b[0;32m----> 7\u001b[0;31m     \u001b[0mget_markers\u001b[0m\u001b[0;34m(\u001b[0m\u001b[0mm\u001b[0m\u001b[0;34m)\u001b[0m\u001b[0;34m\u001b[0m\u001b[0;34m\u001b[0m\u001b[0m\n\u001b[0m\u001b[1;32m      8\u001b[0m     \u001b[0;32mreturn\u001b[0m \u001b[0mm\u001b[0m\u001b[0;34m\u001b[0m\u001b[0;34m\u001b[0m\u001b[0m\n\u001b[1;32m      9\u001b[0m \u001b[0;34m\u001b[0m\u001b[0m\n",
        "\u001b[0;32m<ipython-input-91-8c6ded4c676b>\u001b[0m in \u001b[0;36mget_markers\u001b[0;34m(m)\u001b[0m\n\u001b[1;32m     17\u001b[0m                         icon=icon)\n\u001b[1;32m     18\u001b[0m         \u001b[0mmessage\u001b[0m \u001b[0;34m=\u001b[0m \u001b[0mwidgets\u001b[0m\u001b[0;34m.\u001b[0m\u001b[0mHTML\u001b[0m\u001b[0;34m(\u001b[0m\u001b[0;34m)\u001b[0m\u001b[0;34m\u001b[0m\u001b[0;34m\u001b[0m\u001b[0m\n\u001b[0;32m---> 19\u001b[0;31m         \u001b[0mdate\u001b[0m \u001b[0;34m=\u001b[0m \u001b[0mdatetime\u001b[0m\u001b[0;34m.\u001b[0m\u001b[0mdatetime\u001b[0m\u001b[0;34m.\u001b[0m\u001b[0mstrptime\u001b[0m\u001b[0;34m(\u001b[0m\u001b[0mplace\u001b[0m\u001b[0;34m.\u001b[0m\u001b[0mget\u001b[0m\u001b[0;34m(\u001b[0m\u001b[0;34m'date'\u001b[0m\u001b[0;34m)\u001b[0m\u001b[0;34m,\u001b[0m \u001b[0;34m\"%y %B %d\"\u001b[0m\u001b[0;34m)\u001b[0m\u001b[0;34m\u001b[0m\u001b[0;34m\u001b[0m\u001b[0m\n\u001b[0m\u001b[1;32m     20\u001b[0m         \u001b[0mprint\u001b[0m\u001b[0;34m(\u001b[0m\u001b[0mdate\u001b[0m\u001b[0;34m)\u001b[0m\u001b[0;34m\u001b[0m\u001b[0;34m\u001b[0m\u001b[0m\n\u001b[1;32m     21\u001b[0m         \u001b[0mmessage\u001b[0m\u001b[0;34m.\u001b[0m\u001b[0mvalue\u001b[0m \u001b[0;34m=\u001b[0m \u001b[0;34mf\"Host: {place.get('host')} <br> Place: {place.get('name')} <br> {place.get('date')}\"\u001b[0m\u001b[0;34m\u001b[0m\u001b[0;34m\u001b[0m\u001b[0m\n",
        "\u001b[0;32m/anaconda3/lib/python3.7/_strptime.py\u001b[0m in \u001b[0;36m_strptime_datetime\u001b[0;34m(cls, data_string, format)\u001b[0m\n\u001b[1;32m    575\u001b[0m     \"\"\"Return a class cls instance based on the input string and the\n\u001b[1;32m    576\u001b[0m     format string.\"\"\"\n\u001b[0;32m--> 577\u001b[0;31m     \u001b[0mtt\u001b[0m\u001b[0;34m,\u001b[0m \u001b[0mfraction\u001b[0m\u001b[0;34m,\u001b[0m \u001b[0mgmtoff_fraction\u001b[0m \u001b[0;34m=\u001b[0m \u001b[0m_strptime\u001b[0m\u001b[0;34m(\u001b[0m\u001b[0mdata_string\u001b[0m\u001b[0;34m,\u001b[0m \u001b[0mformat\u001b[0m\u001b[0;34m)\u001b[0m\u001b[0;34m\u001b[0m\u001b[0;34m\u001b[0m\u001b[0m\n\u001b[0m\u001b[1;32m    578\u001b[0m     \u001b[0mtzname\u001b[0m\u001b[0;34m,\u001b[0m \u001b[0mgmtoff\u001b[0m \u001b[0;34m=\u001b[0m \u001b[0mtt\u001b[0m\u001b[0;34m[\u001b[0m\u001b[0;34m-\u001b[0m\u001b[0;36m2\u001b[0m\u001b[0;34m:\u001b[0m\u001b[0;34m]\u001b[0m\u001b[0;34m\u001b[0m\u001b[0;34m\u001b[0m\u001b[0m\n\u001b[1;32m    579\u001b[0m     \u001b[0margs\u001b[0m \u001b[0;34m=\u001b[0m \u001b[0mtt\u001b[0m\u001b[0;34m[\u001b[0m\u001b[0;34m:\u001b[0m\u001b[0;36m6\u001b[0m\u001b[0;34m]\u001b[0m \u001b[0;34m+\u001b[0m \u001b[0;34m(\u001b[0m\u001b[0mfraction\u001b[0m\u001b[0;34m,\u001b[0m\u001b[0;34m)\u001b[0m\u001b[0;34m\u001b[0m\u001b[0;34m\u001b[0m\u001b[0m\n",
        "\u001b[0;32m/anaconda3/lib/python3.7/_strptime.py\u001b[0m in \u001b[0;36m_strptime\u001b[0;34m(data_string, format)\u001b[0m\n\u001b[1;32m    357\u001b[0m     \u001b[0;32mif\u001b[0m \u001b[0;32mnot\u001b[0m \u001b[0mfound\u001b[0m\u001b[0;34m:\u001b[0m\u001b[0;34m\u001b[0m\u001b[0;34m\u001b[0m\u001b[0m\n\u001b[1;32m    358\u001b[0m         raise ValueError(\"time data %r does not match format %r\" %\n\u001b[0;32m--> 359\u001b[0;31m                          (data_string, format))\n\u001b[0m\u001b[1;32m    360\u001b[0m     \u001b[0;32mif\u001b[0m \u001b[0mlen\u001b[0m\u001b[0;34m(\u001b[0m\u001b[0mdata_string\u001b[0m\u001b[0;34m)\u001b[0m \u001b[0;34m!=\u001b[0m \u001b[0mfound\u001b[0m\u001b[0;34m.\u001b[0m\u001b[0mend\u001b[0m\u001b[0;34m(\u001b[0m\u001b[0;34m)\u001b[0m\u001b[0;34m:\u001b[0m\u001b[0;34m\u001b[0m\u001b[0;34m\u001b[0m\u001b[0m\n\u001b[1;32m    361\u001b[0m         raise ValueError(\"unconverted data remains: %s\" %\n",
        "\u001b[0;31mValueError\u001b[0m: time data 'December 16' does not match format '%y %B %d'"
       ]
      }
     ],
     "persistentId": "229dfb64-a734-43ee-95cb-f7abe0a2e484",
     "text": "def create_map():\n    center = (19.3952, -99.1412)\n    m = Map(center=center,\n                  zoom=11, dragging=True,\n                  touch_zoom=True,\n                  basemap=basemaps.CartoDB.DarkMatter)\n    get_markers(m)\n    return m\n    \n    \ndef get_markers(m):\n    icon = Icon(icon_url='https://image.flaticon.com/icons/png/512/762/762053.png',\n               icon_size=[30,30])\n    for place in locations:\n        coord = (place['location']['lon'], -place['location']['lat'])\n        marker = Marker(location=coord, draggable=False,\n                        icon=icon)\n        message = widgets.HTML()\n        date = datetime.datetime.strptime(place.get('date'), \"%y %B %d\")\n        print(date)\n        message.value = f\"Host: {place.get('host')} <br> Place: {place.get('name')} <br> {place.get('date')}\"\n        marker.popup = message\n        m.add_layer(marker);\n\n        \nm = create_map()"
    },
    "executionTime": "2019-12-16T20:34:11.214Z"
   },
   {
    "cell": {
     "executionCount": 92,
     "executionEventId": "583fcf3d-d570-4295-a3b3-475547b7a46c",
     "hasError": true,
     "id": "fae77b10-356f-4f4a-ad97-b7e7a556d0fd",
     "outputs": [
      {
       "ename": "ValueError",
       "evalue": "time data 'December 16' does not match format ' %B %d %y'",
       "output_type": "error",
       "traceback": [
        "\u001b[0;31m---------------------------------------------------------------------------\u001b[0m",
        "\u001b[0;31mValueError\u001b[0m                                Traceback (most recent call last)",
        "\u001b[0;32m<ipython-input-92-694d005b5a69>\u001b[0m in \u001b[0;36m<module>\u001b[0;34m\u001b[0m\n\u001b[1;32m     24\u001b[0m \u001b[0;34m\u001b[0m\u001b[0m\n\u001b[1;32m     25\u001b[0m \u001b[0;34m\u001b[0m\u001b[0m\n\u001b[0;32m---> 26\u001b[0;31m \u001b[0mm\u001b[0m \u001b[0;34m=\u001b[0m \u001b[0mcreate_map\u001b[0m\u001b[0;34m(\u001b[0m\u001b[0;34m)\u001b[0m\u001b[0;34m\u001b[0m\u001b[0;34m\u001b[0m\u001b[0m\n\u001b[0m",
        "\u001b[0;32m<ipython-input-92-694d005b5a69>\u001b[0m in \u001b[0;36mcreate_map\u001b[0;34m()\u001b[0m\n\u001b[1;32m      5\u001b[0m                   \u001b[0mtouch_zoom\u001b[0m\u001b[0;34m=\u001b[0m\u001b[0;32mTrue\u001b[0m\u001b[0;34m,\u001b[0m\u001b[0;34m\u001b[0m\u001b[0;34m\u001b[0m\u001b[0m\n\u001b[1;32m      6\u001b[0m                   basemap=basemaps.CartoDB.DarkMatter)\n\u001b[0;32m----> 7\u001b[0;31m     \u001b[0mget_markers\u001b[0m\u001b[0;34m(\u001b[0m\u001b[0mm\u001b[0m\u001b[0;34m)\u001b[0m\u001b[0;34m\u001b[0m\u001b[0;34m\u001b[0m\u001b[0m\n\u001b[0m\u001b[1;32m      8\u001b[0m     \u001b[0;32mreturn\u001b[0m \u001b[0mm\u001b[0m\u001b[0;34m\u001b[0m\u001b[0;34m\u001b[0m\u001b[0m\n\u001b[1;32m      9\u001b[0m \u001b[0;34m\u001b[0m\u001b[0m\n",
        "\u001b[0;32m<ipython-input-92-694d005b5a69>\u001b[0m in \u001b[0;36mget_markers\u001b[0;34m(m)\u001b[0m\n\u001b[1;32m     17\u001b[0m                         icon=icon)\n\u001b[1;32m     18\u001b[0m         \u001b[0mmessage\u001b[0m \u001b[0;34m=\u001b[0m \u001b[0mwidgets\u001b[0m\u001b[0;34m.\u001b[0m\u001b[0mHTML\u001b[0m\u001b[0;34m(\u001b[0m\u001b[0;34m)\u001b[0m\u001b[0;34m\u001b[0m\u001b[0;34m\u001b[0m\u001b[0m\n\u001b[0;32m---> 19\u001b[0;31m         \u001b[0mdate\u001b[0m \u001b[0;34m=\u001b[0m \u001b[0mdatetime\u001b[0m\u001b[0;34m.\u001b[0m\u001b[0mdatetime\u001b[0m\u001b[0;34m.\u001b[0m\u001b[0mstrptime\u001b[0m\u001b[0;34m(\u001b[0m\u001b[0mplace\u001b[0m\u001b[0;34m.\u001b[0m\u001b[0mget\u001b[0m\u001b[0;34m(\u001b[0m\u001b[0;34m'date'\u001b[0m\u001b[0;34m)\u001b[0m\u001b[0;34m,\u001b[0m \u001b[0;34m\" %B %d %y\"\u001b[0m\u001b[0;34m)\u001b[0m\u001b[0;34m\u001b[0m\u001b[0;34m\u001b[0m\u001b[0m\n\u001b[0m\u001b[1;32m     20\u001b[0m         \u001b[0mprint\u001b[0m\u001b[0;34m(\u001b[0m\u001b[0mdate\u001b[0m\u001b[0;34m)\u001b[0m\u001b[0;34m\u001b[0m\u001b[0;34m\u001b[0m\u001b[0m\n\u001b[1;32m     21\u001b[0m         \u001b[0mmessage\u001b[0m\u001b[0;34m.\u001b[0m\u001b[0mvalue\u001b[0m \u001b[0;34m=\u001b[0m \u001b[0;34mf\"Host: {place.get('host')} <br> Place: {place.get('name')} <br> {place.get('date')}\"\u001b[0m\u001b[0;34m\u001b[0m\u001b[0;34m\u001b[0m\u001b[0m\n",
        "\u001b[0;32m/anaconda3/lib/python3.7/_strptime.py\u001b[0m in \u001b[0;36m_strptime_datetime\u001b[0;34m(cls, data_string, format)\u001b[0m\n\u001b[1;32m    575\u001b[0m     \"\"\"Return a class cls instance based on the input string and the\n\u001b[1;32m    576\u001b[0m     format string.\"\"\"\n\u001b[0;32m--> 577\u001b[0;31m     \u001b[0mtt\u001b[0m\u001b[0;34m,\u001b[0m \u001b[0mfraction\u001b[0m\u001b[0;34m,\u001b[0m \u001b[0mgmtoff_fraction\u001b[0m \u001b[0;34m=\u001b[0m \u001b[0m_strptime\u001b[0m\u001b[0;34m(\u001b[0m\u001b[0mdata_string\u001b[0m\u001b[0;34m,\u001b[0m \u001b[0mformat\u001b[0m\u001b[0;34m)\u001b[0m\u001b[0;34m\u001b[0m\u001b[0;34m\u001b[0m\u001b[0m\n\u001b[0m\u001b[1;32m    578\u001b[0m     \u001b[0mtzname\u001b[0m\u001b[0;34m,\u001b[0m \u001b[0mgmtoff\u001b[0m \u001b[0;34m=\u001b[0m \u001b[0mtt\u001b[0m\u001b[0;34m[\u001b[0m\u001b[0;34m-\u001b[0m\u001b[0;36m2\u001b[0m\u001b[0;34m:\u001b[0m\u001b[0;34m]\u001b[0m\u001b[0;34m\u001b[0m\u001b[0;34m\u001b[0m\u001b[0m\n\u001b[1;32m    579\u001b[0m     \u001b[0margs\u001b[0m \u001b[0;34m=\u001b[0m \u001b[0mtt\u001b[0m\u001b[0;34m[\u001b[0m\u001b[0;34m:\u001b[0m\u001b[0;36m6\u001b[0m\u001b[0;34m]\u001b[0m \u001b[0;34m+\u001b[0m \u001b[0;34m(\u001b[0m\u001b[0mfraction\u001b[0m\u001b[0;34m,\u001b[0m\u001b[0;34m)\u001b[0m\u001b[0;34m\u001b[0m\u001b[0;34m\u001b[0m\u001b[0m\n",
        "\u001b[0;32m/anaconda3/lib/python3.7/_strptime.py\u001b[0m in \u001b[0;36m_strptime\u001b[0;34m(data_string, format)\u001b[0m\n\u001b[1;32m    357\u001b[0m     \u001b[0;32mif\u001b[0m \u001b[0;32mnot\u001b[0m \u001b[0mfound\u001b[0m\u001b[0;34m:\u001b[0m\u001b[0;34m\u001b[0m\u001b[0;34m\u001b[0m\u001b[0m\n\u001b[1;32m    358\u001b[0m         raise ValueError(\"time data %r does not match format %r\" %\n\u001b[0;32m--> 359\u001b[0;31m                          (data_string, format))\n\u001b[0m\u001b[1;32m    360\u001b[0m     \u001b[0;32mif\u001b[0m \u001b[0mlen\u001b[0m\u001b[0;34m(\u001b[0m\u001b[0mdata_string\u001b[0m\u001b[0;34m)\u001b[0m \u001b[0;34m!=\u001b[0m \u001b[0mfound\u001b[0m\u001b[0;34m.\u001b[0m\u001b[0mend\u001b[0m\u001b[0;34m(\u001b[0m\u001b[0;34m)\u001b[0m\u001b[0;34m:\u001b[0m\u001b[0;34m\u001b[0m\u001b[0;34m\u001b[0m\u001b[0m\n\u001b[1;32m    361\u001b[0m         raise ValueError(\"unconverted data remains: %s\" %\n",
        "\u001b[0;31mValueError\u001b[0m: time data 'December 16' does not match format ' %B %d %y'"
       ]
      }
     ],
     "persistentId": "229dfb64-a734-43ee-95cb-f7abe0a2e484",
     "text": "def create_map():\n    center = (19.3952, -99.1412)\n    m = Map(center=center,\n                  zoom=11, dragging=True,\n                  touch_zoom=True,\n                  basemap=basemaps.CartoDB.DarkMatter)\n    get_markers(m)\n    return m\n    \n    \ndef get_markers(m):\n    icon = Icon(icon_url='https://image.flaticon.com/icons/png/512/762/762053.png',\n               icon_size=[30,30])\n    for place in locations:\n        coord = (place['location']['lon'], -place['location']['lat'])\n        marker = Marker(location=coord, draggable=False,\n                        icon=icon)\n        message = widgets.HTML()\n        date = datetime.datetime.strptime(place.get('date'), \" %B %d %y\")\n        print(date)\n        message.value = f\"Host: {place.get('host')} <br> Place: {place.get('name')} <br> {place.get('date')}\"\n        marker.popup = message\n        m.add_layer(marker);\n\n        \nm = create_map()"
    },
    "executionTime": "2019-12-16T20:34:18.621Z"
   },
   {
    "cell": {
     "executionCount": 93,
     "executionEventId": "57c44d85-a76f-4064-8046-d36a3bf403fa",
     "hasError": true,
     "id": "fae77b10-356f-4f4a-ad97-b7e7a556d0fd",
     "outputs": [
      {
       "ename": "ValueError",
       "evalue": "time data 'December 16' does not match format '%B %d %y'",
       "output_type": "error",
       "traceback": [
        "\u001b[0;31m---------------------------------------------------------------------------\u001b[0m",
        "\u001b[0;31mValueError\u001b[0m                                Traceback (most recent call last)",
        "\u001b[0;32m<ipython-input-93-103de443b43c>\u001b[0m in \u001b[0;36m<module>\u001b[0;34m\u001b[0m\n\u001b[1;32m     24\u001b[0m \u001b[0;34m\u001b[0m\u001b[0m\n\u001b[1;32m     25\u001b[0m \u001b[0;34m\u001b[0m\u001b[0m\n\u001b[0;32m---> 26\u001b[0;31m \u001b[0mm\u001b[0m \u001b[0;34m=\u001b[0m \u001b[0mcreate_map\u001b[0m\u001b[0;34m(\u001b[0m\u001b[0;34m)\u001b[0m\u001b[0;34m\u001b[0m\u001b[0;34m\u001b[0m\u001b[0m\n\u001b[0m",
        "\u001b[0;32m<ipython-input-93-103de443b43c>\u001b[0m in \u001b[0;36mcreate_map\u001b[0;34m()\u001b[0m\n\u001b[1;32m      5\u001b[0m                   \u001b[0mtouch_zoom\u001b[0m\u001b[0;34m=\u001b[0m\u001b[0;32mTrue\u001b[0m\u001b[0;34m,\u001b[0m\u001b[0;34m\u001b[0m\u001b[0;34m\u001b[0m\u001b[0m\n\u001b[1;32m      6\u001b[0m                   basemap=basemaps.CartoDB.DarkMatter)\n\u001b[0;32m----> 7\u001b[0;31m     \u001b[0mget_markers\u001b[0m\u001b[0;34m(\u001b[0m\u001b[0mm\u001b[0m\u001b[0;34m)\u001b[0m\u001b[0;34m\u001b[0m\u001b[0;34m\u001b[0m\u001b[0m\n\u001b[0m\u001b[1;32m      8\u001b[0m     \u001b[0;32mreturn\u001b[0m \u001b[0mm\u001b[0m\u001b[0;34m\u001b[0m\u001b[0;34m\u001b[0m\u001b[0m\n\u001b[1;32m      9\u001b[0m \u001b[0;34m\u001b[0m\u001b[0m\n",
        "\u001b[0;32m<ipython-input-93-103de443b43c>\u001b[0m in \u001b[0;36mget_markers\u001b[0;34m(m)\u001b[0m\n\u001b[1;32m     17\u001b[0m                         icon=icon)\n\u001b[1;32m     18\u001b[0m         \u001b[0mmessage\u001b[0m \u001b[0;34m=\u001b[0m \u001b[0mwidgets\u001b[0m\u001b[0;34m.\u001b[0m\u001b[0mHTML\u001b[0m\u001b[0;34m(\u001b[0m\u001b[0;34m)\u001b[0m\u001b[0;34m\u001b[0m\u001b[0;34m\u001b[0m\u001b[0m\n\u001b[0;32m---> 19\u001b[0;31m         \u001b[0mdate\u001b[0m \u001b[0;34m=\u001b[0m \u001b[0mdatetime\u001b[0m\u001b[0;34m.\u001b[0m\u001b[0mdatetime\u001b[0m\u001b[0;34m.\u001b[0m\u001b[0mstrptime\u001b[0m\u001b[0;34m(\u001b[0m\u001b[0mplace\u001b[0m\u001b[0;34m.\u001b[0m\u001b[0mget\u001b[0m\u001b[0;34m(\u001b[0m\u001b[0;34m'date'\u001b[0m\u001b[0;34m)\u001b[0m\u001b[0;34m,\u001b[0m \u001b[0;34m\"%B %d %y\"\u001b[0m\u001b[0;34m)\u001b[0m\u001b[0;34m\u001b[0m\u001b[0;34m\u001b[0m\u001b[0m\n\u001b[0m\u001b[1;32m     20\u001b[0m         \u001b[0mprint\u001b[0m\u001b[0;34m(\u001b[0m\u001b[0mdate\u001b[0m\u001b[0;34m)\u001b[0m\u001b[0;34m\u001b[0m\u001b[0;34m\u001b[0m\u001b[0m\n\u001b[1;32m     21\u001b[0m         \u001b[0mmessage\u001b[0m\u001b[0;34m.\u001b[0m\u001b[0mvalue\u001b[0m \u001b[0;34m=\u001b[0m \u001b[0;34mf\"Host: {place.get('host')} <br> Place: {place.get('name')} <br> {place.get('date')}\"\u001b[0m\u001b[0;34m\u001b[0m\u001b[0;34m\u001b[0m\u001b[0m\n",
        "\u001b[0;32m/anaconda3/lib/python3.7/_strptime.py\u001b[0m in \u001b[0;36m_strptime_datetime\u001b[0;34m(cls, data_string, format)\u001b[0m\n\u001b[1;32m    575\u001b[0m     \"\"\"Return a class cls instance based on the input string and the\n\u001b[1;32m    576\u001b[0m     format string.\"\"\"\n\u001b[0;32m--> 577\u001b[0;31m     \u001b[0mtt\u001b[0m\u001b[0;34m,\u001b[0m \u001b[0mfraction\u001b[0m\u001b[0;34m,\u001b[0m \u001b[0mgmtoff_fraction\u001b[0m \u001b[0;34m=\u001b[0m \u001b[0m_strptime\u001b[0m\u001b[0;34m(\u001b[0m\u001b[0mdata_string\u001b[0m\u001b[0;34m,\u001b[0m \u001b[0mformat\u001b[0m\u001b[0;34m)\u001b[0m\u001b[0;34m\u001b[0m\u001b[0;34m\u001b[0m\u001b[0m\n\u001b[0m\u001b[1;32m    578\u001b[0m     \u001b[0mtzname\u001b[0m\u001b[0;34m,\u001b[0m \u001b[0mgmtoff\u001b[0m \u001b[0;34m=\u001b[0m \u001b[0mtt\u001b[0m\u001b[0;34m[\u001b[0m\u001b[0;34m-\u001b[0m\u001b[0;36m2\u001b[0m\u001b[0;34m:\u001b[0m\u001b[0;34m]\u001b[0m\u001b[0;34m\u001b[0m\u001b[0;34m\u001b[0m\u001b[0m\n\u001b[1;32m    579\u001b[0m     \u001b[0margs\u001b[0m \u001b[0;34m=\u001b[0m \u001b[0mtt\u001b[0m\u001b[0;34m[\u001b[0m\u001b[0;34m:\u001b[0m\u001b[0;36m6\u001b[0m\u001b[0;34m]\u001b[0m \u001b[0;34m+\u001b[0m \u001b[0;34m(\u001b[0m\u001b[0mfraction\u001b[0m\u001b[0;34m,\u001b[0m\u001b[0;34m)\u001b[0m\u001b[0;34m\u001b[0m\u001b[0;34m\u001b[0m\u001b[0m\n",
        "\u001b[0;32m/anaconda3/lib/python3.7/_strptime.py\u001b[0m in \u001b[0;36m_strptime\u001b[0;34m(data_string, format)\u001b[0m\n\u001b[1;32m    357\u001b[0m     \u001b[0;32mif\u001b[0m \u001b[0;32mnot\u001b[0m \u001b[0mfound\u001b[0m\u001b[0;34m:\u001b[0m\u001b[0;34m\u001b[0m\u001b[0;34m\u001b[0m\u001b[0m\n\u001b[1;32m    358\u001b[0m         raise ValueError(\"time data %r does not match format %r\" %\n\u001b[0;32m--> 359\u001b[0;31m                          (data_string, format))\n\u001b[0m\u001b[1;32m    360\u001b[0m     \u001b[0;32mif\u001b[0m \u001b[0mlen\u001b[0m\u001b[0;34m(\u001b[0m\u001b[0mdata_string\u001b[0m\u001b[0;34m)\u001b[0m \u001b[0;34m!=\u001b[0m \u001b[0mfound\u001b[0m\u001b[0;34m.\u001b[0m\u001b[0mend\u001b[0m\u001b[0;34m(\u001b[0m\u001b[0;34m)\u001b[0m\u001b[0;34m:\u001b[0m\u001b[0;34m\u001b[0m\u001b[0;34m\u001b[0m\u001b[0m\n\u001b[1;32m    361\u001b[0m         raise ValueError(\"unconverted data remains: %s\" %\n",
        "\u001b[0;31mValueError\u001b[0m: time data 'December 16' does not match format '%B %d %y'"
       ]
      }
     ],
     "persistentId": "229dfb64-a734-43ee-95cb-f7abe0a2e484",
     "text": "def create_map():\n    center = (19.3952, -99.1412)\n    m = Map(center=center,\n                  zoom=11, dragging=True,\n                  touch_zoom=True,\n                  basemap=basemaps.CartoDB.DarkMatter)\n    get_markers(m)\n    return m\n    \n    \ndef get_markers(m):\n    icon = Icon(icon_url='https://image.flaticon.com/icons/png/512/762/762053.png',\n               icon_size=[30,30])\n    for place in locations:\n        coord = (place['location']['lon'], -place['location']['lat'])\n        marker = Marker(location=coord, draggable=False,\n                        icon=icon)\n        message = widgets.HTML()\n        date = datetime.datetime.strptime(place.get('date'), \"%B %d %y\")\n        print(date)\n        message.value = f\"Host: {place.get('host')} <br> Place: {place.get('name')} <br> {place.get('date')}\"\n        marker.popup = message\n        m.add_layer(marker);\n\n        \nm = create_map()"
    },
    "executionTime": "2019-12-16T20:34:25.250Z"
   },
   {
    "cell": {
     "executionCount": 94,
     "executionEventId": "b1d8c6ea-7825-4b23-8b23-b8c31829a238",
     "hasError": false,
     "id": "2292d473-9384-454c-b943-dcae23f45d62",
     "outputs": [],
     "persistentId": "6daf55d1-9460-48dc-b7a5-7054109241eb",
     "text": "def get_locations():\n    loc_path = Path(\"./data/locations.json\")\n    with open(loc_path, 'r') as json_file:\n        locations = json.load(json_file)\n    return locations.get(\"locations\")"
    },
    "executionTime": "2019-12-16T20:34:31.818Z"
   },
   {
    "cell": {
     "executionCount": 95,
     "executionEventId": "969c6682-ca07-4761-a740-d2cb4a60ad6f",
     "hasError": false,
     "id": "8b271695-4ed2-42c7-965d-17bbc383ed6d",
     "outputs": [],
     "persistentId": "99c047a3-6c9f-4608-a9ab-6e03c2dee00c",
     "text": "locations = get_locations()"
    },
    "executionTime": "2019-12-16T20:34:32.207Z"
   },
   {
    "cell": {
     "executionCount": 96,
     "executionEventId": "b1a206f8-57f8-4efd-9ecc-491913120b00",
     "hasError": true,
     "id": "fae77b10-356f-4f4a-ad97-b7e7a556d0fd",
     "outputs": [
      {
       "ename": "ValueError",
       "evalue": "time data 'December 16, 2019' does not match format '%B %d %y'",
       "output_type": "error",
       "traceback": [
        "\u001b[0;31m---------------------------------------------------------------------------\u001b[0m",
        "\u001b[0;31mValueError\u001b[0m                                Traceback (most recent call last)",
        "\u001b[0;32m<ipython-input-96-103de443b43c>\u001b[0m in \u001b[0;36m<module>\u001b[0;34m\u001b[0m\n\u001b[1;32m     24\u001b[0m \u001b[0;34m\u001b[0m\u001b[0m\n\u001b[1;32m     25\u001b[0m \u001b[0;34m\u001b[0m\u001b[0m\n\u001b[0;32m---> 26\u001b[0;31m \u001b[0mm\u001b[0m \u001b[0;34m=\u001b[0m \u001b[0mcreate_map\u001b[0m\u001b[0;34m(\u001b[0m\u001b[0;34m)\u001b[0m\u001b[0;34m\u001b[0m\u001b[0;34m\u001b[0m\u001b[0m\n\u001b[0m",
        "\u001b[0;32m<ipython-input-96-103de443b43c>\u001b[0m in \u001b[0;36mcreate_map\u001b[0;34m()\u001b[0m\n\u001b[1;32m      5\u001b[0m                   \u001b[0mtouch_zoom\u001b[0m\u001b[0;34m=\u001b[0m\u001b[0;32mTrue\u001b[0m\u001b[0;34m,\u001b[0m\u001b[0;34m\u001b[0m\u001b[0;34m\u001b[0m\u001b[0m\n\u001b[1;32m      6\u001b[0m                   basemap=basemaps.CartoDB.DarkMatter)\n\u001b[0;32m----> 7\u001b[0;31m     \u001b[0mget_markers\u001b[0m\u001b[0;34m(\u001b[0m\u001b[0mm\u001b[0m\u001b[0;34m)\u001b[0m\u001b[0;34m\u001b[0m\u001b[0;34m\u001b[0m\u001b[0m\n\u001b[0m\u001b[1;32m      8\u001b[0m     \u001b[0;32mreturn\u001b[0m \u001b[0mm\u001b[0m\u001b[0;34m\u001b[0m\u001b[0;34m\u001b[0m\u001b[0m\n\u001b[1;32m      9\u001b[0m \u001b[0;34m\u001b[0m\u001b[0m\n",
        "\u001b[0;32m<ipython-input-96-103de443b43c>\u001b[0m in \u001b[0;36mget_markers\u001b[0;34m(m)\u001b[0m\n\u001b[1;32m     17\u001b[0m                         icon=icon)\n\u001b[1;32m     18\u001b[0m         \u001b[0mmessage\u001b[0m \u001b[0;34m=\u001b[0m \u001b[0mwidgets\u001b[0m\u001b[0;34m.\u001b[0m\u001b[0mHTML\u001b[0m\u001b[0;34m(\u001b[0m\u001b[0;34m)\u001b[0m\u001b[0;34m\u001b[0m\u001b[0;34m\u001b[0m\u001b[0m\n\u001b[0;32m---> 19\u001b[0;31m         \u001b[0mdate\u001b[0m \u001b[0;34m=\u001b[0m \u001b[0mdatetime\u001b[0m\u001b[0;34m.\u001b[0m\u001b[0mdatetime\u001b[0m\u001b[0;34m.\u001b[0m\u001b[0mstrptime\u001b[0m\u001b[0;34m(\u001b[0m\u001b[0mplace\u001b[0m\u001b[0;34m.\u001b[0m\u001b[0mget\u001b[0m\u001b[0;34m(\u001b[0m\u001b[0;34m'date'\u001b[0m\u001b[0;34m)\u001b[0m\u001b[0;34m,\u001b[0m \u001b[0;34m\"%B %d %y\"\u001b[0m\u001b[0;34m)\u001b[0m\u001b[0;34m\u001b[0m\u001b[0;34m\u001b[0m\u001b[0m\n\u001b[0m\u001b[1;32m     20\u001b[0m         \u001b[0mprint\u001b[0m\u001b[0;34m(\u001b[0m\u001b[0mdate\u001b[0m\u001b[0;34m)\u001b[0m\u001b[0;34m\u001b[0m\u001b[0;34m\u001b[0m\u001b[0m\n\u001b[1;32m     21\u001b[0m         \u001b[0mmessage\u001b[0m\u001b[0;34m.\u001b[0m\u001b[0mvalue\u001b[0m \u001b[0;34m=\u001b[0m \u001b[0;34mf\"Host: {place.get('host')} <br> Place: {place.get('name')} <br> {place.get('date')}\"\u001b[0m\u001b[0;34m\u001b[0m\u001b[0;34m\u001b[0m\u001b[0m\n",
        "\u001b[0;32m/anaconda3/lib/python3.7/_strptime.py\u001b[0m in \u001b[0;36m_strptime_datetime\u001b[0;34m(cls, data_string, format)\u001b[0m\n\u001b[1;32m    575\u001b[0m     \"\"\"Return a class cls instance based on the input string and the\n\u001b[1;32m    576\u001b[0m     format string.\"\"\"\n\u001b[0;32m--> 577\u001b[0;31m     \u001b[0mtt\u001b[0m\u001b[0;34m,\u001b[0m \u001b[0mfraction\u001b[0m\u001b[0;34m,\u001b[0m \u001b[0mgmtoff_fraction\u001b[0m \u001b[0;34m=\u001b[0m \u001b[0m_strptime\u001b[0m\u001b[0;34m(\u001b[0m\u001b[0mdata_string\u001b[0m\u001b[0;34m,\u001b[0m \u001b[0mformat\u001b[0m\u001b[0;34m)\u001b[0m\u001b[0;34m\u001b[0m\u001b[0;34m\u001b[0m\u001b[0m\n\u001b[0m\u001b[1;32m    578\u001b[0m     \u001b[0mtzname\u001b[0m\u001b[0;34m,\u001b[0m \u001b[0mgmtoff\u001b[0m \u001b[0;34m=\u001b[0m \u001b[0mtt\u001b[0m\u001b[0;34m[\u001b[0m\u001b[0;34m-\u001b[0m\u001b[0;36m2\u001b[0m\u001b[0;34m:\u001b[0m\u001b[0;34m]\u001b[0m\u001b[0;34m\u001b[0m\u001b[0;34m\u001b[0m\u001b[0m\n\u001b[1;32m    579\u001b[0m     \u001b[0margs\u001b[0m \u001b[0;34m=\u001b[0m \u001b[0mtt\u001b[0m\u001b[0;34m[\u001b[0m\u001b[0;34m:\u001b[0m\u001b[0;36m6\u001b[0m\u001b[0;34m]\u001b[0m \u001b[0;34m+\u001b[0m \u001b[0;34m(\u001b[0m\u001b[0mfraction\u001b[0m\u001b[0;34m,\u001b[0m\u001b[0;34m)\u001b[0m\u001b[0;34m\u001b[0m\u001b[0;34m\u001b[0m\u001b[0m\n",
        "\u001b[0;32m/anaconda3/lib/python3.7/_strptime.py\u001b[0m in \u001b[0;36m_strptime\u001b[0;34m(data_string, format)\u001b[0m\n\u001b[1;32m    357\u001b[0m     \u001b[0;32mif\u001b[0m \u001b[0;32mnot\u001b[0m \u001b[0mfound\u001b[0m\u001b[0;34m:\u001b[0m\u001b[0;34m\u001b[0m\u001b[0;34m\u001b[0m\u001b[0m\n\u001b[1;32m    358\u001b[0m         raise ValueError(\"time data %r does not match format %r\" %\n\u001b[0;32m--> 359\u001b[0;31m                          (data_string, format))\n\u001b[0m\u001b[1;32m    360\u001b[0m     \u001b[0;32mif\u001b[0m \u001b[0mlen\u001b[0m\u001b[0;34m(\u001b[0m\u001b[0mdata_string\u001b[0m\u001b[0;34m)\u001b[0m \u001b[0;34m!=\u001b[0m \u001b[0mfound\u001b[0m\u001b[0;34m.\u001b[0m\u001b[0mend\u001b[0m\u001b[0;34m(\u001b[0m\u001b[0;34m)\u001b[0m\u001b[0;34m:\u001b[0m\u001b[0;34m\u001b[0m\u001b[0;34m\u001b[0m\u001b[0m\n\u001b[1;32m    361\u001b[0m         raise ValueError(\"unconverted data remains: %s\" %\n",
        "\u001b[0;31mValueError\u001b[0m: time data 'December 16, 2019' does not match format '%B %d %y'"
       ]
      }
     ],
     "persistentId": "229dfb64-a734-43ee-95cb-f7abe0a2e484",
     "text": "def create_map():\n    center = (19.3952, -99.1412)\n    m = Map(center=center,\n                  zoom=11, dragging=True,\n                  touch_zoom=True,\n                  basemap=basemaps.CartoDB.DarkMatter)\n    get_markers(m)\n    return m\n    \n    \ndef get_markers(m):\n    icon = Icon(icon_url='https://image.flaticon.com/icons/png/512/762/762053.png',\n               icon_size=[30,30])\n    for place in locations:\n        coord = (place['location']['lon'], -place['location']['lat'])\n        marker = Marker(location=coord, draggable=False,\n                        icon=icon)\n        message = widgets.HTML()\n        date = datetime.datetime.strptime(place.get('date'), \"%B %d %y\")\n        print(date)\n        message.value = f\"Host: {place.get('host')} <br> Place: {place.get('name')} <br> {place.get('date')}\"\n        marker.popup = message\n        m.add_layer(marker);\n\n        \nm = create_map()"
    },
    "executionTime": "2019-12-16T20:34:32.239Z"
   },
   {
    "cell": {
     "executionCount": 97,
     "executionEventId": "fc9aaaa0-8898-4638-89b2-be71b856d427",
     "hasError": false,
     "id": "2292d473-9384-454c-b943-dcae23f45d62",
     "outputs": [],
     "persistentId": "6daf55d1-9460-48dc-b7a5-7054109241eb",
     "text": "def get_locations():\n    loc_path = Path(\"./data/locations.json\")\n    with open(loc_path, 'r') as json_file:\n        locations = json.load(json_file)\n    return locations.get(\"locations\")"
    },
    "executionTime": "2019-12-16T20:34:41.984Z"
   },
   {
    "cell": {
     "executionCount": 98,
     "executionEventId": "f048b5b8-4e78-49b4-acfc-9c7c2f97e54d",
     "hasError": false,
     "id": "8b271695-4ed2-42c7-965d-17bbc383ed6d",
     "outputs": [],
     "persistentId": "99c047a3-6c9f-4608-a9ab-6e03c2dee00c",
     "text": "locations = get_locations()"
    },
    "executionTime": "2019-12-16T20:34:42.154Z"
   },
   {
    "cell": {
     "executionCount": 99,
     "executionEventId": "56fd5040-d826-4618-bea2-987e0c2491d9",
     "hasError": true,
     "id": "fae77b10-356f-4f4a-ad97-b7e7a556d0fd",
     "outputs": [
      {
       "ename": "ValueError",
       "evalue": "time data 'December 16, 2019' does not match format '%B %d %Y'",
       "output_type": "error",
       "traceback": [
        "\u001b[0;31m---------------------------------------------------------------------------\u001b[0m",
        "\u001b[0;31mValueError\u001b[0m                                Traceback (most recent call last)",
        "\u001b[0;32m<ipython-input-99-5f85379bf680>\u001b[0m in \u001b[0;36m<module>\u001b[0;34m\u001b[0m\n\u001b[1;32m     24\u001b[0m \u001b[0;34m\u001b[0m\u001b[0m\n\u001b[1;32m     25\u001b[0m \u001b[0;34m\u001b[0m\u001b[0m\n\u001b[0;32m---> 26\u001b[0;31m \u001b[0mm\u001b[0m \u001b[0;34m=\u001b[0m \u001b[0mcreate_map\u001b[0m\u001b[0;34m(\u001b[0m\u001b[0;34m)\u001b[0m\u001b[0;34m\u001b[0m\u001b[0;34m\u001b[0m\u001b[0m\n\u001b[0m",
        "\u001b[0;32m<ipython-input-99-5f85379bf680>\u001b[0m in \u001b[0;36mcreate_map\u001b[0;34m()\u001b[0m\n\u001b[1;32m      5\u001b[0m                   \u001b[0mtouch_zoom\u001b[0m\u001b[0;34m=\u001b[0m\u001b[0;32mTrue\u001b[0m\u001b[0;34m,\u001b[0m\u001b[0;34m\u001b[0m\u001b[0;34m\u001b[0m\u001b[0m\n\u001b[1;32m      6\u001b[0m                   basemap=basemaps.CartoDB.DarkMatter)\n\u001b[0;32m----> 7\u001b[0;31m     \u001b[0mget_markers\u001b[0m\u001b[0;34m(\u001b[0m\u001b[0mm\u001b[0m\u001b[0;34m)\u001b[0m\u001b[0;34m\u001b[0m\u001b[0;34m\u001b[0m\u001b[0m\n\u001b[0m\u001b[1;32m      8\u001b[0m     \u001b[0;32mreturn\u001b[0m \u001b[0mm\u001b[0m\u001b[0;34m\u001b[0m\u001b[0;34m\u001b[0m\u001b[0m\n\u001b[1;32m      9\u001b[0m \u001b[0;34m\u001b[0m\u001b[0m\n",
        "\u001b[0;32m<ipython-input-99-5f85379bf680>\u001b[0m in \u001b[0;36mget_markers\u001b[0;34m(m)\u001b[0m\n\u001b[1;32m     17\u001b[0m                         icon=icon)\n\u001b[1;32m     18\u001b[0m         \u001b[0mmessage\u001b[0m \u001b[0;34m=\u001b[0m \u001b[0mwidgets\u001b[0m\u001b[0;34m.\u001b[0m\u001b[0mHTML\u001b[0m\u001b[0;34m(\u001b[0m\u001b[0;34m)\u001b[0m\u001b[0;34m\u001b[0m\u001b[0;34m\u001b[0m\u001b[0m\n\u001b[0;32m---> 19\u001b[0;31m         \u001b[0mdate\u001b[0m \u001b[0;34m=\u001b[0m \u001b[0mdatetime\u001b[0m\u001b[0;34m.\u001b[0m\u001b[0mdatetime\u001b[0m\u001b[0;34m.\u001b[0m\u001b[0mstrptime\u001b[0m\u001b[0;34m(\u001b[0m\u001b[0mplace\u001b[0m\u001b[0;34m.\u001b[0m\u001b[0mget\u001b[0m\u001b[0;34m(\u001b[0m\u001b[0;34m'date'\u001b[0m\u001b[0;34m)\u001b[0m\u001b[0;34m,\u001b[0m \u001b[0;34m\"%B %d %Y\"\u001b[0m\u001b[0;34m)\u001b[0m\u001b[0;34m\u001b[0m\u001b[0;34m\u001b[0m\u001b[0m\n\u001b[0m\u001b[1;32m     20\u001b[0m         \u001b[0mprint\u001b[0m\u001b[0;34m(\u001b[0m\u001b[0mdate\u001b[0m\u001b[0;34m)\u001b[0m\u001b[0;34m\u001b[0m\u001b[0;34m\u001b[0m\u001b[0m\n\u001b[1;32m     21\u001b[0m         \u001b[0mmessage\u001b[0m\u001b[0;34m.\u001b[0m\u001b[0mvalue\u001b[0m \u001b[0;34m=\u001b[0m \u001b[0;34mf\"Host: {place.get('host')} <br> Place: {place.get('name')} <br> {place.get('date')}\"\u001b[0m\u001b[0;34m\u001b[0m\u001b[0;34m\u001b[0m\u001b[0m\n",
        "\u001b[0;32m/anaconda3/lib/python3.7/_strptime.py\u001b[0m in \u001b[0;36m_strptime_datetime\u001b[0;34m(cls, data_string, format)\u001b[0m\n\u001b[1;32m    575\u001b[0m     \"\"\"Return a class cls instance based on the input string and the\n\u001b[1;32m    576\u001b[0m     format string.\"\"\"\n\u001b[0;32m--> 577\u001b[0;31m     \u001b[0mtt\u001b[0m\u001b[0;34m,\u001b[0m \u001b[0mfraction\u001b[0m\u001b[0;34m,\u001b[0m \u001b[0mgmtoff_fraction\u001b[0m \u001b[0;34m=\u001b[0m \u001b[0m_strptime\u001b[0m\u001b[0;34m(\u001b[0m\u001b[0mdata_string\u001b[0m\u001b[0;34m,\u001b[0m \u001b[0mformat\u001b[0m\u001b[0;34m)\u001b[0m\u001b[0;34m\u001b[0m\u001b[0;34m\u001b[0m\u001b[0m\n\u001b[0m\u001b[1;32m    578\u001b[0m     \u001b[0mtzname\u001b[0m\u001b[0;34m,\u001b[0m \u001b[0mgmtoff\u001b[0m \u001b[0;34m=\u001b[0m \u001b[0mtt\u001b[0m\u001b[0;34m[\u001b[0m\u001b[0;34m-\u001b[0m\u001b[0;36m2\u001b[0m\u001b[0;34m:\u001b[0m\u001b[0;34m]\u001b[0m\u001b[0;34m\u001b[0m\u001b[0;34m\u001b[0m\u001b[0m\n\u001b[1;32m    579\u001b[0m     \u001b[0margs\u001b[0m \u001b[0;34m=\u001b[0m \u001b[0mtt\u001b[0m\u001b[0;34m[\u001b[0m\u001b[0;34m:\u001b[0m\u001b[0;36m6\u001b[0m\u001b[0;34m]\u001b[0m \u001b[0;34m+\u001b[0m \u001b[0;34m(\u001b[0m\u001b[0mfraction\u001b[0m\u001b[0;34m,\u001b[0m\u001b[0;34m)\u001b[0m\u001b[0;34m\u001b[0m\u001b[0;34m\u001b[0m\u001b[0m\n",
        "\u001b[0;32m/anaconda3/lib/python3.7/_strptime.py\u001b[0m in \u001b[0;36m_strptime\u001b[0;34m(data_string, format)\u001b[0m\n\u001b[1;32m    357\u001b[0m     \u001b[0;32mif\u001b[0m \u001b[0;32mnot\u001b[0m \u001b[0mfound\u001b[0m\u001b[0;34m:\u001b[0m\u001b[0;34m\u001b[0m\u001b[0;34m\u001b[0m\u001b[0m\n\u001b[1;32m    358\u001b[0m         raise ValueError(\"time data %r does not match format %r\" %\n\u001b[0;32m--> 359\u001b[0;31m                          (data_string, format))\n\u001b[0m\u001b[1;32m    360\u001b[0m     \u001b[0;32mif\u001b[0m \u001b[0mlen\u001b[0m\u001b[0;34m(\u001b[0m\u001b[0mdata_string\u001b[0m\u001b[0;34m)\u001b[0m \u001b[0;34m!=\u001b[0m \u001b[0mfound\u001b[0m\u001b[0;34m.\u001b[0m\u001b[0mend\u001b[0m\u001b[0;34m(\u001b[0m\u001b[0;34m)\u001b[0m\u001b[0;34m:\u001b[0m\u001b[0;34m\u001b[0m\u001b[0;34m\u001b[0m\u001b[0m\n\u001b[1;32m    361\u001b[0m         raise ValueError(\"unconverted data remains: %s\" %\n",
        "\u001b[0;31mValueError\u001b[0m: time data 'December 16, 2019' does not match format '%B %d %Y'"
       ]
      }
     ],
     "persistentId": "229dfb64-a734-43ee-95cb-f7abe0a2e484",
     "text": "def create_map():\n    center = (19.3952, -99.1412)\n    m = Map(center=center,\n                  zoom=11, dragging=True,\n                  touch_zoom=True,\n                  basemap=basemaps.CartoDB.DarkMatter)\n    get_markers(m)\n    return m\n    \n    \ndef get_markers(m):\n    icon = Icon(icon_url='https://image.flaticon.com/icons/png/512/762/762053.png',\n               icon_size=[30,30])\n    for place in locations:\n        coord = (place['location']['lon'], -place['location']['lat'])\n        marker = Marker(location=coord, draggable=False,\n                        icon=icon)\n        message = widgets.HTML()\n        date = datetime.datetime.strptime(place.get('date'), \"%B %d %Y\")\n        print(date)\n        message.value = f\"Host: {place.get('host')} <br> Place: {place.get('name')} <br> {place.get('date')}\"\n        marker.popup = message\n        m.add_layer(marker);\n\n        \nm = create_map()"
    },
    "executionTime": "2019-12-16T20:34:42.340Z"
   },
   {
    "cell": {
     "executionCount": 100,
     "executionEventId": "72669c20-037d-4214-9ec8-0bf1370b79d0",
     "hasError": false,
     "id": "fae77b10-356f-4f4a-ad97-b7e7a556d0fd",
     "outputs": [
      {
       "name": "stdout",
       "output_type": "stream",
       "text": "2019-12-16 00:00:00\n2019-12-17 00:00:00\n2019-12-18 00:00:00\n"
      }
     ],
     "persistentId": "229dfb64-a734-43ee-95cb-f7abe0a2e484",
     "text": "def create_map():\n    center = (19.3952, -99.1412)\n    m = Map(center=center,\n                  zoom=11, dragging=True,\n                  touch_zoom=True,\n                  basemap=basemaps.CartoDB.DarkMatter)\n    get_markers(m)\n    return m\n    \n    \ndef get_markers(m):\n    icon = Icon(icon_url='https://image.flaticon.com/icons/png/512/762/762053.png',\n               icon_size=[30,30])\n    for place in locations:\n        coord = (place['location']['lon'], -place['location']['lat'])\n        marker = Marker(location=coord, draggable=False,\n                        icon=icon)\n        message = widgets.HTML()\n        date = datetime.datetime.strptime(place.get('date'), \"%B %d, %Y\")\n        print(date)\n        message.value = f\"Host: {place.get('host')} <br> Place: {place.get('name')} <br> {place.get('date')}\"\n        marker.popup = message\n        m.add_layer(marker);\n\n        \nm = create_map()"
    },
    "executionTime": "2019-12-16T20:34:50.672Z"
   },
   {
    "cell": {
     "executionCount": 101,
     "executionEventId": "d71e23ba-a10b-49fc-bf9a-868556dc0b03",
     "hasError": false,
     "id": "fae77b10-356f-4f4a-ad97-b7e7a556d0fd",
     "outputs": [
      {
       "name": "stdout",
       "output_type": "stream",
       "text": "2019-12-16\n2019-12-17\n2019-12-18\n"
      }
     ],
     "persistentId": "229dfb64-a734-43ee-95cb-f7abe0a2e484",
     "text": "def create_map():\n    center = (19.3952, -99.1412)\n    m = Map(center=center,\n                  zoom=11, dragging=True,\n                  touch_zoom=True,\n                  basemap=basemaps.CartoDB.DarkMatter)\n    get_markers(m)\n    return m\n    \n    \ndef get_markers(m):\n    icon = Icon(icon_url='https://image.flaticon.com/icons/png/512/762/762053.png',\n               icon_size=[30,30])\n    for place in locations:\n        coord = (place['location']['lon'], -place['location']['lat'])\n        marker = Marker(location=coord, draggable=False,\n                        icon=icon)\n        message = widgets.HTML()\n        date = datetime.datetime.strptime(place.get('date'), \"%B %d, %Y\").date()\n        print(date)\n        message.value = f\"Host: {place.get('host')} <br> Place: {place.get('name')} <br> {place.get('date')}\"\n        marker.popup = message\n        m.add_layer(marker);\n\n        \nm = create_map()"
    },
    "executionTime": "2019-12-16T20:35:33.053Z"
   },
   {
    "cell": {
     "executionCount": 102,
     "executionEventId": "b5492e80-aef2-498e-a284-b568cbff42c1",
     "hasError": false,
     "id": "cace3427-4a4b-445f-a184-959c49ea43b4",
     "outputs": [
      {
       "data": {
        "application/vnd.jupyter.widget-view+json": {
         "model_id": "808bed459a0f40328645db5cb680055f",
         "version_major": 2,
         "version_minor": 0
        },
        "text/plain": "Layout(children=[Content(children=[Flex(children=[Map(basemap={'url': 'http://c.basemaps.cartocdn.com/dark_all…"
       },
       "metadata": {},
       "output_type": "display_data"
      }
     ],
     "persistentId": "63c8aeab-0a61-499c-9835-229ef5ce8b54",
     "text": "v.Layout(\n    children=[\n        v.Content(\n        _metadata={\"mount_id\": \"content-main\"},\n        wrap=True,\n        row=True,\n        align_center=True,\n        children=[v.Flex(xs12=True, lg6=True, xl4=True, children=[m]),\n            v.Divider(),\n            v.Banner(\n                single_line=True,\n                v_slots=[\n                    {\"name\": \"icon\", \"children\": v.Icon(color=\"#f5cd79\", children=[\"room\"])},\n                ],\n                children=[\"Click on the pinatas to see the location and date details\"],\n            ),\n        \n        ],\n        ),\n       \n    ]\n)\n"
    },
    "executionTime": "2019-12-16T20:35:50.642Z"
   },
   {
    "cell": {
     "executionCount": 103,
     "executionEventId": "69adf372-71b4-471f-9417-62f1cb47673b",
     "hasError": false,
     "id": "fae77b10-356f-4f4a-ad97-b7e7a556d0fd",
     "outputs": [],
     "persistentId": "229dfb64-a734-43ee-95cb-f7abe0a2e484",
     "text": "def create_map():\n    center = (19.3952, -99.1412)\n    m = Map(center=center,\n                  zoom=11, dragging=True,\n                  touch_zoom=True,\n                  basemap=basemaps.CartoDB.DarkMatter)\n    get_markers(m)\n    return m\n    \n    \ndef get_markers(m):\n    icon = Icon(icon_url='https://image.flaticon.com/icons/png/512/762/762053.png',\n               icon_size=[30,30])\n    for place in locations:\n        coord = (place['location']['lon'], -place['location']['lat'])\n        date = datetime.datetime.strptime(place.get('date'), \"%B %d, %Y\").date()\n        marker = Marker(location=coord, draggable=False,\n                        icon=icon)\n        message = widgets.HTML()\n        \n        message.value = f\"Host: {place.get('host')} <br> Place: {place.get('name')} <br> {place.get('date')}\"\n        marker.popup = message\n        m.add_layer(marker);\n\n        \nm = create_map()"
    },
    "executionTime": "2019-12-16T20:36:57.142Z"
   },
   {
    "cell": {
     "executionCount": 104,
     "executionEventId": "51764df1-8ddd-4253-aeec-11c357ba2b7b",
     "hasError": false,
     "id": "cace3427-4a4b-445f-a184-959c49ea43b4",
     "outputs": [
      {
       "data": {
        "application/vnd.jupyter.widget-view+json": {
         "model_id": "4d3289474b8e4070adb1bddf6eaa8afa",
         "version_major": 2,
         "version_minor": 0
        },
        "text/plain": "Layout(children=[Content(children=[Flex(children=[Map(basemap={'url': 'http://c.basemaps.cartocdn.com/dark_all…"
       },
       "metadata": {},
       "output_type": "display_data"
      }
     ],
     "persistentId": "63c8aeab-0a61-499c-9835-229ef5ce8b54",
     "text": "v.Layout(\n    children=[\n        v.Content(\n        _metadata={\"mount_id\": \"content-main\"},\n        wrap=True,\n        row=True,\n        align_center=True,\n        children=[v.Flex(xs12=True, lg6=True, xl4=True, children=[m]),\n            v.Divider(),\n            v.Banner(\n                single_line=True,\n                v_slots=[\n                    {\"name\": \"icon\", \"children\": v.Icon(color=\"#f5cd79\", children=[\"room\"])},\n                ],\n                children=[\"Click on the pinatas to see the location and date details\"],\n            ),\n        \n        ],\n        ),\n       \n    ]\n)\n"
    },
    "executionTime": "2019-12-16T20:36:58.013Z"
   },
   {
    "cell": {
     "executionCount": 105,
     "executionEventId": "2aec0810-6a41-444b-a4d9-74f0dd123525",
     "hasError": true,
     "id": "fae77b10-356f-4f4a-ad97-b7e7a556d0fd",
     "outputs": [
      {
       "ename": "SyntaxError",
       "evalue": "invalid syntax (<ipython-input-105-125ceef5585c>, line 17)",
       "output_type": "error",
       "traceback": [
        "\u001b[0;36m  File \u001b[0;32m\"<ipython-input-105-125ceef5585c>\"\u001b[0;36m, line \u001b[0;32m17\u001b[0m\n\u001b[0;31m    icon=Icon(icon_url=\"https://image.flaticon.com/icons/png/512/561/561074.png\", icon_size=[30,30]))\u001b[0m\n\u001b[0m                                                                                                    ^\u001b[0m\n\u001b[0;31mSyntaxError\u001b[0m\u001b[0;31m:\u001b[0m invalid syntax\n"
       ]
      }
     ],
     "persistentId": "229dfb64-a734-43ee-95cb-f7abe0a2e484",
     "text": "def create_map():\n    center = (19.3952, -99.1412)\n    m = Map(center=center,\n                  zoom=11, dragging=True,\n                  touch_zoom=True,\n                  basemap=basemaps.CartoDB.DarkMatter)\n    get_markers(m)\n    return m\n    \n    \ndef get_markers(m):\n    \n    for place in locations:\n        coord = (place['location']['lon'], -place['location']['lat'])\n        date = datetime.datetime.strptime(place.get('date'), \"%B %d, %Y\").date()\n        if date == datetime.now().date:\n            icon=Icon(icon_url=\"https://image.flaticon.com/icons/png/512/561/561074.png\", icon_size=[30,30]))\n        else:\n            icon = Icon(icon_url='https://image.flaticon.com/icons/png/512/762/762053.png',\n               icon_size=[30,30])\n        marker = Marker(location=coord, draggable=False,\n                        icon=icon)\n        message = widgets.HTML()\n        \n        message.value = f\"Host: {place.get('host')} <br> Place: {place.get('name')} <br> {place.get('date')}\"\n        marker.popup = message\n        m.add_layer(marker);\n\n        \nm = create_map()"
    },
    "executionTime": "2019-12-16T20:38:04.347Z"
   },
   {
    "cell": {
     "executionCount": 106,
     "executionEventId": "811d8971-fc90-47fe-90fa-a1b77ba715e9",
     "hasError": true,
     "id": "fae77b10-356f-4f4a-ad97-b7e7a556d0fd",
     "outputs": [
      {
       "ename": "AttributeError",
       "evalue": "module 'datetime' has no attribute 'now'",
       "output_type": "error",
       "traceback": [
        "\u001b[0;31m---------------------------------------------------------------------------\u001b[0m",
        "\u001b[0;31mAttributeError\u001b[0m                            Traceback (most recent call last)",
        "\u001b[0;32m<ipython-input-106-e31dfbe398da>\u001b[0m in \u001b[0;36m<module>\u001b[0;34m\u001b[0m\n\u001b[1;32m     28\u001b[0m \u001b[0;34m\u001b[0m\u001b[0m\n\u001b[1;32m     29\u001b[0m \u001b[0;34m\u001b[0m\u001b[0m\n\u001b[0;32m---> 30\u001b[0;31m \u001b[0mm\u001b[0m \u001b[0;34m=\u001b[0m \u001b[0mcreate_map\u001b[0m\u001b[0;34m(\u001b[0m\u001b[0;34m)\u001b[0m\u001b[0;34m\u001b[0m\u001b[0;34m\u001b[0m\u001b[0m\n\u001b[0m",
        "\u001b[0;32m<ipython-input-106-e31dfbe398da>\u001b[0m in \u001b[0;36mcreate_map\u001b[0;34m()\u001b[0m\n\u001b[1;32m      5\u001b[0m                   \u001b[0mtouch_zoom\u001b[0m\u001b[0;34m=\u001b[0m\u001b[0;32mTrue\u001b[0m\u001b[0;34m,\u001b[0m\u001b[0;34m\u001b[0m\u001b[0;34m\u001b[0m\u001b[0m\n\u001b[1;32m      6\u001b[0m                   basemap=basemaps.CartoDB.DarkMatter)\n\u001b[0;32m----> 7\u001b[0;31m     \u001b[0mget_markers\u001b[0m\u001b[0;34m(\u001b[0m\u001b[0mm\u001b[0m\u001b[0;34m)\u001b[0m\u001b[0;34m\u001b[0m\u001b[0;34m\u001b[0m\u001b[0m\n\u001b[0m\u001b[1;32m      8\u001b[0m     \u001b[0;32mreturn\u001b[0m \u001b[0mm\u001b[0m\u001b[0;34m\u001b[0m\u001b[0;34m\u001b[0m\u001b[0m\n\u001b[1;32m      9\u001b[0m \u001b[0;34m\u001b[0m\u001b[0m\n",
        "\u001b[0;32m<ipython-input-106-e31dfbe398da>\u001b[0m in \u001b[0;36mget_markers\u001b[0;34m(m)\u001b[0m\n\u001b[1;32m     14\u001b[0m         \u001b[0mcoord\u001b[0m \u001b[0;34m=\u001b[0m \u001b[0;34m(\u001b[0m\u001b[0mplace\u001b[0m\u001b[0;34m[\u001b[0m\u001b[0;34m'location'\u001b[0m\u001b[0;34m]\u001b[0m\u001b[0;34m[\u001b[0m\u001b[0;34m'lon'\u001b[0m\u001b[0;34m]\u001b[0m\u001b[0;34m,\u001b[0m \u001b[0;34m-\u001b[0m\u001b[0mplace\u001b[0m\u001b[0;34m[\u001b[0m\u001b[0;34m'location'\u001b[0m\u001b[0;34m]\u001b[0m\u001b[0;34m[\u001b[0m\u001b[0;34m'lat'\u001b[0m\u001b[0;34m]\u001b[0m\u001b[0;34m)\u001b[0m\u001b[0;34m\u001b[0m\u001b[0;34m\u001b[0m\u001b[0m\n\u001b[1;32m     15\u001b[0m         \u001b[0mdate\u001b[0m \u001b[0;34m=\u001b[0m \u001b[0mdatetime\u001b[0m\u001b[0;34m.\u001b[0m\u001b[0mdatetime\u001b[0m\u001b[0;34m.\u001b[0m\u001b[0mstrptime\u001b[0m\u001b[0;34m(\u001b[0m\u001b[0mplace\u001b[0m\u001b[0;34m.\u001b[0m\u001b[0mget\u001b[0m\u001b[0;34m(\u001b[0m\u001b[0;34m'date'\u001b[0m\u001b[0;34m)\u001b[0m\u001b[0;34m,\u001b[0m \u001b[0;34m\"%B %d, %Y\"\u001b[0m\u001b[0;34m)\u001b[0m\u001b[0;34m.\u001b[0m\u001b[0mdate\u001b[0m\u001b[0;34m(\u001b[0m\u001b[0;34m)\u001b[0m\u001b[0;34m\u001b[0m\u001b[0;34m\u001b[0m\u001b[0m\n\u001b[0;32m---> 16\u001b[0;31m         \u001b[0;32mif\u001b[0m \u001b[0mdate\u001b[0m \u001b[0;34m==\u001b[0m \u001b[0mdatetime\u001b[0m\u001b[0;34m.\u001b[0m\u001b[0mnow\u001b[0m\u001b[0;34m(\u001b[0m\u001b[0;34m)\u001b[0m\u001b[0;34m.\u001b[0m\u001b[0mdate\u001b[0m\u001b[0;34m:\u001b[0m\u001b[0;34m\u001b[0m\u001b[0;34m\u001b[0m\u001b[0m\n\u001b[0m\u001b[1;32m     17\u001b[0m             \u001b[0micon\u001b[0m\u001b[0;34m=\u001b[0m\u001b[0mIcon\u001b[0m\u001b[0;34m(\u001b[0m\u001b[0micon_url\u001b[0m\u001b[0;34m=\u001b[0m\u001b[0;34m\"https://image.flaticon.com/icons/png/512/561/561074.png\"\u001b[0m\u001b[0;34m,\u001b[0m \u001b[0micon_size\u001b[0m\u001b[0;34m=\u001b[0m\u001b[0;34m[\u001b[0m\u001b[0;36m30\u001b[0m\u001b[0;34m,\u001b[0m\u001b[0;36m30\u001b[0m\u001b[0;34m]\u001b[0m\u001b[0;34m)\u001b[0m\u001b[0;34m\u001b[0m\u001b[0;34m\u001b[0m\u001b[0m\n\u001b[1;32m     18\u001b[0m         \u001b[0;32melse\u001b[0m\u001b[0;34m:\u001b[0m\u001b[0;34m\u001b[0m\u001b[0;34m\u001b[0m\u001b[0m\n",
        "\u001b[0;31mAttributeError\u001b[0m: module 'datetime' has no attribute 'now'"
       ]
      }
     ],
     "persistentId": "229dfb64-a734-43ee-95cb-f7abe0a2e484",
     "text": "def create_map():\n    center = (19.3952, -99.1412)\n    m = Map(center=center,\n                  zoom=11, dragging=True,\n                  touch_zoom=True,\n                  basemap=basemaps.CartoDB.DarkMatter)\n    get_markers(m)\n    return m\n    \n    \ndef get_markers(m):\n    \n    for place in locations:\n        coord = (place['location']['lon'], -place['location']['lat'])\n        date = datetime.datetime.strptime(place.get('date'), \"%B %d, %Y\").date()\n        if date == datetime.now().date:\n            icon=Icon(icon_url=\"https://image.flaticon.com/icons/png/512/561/561074.png\", icon_size=[30,30])\n        else:\n            icon = Icon(icon_url='https://image.flaticon.com/icons/png/512/762/762053.png',\n               icon_size=[30,30])\n        marker = Marker(location=coord, draggable=False,\n                        icon=icon)\n        message = widgets.HTML()\n        \n        message.value = f\"Host: {place.get('host')} <br> Place: {place.get('name')} <br> {place.get('date')}\"\n        marker.popup = message\n        m.add_layer(marker);\n\n        \nm = create_map()"
    },
    "executionTime": "2019-12-16T20:38:09.283Z"
   },
   {
    "cell": {
     "executionCount": 107,
     "executionEventId": "47782d81-a1d8-436c-9fbf-c2b8bf95b184",
     "hasError": false,
     "id": "fae77b10-356f-4f4a-ad97-b7e7a556d0fd",
     "outputs": [],
     "persistentId": "229dfb64-a734-43ee-95cb-f7abe0a2e484",
     "text": "def create_map():\n    center = (19.3952, -99.1412)\n    m = Map(center=center,\n                  zoom=11, dragging=True,\n                  touch_zoom=True,\n                  basemap=basemaps.CartoDB.DarkMatter)\n    get_markers(m)\n    return m\n    \n    \ndef get_markers(m):\n    \n    for place in locations:\n        coord = (place['location']['lon'], -place['location']['lat'])\n        date = datetime.datetime.strptime(place.get('date'), \"%B %d, %Y\").date()\n        if date == datetime.date.today():\n            icon=Icon(icon_url=\"https://image.flaticon.com/icons/png/512/561/561074.png\", icon_size=[30,30])\n        else:\n            icon = Icon(icon_url='https://image.flaticon.com/icons/png/512/762/762053.png',\n               icon_size=[30,30])\n        marker = Marker(location=coord, draggable=False,\n                        icon=icon)\n        message = widgets.HTML()\n        \n        message.value = f\"Host: {place.get('host')} <br> Place: {place.get('name')} <br> {place.get('date')}\"\n        marker.popup = message\n        m.add_layer(marker);\n\n        \nm = create_map()"
    },
    "executionTime": "2019-12-16T20:38:54.596Z"
   },
   {
    "cell": {
     "executionCount": 108,
     "executionEventId": "dabf0d06-bf67-4fa1-96d8-cdcad169922b",
     "hasError": false,
     "id": "cace3427-4a4b-445f-a184-959c49ea43b4",
     "outputs": [
      {
       "data": {
        "application/vnd.jupyter.widget-view+json": {
         "model_id": "a7526ccb97cc4f39a2f00cd62f4450ca",
         "version_major": 2,
         "version_minor": 0
        },
        "text/plain": "Layout(children=[Content(children=[Flex(children=[Map(basemap={'url': 'http://c.basemaps.cartocdn.com/dark_all…"
       },
       "metadata": {},
       "output_type": "display_data"
      }
     ],
     "persistentId": "63c8aeab-0a61-499c-9835-229ef5ce8b54",
     "text": "v.Layout(\n    children=[\n        v.Content(\n        _metadata={\"mount_id\": \"content-main\"},\n        wrap=True,\n        row=True,\n        align_center=True,\n        children=[v.Flex(xs12=True, lg6=True, xl4=True, children=[m]),\n            v.Divider(),\n            v.Banner(\n                single_line=True,\n                v_slots=[\n                    {\"name\": \"icon\", \"children\": v.Icon(color=\"#f5cd79\", children=[\"room\"])},\n                ],\n                children=[\"Click on the pinatas to see the location and date details\"],\n            ),\n        \n        ],\n        ),\n       \n    ]\n)\n"
    },
    "executionTime": "2019-12-16T20:38:56.450Z"
   },
   {
    "cell": {
     "executionCount": 109,
     "executionEventId": "0c9782ff-215e-41d4-b985-74e7cfeb9a6b",
     "hasError": true,
     "id": "cace3427-4a4b-445f-a184-959c49ea43b4",
     "outputs": [
      {
       "ename": "SyntaxError",
       "evalue": "invalid syntax (<ipython-input-109-5b09c566beb2>, line 15)",
       "output_type": "error",
       "traceback": [
        "\u001b[0;36m  File \u001b[0;32m\"<ipython-input-109-5b09c566beb2>\"\u001b[0;36m, line \u001b[0;32m15\u001b[0m\n\u001b[0;31m    children=[\"Click on the pinatas to see the location and date details. Today's posada is marked by <img href=\"https://image.flaticon.com/icons/png/512/561/561074.png\"/> \"],\u001b[0m\n\u001b[0m                                                                                                                     ^\u001b[0m\n\u001b[0;31mSyntaxError\u001b[0m\u001b[0;31m:\u001b[0m invalid syntax\n"
       ]
      }
     ],
     "persistentId": "63c8aeab-0a61-499c-9835-229ef5ce8b54",
     "text": "v.Layout(\n    children=[\n        v.Content(\n        _metadata={\"mount_id\": \"content-main\"},\n        wrap=True,\n        row=True,\n        align_center=True,\n        children=[v.Flex(xs12=True, lg6=True, xl4=True, children=[m]),\n            v.Divider(),\n            v.Banner(\n                single_line=True,\n                v_slots=[\n                    {\"name\": \"icon\", \"children\": v.Icon(color=\"#f5cd79\", children=[\"room\"])},\n                ],\n                children=[\"Click on the pinatas to see the location and date details. Today's posada is marked by <img href=\"https://image.flaticon.com/icons/png/512/561/561074.png\"/> \"],\n            ),\n        \n        ],\n        ),\n       \n    ]\n)\n"
    },
    "executionTime": "2019-12-16T20:39:49.470Z"
   },
   {
    "cell": {
     "executionCount": 110,
     "executionEventId": "06c61d27-1541-4025-949b-8527d309c630",
     "hasError": false,
     "id": "cace3427-4a4b-445f-a184-959c49ea43b4",
     "outputs": [
      {
       "data": {
        "application/vnd.jupyter.widget-view+json": {
         "model_id": "95a968a49505417a8a0e346d21a6efc3",
         "version_major": 2,
         "version_minor": 0
        },
        "text/plain": "Layout(children=[Content(children=[Flex(children=[Map(basemap={'url': 'http://c.basemaps.cartocdn.com/dark_all…"
       },
       "metadata": {},
       "output_type": "display_data"
      }
     ],
     "persistentId": "63c8aeab-0a61-499c-9835-229ef5ce8b54",
     "text": "v.Layout(\n    children=[\n        v.Content(\n        _metadata={\"mount_id\": \"content-main\"},\n        wrap=True,\n        row=True,\n        align_center=True,\n        children=[v.Flex(xs12=True, lg6=True, xl4=True, children=[m]),\n            v.Divider(),\n            v.Banner(\n                single_line=True,\n                v_slots=[\n                    {\"name\": \"icon\", \"children\": v.Icon(color=\"#f5cd79\", children=[\"room\"])},\n                ],\n                children=[\"Click on the pinatas to see the location and date details. \"],\n            ),\n        \n        ],\n        ),\n       \n    ]\n)\n"
    },
    "executionTime": "2019-12-16T20:40:16.915Z"
   }
  ],
  "kernelspec": {
   "display_name": "Python 3",
   "language": "python",
   "name": "python3"
  },
  "language_info": {
   "codemirror_mode": {
    "name": "ipython",
    "version": 3
   },
   "file_extension": ".py",
   "mimetype": "text/x-python",
   "name": "python",
   "nbconvert_exporter": "python",
   "pygments_lexer": "ipython3",
   "version": "3.7.5"
  },
  "mimetype": "text/x-python",
  "name": "python",
  "npconvert_exporter": "python",
  "pygments_lexer": "ipython3",
  "uuid": "a7664e49-aec3-43b2-acc3-0f4deb303ac6",
  "version": 3
 },
 "nbformat": 4,
 "nbformat_minor": 4
}
